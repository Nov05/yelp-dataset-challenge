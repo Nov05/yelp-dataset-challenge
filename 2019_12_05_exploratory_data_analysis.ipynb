{
  "nbformat": 4,
  "nbformat_minor": 0,
  "metadata": {
    "colab": {
      "name": "2019-12-05 exploratory data analysis.ipynb",
      "provenance": [],
      "collapsed_sections": [],
      "toc_visible": true,
      "include_colab_link": true
    },
    "kernelspec": {
      "name": "python3",
      "display_name": "Python 3"
    }
  },
  "cells": [
    {
      "cell_type": "markdown",
      "metadata": {
        "id": "view-in-github",
        "colab_type": "text"
      },
      "source": [
        "<a href=\"https://colab.research.google.com/github/Nov05/yelp-dataset-challenge/blob/master/2019_12_05_exploratory_data_analysis.ipynb\" target=\"_parent\"><img src=\"https://colab.research.google.com/assets/colab-badge.svg\" alt=\"Open In Colab\"/></a>"
      ]
    },
    {
      "cell_type": "code",
      "metadata": {
        "id": "pH5huQWd_W1H",
        "colab_type": "code",
        "colab": {}
      },
      "source": [
        "# created by nov05 on 2019-12-06\n",
        "'''\n",
        "# 【Exploratory Data Analysis Summary】\n",
        "\n",
        "# there are 192,609 businesses in total\n",
        "\n",
        "# there are 200,000 photos\n",
        "# half of the photos have a caption\n",
        "# there are 114,874 photos of food\n",
        "# 57,151 photos about food have a caption.\n",
        "# would need to do some basic NLP to convert captions to labels.\n",
        "# there are 192,609 businesses in total\n",
        "# only 30,488 businesses (15%) have photos\n",
        "# whether having photos could a feature\n",
        "# or we could compare businesses with photos with those without \n",
        "# any to see whether having photos would make difference\n",
        "\n",
        "# tip text could make use of NLP\n",
        "# e.g. \"Great for watching games, ufc, and whatever el...\"\n",
        "# there are 192,609 businesses in total\n",
        "# there are 123,997 tips, covered 64% businesses\n",
        "\n",
        "# for user.csv, the 'friends' column has interesting information\n",
        "# compliment sentiment columns could be very useful\n",
        "\n",
        "# the size of review.csv is about 4.39 GB\n",
        "# it is the largest among the text datasets\n",
        "# there are 6,685,900 reviews\n",
        "# there are 1,637,138 users who have left reviews\n",
        "# there are 1,637,138 users in total in user.csv\n",
        "# Google says \"142 million unique visitors per month\" for Yelp\n",
        "# less, maybe far less, than 1% users would leave a review\n",
        "\n",
        "# user.csv data actually comes from review.csv data\n",
        "# review text will be the focus of NLP\n",
        "'''"
      ],
      "execution_count": 0,
      "outputs": []
    },
    {
      "cell_type": "markdown",
      "metadata": {
        "id": "c0PVwUQGVkYJ",
        "colab_type": "text"
      },
      "source": [
        "# imports"
      ]
    },
    {
      "cell_type": "code",
      "metadata": {
        "id": "h8LD7OaS2NPe",
        "colab_type": "code",
        "colab": {}
      },
      "source": [
        "from google.colab import drive\n",
        "drive.mount('/content/drive')"
      ],
      "execution_count": 0,
      "outputs": []
    },
    {
      "cell_type": "code",
      "metadata": {
        "id": "1YlUoMpI_a4S",
        "colab_type": "code",
        "colab": {}
      },
      "source": [
        "import pandas as pd\n",
        "import numpy as np\n",
        "import matplotlib.pyplot as plt"
      ],
      "execution_count": 0,
      "outputs": []
    },
    {
      "cell_type": "markdown",
      "metadata": {
        "id": "_ZpJEL03FrLh",
        "colab_type": "text"
      },
      "source": [
        "Dataset Documentation   \n",
        "https://www.yelp.com/dataset/documentation/main   "
      ]
    },
    {
      "cell_type": "markdown",
      "metadata": {
        "id": "EqDgdLpsd-QW",
        "colab_type": "text"
      },
      "source": [
        "# checkin.csv"
      ]
    },
    {
      "cell_type": "code",
      "metadata": {
        "id": "vfr9hKlf_e9o",
        "colab_type": "code",
        "outputId": "a65aa70e-9001-4bd6-862a-eb8a5fc38191",
        "colab": {
          "base_uri": "https://localhost:8080/",
          "height": 220
        }
      },
      "source": [
        "# can't read large files via shareable links\n",
        "# have to read from mounted google drive\n",
        "url = \"https://drive.google.com/open?id=1-0B2vGj7S9lF8s42jzj1mD0V0xLtp6U2\" \n",
        "path = \"/content/drive/My Drive/data/2019-12-06 yelp/yelp_dataset/csv_out/checkin.csv\"\n",
        "df_checkin = pd.read_csv(path)\n",
        "print(df_checkin.shape)\n",
        "df_checkin.head()\n",
        "# there are 192,609 businesses in total"
      ],
      "execution_count": 0,
      "outputs": [
        {
          "output_type": "stream",
          "text": [
            "(161950, 2)\n"
          ],
          "name": "stdout"
        },
        {
          "output_type": "execute_result",
          "data": {
            "text/html": [
              "<div>\n",
              "<style scoped>\n",
              "    .dataframe tbody tr th:only-of-type {\n",
              "        vertical-align: middle;\n",
              "    }\n",
              "\n",
              "    .dataframe tbody tr th {\n",
              "        vertical-align: top;\n",
              "    }\n",
              "\n",
              "    .dataframe thead th {\n",
              "        text-align: right;\n",
              "    }\n",
              "</style>\n",
              "<table border=\"1\" class=\"dataframe\">\n",
              "  <thead>\n",
              "    <tr style=\"text-align: right;\">\n",
              "      <th></th>\n",
              "      <th>business_id</th>\n",
              "      <th>date</th>\n",
              "    </tr>\n",
              "  </thead>\n",
              "  <tbody>\n",
              "    <tr>\n",
              "      <th>0</th>\n",
              "      <td>--1UhMGODdWsrMastO9DZw</td>\n",
              "      <td>2016-04-26 19:49:16, 2016-08-30 18:36:57, 2016...</td>\n",
              "    </tr>\n",
              "    <tr>\n",
              "      <th>1</th>\n",
              "      <td>--6MefnULPED_I942VcFNA</td>\n",
              "      <td>2011-06-04 18:22:23, 2011-07-23 23:51:33, 2012...</td>\n",
              "    </tr>\n",
              "    <tr>\n",
              "      <th>2</th>\n",
              "      <td>--7zmmkVg-IMGaXbuVd0SQ</td>\n",
              "      <td>2014-12-29 19:25:50, 2015-01-17 01:49:14, 2015...</td>\n",
              "    </tr>\n",
              "    <tr>\n",
              "      <th>3</th>\n",
              "      <td>--8LPVSo5i0Oo61X01sV9A</td>\n",
              "      <td>2016-07-08 16:43:30</td>\n",
              "    </tr>\n",
              "    <tr>\n",
              "      <th>4</th>\n",
              "      <td>--9QQLMTbFzLJ_oT-ON3Xw</td>\n",
              "      <td>2010-06-26 17:39:07, 2010-08-01 20:06:21, 2010...</td>\n",
              "    </tr>\n",
              "  </tbody>\n",
              "</table>\n",
              "</div>"
            ],
            "text/plain": [
              "              business_id                                               date\n",
              "0  --1UhMGODdWsrMastO9DZw  2016-04-26 19:49:16, 2016-08-30 18:36:57, 2016...\n",
              "1  --6MefnULPED_I942VcFNA  2011-06-04 18:22:23, 2011-07-23 23:51:33, 2012...\n",
              "2  --7zmmkVg-IMGaXbuVd0SQ  2014-12-29 19:25:50, 2015-01-17 01:49:14, 2015...\n",
              "3  --8LPVSo5i0Oo61X01sV9A                                2016-07-08 16:43:30\n",
              "4  --9QQLMTbFzLJ_oT-ON3Xw  2010-06-26 17:39:07, 2010-08-01 20:06:21, 2010..."
            ]
          },
          "metadata": {
            "tags": []
          },
          "execution_count": 10
        }
      ]
    },
    {
      "cell_type": "markdown",
      "metadata": {
        "id": "XpH31Q9PeB3d",
        "colab_type": "text"
      },
      "source": [
        "# business.csv"
      ]
    },
    {
      "cell_type": "code",
      "metadata": {
        "id": "vO7eKOs-19wz",
        "colab_type": "code",
        "outputId": "c881052b-e08d-4e61-f6de-e5b57756c889",
        "colab": {
          "base_uri": "https://localhost:8080/",
          "height": 585
        }
      },
      "source": [
        "path = \"/content/drive/My Drive/data/2019-12-06 yelp/yelp_dataset/csv_out/business.csv\"\n",
        "df_business = pd.read_csv(path)\n",
        "print(df_business.shape)\n",
        "df_business.head()\n",
        "# there are 192,609 businesses in total"
      ],
      "execution_count": 0,
      "outputs": [
        {
          "output_type": "stream",
          "text": [
            "/usr/local/lib/python3.6/dist-packages/IPython/core/interactiveshell.py:2718: DtypeWarning: Columns (56,58,59) have mixed types. Specify dtype option on import or set low_memory=False.\n",
            "  interactivity=interactivity, compiler=compiler, result=result)\n"
          ],
          "name": "stderr"
        },
        {
          "output_type": "stream",
          "text": [
            "(192609, 60)\n"
          ],
          "name": "stdout"
        },
        {
          "output_type": "execute_result",
          "data": {
            "text/html": [
              "<div>\n",
              "<style scoped>\n",
              "    .dataframe tbody tr th:only-of-type {\n",
              "        vertical-align: middle;\n",
              "    }\n",
              "\n",
              "    .dataframe tbody tr th {\n",
              "        vertical-align: top;\n",
              "    }\n",
              "\n",
              "    .dataframe thead th {\n",
              "        text-align: right;\n",
              "    }\n",
              "</style>\n",
              "<table border=\"1\" class=\"dataframe\">\n",
              "  <thead>\n",
              "    <tr style=\"text-align: right;\">\n",
              "      <th></th>\n",
              "      <th>business_id</th>\n",
              "      <th>name</th>\n",
              "      <th>address</th>\n",
              "      <th>city</th>\n",
              "      <th>state</th>\n",
              "      <th>postal_code</th>\n",
              "      <th>latitude</th>\n",
              "      <th>longitude</th>\n",
              "      <th>stars</th>\n",
              "      <th>review_count</th>\n",
              "      <th>is_open</th>\n",
              "      <th>categories</th>\n",
              "      <th>hours</th>\n",
              "      <th>attributes.GoodForKids</th>\n",
              "      <th>attributes.RestaurantsReservations</th>\n",
              "      <th>attributes.GoodForMeal</th>\n",
              "      <th>attributes.BusinessParking</th>\n",
              "      <th>attributes.Caters</th>\n",
              "      <th>attributes.NoiseLevel</th>\n",
              "      <th>attributes.RestaurantsTableService</th>\n",
              "      <th>attributes.RestaurantsTakeOut</th>\n",
              "      <th>attributes.RestaurantsPriceRange2</th>\n",
              "      <th>attributes.OutdoorSeating</th>\n",
              "      <th>attributes.BikeParking</th>\n",
              "      <th>attributes.Ambience</th>\n",
              "      <th>attributes.HasTV</th>\n",
              "      <th>attributes.WiFi</th>\n",
              "      <th>attributes.Alcohol</th>\n",
              "      <th>attributes.RestaurantsAttire</th>\n",
              "      <th>attributes.RestaurantsGoodForGroups</th>\n",
              "      <th>attributes.RestaurantsDelivery</th>\n",
              "      <th>hours.Monday</th>\n",
              "      <th>hours.Tuesday</th>\n",
              "      <th>hours.Wednesday</th>\n",
              "      <th>hours.Thursday</th>\n",
              "      <th>hours.Friday</th>\n",
              "      <th>hours.Saturday</th>\n",
              "      <th>hours.Sunday</th>\n",
              "      <th>attributes.BusinessAcceptsCreditCards</th>\n",
              "      <th>attributes</th>\n",
              "      <th>attributes.BusinessAcceptsBitcoin</th>\n",
              "      <th>attributes.ByAppointmentOnly</th>\n",
              "      <th>attributes.AcceptsInsurance</th>\n",
              "      <th>attributes.Music</th>\n",
              "      <th>attributes.GoodForDancing</th>\n",
              "      <th>attributes.CoatCheck</th>\n",
              "      <th>attributes.HappyHour</th>\n",
              "      <th>attributes.BestNights</th>\n",
              "      <th>attributes.WheelchairAccessible</th>\n",
              "      <th>attributes.DogsAllowed</th>\n",
              "      <th>attributes.BYOBCorkage</th>\n",
              "      <th>attributes.DriveThru</th>\n",
              "      <th>attributes.Smoking</th>\n",
              "      <th>attributes.AgesAllowed</th>\n",
              "      <th>attributes.HairSpecializesIn</th>\n",
              "      <th>attributes.Corkage</th>\n",
              "      <th>attributes.BYOB</th>\n",
              "      <th>attributes.DietaryRestrictions</th>\n",
              "      <th>attributes.Open24Hours</th>\n",
              "      <th>attributes.RestaurantsCounterService</th>\n",
              "    </tr>\n",
              "  </thead>\n",
              "  <tbody>\n",
              "    <tr>\n",
              "      <th>0</th>\n",
              "      <td>1SWheh84yJXfytovILXOAQ</td>\n",
              "      <td>Arizona Biltmore Golf Club</td>\n",
              "      <td>2818 E Camino Acequia Drive</td>\n",
              "      <td>Phoenix</td>\n",
              "      <td>AZ</td>\n",
              "      <td>85016</td>\n",
              "      <td>33.522143</td>\n",
              "      <td>-112.018481</td>\n",
              "      <td>3.0</td>\n",
              "      <td>5</td>\n",
              "      <td>0</td>\n",
              "      <td>Golf, Active Life</td>\n",
              "      <td>NaN</td>\n",
              "      <td>False</td>\n",
              "      <td>NaN</td>\n",
              "      <td>NaN</td>\n",
              "      <td>NaN</td>\n",
              "      <td>NaN</td>\n",
              "      <td>NaN</td>\n",
              "      <td>NaN</td>\n",
              "      <td>NaN</td>\n",
              "      <td>NaN</td>\n",
              "      <td>NaN</td>\n",
              "      <td>NaN</td>\n",
              "      <td>NaN</td>\n",
              "      <td>NaN</td>\n",
              "      <td>NaN</td>\n",
              "      <td>NaN</td>\n",
              "      <td>NaN</td>\n",
              "      <td>NaN</td>\n",
              "      <td>NaN</td>\n",
              "      <td>NaN</td>\n",
              "      <td>NaN</td>\n",
              "      <td>NaN</td>\n",
              "      <td>NaN</td>\n",
              "      <td>NaN</td>\n",
              "      <td>NaN</td>\n",
              "      <td>NaN</td>\n",
              "      <td>NaN</td>\n",
              "      <td>NaN</td>\n",
              "      <td>NaN</td>\n",
              "      <td>NaN</td>\n",
              "      <td>NaN</td>\n",
              "      <td>NaN</td>\n",
              "      <td>NaN</td>\n",
              "      <td>NaN</td>\n",
              "      <td>NaN</td>\n",
              "      <td>NaN</td>\n",
              "      <td>NaN</td>\n",
              "      <td>NaN</td>\n",
              "      <td>NaN</td>\n",
              "      <td>NaN</td>\n",
              "      <td>NaN</td>\n",
              "      <td>NaN</td>\n",
              "      <td>NaN</td>\n",
              "      <td>NaN</td>\n",
              "      <td>NaN</td>\n",
              "      <td>NaN</td>\n",
              "      <td>NaN</td>\n",
              "      <td>NaN</td>\n",
              "    </tr>\n",
              "    <tr>\n",
              "      <th>1</th>\n",
              "      <td>QXAEGFB4oINsVuTFxEYKFQ</td>\n",
              "      <td>Emerald Chinese Restaurant</td>\n",
              "      <td>30 Eglinton Avenue W</td>\n",
              "      <td>Mississauga</td>\n",
              "      <td>ON</td>\n",
              "      <td>L5R 3E7</td>\n",
              "      <td>43.605499</td>\n",
              "      <td>-79.652289</td>\n",
              "      <td>2.5</td>\n",
              "      <td>128</td>\n",
              "      <td>1</td>\n",
              "      <td>Specialty Food, Restaurants, Dim Sum, Imported...</td>\n",
              "      <td>NaN</td>\n",
              "      <td>True</td>\n",
              "      <td>True</td>\n",
              "      <td>{'dessert': False, 'latenight': False, 'lunch'...</td>\n",
              "      <td>{'garage': False, 'street': False, 'validated'...</td>\n",
              "      <td>True</td>\n",
              "      <td>u'loud'</td>\n",
              "      <td>True</td>\n",
              "      <td>True</td>\n",
              "      <td>2</td>\n",
              "      <td>False</td>\n",
              "      <td>False</td>\n",
              "      <td>{'romantic': False, 'intimate': False, 'classy...</td>\n",
              "      <td>False</td>\n",
              "      <td>u'no'</td>\n",
              "      <td>u'full_bar'</td>\n",
              "      <td>u'casual'</td>\n",
              "      <td>True</td>\n",
              "      <td>False</td>\n",
              "      <td>9:0-0:0</td>\n",
              "      <td>9:0-0:0</td>\n",
              "      <td>9:0-0:0</td>\n",
              "      <td>9:0-0:0</td>\n",
              "      <td>9:0-1:0</td>\n",
              "      <td>9:0-1:0</td>\n",
              "      <td>9:0-0:0</td>\n",
              "      <td>NaN</td>\n",
              "      <td>NaN</td>\n",
              "      <td>NaN</td>\n",
              "      <td>NaN</td>\n",
              "      <td>NaN</td>\n",
              "      <td>NaN</td>\n",
              "      <td>NaN</td>\n",
              "      <td>NaN</td>\n",
              "      <td>NaN</td>\n",
              "      <td>NaN</td>\n",
              "      <td>NaN</td>\n",
              "      <td>NaN</td>\n",
              "      <td>NaN</td>\n",
              "      <td>NaN</td>\n",
              "      <td>NaN</td>\n",
              "      <td>NaN</td>\n",
              "      <td>NaN</td>\n",
              "      <td>NaN</td>\n",
              "      <td>NaN</td>\n",
              "      <td>NaN</td>\n",
              "      <td>NaN</td>\n",
              "      <td>NaN</td>\n",
              "    </tr>\n",
              "    <tr>\n",
              "      <th>2</th>\n",
              "      <td>gnKjwL_1w79qoiV3IC_xQQ</td>\n",
              "      <td>Musashi Japanese Restaurant</td>\n",
              "      <td>10110 Johnston Rd, Ste 15</td>\n",
              "      <td>Charlotte</td>\n",
              "      <td>NC</td>\n",
              "      <td>28210</td>\n",
              "      <td>35.092564</td>\n",
              "      <td>-80.859132</td>\n",
              "      <td>4.0</td>\n",
              "      <td>170</td>\n",
              "      <td>1</td>\n",
              "      <td>Sushi Bars, Restaurants, Japanese</td>\n",
              "      <td>NaN</td>\n",
              "      <td>True</td>\n",
              "      <td>True</td>\n",
              "      <td>{'dessert': False, 'latenight': False, 'lunch'...</td>\n",
              "      <td>{'garage': False, 'street': False, 'validated'...</td>\n",
              "      <td>False</td>\n",
              "      <td>u'average'</td>\n",
              "      <td>True</td>\n",
              "      <td>True</td>\n",
              "      <td>2</td>\n",
              "      <td>False</td>\n",
              "      <td>True</td>\n",
              "      <td>{'romantic': False, 'intimate': False, 'touris...</td>\n",
              "      <td>True</td>\n",
              "      <td>u'no'</td>\n",
              "      <td>u'beer_and_wine'</td>\n",
              "      <td>'casual'</td>\n",
              "      <td>True</td>\n",
              "      <td>False</td>\n",
              "      <td>17:30-21:30</td>\n",
              "      <td>NaN</td>\n",
              "      <td>17:30-21:30</td>\n",
              "      <td>17:30-21:30</td>\n",
              "      <td>17:30-22:0</td>\n",
              "      <td>17:30-22:0</td>\n",
              "      <td>17:30-21:0</td>\n",
              "      <td>True</td>\n",
              "      <td>NaN</td>\n",
              "      <td>NaN</td>\n",
              "      <td>NaN</td>\n",
              "      <td>NaN</td>\n",
              "      <td>NaN</td>\n",
              "      <td>NaN</td>\n",
              "      <td>NaN</td>\n",
              "      <td>NaN</td>\n",
              "      <td>NaN</td>\n",
              "      <td>NaN</td>\n",
              "      <td>NaN</td>\n",
              "      <td>NaN</td>\n",
              "      <td>NaN</td>\n",
              "      <td>NaN</td>\n",
              "      <td>NaN</td>\n",
              "      <td>NaN</td>\n",
              "      <td>NaN</td>\n",
              "      <td>NaN</td>\n",
              "      <td>NaN</td>\n",
              "      <td>NaN</td>\n",
              "      <td>NaN</td>\n",
              "    </tr>\n",
              "    <tr>\n",
              "      <th>3</th>\n",
              "      <td>xvX2CttrVhyG2z1dFg_0xw</td>\n",
              "      <td>Farmers Insurance - Paul Lorenz</td>\n",
              "      <td>15655 W Roosevelt St, Ste 237</td>\n",
              "      <td>Goodyear</td>\n",
              "      <td>AZ</td>\n",
              "      <td>85338</td>\n",
              "      <td>33.455613</td>\n",
              "      <td>-112.395596</td>\n",
              "      <td>5.0</td>\n",
              "      <td>3</td>\n",
              "      <td>1</td>\n",
              "      <td>Insurance, Financial Services</td>\n",
              "      <td>NaN</td>\n",
              "      <td>NaN</td>\n",
              "      <td>NaN</td>\n",
              "      <td>NaN</td>\n",
              "      <td>NaN</td>\n",
              "      <td>NaN</td>\n",
              "      <td>NaN</td>\n",
              "      <td>NaN</td>\n",
              "      <td>NaN</td>\n",
              "      <td>NaN</td>\n",
              "      <td>NaN</td>\n",
              "      <td>NaN</td>\n",
              "      <td>NaN</td>\n",
              "      <td>NaN</td>\n",
              "      <td>NaN</td>\n",
              "      <td>NaN</td>\n",
              "      <td>NaN</td>\n",
              "      <td>NaN</td>\n",
              "      <td>NaN</td>\n",
              "      <td>8:0-17:0</td>\n",
              "      <td>8:0-17:0</td>\n",
              "      <td>8:0-17:0</td>\n",
              "      <td>8:0-17:0</td>\n",
              "      <td>8:0-17:0</td>\n",
              "      <td>NaN</td>\n",
              "      <td>NaN</td>\n",
              "      <td>NaN</td>\n",
              "      <td>NaN</td>\n",
              "      <td>NaN</td>\n",
              "      <td>NaN</td>\n",
              "      <td>NaN</td>\n",
              "      <td>NaN</td>\n",
              "      <td>NaN</td>\n",
              "      <td>NaN</td>\n",
              "      <td>NaN</td>\n",
              "      <td>NaN</td>\n",
              "      <td>NaN</td>\n",
              "      <td>NaN</td>\n",
              "      <td>NaN</td>\n",
              "      <td>NaN</td>\n",
              "      <td>NaN</td>\n",
              "      <td>NaN</td>\n",
              "      <td>NaN</td>\n",
              "      <td>NaN</td>\n",
              "      <td>NaN</td>\n",
              "      <td>NaN</td>\n",
              "      <td>NaN</td>\n",
              "      <td>NaN</td>\n",
              "    </tr>\n",
              "    <tr>\n",
              "      <th>4</th>\n",
              "      <td>HhyxOkGAM07SRYtlQ4wMFQ</td>\n",
              "      <td>Queen City Plumbing</td>\n",
              "      <td>4209 Stuart Andrew Blvd, Ste F</td>\n",
              "      <td>Charlotte</td>\n",
              "      <td>NC</td>\n",
              "      <td>28217</td>\n",
              "      <td>35.190012</td>\n",
              "      <td>-80.887223</td>\n",
              "      <td>4.0</td>\n",
              "      <td>4</td>\n",
              "      <td>1</td>\n",
              "      <td>Plumbing, Shopping, Local Services, Home Servi...</td>\n",
              "      <td>NaN</td>\n",
              "      <td>NaN</td>\n",
              "      <td>NaN</td>\n",
              "      <td>NaN</td>\n",
              "      <td>NaN</td>\n",
              "      <td>NaN</td>\n",
              "      <td>NaN</td>\n",
              "      <td>NaN</td>\n",
              "      <td>NaN</td>\n",
              "      <td>NaN</td>\n",
              "      <td>NaN</td>\n",
              "      <td>NaN</td>\n",
              "      <td>NaN</td>\n",
              "      <td>NaN</td>\n",
              "      <td>NaN</td>\n",
              "      <td>NaN</td>\n",
              "      <td>NaN</td>\n",
              "      <td>NaN</td>\n",
              "      <td>NaN</td>\n",
              "      <td>7:0-23:0</td>\n",
              "      <td>7:0-23:0</td>\n",
              "      <td>7:0-23:0</td>\n",
              "      <td>7:0-23:0</td>\n",
              "      <td>7:0-23:0</td>\n",
              "      <td>7:0-23:0</td>\n",
              "      <td>7:0-23:0</td>\n",
              "      <td>True</td>\n",
              "      <td>NaN</td>\n",
              "      <td>False</td>\n",
              "      <td>True</td>\n",
              "      <td>NaN</td>\n",
              "      <td>NaN</td>\n",
              "      <td>NaN</td>\n",
              "      <td>NaN</td>\n",
              "      <td>NaN</td>\n",
              "      <td>NaN</td>\n",
              "      <td>NaN</td>\n",
              "      <td>NaN</td>\n",
              "      <td>NaN</td>\n",
              "      <td>NaN</td>\n",
              "      <td>NaN</td>\n",
              "      <td>NaN</td>\n",
              "      <td>NaN</td>\n",
              "      <td>NaN</td>\n",
              "      <td>NaN</td>\n",
              "      <td>NaN</td>\n",
              "      <td>NaN</td>\n",
              "      <td>NaN</td>\n",
              "    </tr>\n",
              "  </tbody>\n",
              "</table>\n",
              "</div>"
            ],
            "text/plain": [
              "              business_id  ... attributes.RestaurantsCounterService\n",
              "0  1SWheh84yJXfytovILXOAQ  ...                                  NaN\n",
              "1  QXAEGFB4oINsVuTFxEYKFQ  ...                                  NaN\n",
              "2  gnKjwL_1w79qoiV3IC_xQQ  ...                                  NaN\n",
              "3  xvX2CttrVhyG2z1dFg_0xw  ...                                  NaN\n",
              "4  HhyxOkGAM07SRYtlQ4wMFQ  ...                                  NaN\n",
              "\n",
              "[5 rows x 60 columns]"
            ]
          },
          "metadata": {
            "tags": []
          },
          "execution_count": 5
        }
      ]
    },
    {
      "cell_type": "code",
      "metadata": {
        "id": "iRi97kSXCVFa",
        "colab_type": "code",
        "outputId": "04f10297-6e87-43df-8a43-6151dacbbb35",
        "colab": {
          "base_uri": "https://localhost:8080/",
          "height": 70
        }
      },
      "source": [
        "# DtypeWarning: Columns (56,58,59) have mixed types. \n",
        "# Specify dtype option on import or set low_memory=False.\n",
        "df_business.iloc[:,59].value_counts()"
      ],
      "execution_count": 0,
      "outputs": [
        {
          "output_type": "execute_result",
          "data": {
            "text/plain": [
              "True     8\n",
              "False    3\n",
              "Name: attributes.RestaurantsCounterService, dtype: int64"
            ]
          },
          "metadata": {
            "tags": []
          },
          "execution_count": 9
        }
      ]
    },
    {
      "cell_type": "markdown",
      "metadata": {
        "id": "zDoqeegKhiVx",
        "colab_type": "text"
      },
      "source": [
        "# photo.csv"
      ]
    },
    {
      "cell_type": "code",
      "metadata": {
        "id": "ECKYRbUE8MKF",
        "colab_type": "code",
        "outputId": "56de798c-822c-4bb3-dfc8-b581dca9af78",
        "colab": {
          "base_uri": "https://localhost:8080/",
          "height": 220
        }
      },
      "source": [
        "path = \"/content/drive/My Drive/data/2019-12-06 yelp/yelp_dataset/csv_out/photo.csv\"\n",
        "df_photo = pd.read_csv(path, lineterminator='\\n')\n",
        "print(df_photo.shape)\n",
        "df_photo.head()"
      ],
      "execution_count": 0,
      "outputs": [
        {
          "output_type": "stream",
          "text": [
            "(200000, 4)\n"
          ],
          "name": "stdout"
        },
        {
          "output_type": "execute_result",
          "data": {
            "text/html": [
              "<div>\n",
              "<style scoped>\n",
              "    .dataframe tbody tr th:only-of-type {\n",
              "        vertical-align: middle;\n",
              "    }\n",
              "\n",
              "    .dataframe tbody tr th {\n",
              "        vertical-align: top;\n",
              "    }\n",
              "\n",
              "    .dataframe thead th {\n",
              "        text-align: right;\n",
              "    }\n",
              "</style>\n",
              "<table border=\"1\" class=\"dataframe\">\n",
              "  <thead>\n",
              "    <tr style=\"text-align: right;\">\n",
              "      <th></th>\n",
              "      <th>caption</th>\n",
              "      <th>photo_id</th>\n",
              "      <th>business_id</th>\n",
              "      <th>label</th>\n",
              "    </tr>\n",
              "  </thead>\n",
              "  <tbody>\n",
              "    <tr>\n",
              "      <th>0</th>\n",
              "      <td>NaN</td>\n",
              "      <td>MllA1nNpcp1kDteVg6OGUw</td>\n",
              "      <td>rcaPajgKOJC2vo_l3xa42A</td>\n",
              "      <td>inside</td>\n",
              "    </tr>\n",
              "    <tr>\n",
              "      <th>1</th>\n",
              "      <td>NaN</td>\n",
              "      <td>YjxBE88Bf6CmTEF2LP1UNA</td>\n",
              "      <td>Kn23LDd740SBVJ7mum0fwg</td>\n",
              "      <td>inside</td>\n",
              "    </tr>\n",
              "    <tr>\n",
              "      <th>2</th>\n",
              "      <td>NaN</td>\n",
              "      <td>1f7izSjM0WjkDRIVbPy1yw</td>\n",
              "      <td>ZkGDCVKSdf8m76cnnalL-A</td>\n",
              "      <td>food</td>\n",
              "    </tr>\n",
              "    <tr>\n",
              "      <th>3</th>\n",
              "      <td>NaN</td>\n",
              "      <td>NcSlcDTEEeOaixotOPk-rA</td>\n",
              "      <td>bF8gv7k_rwZtiDLP2ZB04w</td>\n",
              "      <td>inside</td>\n",
              "    </tr>\n",
              "    <tr>\n",
              "      <th>4</th>\n",
              "      <td>NaN</td>\n",
              "      <td>5IiIo5UKEW0lWqZ6sWrY_A</td>\n",
              "      <td>50Anorn0DJXFhBr9a9_gHQ</td>\n",
              "      <td>inside</td>\n",
              "    </tr>\n",
              "  </tbody>\n",
              "</table>\n",
              "</div>"
            ],
            "text/plain": [
              "  caption                photo_id             business_id   label\n",
              "0     NaN  MllA1nNpcp1kDteVg6OGUw  rcaPajgKOJC2vo_l3xa42A  inside\n",
              "1     NaN  YjxBE88Bf6CmTEF2LP1UNA  Kn23LDd740SBVJ7mum0fwg  inside\n",
              "2     NaN  1f7izSjM0WjkDRIVbPy1yw  ZkGDCVKSdf8m76cnnalL-A    food\n",
              "3     NaN  NcSlcDTEEeOaixotOPk-rA  bF8gv7k_rwZtiDLP2ZB04w  inside\n",
              "4     NaN  5IiIo5UKEW0lWqZ6sWrY_A  50Anorn0DJXFhBr9a9_gHQ  inside"
            ]
          },
          "metadata": {
            "tags": []
          },
          "execution_count": 13
        }
      ]
    },
    {
      "cell_type": "code",
      "metadata": {
        "id": "8DnjwNA1_xoN",
        "colab_type": "code",
        "outputId": "fa193a81-987e-4f47-cbbd-29d644a1a272",
        "colab": {
          "base_uri": "https://localhost:8080/",
          "height": 228
        }
      },
      "source": [
        "# half of the photos have a caption\n",
        "df_photo['caption'].value_counts(dropna=False)"
      ],
      "execution_count": 0,
      "outputs": [
        {
          "output_type": "execute_result",
          "data": {
            "text/plain": [
              "NaN                                                                    107850\n",
              "Interior                                                                  458\n",
              "Inside                                                                    388\n",
              "Menu                                                                      321\n",
              "McDonald's All Day Breakfast Sandwiches                                   298\n",
              "                                                                        ...  \n",
              "Shinya Way to Heaven Ramen                                                  1\n",
              "A Forest Hill tradition for more than 52 years...and still going...         1\n",
              "Miss Korea Dishes                                                           1\n",
              "All our free drinks thanks to our host!                                     1\n",
              "Famous Baked Wings                                                          1\n",
              "Name: caption, Length: 71513, dtype: int64"
            ]
          },
          "metadata": {
            "tags": []
          },
          "execution_count": 17
        }
      ]
    },
    {
      "cell_type": "code",
      "metadata": {
        "id": "PWRQkZo2AN02",
        "colab_type": "code",
        "outputId": "fdf1428a-3aa3-4a93-c828-d4fded7d6e78",
        "colab": {
          "base_uri": "https://localhost:8080/",
          "height": 123
        }
      },
      "source": [
        "# there are 200,000 photos in total,\n",
        "# and about half of them have a caption.\n",
        "df_photo['label'].value_counts(dropna=False)"
      ],
      "execution_count": 0,
      "outputs": [
        {
          "output_type": "execute_result",
          "data": {
            "text/plain": [
              "food       114874\n",
              "inside      52448\n",
              "drink       18121\n",
              "outside     11534\n",
              "menu         3023\n",
              "Name: label, dtype: int64"
            ]
          },
          "metadata": {
            "tags": []
          },
          "execution_count": 18
        }
      ]
    },
    {
      "cell_type": "code",
      "metadata": {
        "id": "H6nFAJT9Ae8A",
        "colab_type": "code",
        "outputId": "6fb093f7-e0ca-4ebc-ee0b-f8c211bf6a7b",
        "colab": {
          "base_uri": "https://localhost:8080/",
          "height": 123
        }
      },
      "source": [
        "# there are 114,874 photos of food\n",
        "# 57,151 photos about food have a caption.\n",
        "# would need to do some basic NLP to convert captions to labels.\n",
        "df_photo[df_photo['caption'].notnull()]['label'].value_counts()"
      ],
      "execution_count": 0,
      "outputs": [
        {
          "output_type": "execute_result",
          "data": {
            "text/plain": [
              "food       57151\n",
              "inside     20790\n",
              "drink       8382\n",
              "outside     4485\n",
              "menu        1342\n",
              "Name: label, dtype: int64"
            ]
          },
          "metadata": {
            "tags": []
          },
          "execution_count": 23
        }
      ]
    },
    {
      "cell_type": "code",
      "metadata": {
        "id": "RcsLMV1TY_o4",
        "colab_type": "code",
        "outputId": "317ec409-86c6-4171-dbf3-4b4687eb9b5f",
        "colab": {
          "base_uri": "https://localhost:8080/",
          "height": 246
        }
      },
      "source": [
        "print(30488/192609)\n",
        "df_photo['business_id'].value_counts()\n",
        "# there are 192,609 businesses in total\n",
        "# only 30,488 businesses (15%) have photos\n",
        "# whether having photos could a feature\n",
        "# or we could compare businesses with photos with those without \n",
        "# any to see whether having photos would make difference"
      ],
      "execution_count": 0,
      "outputs": [
        {
          "output_type": "stream",
          "text": [
            "0.15828959186746205\n"
          ],
          "name": "stdout"
        },
        {
          "output_type": "execute_result",
          "data": {
            "text/plain": [
              "RESDUcs7fIiihp38-d6_6g    823\n",
              "K7lWdNUhCbcnEvI0NhGewg    642\n",
              "vHz2RLtfUMVRPFmd7VBEHA    612\n",
              "faPVqws-x-5k2CQKDNtHxw    421\n",
              "XnJeadLrlj9AZB8qSdIR2Q    329\n",
              "                         ... \n",
              "KB1mmr0_LVr0qglMCF4_qA      1\n",
              "XVxReat5L3dgeBTlR64ufA      1\n",
              "q80WmfxmifLBdB8_rPYu1w      1\n",
              "kgmVm_ZbJsJpSye27xccvg      1\n",
              "mbPaXByWZBZUGqvh8ewmTA      1\n",
              "Name: business_id, Length: 30488, dtype: int64"
            ]
          },
          "metadata": {
            "tags": []
          },
          "execution_count": 26
        }
      ]
    },
    {
      "cell_type": "markdown",
      "metadata": {
        "id": "xmmJSBWAkyhJ",
        "colab_type": "text"
      },
      "source": [
        "# tip.csv"
      ]
    },
    {
      "cell_type": "code",
      "metadata": {
        "id": "HEm2d9S0cVtg",
        "colab_type": "code",
        "outputId": "3362b2e4-15ae-423e-82d0-fa462ddb09be",
        "colab": {
          "base_uri": "https://localhost:8080/",
          "height": 220
        }
      },
      "source": [
        "path = \"/content/drive/My Drive/data/2019-12-06 yelp/yelp_dataset/csv_out/tip.csv\"\n",
        "df_tip = pd.read_csv(path, lineterminator='\\n')\n",
        "print(df_tip.shape)\n",
        "df_tip.head()\n",
        "# there are 1,223,094 tips\n",
        "# tip text could make use of NLP\n",
        "# e.g. \"Great for watching games, ufc, and whatever el...\""
      ],
      "execution_count": 0,
      "outputs": [
        {
          "output_type": "stream",
          "text": [
            "(1223094, 5)\n"
          ],
          "name": "stdout"
        },
        {
          "output_type": "execute_result",
          "data": {
            "text/html": [
              "<div>\n",
              "<style scoped>\n",
              "    .dataframe tbody tr th:only-of-type {\n",
              "        vertical-align: middle;\n",
              "    }\n",
              "\n",
              "    .dataframe tbody tr th {\n",
              "        vertical-align: top;\n",
              "    }\n",
              "\n",
              "    .dataframe thead th {\n",
              "        text-align: right;\n",
              "    }\n",
              "</style>\n",
              "<table border=\"1\" class=\"dataframe\">\n",
              "  <thead>\n",
              "    <tr style=\"text-align: right;\">\n",
              "      <th></th>\n",
              "      <th>user_id</th>\n",
              "      <th>business_id</th>\n",
              "      <th>text</th>\n",
              "      <th>date</th>\n",
              "      <th>compliment_count</th>\n",
              "    </tr>\n",
              "  </thead>\n",
              "  <tbody>\n",
              "    <tr>\n",
              "      <th>0</th>\n",
              "      <td>UPw5DWs_b-e2JRBS-t37Ag</td>\n",
              "      <td>VaKXUpmWTTWDKbpJ3aQdMw</td>\n",
              "      <td>Great for watching games, ufc, and whatever el...</td>\n",
              "      <td>2014-03-27 03:51:24</td>\n",
              "      <td>0</td>\n",
              "    </tr>\n",
              "    <tr>\n",
              "      <th>1</th>\n",
              "      <td>Ocha4kZBHb4JK0lOWvE0sg</td>\n",
              "      <td>OPiPeoJiv92rENwbq76orA</td>\n",
              "      <td>Happy Hour 2-4 daily with 1/2 price drinks and...</td>\n",
              "      <td>2013-05-25 06:00:56</td>\n",
              "      <td>0</td>\n",
              "    </tr>\n",
              "    <tr>\n",
              "      <th>2</th>\n",
              "      <td>jRyO2V1pA4CdVVqCIOPc1Q</td>\n",
              "      <td>5KheTjYPu1HcQzQFtm4_vw</td>\n",
              "      <td>Good chips and salsa. Loud at times. Good serv...</td>\n",
              "      <td>2011-12-26 01:46:17</td>\n",
              "      <td>0</td>\n",
              "    </tr>\n",
              "    <tr>\n",
              "      <th>3</th>\n",
              "      <td>FuTJWFYm4UKqewaosss1KA</td>\n",
              "      <td>TkoyGi8J7YFjA6SbaRzrxg</td>\n",
              "      <td>The setting and decoration here is amazing. Co...</td>\n",
              "      <td>2014-03-23 21:32:49</td>\n",
              "      <td>0</td>\n",
              "    </tr>\n",
              "    <tr>\n",
              "      <th>4</th>\n",
              "      <td>LUlKtaM3nXd-E4N4uOk_fQ</td>\n",
              "      <td>AkL6Ous6A1atZejfZXn1Bg</td>\n",
              "      <td>Molly is definately taking a picture with Sant...</td>\n",
              "      <td>2012-10-06 00:19:27</td>\n",
              "      <td>0</td>\n",
              "    </tr>\n",
              "  </tbody>\n",
              "</table>\n",
              "</div>"
            ],
            "text/plain": [
              "                  user_id  ... compliment_count\n",
              "0  UPw5DWs_b-e2JRBS-t37Ag  ...                0\n",
              "1  Ocha4kZBHb4JK0lOWvE0sg  ...                0\n",
              "2  jRyO2V1pA4CdVVqCIOPc1Q  ...                0\n",
              "3  FuTJWFYm4UKqewaosss1KA  ...                0\n",
              "4  LUlKtaM3nXd-E4N4uOk_fQ  ...                0\n",
              "\n",
              "[5 rows x 5 columns]"
            ]
          },
          "metadata": {
            "tags": []
          },
          "execution_count": 5
        }
      ]
    },
    {
      "cell_type": "code",
      "metadata": {
        "id": "W8Wt2CaErYce",
        "colab_type": "code",
        "outputId": "779f64f4-2c8a-4c9e-cb19-84dd979b27e5",
        "colab": {
          "base_uri": "https://localhost:8080/",
          "height": 281
        }
      },
      "source": [
        "from matplotlib.ticker import FormatStrFormatter\n",
        "df_tmp = df_tip['compliment_count']\\\n",
        "    .value_counts().reset_index().sort_values('index')\n",
        "fig, ax = plt.subplots()\n",
        "ax.bar(df_tmp['index'], np.log(df_tmp['compliment_count']))\n",
        "ax.yaxis.set_major_formatter(FormatStrFormatter('e^%.0f'))\n",
        "ax.set_title(\"compliment count\");"
      ],
      "execution_count": 0,
      "outputs": [
        {
          "output_type": "display_data",
          "data": {
            "image/png": "[encoded data removed]",
            "text/plain": [
              "<Figure size 432x288 with 1 Axes>"
            ]
          },
          "metadata": {
            "tags": []
          }
        }
      ]
    },
    {
      "cell_type": "code",
      "metadata": {
        "id": "MuJeek8OsZmN",
        "colab_type": "code",
        "outputId": "255f010b-0bab-4ea9-fdec-6fe69d963a94",
        "colab": {
          "base_uri": "https://localhost:8080/",
          "height": 246
        }
      },
      "source": [
        "print(df_tip['business_id'].value_counts())\n",
        "print(123997/192609)\n",
        "# there are 192,609 businesses in total\n",
        "# there are 123,997 tips, covered 64% businesses"
      ],
      "execution_count": 0,
      "outputs": [
        {
          "output_type": "stream",
          "text": [
            "FaHADZARwnY4yvlvpnsfGA    3614\n",
            "JmI9nslLD7KZqRr__Bg6NQ    2440\n",
            "DkYS3arLOhA8si5uUEmHOw    1503\n",
            "5LNZ67Yw9RD6nf4_UhXOjw    1487\n",
            "K7lWdNUhCbcnEvI0NhGewg    1386\n",
            "                          ... \n",
            "Cqc8MHqO_E3nBVb3CBE82A       1\n",
            "tCBEnRW8waVRFtXUq6onFg       1\n",
            "Eu4JwXc2logjyOAoaqzYAg       1\n",
            "M6KM77IZG9MWxV8_036iUQ       1\n",
            "wZKoVgE6PC83uCYlm0jk7g       1\n",
            "Name: business_id, Length: 123997, dtype: int64\n",
            "0.6437757321828159\n"
          ],
          "name": "stdout"
        }
      ]
    },
    {
      "cell_type": "markdown",
      "metadata": {
        "id": "a5eiL-90xUbD",
        "colab_type": "text"
      },
      "source": [
        "# user.csv"
      ]
    },
    {
      "cell_type": "code",
      "metadata": {
        "id": "n39Y9CtrxXQF",
        "colab_type": "code",
        "outputId": "2dd387e0-61a9-4b86-c87f-764a6e45a580",
        "colab": {
          "base_uri": "https://localhost:8080/",
          "height": 361
        }
      },
      "source": [
        "import pandas as pd\n",
        "import numpy as np\n",
        "import matplotlib.pyplot as plt\n",
        "\n",
        "path = \"/content/drive/My Drive/data/2019-12-06 yelp/yelp_dataset/csv_out/user.csv\"\n",
        "df_user = pd.read_csv(path, lineterminator='\\n')\n",
        "print(df_user.shape)\n",
        "df_user.head()\n",
        "# the 'friends' column of user.csv has interesting information\n",
        "# compliment sentiment columns could be helpful"
      ],
      "execution_count": 0,
      "outputs": [
        {
          "output_type": "stream",
          "text": [
            "/usr/local/lib/python3.6/dist-packages/IPython/core/interactiveshell.py:2718: DtypeWarning: Columns (7) have mixed types. Specify dtype option on import or set low_memory=False.\n",
            "  interactivity=interactivity, compiler=compiler, result=result)\n"
          ],
          "name": "stderr"
        },
        {
          "output_type": "stream",
          "text": [
            "(1637138, 22)\n"
          ],
          "name": "stdout"
        },
        {
          "output_type": "execute_result",
          "data": {
            "text/html": [
              "<div>\n",
              "<style scoped>\n",
              "    .dataframe tbody tr th:only-of-type {\n",
              "        vertical-align: middle;\n",
              "    }\n",
              "\n",
              "    .dataframe tbody tr th {\n",
              "        vertical-align: top;\n",
              "    }\n",
              "\n",
              "    .dataframe thead th {\n",
              "        text-align: right;\n",
              "    }\n",
              "</style>\n",
              "<table border=\"1\" class=\"dataframe\">\n",
              "  <thead>\n",
              "    <tr style=\"text-align: right;\">\n",
              "      <th></th>\n",
              "      <th>user_id</th>\n",
              "      <th>name</th>\n",
              "      <th>review_count</th>\n",
              "      <th>yelping_since</th>\n",
              "      <th>useful</th>\n",
              "      <th>funny</th>\n",
              "      <th>cool</th>\n",
              "      <th>elite</th>\n",
              "      <th>friends</th>\n",
              "      <th>fans</th>\n",
              "      <th>average_stars</th>\n",
              "      <th>compliment_hot</th>\n",
              "      <th>compliment_more</th>\n",
              "      <th>compliment_profile</th>\n",
              "      <th>compliment_cute</th>\n",
              "      <th>compliment_list</th>\n",
              "      <th>compliment_note</th>\n",
              "      <th>compliment_plain</th>\n",
              "      <th>compliment_cool</th>\n",
              "      <th>compliment_funny</th>\n",
              "      <th>compliment_writer</th>\n",
              "      <th>compliment_photos</th>\n",
              "    </tr>\n",
              "  </thead>\n",
              "  <tbody>\n",
              "    <tr>\n",
              "      <th>0</th>\n",
              "      <td>l6BmjZMeQD3rDxWUbiAiow</td>\n",
              "      <td>Rashmi</td>\n",
              "      <td>95</td>\n",
              "      <td>2013-10-08 23:11:33</td>\n",
              "      <td>84</td>\n",
              "      <td>17</td>\n",
              "      <td>25</td>\n",
              "      <td>2015,2016,2017</td>\n",
              "      <td>c78V-rj8NQcQjOI8KP3UEA, alRMgPcngYSCJ5naFRBz5g...</td>\n",
              "      <td>5</td>\n",
              "      <td>4.03</td>\n",
              "      <td>2</td>\n",
              "      <td>0</td>\n",
              "      <td>0</td>\n",
              "      <td>0</td>\n",
              "      <td>0</td>\n",
              "      <td>1</td>\n",
              "      <td>1</td>\n",
              "      <td>1</td>\n",
              "      <td>1</td>\n",
              "      <td>2</td>\n",
              "      <td>0</td>\n",
              "    </tr>\n",
              "    <tr>\n",
              "      <th>1</th>\n",
              "      <td>4XChL029mKr5hydo79Ljxg</td>\n",
              "      <td>Jenna</td>\n",
              "      <td>33</td>\n",
              "      <td>2013-02-21 22:29:06</td>\n",
              "      <td>48</td>\n",
              "      <td>22</td>\n",
              "      <td>16</td>\n",
              "      <td>NaN</td>\n",
              "      <td>kEBTgDvFX754S68FllfCaA, aB2DynOxNOJK9st2ZeGTPg...</td>\n",
              "      <td>4</td>\n",
              "      <td>3.63</td>\n",
              "      <td>1</td>\n",
              "      <td>0</td>\n",
              "      <td>0</td>\n",
              "      <td>0</td>\n",
              "      <td>0</td>\n",
              "      <td>0</td>\n",
              "      <td>0</td>\n",
              "      <td>1</td>\n",
              "      <td>1</td>\n",
              "      <td>0</td>\n",
              "      <td>0</td>\n",
              "    </tr>\n",
              "    <tr>\n",
              "      <th>2</th>\n",
              "      <td>bc8C_eETBWL0olvFSJJd0w</td>\n",
              "      <td>David</td>\n",
              "      <td>16</td>\n",
              "      <td>2013-10-04 00:16:10</td>\n",
              "      <td>28</td>\n",
              "      <td>8</td>\n",
              "      <td>10</td>\n",
              "      <td>NaN</td>\n",
              "      <td>4N-HU_T32hLENLntsNKNBg, pSY2vwWLgWfGVAAiKQzMng...</td>\n",
              "      <td>0</td>\n",
              "      <td>3.71</td>\n",
              "      <td>0</td>\n",
              "      <td>0</td>\n",
              "      <td>0</td>\n",
              "      <td>0</td>\n",
              "      <td>0</td>\n",
              "      <td>1</td>\n",
              "      <td>0</td>\n",
              "      <td>0</td>\n",
              "      <td>0</td>\n",
              "      <td>0</td>\n",
              "      <td>0</td>\n",
              "    </tr>\n",
              "    <tr>\n",
              "      <th>3</th>\n",
              "      <td>dD0gZpBctWGdWo9WlGuhlA</td>\n",
              "      <td>Angela</td>\n",
              "      <td>17</td>\n",
              "      <td>2014-05-22 15:57:30</td>\n",
              "      <td>30</td>\n",
              "      <td>4</td>\n",
              "      <td>14</td>\n",
              "      <td>NaN</td>\n",
              "      <td>RZ6wS38wnlXyj-OOdTzBxA, l5jxZh1KsgI8rMunm-GN6A...</td>\n",
              "      <td>5</td>\n",
              "      <td>4.85</td>\n",
              "      <td>1</td>\n",
              "      <td>0</td>\n",
              "      <td>0</td>\n",
              "      <td>0</td>\n",
              "      <td>0</td>\n",
              "      <td>0</td>\n",
              "      <td>2</td>\n",
              "      <td>0</td>\n",
              "      <td>0</td>\n",
              "      <td>1</td>\n",
              "      <td>0</td>\n",
              "    </tr>\n",
              "    <tr>\n",
              "      <th>4</th>\n",
              "      <td>MM4RJAeH6yuaN8oZDSt0RA</td>\n",
              "      <td>Nancy</td>\n",
              "      <td>361</td>\n",
              "      <td>2013-10-23 07:02:50</td>\n",
              "      <td>1114</td>\n",
              "      <td>279</td>\n",
              "      <td>665</td>\n",
              "      <td>2015,2016,2017,2018</td>\n",
              "      <td>mbwrZ-RS76V1HoJ0bF_Geg, g64lOV39xSLRZO0aQQ6DeQ...</td>\n",
              "      <td>39</td>\n",
              "      <td>4.08</td>\n",
              "      <td>28</td>\n",
              "      <td>1</td>\n",
              "      <td>0</td>\n",
              "      <td>0</td>\n",
              "      <td>1</td>\n",
              "      <td>16</td>\n",
              "      <td>57</td>\n",
              "      <td>80</td>\n",
              "      <td>80</td>\n",
              "      <td>25</td>\n",
              "      <td>5</td>\n",
              "    </tr>\n",
              "  </tbody>\n",
              "</table>\n",
              "</div>"
            ],
            "text/plain": [
              "                  user_id    name  ...  compliment_writer compliment_photos\n",
              "0  l6BmjZMeQD3rDxWUbiAiow  Rashmi  ...                  2                 0\n",
              "1  4XChL029mKr5hydo79Ljxg   Jenna  ...                  0                 0\n",
              "2  bc8C_eETBWL0olvFSJJd0w   David  ...                  0                 0\n",
              "3  dD0gZpBctWGdWo9WlGuhlA  Angela  ...                  1                 0\n",
              "4  MM4RJAeH6yuaN8oZDSt0RA   Nancy  ...                 25                 5\n",
              "\n",
              "[5 rows x 22 columns]"
            ]
          },
          "metadata": {
            "tags": []
          },
          "execution_count": 80
        }
      ]
    },
    {
      "cell_type": "markdown",
      "metadata": {
        "id": "hVy577b33aQ6",
        "colab_type": "text"
      },
      "source": [
        "# review.csv"
      ]
    },
    {
      "cell_type": "code",
      "metadata": {
        "id": "mkg8MGd83Y8W",
        "colab_type": "code",
        "outputId": "0df6de50-fb6f-4cd1-e284-24206e6ca2c7",
        "colab": {
          "base_uri": "https://localhost:8080/",
          "height": 306
        }
      },
      "source": [
        "import pandas as pd\n",
        "import numpy as np\n",
        "import matplotlib.pyplot as plt\n",
        "\n",
        "# the size of review.csv is about 4.39 GB\n",
        "# it is the largest among the text datasets\n",
        "# it takes long time to load from Google Drive\n",
        "path = \"/content/drive/My Drive/data/2019-12-06 yelp/yelp_dataset/csv_out/review.csv\"\n",
        "df_review = pd.read_csv(path, lineterminator='\\n')\n",
        "print(df_review.shape)\n",
        "df_review.head()\n",
        "# there are 6,685,900 reviews\n",
        "# NLP: topic, sentiment, BERT/Word2Vec embedding then feature extraction, etc."
      ],
      "execution_count": 0,
      "outputs": [
        {
          "output_type": "stream",
          "text": [
            "(6685900, 9)\n"
          ],
          "name": "stdout"
        },
        {
          "output_type": "execute_result",
          "data": {
            "text/html": [
              "<div>\n",
              "<style scoped>\n",
              "    .dataframe tbody tr th:only-of-type {\n",
              "        vertical-align: middle;\n",
              "    }\n",
              "\n",
              "    .dataframe tbody tr th {\n",
              "        vertical-align: top;\n",
              "    }\n",
              "\n",
              "    .dataframe thead th {\n",
              "        text-align: right;\n",
              "    }\n",
              "</style>\n",
              "<table border=\"1\" class=\"dataframe\">\n",
              "  <thead>\n",
              "    <tr style=\"text-align: right;\">\n",
              "      <th></th>\n",
              "      <th>review_id</th>\n",
              "      <th>user_id</th>\n",
              "      <th>business_id</th>\n",
              "      <th>stars</th>\n",
              "      <th>useful</th>\n",
              "      <th>funny</th>\n",
              "      <th>cool</th>\n",
              "      <th>text</th>\n",
              "      <th>date</th>\n",
              "    </tr>\n",
              "  </thead>\n",
              "  <tbody>\n",
              "    <tr>\n",
              "      <th>0</th>\n",
              "      <td>Q1sbwvVQXV2734tPgoKj4Q</td>\n",
              "      <td>hG7b0MtEbXx5QzbzE6C_VA</td>\n",
              "      <td>ujmEBvifdJM6h6RLv4wQIg</td>\n",
              "      <td>1.0</td>\n",
              "      <td>6</td>\n",
              "      <td>1</td>\n",
              "      <td>0</td>\n",
              "      <td>Total bill for this horrible service? Over $8G...</td>\n",
              "      <td>2013-05-07 04:34:36</td>\n",
              "    </tr>\n",
              "    <tr>\n",
              "      <th>1</th>\n",
              "      <td>GJXCdrto3ASJOqKeVWPi6Q</td>\n",
              "      <td>yXQM5uF2jS6es16SJzNHfg</td>\n",
              "      <td>NZnhc2sEQy3RmzKTZnqtwQ</td>\n",
              "      <td>5.0</td>\n",
              "      <td>0</td>\n",
              "      <td>0</td>\n",
              "      <td>0</td>\n",
              "      <td>I *adore* Travis at the Hard Rock's new Kelly ...</td>\n",
              "      <td>2017-01-14 21:30:33</td>\n",
              "    </tr>\n",
              "    <tr>\n",
              "      <th>2</th>\n",
              "      <td>2TzJjDVDEuAW6MR5Vuc1ug</td>\n",
              "      <td>n6-Gk65cPZL6Uz8qRm3NYw</td>\n",
              "      <td>WTqjgwHlXbSFevF32_DJVw</td>\n",
              "      <td>5.0</td>\n",
              "      <td>3</td>\n",
              "      <td>0</td>\n",
              "      <td>0</td>\n",
              "      <td>I have to say that this office really has it t...</td>\n",
              "      <td>2016-11-09 20:09:03</td>\n",
              "    </tr>\n",
              "    <tr>\n",
              "      <th>3</th>\n",
              "      <td>yi0R0Ugj_xUx_Nek0-_Qig</td>\n",
              "      <td>dacAIZ6fTM6mqwW5uxkskg</td>\n",
              "      <td>ikCg8xy5JIg_NGPx-MSIDA</td>\n",
              "      <td>5.0</td>\n",
              "      <td>0</td>\n",
              "      <td>0</td>\n",
              "      <td>0</td>\n",
              "      <td>Went in for a lunch. Steak sandwich was delici...</td>\n",
              "      <td>2018-01-09 20:56:38</td>\n",
              "    </tr>\n",
              "    <tr>\n",
              "      <th>4</th>\n",
              "      <td>11a8sVPMUFtaC7_ABRkmtw</td>\n",
              "      <td>ssoyf2_x0EQMed6fgHeMyQ</td>\n",
              "      <td>b1b1eb3uo-w561D0ZfCEiQ</td>\n",
              "      <td>1.0</td>\n",
              "      <td>7</td>\n",
              "      <td>0</td>\n",
              "      <td>0</td>\n",
              "      <td>Today was my second out of three sessions I ha...</td>\n",
              "      <td>2018-01-30 23:07:38</td>\n",
              "    </tr>\n",
              "  </tbody>\n",
              "</table>\n",
              "</div>"
            ],
            "text/plain": [
              "                review_id  ...                 date\n",
              "0  Q1sbwvVQXV2734tPgoKj4Q  ...  2013-05-07 04:34:36\n",
              "1  GJXCdrto3ASJOqKeVWPi6Q  ...  2017-01-14 21:30:33\n",
              "2  2TzJjDVDEuAW6MR5Vuc1ug  ...  2016-11-09 20:09:03\n",
              "3  yi0R0Ugj_xUx_Nek0-_Qig  ...  2018-01-09 20:56:38\n",
              "4  11a8sVPMUFtaC7_ABRkmtw  ...  2018-01-30 23:07:38\n",
              "\n",
              "[5 rows x 9 columns]"
            ]
          },
          "metadata": {
            "tags": []
          },
          "execution_count": 1
        }
      ]
    },
    {
      "cell_type": "code",
      "metadata": {
        "id": "diJHnUZc57w5",
        "colab_type": "code",
        "outputId": "5903f97a-dd81-4d51-b91c-3dcbcac9aef2",
        "colab": {
          "base_uri": "https://localhost:8080/",
          "height": 228
        }
      },
      "source": [
        "print(df_review['user_id'].value_counts())\n",
        "# there are 1,637,138 users who have left reviews\n",
        "# there are 1,637,138 users in total in user.csv\n",
        "# Google says \"142 million unique visitors per month\"\n",
        "# less, maybe far less, than 1% users would leave a review\n",
        "# user.csv data actually comes from review.csv data\n",
        "# review text will be the focus of NLP"
      ],
      "execution_count": 0,
      "outputs": [
        {
          "output_type": "stream",
          "text": [
            "CxDOIDnH8gp9KXzpBHJYXw    4129\n",
            "bLbSNkLggFnqwNNzzq-Ijw    2354\n",
            "PKEzKWv_FktMm2mGPjwd0Q    1822\n",
            "ELcQDlf69kb-ihJfxZyL0A    1764\n",
            "DK57YibC5ShBmqQl97CKog    1727\n",
            "                          ... \n",
            "zqQX8Rwvp5WiUlST97geZA       1\n",
            "O9_DfV3byybxAT3l5JDcAw       1\n",
            "8W07Z4WlVhDJfOkvZYDgPw       1\n",
            "XgXczqCESaSXxh8WKtSKRw       1\n",
            "zaS40KWRyDlGam9Zwe5jNg       1\n",
            "Name: user_id, Length: 1637138, dtype: int64\n"
          ],
          "name": "stdout"
        }
      ]
    },
    {
      "cell_type": "code",
      "metadata": {
        "id": "axMVZEcXf4zL",
        "colab_type": "code",
        "outputId": "7442d00c-2c96-4f5b-8645-0fbc97b40e2c",
        "colab": {
          "base_uri": "https://localhost:8080/",
          "height": 35
        }
      },
      "source": [
        "mean_reviews = df_review['stars'].mean()"
      ],
      "execution_count": 0,
      "outputs": [
        {
          "output_type": "execute_result",
          "data": {
            "text/plain": [
              "3.7161993149762935"
            ]
          },
          "metadata": {
            "tags": []
          },
          "execution_count": 57
        }
      ]
    },
    {
      "cell_type": "code",
      "metadata": {
        "id": "WlBTehTjHwzR",
        "colab_type": "code",
        "outputId": "010b07de-ea6e-49fe-bcc6-c0c89fbbfd3f",
        "colab": {
          "base_uri": "https://localhost:8080/",
          "height": 283
        }
      },
      "source": [
        "df_tmp = df_review['stars']\\\n",
        "    .value_counts().reset_index()\\\n",
        "    .sort_values('index')\n",
        "mean_stars = df_review['stars'].mean()\n",
        "print('average stars:', mean_stars)\n",
        "plt.bar(df_tmp['index'], df_tmp['stars'])\n",
        "plt.axvline(mean_stars, c='b');\n",
        "# wild guess:\n",
        "# 1 and 5 stars are more inluenced by emotions\n",
        "# 2-4 stars are relatively less influenced?"
      ],
      "execution_count": 0,
      "outputs": [
        {
          "output_type": "stream",
          "text": [
            "average stars: 3.7161993149762935\n"
          ],
          "name": "stdout"
        },
        {
          "output_type": "display_data",
          "data": {
            "image/png": "[encoded data removed]",
            "text/plain": [
              "<Figure size 432x288 with 1 Axes>"
            ]
          },
          "metadata": {
            "tags": []
          }
        }
      ]
    },
    {
      "cell_type": "code",
      "metadata": {
        "id": "TituRrpqon8x",
        "colab_type": "code",
        "outputId": "e2a8a3ef-840d-43e9-ad2f-fcf29bc4bf48",
        "colab": {
          "base_uri": "https://localhost:8080/",
          "height": 265
        }
      },
      "source": [
        "cols = ['useful', 'funny', 'cool']\n",
        "def plot1(colname):\n",
        "    df_tmp = df_review[colname]\\\n",
        "        .value_counts().reset_index()\\\n",
        "        .sort_values('index')\n",
        "    plt.plot(df_tmp['index'], df_tmp[colname])    \n",
        "\n",
        "def plot2(colname):\n",
        "    df_tmp = df_review[colname]\\\n",
        "        .value_counts().reset_index()\\\n",
        "        .sort_values('index')\n",
        "    df_tmp = df_tmp[df_tmp['index']<10]\n",
        "    plt.plot(df_tmp['index'], df_tmp[colname])\n",
        "\n",
        "plt.figure(figsize=(12,4))    \n",
        "plt.subplot(121)\n",
        "for col in cols:\n",
        "    plot1(col)    \n",
        "plt.subplot(122)   \n",
        "plt.xlim(0,9)\n",
        "for col in cols:\n",
        "    plot2(col)\n",
        "plt.legend(cols);  \n",
        "# all 3 review feedbacks have a long tail\n",
        "# \"funny\" and \"cool\" have very similar shapes"
      ],
      "execution_count": 0,
      "outputs": [
        {
          "output_type": "display_data",
          "data": {
            "image/png": "[encoded data removed]",
            "text/plain": [
              "<Figure size 864x288 with 2 Axes>"
            ]
          },
          "metadata": {
            "tags": []
          }
        }
      ]
    },
    {
      "cell_type": "markdown",
      "metadata": {
        "id": "EN-PZUn3v6H7",
        "colab_type": "text"
      },
      "source": [
        "# review_datetime.csv"
      ]
    },
    {
      "cell_type": "code",
      "metadata": {
        "id": "H-UGhJ_dx-xO",
        "colab_type": "code",
        "outputId": "332d169a-df0a-4d25-aa7f-a5b721f72fc1",
        "colab": {
          "base_uri": "https://localhost:8080/",
          "height": 140
        }
      },
      "source": [
        "df_review['datetime'] = pd.to_datetime(df_review['date'])\n",
        "df_review['datetime'].describe()\n",
        "# the timespan is about 14 years"
      ],
      "execution_count": 0,
      "outputs": [
        {
          "output_type": "execute_result",
          "data": {
            "text/plain": [
              "count                 6685900\n",
              "unique                6552820\n",
              "top       2014-07-28 05:36:33\n",
              "freq                        7\n",
              "first     2004-10-12 10:13:32\n",
              "last      2018-11-14 18:13:26\n",
              "Name: datetime, dtype: object"
            ]
          },
          "metadata": {
            "tags": []
          },
          "execution_count": 36
        }
      ]
    },
    {
      "cell_type": "code",
      "metadata": {
        "id": "xVd_xiiByjyz",
        "colab_type": "code",
        "colab": {}
      },
      "source": [
        "# df_review['year'] = df_review['datetime'].apply(lambda x: x.year)\n",
        "# df_review['month'] = df_review['datetime'].apply(lambda x: x.month)\n",
        "# df_review['day'] = df_review['datetime'].apply(lambda x: x.day)\n",
        "# df_review['hour'] = df_review['datetime'].apply(lambda x: x.hour)\n",
        "# df_review['weekday'] = df_review['datetime'].apply(lambda x: x.weekday())"
      ],
      "execution_count": 0,
      "outputs": []
    },
    {
      "cell_type": "code",
      "metadata": {
        "id": "Qj9chi5u1cj1",
        "colab_type": "code",
        "outputId": "2a95fa84-4641-4ca8-ec8c-7e6f45e76547",
        "colab": {
          "base_uri": "https://localhost:8080/",
          "height": 265
        }
      },
      "source": [
        "df_tmp = df_review['year'].value_counts().reset_index()\n",
        "plt.bar(df_tmp['index'], df_tmp['year']);\n",
        "# it was growing till 2017"
      ],
      "execution_count": 0,
      "outputs": [
        {
          "output_type": "display_data",
          "data": {
            "image/png": "[encoded data removed]",
            "text/plain": [
              "<Figure size 432x288 with 1 Axes>"
            ]
          },
          "metadata": {
            "tags": []
          }
        }
      ]
    },
    {
      "cell_type": "code",
      "metadata": {
        "id": "U80kQDdw1_vs",
        "colab_type": "code",
        "outputId": "a18e5470-6c95-49a0-a3b9-38589f15f11d",
        "colab": {
          "base_uri": "https://localhost:8080/",
          "height": 265
        }
      },
      "source": [
        "df_tmp = df_review['month'].value_counts().reset_index()\n",
        "plt.bar(df_tmp['index'], df_tmp['month']);\n",
        "# monthly number of reviews are not very different"
      ],
      "execution_count": 0,
      "outputs": [
        {
          "output_type": "display_data",
          "data": {
            "image/png": "[encoded data removed]",
            "text/plain": [
              "<Figure size 432x288 with 1 Axes>"
            ]
          },
          "metadata": {
            "tags": []
          }
        }
      ]
    },
    {
      "cell_type": "code",
      "metadata": {
        "id": "VgFaWMg82KqI",
        "colab_type": "code",
        "outputId": "6a736d67-1bca-4ee6-ee33-f870b11606ad",
        "colab": {
          "base_uri": "https://localhost:8080/",
          "height": 265
        }
      },
      "source": [
        "df_tmp = df_review['hour'].value_counts().reset_index()\n",
        "plt.bar(df_tmp['index'], df_tmp['hour']);\n",
        "# around 10 am users left the lest number of reviews... lol\n",
        "# also from the business.csv we could see that \n",
        "# all data are about the US region"
      ],
      "execution_count": 0,
      "outputs": [
        {
          "output_type": "display_data",
          "data": {
            "image/png": "[encoded data removed]",
            "text/plain": [
              "<Figure size 432x288 with 1 Axes>"
            ]
          },
          "metadata": {
            "tags": []
          }
        }
      ]
    },
    {
      "cell_type": "code",
      "metadata": {
        "id": "jBK1N2og3ATW",
        "colab_type": "code",
        "outputId": "1e6a1010-ddee-4c9d-f04c-ebe8fdb9b54c",
        "colab": {
          "base_uri": "https://localhost:8080/",
          "height": 265
        }
      },
      "source": [
        "df_tmp = df_review['weekday'].value_counts().reset_index()\n",
        "plt.bar(df_tmp['index'], df_tmp['weekday']);\n",
        "# review numbers are slightly different for weekdays"
      ],
      "execution_count": 0,
      "outputs": [
        {
          "output_type": "display_data",
          "data": {
            "image/png": "[encoded data removed]",
            "text/plain": [
              "<Figure size 432x288 with 1 Axes>"
            ]
          },
          "metadata": {
            "tags": []
          }
        }
      ]
    },
    {
      "cell_type": "code",
      "metadata": {
        "id": "-Bx9pSxokath",
        "colab_type": "code",
        "outputId": "54cd4bd6-04d1-4d62-877a-702843df1d61",
        "colab": {
          "base_uri": "https://localhost:8080/",
          "height": 70
        }
      },
      "source": [
        "types = df_review['text'].apply(lambda x: type(x))\n",
        "types.value_counts()\n",
        "# this is interesting... \n",
        "# sthere are 2 floats among all the strings."
      ],
      "execution_count": 0,
      "outputs": [
        {
          "output_type": "execute_result",
          "data": {
            "text/plain": [
              "<class 'str'>      6685898\n",
              "<class 'float'>          2\n",
              "Name: text, dtype: int64"
            ]
          },
          "metadata": {
            "tags": []
          },
          "execution_count": 69
        }
      ]
    },
    {
      "cell_type": "code",
      "metadata": {
        "id": "59Oo2zD8qpLe",
        "colab_type": "code",
        "outputId": "a909cb87-fbf6-4782-be29-2e353e3967ba",
        "colab": {
          "base_uri": "https://localhost:8080/",
          "height": 199
        }
      },
      "source": [
        "# check those two records. they have NA in the text column.\n",
        "idx = [not isinstance(e, str) for e in df_review['text']]\n",
        "df_review[idx]"
      ],
      "execution_count": 0,
      "outputs": [
        {
          "output_type": "execute_result",
          "data": {
            "text/html": [
              "<div>\n",
              "<style scoped>\n",
              "    .dataframe tbody tr th:only-of-type {\n",
              "        vertical-align: middle;\n",
              "    }\n",
              "\n",
              "    .dataframe tbody tr th {\n",
              "        vertical-align: top;\n",
              "    }\n",
              "\n",
              "    .dataframe thead th {\n",
              "        text-align: right;\n",
              "    }\n",
              "</style>\n",
              "<table border=\"1\" class=\"dataframe\">\n",
              "  <thead>\n",
              "    <tr style=\"text-align: right;\">\n",
              "      <th></th>\n",
              "      <th>review_id</th>\n",
              "      <th>user_id</th>\n",
              "      <th>business_id</th>\n",
              "      <th>stars</th>\n",
              "      <th>useful</th>\n",
              "      <th>funny</th>\n",
              "      <th>cool</th>\n",
              "      <th>text</th>\n",
              "      <th>date</th>\n",
              "      <th>datetime</th>\n",
              "      <th>year</th>\n",
              "      <th>month</th>\n",
              "      <th>day</th>\n",
              "      <th>hour</th>\n",
              "      <th>weekday</th>\n",
              "    </tr>\n",
              "  </thead>\n",
              "  <tbody>\n",
              "    <tr>\n",
              "      <th>3427823</th>\n",
              "      <td>hpY467Acucmh3tCmEYGiDw</td>\n",
              "      <td>pUKAjAaSMkxiJ1WCIFSsBQ</td>\n",
              "      <td>I7XWtKL1oHohZCtCCyQIog</td>\n",
              "      <td>1.0</td>\n",
              "      <td>7</td>\n",
              "      <td>2</td>\n",
              "      <td>1</td>\n",
              "      <td>NaN</td>\n",
              "      <td>2014-11-15 21:14:34</td>\n",
              "      <td>2014-11-15 21:14:34</td>\n",
              "      <td>2014</td>\n",
              "      <td>11</td>\n",
              "      <td>15</td>\n",
              "      <td>21</td>\n",
              "      <td>5</td>\n",
              "    </tr>\n",
              "    <tr>\n",
              "      <th>6334066</th>\n",
              "      <td>iHdxK8lwkYn0rlNh-REuGQ</td>\n",
              "      <td>v3DIq18Z30KNwyUvBXtXEA</td>\n",
              "      <td>oXoVJ0xKv82cBo9U6oEjlQ</td>\n",
              "      <td>3.0</td>\n",
              "      <td>0</td>\n",
              "      <td>0</td>\n",
              "      <td>0</td>\n",
              "      <td>NaN</td>\n",
              "      <td>2014-12-26 08:32:06</td>\n",
              "      <td>2014-12-26 08:32:06</td>\n",
              "      <td>2014</td>\n",
              "      <td>12</td>\n",
              "      <td>26</td>\n",
              "      <td>8</td>\n",
              "      <td>4</td>\n",
              "    </tr>\n",
              "  </tbody>\n",
              "</table>\n",
              "</div>"
            ],
            "text/plain": [
              "                      review_id                 user_id  ... hour  weekday\n",
              "3427823  hpY467Acucmh3tCmEYGiDw  pUKAjAaSMkxiJ1WCIFSsBQ  ...   21        5\n",
              "6334066  iHdxK8lwkYn0rlNh-REuGQ  v3DIq18Z30KNwyUvBXtXEA  ...    8        4\n",
              "\n",
              "[2 rows x 15 columns]"
            ]
          },
          "metadata": {
            "tags": []
          },
          "execution_count": 87
        }
      ]
    },
    {
      "cell_type": "markdown",
      "metadata": {
        "id": "vocIEhWK0jK1",
        "colab_type": "text"
      },
      "source": [
        "### text length"
      ]
    },
    {
      "cell_type": "code",
      "metadata": {
        "id": "F1IXMdgs0FdU",
        "colab_type": "code",
        "outputId": "7f3cb050-05f4-4c13-d5c2-e16b3eac86f4",
        "colab": {
          "base_uri": "https://localhost:8080/",
          "height": 175
        }
      },
      "source": [
        "import pandas as pd\n",
        "import numpy as np\n",
        "import matplotlib.pyplot as plt\n",
        "\n",
        "path = \"/content/drive/My Drive/data/2019-12-06 yelp/yelp_dataset/csv_out\"\n",
        "df_review = pd.read_csv(path+\"/review_datetime.csv\")\n",
        "\n",
        "# df_review['text_length'] = df_review['text'].fillna('').apply(lambda x: len(x))\n",
        "df_review['text_length'].describe()"
      ],
      "execution_count": 0,
      "outputs": [
        {
          "output_type": "execute_result",
          "data": {
            "text/plain": [
              "count    6.685902e+06\n",
              "mean     6.027973e+02\n",
              "std      5.688755e+02\n",
              "min      0.000000e+00\n",
              "25%      2.370000e+02\n",
              "50%      4.250000e+02\n",
              "75%      7.660000e+02\n",
              "max      5.000000e+03\n",
              "Name: text_length, dtype: float64"
            ]
          },
          "metadata": {
            "tags": []
          },
          "execution_count": 7
        }
      ]
    },
    {
      "cell_type": "code",
      "metadata": {
        "id": "5W5-7WSaV-Sg",
        "colab_type": "code",
        "colab": {}
      },
      "source": [
        "# # save as CSV file\n",
        "# path = \"/content/drive/My Drive/data/2019-12-06 yelp/yelp_dataset/csv_out\"\n",
        "# df_review.to_csv(path+\"/review_datetime.csv\", index=False)"
      ],
      "execution_count": 0,
      "outputs": []
    },
    {
      "cell_type": "code",
      "metadata": {
        "id": "LkaTECpc8mhg",
        "colab_type": "code",
        "outputId": "f5b30b0c-8d99-4171-f1e9-a6384ffb1410",
        "colab": {
          "base_uri": "https://localhost:8080/",
          "height": 483
        }
      },
      "source": [
        "df_tmp = df_review['text_length'].value_counts().reset_index()\n",
        "plt.figure(figsize=(12,8))\n",
        "plt.subplot(221)\n",
        "plt.bar(df_tmp['index'], df_tmp['text_length'])\n",
        "plt.subplot(222)\n",
        "plt.bar(df_tmp['index'], np.log(df_tmp['text_length']))\n",
        "plt.subplot(223)\n",
        "df_tmp1 = df_tmp[df_tmp['index']<500]\n",
        "plt.bar(df_tmp1['index'], df_tmp1['text_length'])\n",
        "plt.subplot(224)\n",
        "df_tmp = df_tmp[df_tmp['index']>4500]\n",
        "plt.bar(df_tmp['index'], df_tmp['text_length']);\n",
        "# this is a very interesting distribution\n",
        "# there is a discontinuity around 80(?) characters.\n",
        "# it might be caused by the old limit of review length\n",
        "# we could exam the text length time series."
      ],
      "execution_count": 0,
      "outputs": [
        {
          "output_type": "display_data",
          "data": {
            "image/png": "[encoded data removed]",
            "text/plain": [
              "<Figure size 864x576 with 4 Axes>"
            ]
          },
          "metadata": {
            "tags": []
          }
        }
      ]
    },
    {
      "cell_type": "markdown",
      "metadata": {
        "id": "D8TpvcLMHyNw",
        "colab_type": "text"
      },
      "source": [
        "### monthly maximum text length"
      ]
    },
    {
      "cell_type": "code",
      "metadata": {
        "id": "CQw7N8wPlQbg",
        "colab_type": "code",
        "outputId": "99ebeb0b-e116-4f8b-cdf8-bed50dc42519",
        "colab": {
          "base_uri": "https://localhost:8080/",
          "height": 417
        }
      },
      "source": [
        "from datetime import datetime\n",
        "\n",
        "# 4 records have NA value in the 'date' column\n",
        "years = df_review['year'].dropna().unique().astype(int)\n",
        "months = np.arange(1, 13, 1)\n",
        "lengths = []\n",
        "for year in years:\n",
        "    for month in months:\n",
        "        condition = ((df_review['year']==year) &\n",
        "            (df_review['month']==month))\n",
        "        length = df_review[condition]['text_length'].max()\n",
        "        lengths.append([year, month, length])\n",
        "lengths = pd.DataFrame(lengths, columns=['year', 'month', 'maximum'])\n",
        "lengths = lengths.dropna().sort_values(['year', 'month'])\n",
        "lengths['date'] = lengths.apply(lambda x: \n",
        "    datetime.strptime(\n",
        "        str(int(x['year']))+str(int(x['month'])).zfill(2)+'01', \n",
        "        '%Y%m%d'),\n",
        "    axis=1)\n",
        "lengths"
      ],
      "execution_count": 0,
      "outputs": [
        {
          "output_type": "execute_result",
          "data": {
            "text/html": [
              "<div>\n",
              "<style scoped>\n",
              "    .dataframe tbody tr th:only-of-type {\n",
              "        vertical-align: middle;\n",
              "    }\n",
              "\n",
              "    .dataframe tbody tr th {\n",
              "        vertical-align: top;\n",
              "    }\n",
              "\n",
              "    .dataframe thead th {\n",
              "        text-align: right;\n",
              "    }\n",
              "</style>\n",
              "<table border=\"1\" class=\"dataframe\">\n",
              "  <thead>\n",
              "    <tr style=\"text-align: right;\">\n",
              "      <th></th>\n",
              "      <th>year</th>\n",
              "      <th>month</th>\n",
              "      <th>maximum</th>\n",
              "      <th>date</th>\n",
              "    </tr>\n",
              "  </thead>\n",
              "  <tbody>\n",
              "    <tr>\n",
              "      <th>129</th>\n",
              "      <td>2004</td>\n",
              "      <td>10</td>\n",
              "      <td>140.0</td>\n",
              "      <td>2004-10-01</td>\n",
              "    </tr>\n",
              "    <tr>\n",
              "      <th>131</th>\n",
              "      <td>2004</td>\n",
              "      <td>12</td>\n",
              "      <td>826.0</td>\n",
              "      <td>2004-12-01</td>\n",
              "    </tr>\n",
              "    <tr>\n",
              "      <th>168</th>\n",
              "      <td>2005</td>\n",
              "      <td>1</td>\n",
              "      <td>188.0</td>\n",
              "      <td>2005-01-01</td>\n",
              "    </tr>\n",
              "    <tr>\n",
              "      <th>169</th>\n",
              "      <td>2005</td>\n",
              "      <td>2</td>\n",
              "      <td>73.0</td>\n",
              "      <td>2005-02-01</td>\n",
              "    </tr>\n",
              "    <tr>\n",
              "      <th>170</th>\n",
              "      <td>2005</td>\n",
              "      <td>3</td>\n",
              "      <td>819.0</td>\n",
              "      <td>2005-03-01</td>\n",
              "    </tr>\n",
              "    <tr>\n",
              "      <th>...</th>\n",
              "      <td>...</td>\n",
              "      <td>...</td>\n",
              "      <td>...</td>\n",
              "      <td>...</td>\n",
              "    </tr>\n",
              "    <tr>\n",
              "      <th>42</th>\n",
              "      <td>2018</td>\n",
              "      <td>7</td>\n",
              "      <td>5000.0</td>\n",
              "      <td>2018-07-01</td>\n",
              "    </tr>\n",
              "    <tr>\n",
              "      <th>43</th>\n",
              "      <td>2018</td>\n",
              "      <td>8</td>\n",
              "      <td>5000.0</td>\n",
              "      <td>2018-08-01</td>\n",
              "    </tr>\n",
              "    <tr>\n",
              "      <th>44</th>\n",
              "      <td>2018</td>\n",
              "      <td>9</td>\n",
              "      <td>5000.0</td>\n",
              "      <td>2018-09-01</td>\n",
              "    </tr>\n",
              "    <tr>\n",
              "      <th>45</th>\n",
              "      <td>2018</td>\n",
              "      <td>10</td>\n",
              "      <td>5000.0</td>\n",
              "      <td>2018-10-01</td>\n",
              "    </tr>\n",
              "    <tr>\n",
              "      <th>46</th>\n",
              "      <td>2018</td>\n",
              "      <td>11</td>\n",
              "      <td>5000.0</td>\n",
              "      <td>2018-11-01</td>\n",
              "    </tr>\n",
              "  </tbody>\n",
              "</table>\n",
              "<p>169 rows × 4 columns</p>\n",
              "</div>"
            ],
            "text/plain": [
              "     year  month  maximum       date\n",
              "129  2004     10    140.0 2004-10-01\n",
              "131  2004     12    826.0 2004-12-01\n",
              "168  2005      1    188.0 2005-01-01\n",
              "169  2005      2     73.0 2005-02-01\n",
              "170  2005      3    819.0 2005-03-01\n",
              "..    ...    ...      ...        ...\n",
              "42   2018      7   5000.0 2018-07-01\n",
              "43   2018      8   5000.0 2018-08-01\n",
              "44   2018      9   5000.0 2018-09-01\n",
              "45   2018     10   5000.0 2018-10-01\n",
              "46   2018     11   5000.0 2018-11-01\n",
              "\n",
              "[169 rows x 4 columns]"
            ]
          },
          "metadata": {
            "tags": []
          },
          "execution_count": 21
        }
      ]
    },
    {
      "cell_type": "code",
      "metadata": {
        "id": "wqxCfpFGCMvW",
        "colab_type": "code",
        "outputId": "515f63c1-6e6d-4ac9-eab3-d592932c9f96",
        "colab": {
          "base_uri": "https://localhost:8080/",
          "height": 211
        }
      },
      "source": [
        "# monthly maximum length of reviews\n",
        "plt.figure(figsize=(18, 3))\n",
        "plt.plot(lengths['date'], lengths['maximum']);"
      ],
      "execution_count": 0,
      "outputs": [
        {
          "output_type": "display_data",
          "data": {
            "image/png": "[encoded data removed]",
            "text/plain": [
              "<Figure size 1296x216 with 1 Axes>"
            ]
          },
          "metadata": {
            "tags": []
          }
        }
      ]
    },
    {
      "cell_type": "markdown",
      "metadata": {
        "id": "FAzVlqidH7Hx",
        "colab_type": "text"
      },
      "source": [
        "### a sample of review longer than 4000"
      ]
    },
    {
      "cell_type": "code",
      "metadata": {
        "id": "mWstYAEYAz66",
        "colab_type": "code",
        "outputId": "f88fc7ee-34b5-4051-8326-dfdeed2916ae",
        "colab": {
          "base_uri": "https://localhost:8080/",
          "height": 653
        }
      },
      "source": [
        "# sample a review longer than 4,000 characters\n",
        "print(df_review[df_review['text_length']>4000]['text'].sample().values[0])"
      ],
      "execution_count": 0,
      "outputs": [
        {
          "output_type": "stream",
          "text": [
            "I am writing this review in an endeavor to help those who are looking for high-end, luxury accommodations in Charlotte.  We moved from LA and OC, where most recently, we were living in the penthouse of a high-rise, luxury building in OC.\n",
            "\n",
            "Having lived in Charlotte at the VUE for about 3.5 months, I can definitely say that if you are looking for posh, secure, pet-friendly, prime Uptown location living accomodations, the VUE is, far and above, your best option when it comes to rentals.  \n",
            "\n",
            "We made two different trips to Charlotte and literally visited nearly every new building in Charlotte, along with any condos or homes for rent in the $4000/month+ range before selecting the VUE.  We looked at the penthouse at the VUE and although there is about 3600 square feet, it was too large for us (two professionals with no children), the floorplan wasn't very open (from the kitchen, you have an obstructed city view), and the available finishes were too traditional for our taste.  We decided to go with a three-bedroom unit on the 41st floor, which was the highest floor available at the time.\n",
            "\n",
            "Excellent staff.  First and foremost, the building manager, Hali Eplin, is an absolute delight.  From the pre-leasing process through the actual move-in, Hali was extremely accessible, informative, and bent over backwards to accommodate us.  It is evident that Hali takes great pride in managing the building, and she does so like a well-oiled machine.  Additionally, the leasing, maintenance, and concierge staff have all been extremely prompt, courteous, and to the extent possible, very flexible.\n",
            "\n",
            "Layout.  Our unit is a corner unit and has floor-to-ceiling glass in every room, featuring the amazing views in day and nighttime.  Although we came from a 2400-square-foot penthouse to an approximately 2100-square-foot unit, the space utilization is maximized in our floorplan.  We actually are able to fit more furniture into our place at the VUE.  There is ample storage space from the extra closets (in addition to a coat closet, there is a large closet outside of the third bedroom), to the large laundry room, to the opulent tiger cabinets in the kitchen, to the built-ins in each closet.  Our unit has long balconies in both the master bedroom and the great room.\n",
            "\n",
            "Finishes.  The finishes, although not quite modern and are more on the side of traditional contemporary but still very high-end.  Most of the appliances are Thermador (more about this later), the countertops and backsplashes are granite, the bathrooms have travertine countertops, oversized jetted jacuzzis, the master shower is huge, with built-in vertical sprayers, the sinks are either flush mounted or raised (in the master), and there is even a built-in wine fridge.\n",
            "\n",
            "Safety.  The very helpful and friendly concierge staff is available 24/7 and only allows permitted guests access to the building.\n",
            "\n",
            "Convenience.  You can pay rent, submit maintenance requests, allow guest access and reach out to the entire VUE community online.   The concierge is stellar about timely package notifications, which are emailed to you and also listed online in the daily VUE updates that residents receive.  Guests also receive complimentary parking validation, which is a huge bonus in a downtown location, where a plethora of bars and restaurants are within walking distance.  In the building, there is a notary public, a car wash, and cleaning service available.\n",
            "\n",
            "Amenities.\n",
            "       * Rooftop pool\n",
            "       * Rooftop tennis courts/basketball courts\n",
            "       * Pet areas: there are 2, one inside the garage and one on the rooftop\n",
            "       * Gym: There is a free weight area, machines, and a yoga room.  There are complimentary yoga and circuit classes every weeknight for residents.\n",
            "        * Barista: There is an actual onsite barista every morning, brewing complimentary coffee for residents.\n",
            "       * Lounges: There are two lounges: one on the 8th floor and one on the 50th floor.  They are very modern, whimsical and have a very club-like vibe; there is also a cyber cafe for business use.\n",
            "       * 50th floor.  The 50th floor is nothing short of stunning when it comes to 360-degree views of the city.  There is a piano, two demonstration kitchens, a conference room, a poker room, and small living room areas for hosting guests.\n",
            "\n",
            "Now the cons:\n",
            "        * The horrible antiquated vertical blinds in every room instead of draw-down semi-transparent shades\n",
            "        * Thermador appliances are high maintenance and break down often\n",
            "        * The wine fridge does not really cool very well\n",
            "        *  Low water pressure in the showers\n",
            "        *  Ventless Bosch washer/dryers that take forever (at least 2 hours) to dry to a slightly damp condition\n",
            "        * AT&T Uverse sucks \n",
            "        * Parking stalls are small; not assigned; and are often unsecured\n",
            "\n",
            "Overall, the pros outweigh the cons and the VUE is, by far, the best option if you're looking for high-end, luxury living in Charlotte and want to be in the middle of all the action.\n"
          ],
          "name": "stdout"
        }
      ]
    }
  ]
}