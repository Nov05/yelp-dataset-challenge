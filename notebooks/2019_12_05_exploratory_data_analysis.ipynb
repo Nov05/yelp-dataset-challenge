{
  "nbformat": 4,
  "nbformat_minor": 0,
  "metadata": {
    "colab": {
      "name": "2019-12-05 exploratory data analysis.ipynb",
      "provenance": [],
      "collapsed_sections": [],
      "include_colab_link": true
    },
    "kernelspec": {
      "name": "python3",
      "display_name": "Python 3"
    }
  },
  "cells": [
    {
      "cell_type": "markdown",
      "metadata": {
        "id": "view-in-github",
        "colab_type": "text"
      },
      "source": [
        "<a href=\"https://colab.research.google.com/github/Nov05/yelp-dataset-challenge/blob/master/notebooks/2019_12_05_exploratory_data_analysis.ipynb\" target=\"_parent\"><img src=\"https://colab.research.google.com/assets/colab-badge.svg\" alt=\"Open In Colab\"/></a>"
      ]
    },
    {
      "cell_type": "code",
      "metadata": {
        "id": "pH5huQWd_W1H",
        "colab_type": "code",
        "colab": {}
      },
      "source": [
        "# created by nov05 on 2019-12-06"
      ],
      "execution_count": 0,
      "outputs": []
    },
    {
      "cell_type": "code",
      "metadata": {
        "id": "h8LD7OaS2NPe",
        "colab_type": "code",
        "colab": {}
      },
      "source": [
        "from google.colab import drive\n",
        "drive.mount('/content/drive')"
      ],
      "execution_count": 0,
      "outputs": []
    },
    {
      "cell_type": "code",
      "metadata": {
        "id": "1YlUoMpI_a4S",
        "colab_type": "code",
        "colab": {}
      },
      "source": [
        "import pandas as pd\n",
        "import numpy as np\n",
        "import matplotlib.pyplot as plt"
      ],
      "execution_count": 0,
      "outputs": []
    },
    {
      "cell_type": "markdown",
      "metadata": {
        "id": "_ZpJEL03FrLh",
        "colab_type": "text"
      },
      "source": [
        "Dataset Documentation   \n",
        "https://www.yelp.com/dataset/documentation/main   "
      ]
    },
    {
      "cell_type": "markdown",
      "metadata": {
        "id": "EqDgdLpsd-QW",
        "colab_type": "text"
      },
      "source": [
        "# checkin.csv"
      ]
    },
    {
      "cell_type": "code",
      "metadata": {
        "id": "vfr9hKlf_e9o",
        "colab_type": "code",
        "colab": {
          "base_uri": "https://localhost:8080/",
          "height": 220
        },
        "outputId": "a65aa70e-9001-4bd6-862a-eb8a5fc38191"
      },
      "source": [
        "# can't read large files via shareable links\n",
        "url = \"https://drive.google.com/open?id=1-0B2vGj7S9lF8s42jzj1mD0V0xLtp6U2\" \n",
        "path = \"/content/drive/My Drive/data/2019-12-06 yelp/yelp_dataset/csv_out/checkin.csv\"\n",
        "df_checkin = pd.read_csv(path)\n",
        "print(df_checkin.shape)\n",
        "df_checkin.head()\n",
        "# there are 192,609 businesses in total"
      ],
      "execution_count": 10,
      "outputs": [
        {
          "output_type": "stream",
          "text": [
            "(161950, 2)\n"
          ],
          "name": "stdout"
        },
        {
          "output_type": "execute_result",
          "data": {
            "text/html": [
              "<div>\n",
              "<style scoped>\n",
              "    .dataframe tbody tr th:only-of-type {\n",
              "        vertical-align: middle;\n",
              "    }\n",
              "\n",
              "    .dataframe tbody tr th {\n",
              "        vertical-align: top;\n",
              "    }\n",
              "\n",
              "    .dataframe thead th {\n",
              "        text-align: right;\n",
              "    }\n",
              "</style>\n",
              "<table border=\"1\" class=\"dataframe\">\n",
              "  <thead>\n",
              "    <tr style=\"text-align: right;\">\n",
              "      <th></th>\n",
              "      <th>business_id</th>\n",
              "      <th>date</th>\n",
              "    </tr>\n",
              "  </thead>\n",
              "  <tbody>\n",
              "    <tr>\n",
              "      <th>0</th>\n",
              "      <td>--1UhMGODdWsrMastO9DZw</td>\n",
              "      <td>2016-04-26 19:49:16, 2016-08-30 18:36:57, 2016...</td>\n",
              "    </tr>\n",
              "    <tr>\n",
              "      <th>1</th>\n",
              "      <td>--6MefnULPED_I942VcFNA</td>\n",
              "      <td>2011-06-04 18:22:23, 2011-07-23 23:51:33, 2012...</td>\n",
              "    </tr>\n",
              "    <tr>\n",
              "      <th>2</th>\n",
              "      <td>--7zmmkVg-IMGaXbuVd0SQ</td>\n",
              "      <td>2014-12-29 19:25:50, 2015-01-17 01:49:14, 2015...</td>\n",
              "    </tr>\n",
              "    <tr>\n",
              "      <th>3</th>\n",
              "      <td>--8LPVSo5i0Oo61X01sV9A</td>\n",
              "      <td>2016-07-08 16:43:30</td>\n",
              "    </tr>\n",
              "    <tr>\n",
              "      <th>4</th>\n",
              "      <td>--9QQLMTbFzLJ_oT-ON3Xw</td>\n",
              "      <td>2010-06-26 17:39:07, 2010-08-01 20:06:21, 2010...</td>\n",
              "    </tr>\n",
              "  </tbody>\n",
              "</table>\n",
              "</div>"
            ],
            "text/plain": [
              "              business_id                                               date\n",
              "0  --1UhMGODdWsrMastO9DZw  2016-04-26 19:49:16, 2016-08-30 18:36:57, 2016...\n",
              "1  --6MefnULPED_I942VcFNA  2011-06-04 18:22:23, 2011-07-23 23:51:33, 2012...\n",
              "2  --7zmmkVg-IMGaXbuVd0SQ  2014-12-29 19:25:50, 2015-01-17 01:49:14, 2015...\n",
              "3  --8LPVSo5i0Oo61X01sV9A                                2016-07-08 16:43:30\n",
              "4  --9QQLMTbFzLJ_oT-ON3Xw  2010-06-26 17:39:07, 2010-08-01 20:06:21, 2010..."
            ]
          },
          "metadata": {
            "tags": []
          },
          "execution_count": 10
        }
      ]
    },
    {
      "cell_type": "markdown",
      "metadata": {
        "id": "XpH31Q9PeB3d",
        "colab_type": "text"
      },
      "source": [
        "# business.csv"
      ]
    },
    {
      "cell_type": "code",
      "metadata": {
        "id": "vO7eKOs-19wz",
        "colab_type": "code",
        "colab": {
          "base_uri": "https://localhost:8080/",
          "height": 585
        },
        "outputId": "c881052b-e08d-4e61-f6de-e5b57756c889"
      },
      "source": [
        "path = \"/content/drive/My Drive/data/2019-12-06 yelp/yelp_dataset/csv_out/business.csv\"\n",
        "df_business = pd.read_csv(path)\n",
        "print(df_business.shape)\n",
        "df_business.head()\n",
        "# there are 192,609 businesses in total"
      ],
      "execution_count": 5,
      "outputs": [
        {
          "output_type": "stream",
          "text": [
            "/usr/local/lib/python3.6/dist-packages/IPython/core/interactiveshell.py:2718: DtypeWarning: Columns (56,58,59) have mixed types. Specify dtype option on import or set low_memory=False.\n",
            "  interactivity=interactivity, compiler=compiler, result=result)\n"
          ],
          "name": "stderr"
        },
        {
          "output_type": "stream",
          "text": [
            "(192609, 60)\n"
          ],
          "name": "stdout"
        },
        {
          "output_type": "execute_result",
          "data": {
            "text/html": [
              "<div>\n",
              "<style scoped>\n",
              "    .dataframe tbody tr th:only-of-type {\n",
              "        vertical-align: middle;\n",
              "    }\n",
              "\n",
              "    .dataframe tbody tr th {\n",
              "        vertical-align: top;\n",
              "    }\n",
              "\n",
              "    .dataframe thead th {\n",
              "        text-align: right;\n",
              "    }\n",
              "</style>\n",
              "<table border=\"1\" class=\"dataframe\">\n",
              "  <thead>\n",
              "    <tr style=\"text-align: right;\">\n",
              "      <th></th>\n",
              "      <th>business_id</th>\n",
              "      <th>name</th>\n",
              "      <th>address</th>\n",
              "      <th>city</th>\n",
              "      <th>state</th>\n",
              "      <th>postal_code</th>\n",
              "      <th>latitude</th>\n",
              "      <th>longitude</th>\n",
              "      <th>stars</th>\n",
              "      <th>review_count</th>\n",
              "      <th>is_open</th>\n",
              "      <th>categories</th>\n",
              "      <th>hours</th>\n",
              "      <th>attributes.GoodForKids</th>\n",
              "      <th>attributes.RestaurantsReservations</th>\n",
              "      <th>attributes.GoodForMeal</th>\n",
              "      <th>attributes.BusinessParking</th>\n",
              "      <th>attributes.Caters</th>\n",
              "      <th>attributes.NoiseLevel</th>\n",
              "      <th>attributes.RestaurantsTableService</th>\n",
              "      <th>attributes.RestaurantsTakeOut</th>\n",
              "      <th>attributes.RestaurantsPriceRange2</th>\n",
              "      <th>attributes.OutdoorSeating</th>\n",
              "      <th>attributes.BikeParking</th>\n",
              "      <th>attributes.Ambience</th>\n",
              "      <th>attributes.HasTV</th>\n",
              "      <th>attributes.WiFi</th>\n",
              "      <th>attributes.Alcohol</th>\n",
              "      <th>attributes.RestaurantsAttire</th>\n",
              "      <th>attributes.RestaurantsGoodForGroups</th>\n",
              "      <th>attributes.RestaurantsDelivery</th>\n",
              "      <th>hours.Monday</th>\n",
              "      <th>hours.Tuesday</th>\n",
              "      <th>hours.Wednesday</th>\n",
              "      <th>hours.Thursday</th>\n",
              "      <th>hours.Friday</th>\n",
              "      <th>hours.Saturday</th>\n",
              "      <th>hours.Sunday</th>\n",
              "      <th>attributes.BusinessAcceptsCreditCards</th>\n",
              "      <th>attributes</th>\n",
              "      <th>attributes.BusinessAcceptsBitcoin</th>\n",
              "      <th>attributes.ByAppointmentOnly</th>\n",
              "      <th>attributes.AcceptsInsurance</th>\n",
              "      <th>attributes.Music</th>\n",
              "      <th>attributes.GoodForDancing</th>\n",
              "      <th>attributes.CoatCheck</th>\n",
              "      <th>attributes.HappyHour</th>\n",
              "      <th>attributes.BestNights</th>\n",
              "      <th>attributes.WheelchairAccessible</th>\n",
              "      <th>attributes.DogsAllowed</th>\n",
              "      <th>attributes.BYOBCorkage</th>\n",
              "      <th>attributes.DriveThru</th>\n",
              "      <th>attributes.Smoking</th>\n",
              "      <th>attributes.AgesAllowed</th>\n",
              "      <th>attributes.HairSpecializesIn</th>\n",
              "      <th>attributes.Corkage</th>\n",
              "      <th>attributes.BYOB</th>\n",
              "      <th>attributes.DietaryRestrictions</th>\n",
              "      <th>attributes.Open24Hours</th>\n",
              "      <th>attributes.RestaurantsCounterService</th>\n",
              "    </tr>\n",
              "  </thead>\n",
              "  <tbody>\n",
              "    <tr>\n",
              "      <th>0</th>\n",
              "      <td>1SWheh84yJXfytovILXOAQ</td>\n",
              "      <td>Arizona Biltmore Golf Club</td>\n",
              "      <td>2818 E Camino Acequia Drive</td>\n",
              "      <td>Phoenix</td>\n",
              "      <td>AZ</td>\n",
              "      <td>85016</td>\n",
              "      <td>33.522143</td>\n",
              "      <td>-112.018481</td>\n",
              "      <td>3.0</td>\n",
              "      <td>5</td>\n",
              "      <td>0</td>\n",
              "      <td>Golf, Active Life</td>\n",
              "      <td>NaN</td>\n",
              "      <td>False</td>\n",
              "      <td>NaN</td>\n",
              "      <td>NaN</td>\n",
              "      <td>NaN</td>\n",
              "      <td>NaN</td>\n",
              "      <td>NaN</td>\n",
              "      <td>NaN</td>\n",
              "      <td>NaN</td>\n",
              "      <td>NaN</td>\n",
              "      <td>NaN</td>\n",
              "      <td>NaN</td>\n",
              "      <td>NaN</td>\n",
              "      <td>NaN</td>\n",
              "      <td>NaN</td>\n",
              "      <td>NaN</td>\n",
              "      <td>NaN</td>\n",
              "      <td>NaN</td>\n",
              "      <td>NaN</td>\n",
              "      <td>NaN</td>\n",
              "      <td>NaN</td>\n",
              "      <td>NaN</td>\n",
              "      <td>NaN</td>\n",
              "      <td>NaN</td>\n",
              "      <td>NaN</td>\n",
              "      <td>NaN</td>\n",
              "      <td>NaN</td>\n",
              "      <td>NaN</td>\n",
              "      <td>NaN</td>\n",
              "      <td>NaN</td>\n",
              "      <td>NaN</td>\n",
              "      <td>NaN</td>\n",
              "      <td>NaN</td>\n",
              "      <td>NaN</td>\n",
              "      <td>NaN</td>\n",
              "      <td>NaN</td>\n",
              "      <td>NaN</td>\n",
              "      <td>NaN</td>\n",
              "      <td>NaN</td>\n",
              "      <td>NaN</td>\n",
              "      <td>NaN</td>\n",
              "      <td>NaN</td>\n",
              "      <td>NaN</td>\n",
              "      <td>NaN</td>\n",
              "      <td>NaN</td>\n",
              "      <td>NaN</td>\n",
              "      <td>NaN</td>\n",
              "      <td>NaN</td>\n",
              "    </tr>\n",
              "    <tr>\n",
              "      <th>1</th>\n",
              "      <td>QXAEGFB4oINsVuTFxEYKFQ</td>\n",
              "      <td>Emerald Chinese Restaurant</td>\n",
              "      <td>30 Eglinton Avenue W</td>\n",
              "      <td>Mississauga</td>\n",
              "      <td>ON</td>\n",
              "      <td>L5R 3E7</td>\n",
              "      <td>43.605499</td>\n",
              "      <td>-79.652289</td>\n",
              "      <td>2.5</td>\n",
              "      <td>128</td>\n",
              "      <td>1</td>\n",
              "      <td>Specialty Food, Restaurants, Dim Sum, Imported...</td>\n",
              "      <td>NaN</td>\n",
              "      <td>True</td>\n",
              "      <td>True</td>\n",
              "      <td>{'dessert': False, 'latenight': False, 'lunch'...</td>\n",
              "      <td>{'garage': False, 'street': False, 'validated'...</td>\n",
              "      <td>True</td>\n",
              "      <td>u'loud'</td>\n",
              "      <td>True</td>\n",
              "      <td>True</td>\n",
              "      <td>2</td>\n",
              "      <td>False</td>\n",
              "      <td>False</td>\n",
              "      <td>{'romantic': False, 'intimate': False, 'classy...</td>\n",
              "      <td>False</td>\n",
              "      <td>u'no'</td>\n",
              "      <td>u'full_bar'</td>\n",
              "      <td>u'casual'</td>\n",
              "      <td>True</td>\n",
              "      <td>False</td>\n",
              "      <td>9:0-0:0</td>\n",
              "      <td>9:0-0:0</td>\n",
              "      <td>9:0-0:0</td>\n",
              "      <td>9:0-0:0</td>\n",
              "      <td>9:0-1:0</td>\n",
              "      <td>9:0-1:0</td>\n",
              "      <td>9:0-0:0</td>\n",
              "      <td>NaN</td>\n",
              "      <td>NaN</td>\n",
              "      <td>NaN</td>\n",
              "      <td>NaN</td>\n",
              "      <td>NaN</td>\n",
              "      <td>NaN</td>\n",
              "      <td>NaN</td>\n",
              "      <td>NaN</td>\n",
              "      <td>NaN</td>\n",
              "      <td>NaN</td>\n",
              "      <td>NaN</td>\n",
              "      <td>NaN</td>\n",
              "      <td>NaN</td>\n",
              "      <td>NaN</td>\n",
              "      <td>NaN</td>\n",
              "      <td>NaN</td>\n",
              "      <td>NaN</td>\n",
              "      <td>NaN</td>\n",
              "      <td>NaN</td>\n",
              "      <td>NaN</td>\n",
              "      <td>NaN</td>\n",
              "      <td>NaN</td>\n",
              "    </tr>\n",
              "    <tr>\n",
              "      <th>2</th>\n",
              "      <td>gnKjwL_1w79qoiV3IC_xQQ</td>\n",
              "      <td>Musashi Japanese Restaurant</td>\n",
              "      <td>10110 Johnston Rd, Ste 15</td>\n",
              "      <td>Charlotte</td>\n",
              "      <td>NC</td>\n",
              "      <td>28210</td>\n",
              "      <td>35.092564</td>\n",
              "      <td>-80.859132</td>\n",
              "      <td>4.0</td>\n",
              "      <td>170</td>\n",
              "      <td>1</td>\n",
              "      <td>Sushi Bars, Restaurants, Japanese</td>\n",
              "      <td>NaN</td>\n",
              "      <td>True</td>\n",
              "      <td>True</td>\n",
              "      <td>{'dessert': False, 'latenight': False, 'lunch'...</td>\n",
              "      <td>{'garage': False, 'street': False, 'validated'...</td>\n",
              "      <td>False</td>\n",
              "      <td>u'average'</td>\n",
              "      <td>True</td>\n",
              "      <td>True</td>\n",
              "      <td>2</td>\n",
              "      <td>False</td>\n",
              "      <td>True</td>\n",
              "      <td>{'romantic': False, 'intimate': False, 'touris...</td>\n",
              "      <td>True</td>\n",
              "      <td>u'no'</td>\n",
              "      <td>u'beer_and_wine'</td>\n",
              "      <td>'casual'</td>\n",
              "      <td>True</td>\n",
              "      <td>False</td>\n",
              "      <td>17:30-21:30</td>\n",
              "      <td>NaN</td>\n",
              "      <td>17:30-21:30</td>\n",
              "      <td>17:30-21:30</td>\n",
              "      <td>17:30-22:0</td>\n",
              "      <td>17:30-22:0</td>\n",
              "      <td>17:30-21:0</td>\n",
              "      <td>True</td>\n",
              "      <td>NaN</td>\n",
              "      <td>NaN</td>\n",
              "      <td>NaN</td>\n",
              "      <td>NaN</td>\n",
              "      <td>NaN</td>\n",
              "      <td>NaN</td>\n",
              "      <td>NaN</td>\n",
              "      <td>NaN</td>\n",
              "      <td>NaN</td>\n",
              "      <td>NaN</td>\n",
              "      <td>NaN</td>\n",
              "      <td>NaN</td>\n",
              "      <td>NaN</td>\n",
              "      <td>NaN</td>\n",
              "      <td>NaN</td>\n",
              "      <td>NaN</td>\n",
              "      <td>NaN</td>\n",
              "      <td>NaN</td>\n",
              "      <td>NaN</td>\n",
              "      <td>NaN</td>\n",
              "      <td>NaN</td>\n",
              "    </tr>\n",
              "    <tr>\n",
              "      <th>3</th>\n",
              "      <td>xvX2CttrVhyG2z1dFg_0xw</td>\n",
              "      <td>Farmers Insurance - Paul Lorenz</td>\n",
              "      <td>15655 W Roosevelt St, Ste 237</td>\n",
              "      <td>Goodyear</td>\n",
              "      <td>AZ</td>\n",
              "      <td>85338</td>\n",
              "      <td>33.455613</td>\n",
              "      <td>-112.395596</td>\n",
              "      <td>5.0</td>\n",
              "      <td>3</td>\n",
              "      <td>1</td>\n",
              "      <td>Insurance, Financial Services</td>\n",
              "      <td>NaN</td>\n",
              "      <td>NaN</td>\n",
              "      <td>NaN</td>\n",
              "      <td>NaN</td>\n",
              "      <td>NaN</td>\n",
              "      <td>NaN</td>\n",
              "      <td>NaN</td>\n",
              "      <td>NaN</td>\n",
              "      <td>NaN</td>\n",
              "      <td>NaN</td>\n",
              "      <td>NaN</td>\n",
              "      <td>NaN</td>\n",
              "      <td>NaN</td>\n",
              "      <td>NaN</td>\n",
              "      <td>NaN</td>\n",
              "      <td>NaN</td>\n",
              "      <td>NaN</td>\n",
              "      <td>NaN</td>\n",
              "      <td>NaN</td>\n",
              "      <td>8:0-17:0</td>\n",
              "      <td>8:0-17:0</td>\n",
              "      <td>8:0-17:0</td>\n",
              "      <td>8:0-17:0</td>\n",
              "      <td>8:0-17:0</td>\n",
              "      <td>NaN</td>\n",
              "      <td>NaN</td>\n",
              "      <td>NaN</td>\n",
              "      <td>NaN</td>\n",
              "      <td>NaN</td>\n",
              "      <td>NaN</td>\n",
              "      <td>NaN</td>\n",
              "      <td>NaN</td>\n",
              "      <td>NaN</td>\n",
              "      <td>NaN</td>\n",
              "      <td>NaN</td>\n",
              "      <td>NaN</td>\n",
              "      <td>NaN</td>\n",
              "      <td>NaN</td>\n",
              "      <td>NaN</td>\n",
              "      <td>NaN</td>\n",
              "      <td>NaN</td>\n",
              "      <td>NaN</td>\n",
              "      <td>NaN</td>\n",
              "      <td>NaN</td>\n",
              "      <td>NaN</td>\n",
              "      <td>NaN</td>\n",
              "      <td>NaN</td>\n",
              "      <td>NaN</td>\n",
              "    </tr>\n",
              "    <tr>\n",
              "      <th>4</th>\n",
              "      <td>HhyxOkGAM07SRYtlQ4wMFQ</td>\n",
              "      <td>Queen City Plumbing</td>\n",
              "      <td>4209 Stuart Andrew Blvd, Ste F</td>\n",
              "      <td>Charlotte</td>\n",
              "      <td>NC</td>\n",
              "      <td>28217</td>\n",
              "      <td>35.190012</td>\n",
              "      <td>-80.887223</td>\n",
              "      <td>4.0</td>\n",
              "      <td>4</td>\n",
              "      <td>1</td>\n",
              "      <td>Plumbing, Shopping, Local Services, Home Servi...</td>\n",
              "      <td>NaN</td>\n",
              "      <td>NaN</td>\n",
              "      <td>NaN</td>\n",
              "      <td>NaN</td>\n",
              "      <td>NaN</td>\n",
              "      <td>NaN</td>\n",
              "      <td>NaN</td>\n",
              "      <td>NaN</td>\n",
              "      <td>NaN</td>\n",
              "      <td>NaN</td>\n",
              "      <td>NaN</td>\n",
              "      <td>NaN</td>\n",
              "      <td>NaN</td>\n",
              "      <td>NaN</td>\n",
              "      <td>NaN</td>\n",
              "      <td>NaN</td>\n",
              "      <td>NaN</td>\n",
              "      <td>NaN</td>\n",
              "      <td>NaN</td>\n",
              "      <td>7:0-23:0</td>\n",
              "      <td>7:0-23:0</td>\n",
              "      <td>7:0-23:0</td>\n",
              "      <td>7:0-23:0</td>\n",
              "      <td>7:0-23:0</td>\n",
              "      <td>7:0-23:0</td>\n",
              "      <td>7:0-23:0</td>\n",
              "      <td>True</td>\n",
              "      <td>NaN</td>\n",
              "      <td>False</td>\n",
              "      <td>True</td>\n",
              "      <td>NaN</td>\n",
              "      <td>NaN</td>\n",
              "      <td>NaN</td>\n",
              "      <td>NaN</td>\n",
              "      <td>NaN</td>\n",
              "      <td>NaN</td>\n",
              "      <td>NaN</td>\n",
              "      <td>NaN</td>\n",
              "      <td>NaN</td>\n",
              "      <td>NaN</td>\n",
              "      <td>NaN</td>\n",
              "      <td>NaN</td>\n",
              "      <td>NaN</td>\n",
              "      <td>NaN</td>\n",
              "      <td>NaN</td>\n",
              "      <td>NaN</td>\n",
              "      <td>NaN</td>\n",
              "      <td>NaN</td>\n",
              "    </tr>\n",
              "  </tbody>\n",
              "</table>\n",
              "</div>"
            ],
            "text/plain": [
              "              business_id  ... attributes.RestaurantsCounterService\n",
              "0  1SWheh84yJXfytovILXOAQ  ...                                  NaN\n",
              "1  QXAEGFB4oINsVuTFxEYKFQ  ...                                  NaN\n",
              "2  gnKjwL_1w79qoiV3IC_xQQ  ...                                  NaN\n",
              "3  xvX2CttrVhyG2z1dFg_0xw  ...                                  NaN\n",
              "4  HhyxOkGAM07SRYtlQ4wMFQ  ...                                  NaN\n",
              "\n",
              "[5 rows x 60 columns]"
            ]
          },
          "metadata": {
            "tags": []
          },
          "execution_count": 5
        }
      ]
    },
    {
      "cell_type": "code",
      "metadata": {
        "id": "iRi97kSXCVFa",
        "colab_type": "code",
        "colab": {
          "base_uri": "https://localhost:8080/",
          "height": 70
        },
        "outputId": "04f10297-6e87-43df-8a43-6151dacbbb35"
      },
      "source": [
        "# DtypeWarning: Columns (56,58,59) have mixed types. \n",
        "# Specify dtype option on import or set low_memory=False.\n",
        "df_business.iloc[:,59].value_counts()"
      ],
      "execution_count": 9,
      "outputs": [
        {
          "output_type": "execute_result",
          "data": {
            "text/plain": [
              "True     8\n",
              "False    3\n",
              "Name: attributes.RestaurantsCounterService, dtype: int64"
            ]
          },
          "metadata": {
            "tags": []
          },
          "execution_count": 9
        }
      ]
    },
    {
      "cell_type": "markdown",
      "metadata": {
        "id": "zDoqeegKhiVx",
        "colab_type": "text"
      },
      "source": [
        "# photo.csv"
      ]
    },
    {
      "cell_type": "code",
      "metadata": {
        "id": "ECKYRbUE8MKF",
        "colab_type": "code",
        "colab": {
          "base_uri": "https://localhost:8080/",
          "height": 220
        },
        "outputId": "56de798c-822c-4bb3-dfc8-b581dca9af78"
      },
      "source": [
        "path = \"/content/drive/My Drive/data/2019-12-06 yelp/yelp_dataset/csv_out/photo.csv\"\n",
        "df_photo = pd.read_csv(path, lineterminator='\\n')\n",
        "print(df_photo.shape)\n",
        "df_photo.head()"
      ],
      "execution_count": 13,
      "outputs": [
        {
          "output_type": "stream",
          "text": [
            "(200000, 4)\n"
          ],
          "name": "stdout"
        },
        {
          "output_type": "execute_result",
          "data": {
            "text/html": [
              "<div>\n",
              "<style scoped>\n",
              "    .dataframe tbody tr th:only-of-type {\n",
              "        vertical-align: middle;\n",
              "    }\n",
              "\n",
              "    .dataframe tbody tr th {\n",
              "        vertical-align: top;\n",
              "    }\n",
              "\n",
              "    .dataframe thead th {\n",
              "        text-align: right;\n",
              "    }\n",
              "</style>\n",
              "<table border=\"1\" class=\"dataframe\">\n",
              "  <thead>\n",
              "    <tr style=\"text-align: right;\">\n",
              "      <th></th>\n",
              "      <th>caption</th>\n",
              "      <th>photo_id</th>\n",
              "      <th>business_id</th>\n",
              "      <th>label</th>\n",
              "    </tr>\n",
              "  </thead>\n",
              "  <tbody>\n",
              "    <tr>\n",
              "      <th>0</th>\n",
              "      <td>NaN</td>\n",
              "      <td>MllA1nNpcp1kDteVg6OGUw</td>\n",
              "      <td>rcaPajgKOJC2vo_l3xa42A</td>\n",
              "      <td>inside</td>\n",
              "    </tr>\n",
              "    <tr>\n",
              "      <th>1</th>\n",
              "      <td>NaN</td>\n",
              "      <td>YjxBE88Bf6CmTEF2LP1UNA</td>\n",
              "      <td>Kn23LDd740SBVJ7mum0fwg</td>\n",
              "      <td>inside</td>\n",
              "    </tr>\n",
              "    <tr>\n",
              "      <th>2</th>\n",
              "      <td>NaN</td>\n",
              "      <td>1f7izSjM0WjkDRIVbPy1yw</td>\n",
              "      <td>ZkGDCVKSdf8m76cnnalL-A</td>\n",
              "      <td>food</td>\n",
              "    </tr>\n",
              "    <tr>\n",
              "      <th>3</th>\n",
              "      <td>NaN</td>\n",
              "      <td>NcSlcDTEEeOaixotOPk-rA</td>\n",
              "      <td>bF8gv7k_rwZtiDLP2ZB04w</td>\n",
              "      <td>inside</td>\n",
              "    </tr>\n",
              "    <tr>\n",
              "      <th>4</th>\n",
              "      <td>NaN</td>\n",
              "      <td>5IiIo5UKEW0lWqZ6sWrY_A</td>\n",
              "      <td>50Anorn0DJXFhBr9a9_gHQ</td>\n",
              "      <td>inside</td>\n",
              "    </tr>\n",
              "  </tbody>\n",
              "</table>\n",
              "</div>"
            ],
            "text/plain": [
              "  caption                photo_id             business_id   label\n",
              "0     NaN  MllA1nNpcp1kDteVg6OGUw  rcaPajgKOJC2vo_l3xa42A  inside\n",
              "1     NaN  YjxBE88Bf6CmTEF2LP1UNA  Kn23LDd740SBVJ7mum0fwg  inside\n",
              "2     NaN  1f7izSjM0WjkDRIVbPy1yw  ZkGDCVKSdf8m76cnnalL-A    food\n",
              "3     NaN  NcSlcDTEEeOaixotOPk-rA  bF8gv7k_rwZtiDLP2ZB04w  inside\n",
              "4     NaN  5IiIo5UKEW0lWqZ6sWrY_A  50Anorn0DJXFhBr9a9_gHQ  inside"
            ]
          },
          "metadata": {
            "tags": []
          },
          "execution_count": 13
        }
      ]
    },
    {
      "cell_type": "code",
      "metadata": {
        "id": "8DnjwNA1_xoN",
        "colab_type": "code",
        "colab": {
          "base_uri": "https://localhost:8080/",
          "height": 228
        },
        "outputId": "fa193a81-987e-4f47-cbbd-29d644a1a272"
      },
      "source": [
        "# half of the photos have a caption\n",
        "df_photo['caption'].value_counts(dropna=False)"
      ],
      "execution_count": 17,
      "outputs": [
        {
          "output_type": "execute_result",
          "data": {
            "text/plain": [
              "NaN                                                                    107850\n",
              "Interior                                                                  458\n",
              "Inside                                                                    388\n",
              "Menu                                                                      321\n",
              "McDonald's All Day Breakfast Sandwiches                                   298\n",
              "                                                                        ...  \n",
              "Shinya Way to Heaven Ramen                                                  1\n",
              "A Forest Hill tradition for more than 52 years...and still going...         1\n",
              "Miss Korea Dishes                                                           1\n",
              "All our free drinks thanks to our host!                                     1\n",
              "Famous Baked Wings                                                          1\n",
              "Name: caption, Length: 71513, dtype: int64"
            ]
          },
          "metadata": {
            "tags": []
          },
          "execution_count": 17
        }
      ]
    },
    {
      "cell_type": "code",
      "metadata": {
        "id": "PWRQkZo2AN02",
        "colab_type": "code",
        "colab": {
          "base_uri": "https://localhost:8080/",
          "height": 123
        },
        "outputId": "fdf1428a-3aa3-4a93-c828-d4fded7d6e78"
      },
      "source": [
        "# there are 200,000 photos in total,\n",
        "# and about half of them have a caption.\n",
        "df_photo['label'].value_counts(dropna=False)"
      ],
      "execution_count": 18,
      "outputs": [
        {
          "output_type": "execute_result",
          "data": {
            "text/plain": [
              "food       114874\n",
              "inside      52448\n",
              "drink       18121\n",
              "outside     11534\n",
              "menu         3023\n",
              "Name: label, dtype: int64"
            ]
          },
          "metadata": {
            "tags": []
          },
          "execution_count": 18
        }
      ]
    },
    {
      "cell_type": "code",
      "metadata": {
        "id": "H6nFAJT9Ae8A",
        "colab_type": "code",
        "colab": {
          "base_uri": "https://localhost:8080/",
          "height": 123
        },
        "outputId": "6fb093f7-e0ca-4ebc-ee0b-f8c211bf6a7b"
      },
      "source": [
        "# there are about 57,151 photos about food and with a caption.\n",
        "# probably need to do some basic NLP to convert captions to labels.\n",
        "df_photo[df_photo['caption'].notnull()]['label'].value_counts()"
      ],
      "execution_count": 23,
      "outputs": [
        {
          "output_type": "execute_result",
          "data": {
            "text/plain": [
              "food       57151\n",
              "inside     20790\n",
              "drink       8382\n",
              "outside     4485\n",
              "menu        1342\n",
              "Name: label, dtype: int64"
            ]
          },
          "metadata": {
            "tags": []
          },
          "execution_count": 23
        }
      ]
    },
    {
      "cell_type": "code",
      "metadata": {
        "id": "RcsLMV1TY_o4",
        "colab_type": "code",
        "colab": {
          "base_uri": "https://localhost:8080/",
          "height": 246
        },
        "outputId": "317ec409-86c6-4171-dbf3-4b4687eb9b5f"
      },
      "source": [
        "print(30488/192609)\n",
        "df_photo['business_id'].value_counts()\n",
        "# there are 192,609 businesses in total\n",
        "# only 30,488 businesses (15%) have photos\n",
        "# whether having photos could a feature\n",
        "# or we could compare businesses with photos with those without \n",
        "# any to see whether having photos would make difference"
      ],
      "execution_count": 26,
      "outputs": [
        {
          "output_type": "stream",
          "text": [
            "0.15828959186746205\n"
          ],
          "name": "stdout"
        },
        {
          "output_type": "execute_result",
          "data": {
            "text/plain": [
              "RESDUcs7fIiihp38-d6_6g    823\n",
              "K7lWdNUhCbcnEvI0NhGewg    642\n",
              "vHz2RLtfUMVRPFmd7VBEHA    612\n",
              "faPVqws-x-5k2CQKDNtHxw    421\n",
              "XnJeadLrlj9AZB8qSdIR2Q    329\n",
              "                         ... \n",
              "KB1mmr0_LVr0qglMCF4_qA      1\n",
              "XVxReat5L3dgeBTlR64ufA      1\n",
              "q80WmfxmifLBdB8_rPYu1w      1\n",
              "kgmVm_ZbJsJpSye27xccvg      1\n",
              "mbPaXByWZBZUGqvh8ewmTA      1\n",
              "Name: business_id, Length: 30488, dtype: int64"
            ]
          },
          "metadata": {
            "tags": []
          },
          "execution_count": 26
        }
      ]
    },
    {
      "cell_type": "markdown",
      "metadata": {
        "id": "xmmJSBWAkyhJ",
        "colab_type": "text"
      },
      "source": [
        "# tip.csv"
      ]
    },
    {
      "cell_type": "code",
      "metadata": {
        "id": "HEm2d9S0cVtg",
        "colab_type": "code",
        "colab": {
          "base_uri": "https://localhost:8080/",
          "height": 220
        },
        "outputId": "1de15175-6ea0-4617-da39-3577738be547"
      },
      "source": [
        "path = \"/content/drive/My Drive/data/2019-12-06 yelp/yelp_dataset/csv_out/tip.csv\"\n",
        "df_tip = pd.read_csv(path, lineterminator='\\n')\n",
        "print(df_tip.shape)\n",
        "df_tip.head()\n",
        "# tip text could make use of NLP"
      ],
      "execution_count": 4,
      "outputs": [
        {
          "output_type": "stream",
          "text": [
            "(1223094, 5)\n"
          ],
          "name": "stdout"
        },
        {
          "output_type": "execute_result",
          "data": {
            "text/html": [
              "<div>\n",
              "<style scoped>\n",
              "    .dataframe tbody tr th:only-of-type {\n",
              "        vertical-align: middle;\n",
              "    }\n",
              "\n",
              "    .dataframe tbody tr th {\n",
              "        vertical-align: top;\n",
              "    }\n",
              "\n",
              "    .dataframe thead th {\n",
              "        text-align: right;\n",
              "    }\n",
              "</style>\n",
              "<table border=\"1\" class=\"dataframe\">\n",
              "  <thead>\n",
              "    <tr style=\"text-align: right;\">\n",
              "      <th></th>\n",
              "      <th>user_id</th>\n",
              "      <th>business_id</th>\n",
              "      <th>text</th>\n",
              "      <th>date</th>\n",
              "      <th>compliment_count</th>\n",
              "    </tr>\n",
              "  </thead>\n",
              "  <tbody>\n",
              "    <tr>\n",
              "      <th>0</th>\n",
              "      <td>UPw5DWs_b-e2JRBS-t37Ag</td>\n",
              "      <td>VaKXUpmWTTWDKbpJ3aQdMw</td>\n",
              "      <td>Great for watching games, ufc, and whatever el...</td>\n",
              "      <td>2014-03-27 03:51:24</td>\n",
              "      <td>0</td>\n",
              "    </tr>\n",
              "    <tr>\n",
              "      <th>1</th>\n",
              "      <td>Ocha4kZBHb4JK0lOWvE0sg</td>\n",
              "      <td>OPiPeoJiv92rENwbq76orA</td>\n",
              "      <td>Happy Hour 2-4 daily with 1/2 price drinks and...</td>\n",
              "      <td>2013-05-25 06:00:56</td>\n",
              "      <td>0</td>\n",
              "    </tr>\n",
              "    <tr>\n",
              "      <th>2</th>\n",
              "      <td>jRyO2V1pA4CdVVqCIOPc1Q</td>\n",
              "      <td>5KheTjYPu1HcQzQFtm4_vw</td>\n",
              "      <td>Good chips and salsa. Loud at times. Good serv...</td>\n",
              "      <td>2011-12-26 01:46:17</td>\n",
              "      <td>0</td>\n",
              "    </tr>\n",
              "    <tr>\n",
              "      <th>3</th>\n",
              "      <td>FuTJWFYm4UKqewaosss1KA</td>\n",
              "      <td>TkoyGi8J7YFjA6SbaRzrxg</td>\n",
              "      <td>The setting and decoration here is amazing. Co...</td>\n",
              "      <td>2014-03-23 21:32:49</td>\n",
              "      <td>0</td>\n",
              "    </tr>\n",
              "    <tr>\n",
              "      <th>4</th>\n",
              "      <td>LUlKtaM3nXd-E4N4uOk_fQ</td>\n",
              "      <td>AkL6Ous6A1atZejfZXn1Bg</td>\n",
              "      <td>Molly is definately taking a picture with Sant...</td>\n",
              "      <td>2012-10-06 00:19:27</td>\n",
              "      <td>0</td>\n",
              "    </tr>\n",
              "  </tbody>\n",
              "</table>\n",
              "</div>"
            ],
            "text/plain": [
              "                  user_id  ... compliment_count\n",
              "0  UPw5DWs_b-e2JRBS-t37Ag  ...                0\n",
              "1  Ocha4kZBHb4JK0lOWvE0sg  ...                0\n",
              "2  jRyO2V1pA4CdVVqCIOPc1Q  ...                0\n",
              "3  FuTJWFYm4UKqewaosss1KA  ...                0\n",
              "4  LUlKtaM3nXd-E4N4uOk_fQ  ...                0\n",
              "\n",
              "[5 rows x 5 columns]"
            ]
          },
          "metadata": {
            "tags": []
          },
          "execution_count": 4
        }
      ]
    },
    {
      "cell_type": "code",
      "metadata": {
        "id": "W8Wt2CaErYce",
        "colab_type": "code",
        "colab": {
          "base_uri": "https://localhost:8080/",
          "height": 281
        },
        "outputId": "dbc7768e-e0de-4295-a569-f084566d669e"
      },
      "source": [
        "from matplotlib.ticker import FormatStrFormatter\n",
        "df_tmp = df_tip['compliment_count']\\\n",
        "    .value_counts().reset_index().sort_values('index')\n",
        "fig, ax = plt.subplots()\n",
        "ax.bar(df_tmp['index'], np.log(df_tmp['compliment_count']))\n",
        "ax.yaxis.set_major_formatter(FormatStrFormatter('10^%.0f'))\n",
        "ax.set_title(\"compliment count\");"
      ],
      "execution_count": 79,
      "outputs": [
        {
          "output_type": "display_data",
          "data": {
            "image/png": "[encoded data removed]",
            "text/plain": [
              "<Figure size 432x288 with 1 Axes>"
            ]
          },
          "metadata": {
            "tags": []
          }
        }
      ]
    },
    {
      "cell_type": "code",
      "metadata": {
        "id": "MuJeek8OsZmN",
        "colab_type": "code",
        "colab": {
          "base_uri": "https://localhost:8080/",
          "height": 246
        },
        "outputId": "255f010b-0bab-4ea9-fdec-6fe69d963a94"
      },
      "source": [
        "print(df_tip['business_id'].value_counts())\n",
        "print(123997/192609)\n",
        "# there are 192,609 businesses in total\n",
        "# there are 123,997 tips, covered 64% businesses"
      ],
      "execution_count": 81,
      "outputs": [
        {
          "output_type": "stream",
          "text": [
            "FaHADZARwnY4yvlvpnsfGA    3614\n",
            "JmI9nslLD7KZqRr__Bg6NQ    2440\n",
            "DkYS3arLOhA8si5uUEmHOw    1503\n",
            "5LNZ67Yw9RD6nf4_UhXOjw    1487\n",
            "K7lWdNUhCbcnEvI0NhGewg    1386\n",
            "                          ... \n",
            "Cqc8MHqO_E3nBVb3CBE82A       1\n",
            "tCBEnRW8waVRFtXUq6onFg       1\n",
            "Eu4JwXc2logjyOAoaqzYAg       1\n",
            "M6KM77IZG9MWxV8_036iUQ       1\n",
            "wZKoVgE6PC83uCYlm0jk7g       1\n",
            "Name: business_id, Length: 123997, dtype: int64\n",
            "0.6437757321828159\n"
          ],
          "name": "stdout"
        }
      ]
    },
    {
      "cell_type": "markdown",
      "metadata": {
        "id": "a5eiL-90xUbD",
        "colab_type": "text"
      },
      "source": [
        "# user.csv"
      ]
    },
    {
      "cell_type": "code",
      "metadata": {
        "id": "n39Y9CtrxXQF",
        "colab_type": "code",
        "colab": {
          "base_uri": "https://localhost:8080/",
          "height": 361
        },
        "outputId": "2dd387e0-61a9-4b86-c87f-764a6e45a580"
      },
      "source": [
        "path = \"/content/drive/My Drive/data/2019-12-06 yelp/yelp_dataset/csv_out/user.csv\"\n",
        "df_user = pd.read_csv(path, lineterminator='\\n')\n",
        "print(df_user.shape)\n",
        "df_user.head()\n",
        "# the 'friends' column has interesting information\n",
        "# compliment sentiment columns could be helpful"
      ],
      "execution_count": 80,
      "outputs": [
        {
          "output_type": "stream",
          "text": [
            "/usr/local/lib/python3.6/dist-packages/IPython/core/interactiveshell.py:2718: DtypeWarning: Columns (7) have mixed types. Specify dtype option on import or set low_memory=False.\n",
            "  interactivity=interactivity, compiler=compiler, result=result)\n"
          ],
          "name": "stderr"
        },
        {
          "output_type": "stream",
          "text": [
            "(1637138, 22)\n"
          ],
          "name": "stdout"
        },
        {
          "output_type": "execute_result",
          "data": {
            "text/html": [
              "<div>\n",
              "<style scoped>\n",
              "    .dataframe tbody tr th:only-of-type {\n",
              "        vertical-align: middle;\n",
              "    }\n",
              "\n",
              "    .dataframe tbody tr th {\n",
              "        vertical-align: top;\n",
              "    }\n",
              "\n",
              "    .dataframe thead th {\n",
              "        text-align: right;\n",
              "    }\n",
              "</style>\n",
              "<table border=\"1\" class=\"dataframe\">\n",
              "  <thead>\n",
              "    <tr style=\"text-align: right;\">\n",
              "      <th></th>\n",
              "      <th>user_id</th>\n",
              "      <th>name</th>\n",
              "      <th>review_count</th>\n",
              "      <th>yelping_since</th>\n",
              "      <th>useful</th>\n",
              "      <th>funny</th>\n",
              "      <th>cool</th>\n",
              "      <th>elite</th>\n",
              "      <th>friends</th>\n",
              "      <th>fans</th>\n",
              "      <th>average_stars</th>\n",
              "      <th>compliment_hot</th>\n",
              "      <th>compliment_more</th>\n",
              "      <th>compliment_profile</th>\n",
              "      <th>compliment_cute</th>\n",
              "      <th>compliment_list</th>\n",
              "      <th>compliment_note</th>\n",
              "      <th>compliment_plain</th>\n",
              "      <th>compliment_cool</th>\n",
              "      <th>compliment_funny</th>\n",
              "      <th>compliment_writer</th>\n",
              "      <th>compliment_photos</th>\n",
              "    </tr>\n",
              "  </thead>\n",
              "  <tbody>\n",
              "    <tr>\n",
              "      <th>0</th>\n",
              "      <td>l6BmjZMeQD3rDxWUbiAiow</td>\n",
              "      <td>Rashmi</td>\n",
              "      <td>95</td>\n",
              "      <td>2013-10-08 23:11:33</td>\n",
              "      <td>84</td>\n",
              "      <td>17</td>\n",
              "      <td>25</td>\n",
              "      <td>2015,2016,2017</td>\n",
              "      <td>c78V-rj8NQcQjOI8KP3UEA, alRMgPcngYSCJ5naFRBz5g...</td>\n",
              "      <td>5</td>\n",
              "      <td>4.03</td>\n",
              "      <td>2</td>\n",
              "      <td>0</td>\n",
              "      <td>0</td>\n",
              "      <td>0</td>\n",
              "      <td>0</td>\n",
              "      <td>1</td>\n",
              "      <td>1</td>\n",
              "      <td>1</td>\n",
              "      <td>1</td>\n",
              "      <td>2</td>\n",
              "      <td>0</td>\n",
              "    </tr>\n",
              "    <tr>\n",
              "      <th>1</th>\n",
              "      <td>4XChL029mKr5hydo79Ljxg</td>\n",
              "      <td>Jenna</td>\n",
              "      <td>33</td>\n",
              "      <td>2013-02-21 22:29:06</td>\n",
              "      <td>48</td>\n",
              "      <td>22</td>\n",
              "      <td>16</td>\n",
              "      <td>NaN</td>\n",
              "      <td>kEBTgDvFX754S68FllfCaA, aB2DynOxNOJK9st2ZeGTPg...</td>\n",
              "      <td>4</td>\n",
              "      <td>3.63</td>\n",
              "      <td>1</td>\n",
              "      <td>0</td>\n",
              "      <td>0</td>\n",
              "      <td>0</td>\n",
              "      <td>0</td>\n",
              "      <td>0</td>\n",
              "      <td>0</td>\n",
              "      <td>1</td>\n",
              "      <td>1</td>\n",
              "      <td>0</td>\n",
              "      <td>0</td>\n",
              "    </tr>\n",
              "    <tr>\n",
              "      <th>2</th>\n",
              "      <td>bc8C_eETBWL0olvFSJJd0w</td>\n",
              "      <td>David</td>\n",
              "      <td>16</td>\n",
              "      <td>2013-10-04 00:16:10</td>\n",
              "      <td>28</td>\n",
              "      <td>8</td>\n",
              "      <td>10</td>\n",
              "      <td>NaN</td>\n",
              "      <td>4N-HU_T32hLENLntsNKNBg, pSY2vwWLgWfGVAAiKQzMng...</td>\n",
              "      <td>0</td>\n",
              "      <td>3.71</td>\n",
              "      <td>0</td>\n",
              "      <td>0</td>\n",
              "      <td>0</td>\n",
              "      <td>0</td>\n",
              "      <td>0</td>\n",
              "      <td>1</td>\n",
              "      <td>0</td>\n",
              "      <td>0</td>\n",
              "      <td>0</td>\n",
              "      <td>0</td>\n",
              "      <td>0</td>\n",
              "    </tr>\n",
              "    <tr>\n",
              "      <th>3</th>\n",
              "      <td>dD0gZpBctWGdWo9WlGuhlA</td>\n",
              "      <td>Angela</td>\n",
              "      <td>17</td>\n",
              "      <td>2014-05-22 15:57:30</td>\n",
              "      <td>30</td>\n",
              "      <td>4</td>\n",
              "      <td>14</td>\n",
              "      <td>NaN</td>\n",
              "      <td>RZ6wS38wnlXyj-OOdTzBxA, l5jxZh1KsgI8rMunm-GN6A...</td>\n",
              "      <td>5</td>\n",
              "      <td>4.85</td>\n",
              "      <td>1</td>\n",
              "      <td>0</td>\n",
              "      <td>0</td>\n",
              "      <td>0</td>\n",
              "      <td>0</td>\n",
              "      <td>0</td>\n",
              "      <td>2</td>\n",
              "      <td>0</td>\n",
              "      <td>0</td>\n",
              "      <td>1</td>\n",
              "      <td>0</td>\n",
              "    </tr>\n",
              "    <tr>\n",
              "      <th>4</th>\n",
              "      <td>MM4RJAeH6yuaN8oZDSt0RA</td>\n",
              "      <td>Nancy</td>\n",
              "      <td>361</td>\n",
              "      <td>2013-10-23 07:02:50</td>\n",
              "      <td>1114</td>\n",
              "      <td>279</td>\n",
              "      <td>665</td>\n",
              "      <td>2015,2016,2017,2018</td>\n",
              "      <td>mbwrZ-RS76V1HoJ0bF_Geg, g64lOV39xSLRZO0aQQ6DeQ...</td>\n",
              "      <td>39</td>\n",
              "      <td>4.08</td>\n",
              "      <td>28</td>\n",
              "      <td>1</td>\n",
              "      <td>0</td>\n",
              "      <td>0</td>\n",
              "      <td>1</td>\n",
              "      <td>16</td>\n",
              "      <td>57</td>\n",
              "      <td>80</td>\n",
              "      <td>80</td>\n",
              "      <td>25</td>\n",
              "      <td>5</td>\n",
              "    </tr>\n",
              "  </tbody>\n",
              "</table>\n",
              "</div>"
            ],
            "text/plain": [
              "                  user_id    name  ...  compliment_writer compliment_photos\n",
              "0  l6BmjZMeQD3rDxWUbiAiow  Rashmi  ...                  2                 0\n",
              "1  4XChL029mKr5hydo79Ljxg   Jenna  ...                  0                 0\n",
              "2  bc8C_eETBWL0olvFSJJd0w   David  ...                  0                 0\n",
              "3  dD0gZpBctWGdWo9WlGuhlA  Angela  ...                  1                 0\n",
              "4  MM4RJAeH6yuaN8oZDSt0RA   Nancy  ...                 25                 5\n",
              "\n",
              "[5 rows x 22 columns]"
            ]
          },
          "metadata": {
            "tags": []
          },
          "execution_count": 80
        }
      ]
    },
    {
      "cell_type": "markdown",
      "metadata": {
        "id": "hVy577b33aQ6",
        "colab_type": "text"
      },
      "source": [
        "# review.csv"
      ]
    },
    {
      "cell_type": "code",
      "metadata": {
        "id": "mkg8MGd83Y8W",
        "colab_type": "code",
        "colab": {
          "base_uri": "https://localhost:8080/",
          "height": 306
        },
        "outputId": "2ee49298-a2b8-46bc-e1bf-f1302592a9d0"
      },
      "source": [
        "# the size of review.csv is about 4.39 GB\n",
        "# it is the largest among the text datasets\n",
        "# it takes long time to loan from Google Drive\n",
        "path = \"/content/drive/My Drive/data/2019-12-06 yelp/yelp_dataset/csv_out/review.csv\"\n",
        "df_review = pd.read_csv(path, lineterminator='\\n')\n",
        "print(df_review.shape)\n",
        "df_review.head()\n",
        "# there are 6,685,900 reviews"
      ],
      "execution_count": 82,
      "outputs": [
        {
          "output_type": "stream",
          "text": [
            "(6685900, 9)\n"
          ],
          "name": "stdout"
        },
        {
          "output_type": "execute_result",
          "data": {
            "text/html": [
              "<div>\n",
              "<style scoped>\n",
              "    .dataframe tbody tr th:only-of-type {\n",
              "        vertical-align: middle;\n",
              "    }\n",
              "\n",
              "    .dataframe tbody tr th {\n",
              "        vertical-align: top;\n",
              "    }\n",
              "\n",
              "    .dataframe thead th {\n",
              "        text-align: right;\n",
              "    }\n",
              "</style>\n",
              "<table border=\"1\" class=\"dataframe\">\n",
              "  <thead>\n",
              "    <tr style=\"text-align: right;\">\n",
              "      <th></th>\n",
              "      <th>review_id</th>\n",
              "      <th>user_id</th>\n",
              "      <th>business_id</th>\n",
              "      <th>stars</th>\n",
              "      <th>useful</th>\n",
              "      <th>funny</th>\n",
              "      <th>cool</th>\n",
              "      <th>text</th>\n",
              "      <th>date</th>\n",
              "    </tr>\n",
              "  </thead>\n",
              "  <tbody>\n",
              "    <tr>\n",
              "      <th>0</th>\n",
              "      <td>Q1sbwvVQXV2734tPgoKj4Q</td>\n",
              "      <td>hG7b0MtEbXx5QzbzE6C_VA</td>\n",
              "      <td>ujmEBvifdJM6h6RLv4wQIg</td>\n",
              "      <td>1.0</td>\n",
              "      <td>6</td>\n",
              "      <td>1</td>\n",
              "      <td>0</td>\n",
              "      <td>Total bill for this horrible service? Over $8G...</td>\n",
              "      <td>2013-05-07 04:34:36</td>\n",
              "    </tr>\n",
              "    <tr>\n",
              "      <th>1</th>\n",
              "      <td>GJXCdrto3ASJOqKeVWPi6Q</td>\n",
              "      <td>yXQM5uF2jS6es16SJzNHfg</td>\n",
              "      <td>NZnhc2sEQy3RmzKTZnqtwQ</td>\n",
              "      <td>5.0</td>\n",
              "      <td>0</td>\n",
              "      <td>0</td>\n",
              "      <td>0</td>\n",
              "      <td>I *adore* Travis at the Hard Rock's new Kelly ...</td>\n",
              "      <td>2017-01-14 21:30:33</td>\n",
              "    </tr>\n",
              "    <tr>\n",
              "      <th>2</th>\n",
              "      <td>2TzJjDVDEuAW6MR5Vuc1ug</td>\n",
              "      <td>n6-Gk65cPZL6Uz8qRm3NYw</td>\n",
              "      <td>WTqjgwHlXbSFevF32_DJVw</td>\n",
              "      <td>5.0</td>\n",
              "      <td>3</td>\n",
              "      <td>0</td>\n",
              "      <td>0</td>\n",
              "      <td>I have to say that this office really has it t...</td>\n",
              "      <td>2016-11-09 20:09:03</td>\n",
              "    </tr>\n",
              "    <tr>\n",
              "      <th>3</th>\n",
              "      <td>yi0R0Ugj_xUx_Nek0-_Qig</td>\n",
              "      <td>dacAIZ6fTM6mqwW5uxkskg</td>\n",
              "      <td>ikCg8xy5JIg_NGPx-MSIDA</td>\n",
              "      <td>5.0</td>\n",
              "      <td>0</td>\n",
              "      <td>0</td>\n",
              "      <td>0</td>\n",
              "      <td>Went in for a lunch. Steak sandwich was delici...</td>\n",
              "      <td>2018-01-09 20:56:38</td>\n",
              "    </tr>\n",
              "    <tr>\n",
              "      <th>4</th>\n",
              "      <td>11a8sVPMUFtaC7_ABRkmtw</td>\n",
              "      <td>ssoyf2_x0EQMed6fgHeMyQ</td>\n",
              "      <td>b1b1eb3uo-w561D0ZfCEiQ</td>\n",
              "      <td>1.0</td>\n",
              "      <td>7</td>\n",
              "      <td>0</td>\n",
              "      <td>0</td>\n",
              "      <td>Today was my second out of three sessions I ha...</td>\n",
              "      <td>2018-01-30 23:07:38</td>\n",
              "    </tr>\n",
              "  </tbody>\n",
              "</table>\n",
              "</div>"
            ],
            "text/plain": [
              "                review_id  ...                 date\n",
              "0  Q1sbwvVQXV2734tPgoKj4Q  ...  2013-05-07 04:34:36\n",
              "1  GJXCdrto3ASJOqKeVWPi6Q  ...  2017-01-14 21:30:33\n",
              "2  2TzJjDVDEuAW6MR5Vuc1ug  ...  2016-11-09 20:09:03\n",
              "3  yi0R0Ugj_xUx_Nek0-_Qig  ...  2018-01-09 20:56:38\n",
              "4  11a8sVPMUFtaC7_ABRkmtw  ...  2018-01-30 23:07:38\n",
              "\n",
              "[5 rows x 9 columns]"
            ]
          },
          "metadata": {
            "tags": []
          },
          "execution_count": 82
        }
      ]
    },
    {
      "cell_type": "code",
      "metadata": {
        "id": "diJHnUZc57w5",
        "colab_type": "code",
        "colab": {
          "base_uri": "https://localhost:8080/",
          "height": 228
        },
        "outputId": "5903f97a-dd81-4d51-b91c-3dcbcac9aef2"
      },
      "source": [
        "print(df_review['user_id'].value_counts())\n",
        "# there are 1,637,138 users who have left reviews\n",
        "# there are 1,637,138 users in total in user.csv\n",
        "# Google says \"142 million unique visitors per month\"\n",
        "# less, maybe far less, than 1% users would leave a review\n",
        "# user.csv data actually comes from review.csv data\n",
        "# review text will be the focus of NLP"
      ],
      "execution_count": 84,
      "outputs": [
        {
          "output_type": "stream",
          "text": [
            "CxDOIDnH8gp9KXzpBHJYXw    4129\n",
            "bLbSNkLggFnqwNNzzq-Ijw    2354\n",
            "PKEzKWv_FktMm2mGPjwd0Q    1822\n",
            "ELcQDlf69kb-ihJfxZyL0A    1764\n",
            "DK57YibC5ShBmqQl97CKog    1727\n",
            "                          ... \n",
            "zqQX8Rwvp5WiUlST97geZA       1\n",
            "O9_DfV3byybxAT3l5JDcAw       1\n",
            "8W07Z4WlVhDJfOkvZYDgPw       1\n",
            "XgXczqCESaSXxh8WKtSKRw       1\n",
            "zaS40KWRyDlGam9Zwe5jNg       1\n",
            "Name: user_id, Length: 1637138, dtype: int64\n"
          ],
          "name": "stdout"
        }
      ]
    }
  ]
}