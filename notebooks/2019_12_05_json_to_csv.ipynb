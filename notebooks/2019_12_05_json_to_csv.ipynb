{
  "nbformat": 4,
  "nbformat_minor": 0,
  "metadata": {
    "colab": {
      "name": "2019-12-05 json to csv.ipynb",
      "provenance": [],
      "collapsed_sections": [],
      "machine_shape": "hm",
      "include_colab_link": true
    },
    "kernelspec": {
      "name": "python3",
      "display_name": "Python 3"
    }
  },
  "cells": [
    {
      "cell_type": "markdown",
      "metadata": {
        "id": "view-in-github",
        "colab_type": "text"
      },
      "source": [
        "<a href=\"https://colab.research.google.com/github/Nov05/yelp-dataset-challenge/blob/master/notebooks/2019_12_05_json_to_csv.ipynb\" target=\"_parent\"><img src=\"https://colab.research.google.com/assets/colab-badge.svg\" alt=\"Open In Colab\"/></a>"
      ]
    },
    {
      "cell_type": "code",
      "metadata": {
        "id": "aX5GMld-16H0",
        "colab_type": "code",
        "colab": {}
      },
      "source": [
        "# created by nov05 on 2019-12-05"
      ],
      "execution_count": 0,
      "outputs": []
    },
    {
      "cell_type": "code",
      "metadata": {
        "id": "vUvK72Tc9q-h",
        "colab_type": "code",
        "colab": {}
      },
      "source": [
        "from google.colab import drive\n",
        "drive.mount('/content/drive')"
      ],
      "execution_count": 0,
      "outputs": []
    },
    {
      "cell_type": "code",
      "metadata": {
        "id": "dEv5nJCu2PdJ",
        "colab_type": "code",
        "outputId": "0aad866a-1029-4b52-e650-f8dd0555cdc5",
        "colab": {
          "base_uri": "https://localhost:8080/",
          "height": 35
        }
      },
      "source": [
        "%%file json_to_csv.py\n",
        "'''\n",
        "Load Yelp JSON files and spit out CSV files\n",
        "Does not try to reinvent the wheel and uses pandas json_normalize\n",
        "Kinda hacky and requires a bit of RAM. But works, albeit naively.\n",
        "\n",
        "Tested with Yelp JSON files in dataset challenge round 12:\n",
        "https://www.yelp.com/dataset/challenge\n",
        "\n",
        "Source Code:\n",
        "https://gist.github.com/emredjan/6fffc4f696d2201d1e3697b783f9590b\n",
        "'''\n",
        "\n",
        "import json\n",
        "from pathlib import Path\n",
        "from time import clock\n",
        "from typing import Dict, List\n",
        "\n",
        "import click\n",
        "import pandas as pd\n",
        "from pandas.io.json import json_normalize\n",
        "\n",
        "\n",
        "def read_json_as_array(json_file: Path) -> str:\n",
        "    '''\n",
        "    Read a given Yelp JSON file as string, adding opening / closing\n",
        "    brackets and commas to convert from separate JSON objects to\n",
        "    an array of JSON objects, so JSON aware libraries can properly read\n",
        "\n",
        "    Parameters\n",
        "    -----------\n",
        "    json_file: path-like\n",
        "\n",
        "    Returns\n",
        "    -------\n",
        "    json_data: str\n",
        "        String representation of JSON array\n",
        "    '''\n",
        "\n",
        "    json_data = ''\n",
        "\n",
        "    with open(json_file, 'r', encoding='utf-8') as in_file:\n",
        "        for i, line in enumerate(in_file):\n",
        "            if i == 0 and line:\n",
        "                json_data += '[' + line\n",
        "            elif line:\n",
        "                json_data += ',' + line\n",
        "            else:\n",
        "                pass\n",
        "        json_data += ']\\n'\n",
        "\n",
        "    return json_data\n",
        "\n",
        "\n",
        "def load_json(json_data: str) -> pd.DataFrame:\n",
        "    '''\n",
        "    Read and normalize a given JSON array into a pandas DataFrame\n",
        "\n",
        "    Parameters\n",
        "    -----------\n",
        "    json_data: str\n",
        "        String representation of JSON array\n",
        "\n",
        "    Returns\n",
        "    -------\n",
        "    df: pandas.DataFrame\n",
        "        DataFrame containing the normalized JSON data\n",
        "    '''\n",
        "\n",
        "    data = json.loads(json_data)\n",
        "    df = json_normalize(data)\n",
        "\n",
        "    return df\n",
        "\n",
        "\n",
        "def write_csv(df: pd.DataFrame, out_file: Path) -> None:\n",
        "    '''\n",
        "    Write a given DataFrame to csv without index\n",
        "\n",
        "    Parameters\n",
        "    -----------\n",
        "    df: pandas.DataFrame\n",
        "        DataFrame containing the normalized JSON data\n",
        "\n",
        "    out_file: pathlib.Path\n",
        "        A proper path of CSV file name\n",
        "    '''\n",
        "\n",
        "    df.to_csv(out_file, index=False)\n",
        "\n",
        "\n",
        "@click.command()\n",
        "@click.argument('json-dir', type=click.Path(exists=True, dir_okay=True))\n",
        "def main(json_dir):\n",
        "    '''\n",
        "    Read a given directory containing Yelp JSON data and convert those\n",
        "    files to CSV under 'csv_out' in the same directory\n",
        "    '''\n",
        "    t0 = clock()\n",
        "\n",
        "    json_dir = Path(json_dir)\n",
        "    csv_dir = json_dir / 'csv_out'\n",
        "    csv_dir.mkdir(exist_ok=True)\n",
        "\n",
        "    file_list: List[Path] = json_dir.glob('*.json')\n",
        "\n",
        "    with click.progressbar(file_list, label='Processing files..') as bar:\n",
        "        for file in bar:\n",
        "            csv_file = csv_dir / (file.stem + '.csv')\n",
        "            data = read_json_as_array(file)\n",
        "            df = load_json(data); del data\n",
        "            write_csv(df, csv_file); del [df]\n",
        "\n",
        "    t1 = clock()\n",
        "    mins = (t1 - t0) // 60\n",
        "    secs = int((t1 - t0) % 60)\n",
        "    timing = f'Conversion finished in {mins} minutes and {secs} seconds'\n",
        "\n",
        "    click.secho(timing, fg='green')\n",
        "\n",
        "if __name__ == '__main__':\n",
        "    main()  # pylint: disable=E1120"
      ],
      "execution_count": 0,
      "outputs": [
        {
          "output_type": "stream",
          "text": [
            "Overwriting json_to_csv.py\n"
          ],
          "name": "stdout"
        }
      ]
    },
    {
      "cell_type": "code",
      "metadata": {
        "id": "6OaTtFjn9L9w",
        "colab_type": "code",
        "colab": {}
      },
      "source": [
        "# !python json_to_csv.py /content/drive/My\\ Drive/data/2019-12-06\\ yelp/yelp_dataset"
      ],
      "execution_count": 0,
      "outputs": []
    },
    {
      "cell_type": "code",
      "metadata": {
        "id": "ihMr-KZKE3tH",
        "colab_type": "code",
        "outputId": "d6b793d8-4ec0-4675-90d1-2adba37d7219",
        "colab": {
          "base_uri": "https://localhost:8080/",
          "height": 123
        }
      },
      "source": [
        "import glob\n",
        "path = \"/content/drive/My Drive/data/2019-12-06 yelp/yelp_dataset\"\n",
        "filenames = glob.glob(path+'/*.json')\n",
        "for i in range(len(filenames)):\n",
        "    print(filenames[i])"
      ],
      "execution_count": 0,
      "outputs": [
        {
          "output_type": "stream",
          "text": [
            "/content/drive/My Drive/data/2019-12-06 yelp/yelp_dataset/checkin.json\n",
            "/content/drive/My Drive/data/2019-12-06 yelp/yelp_dataset/business.json\n",
            "/content/drive/My Drive/data/2019-12-06 yelp/yelp_dataset/photo.json\n",
            "/content/drive/My Drive/data/2019-12-06 yelp/yelp_dataset/review.json\n",
            "/content/drive/My Drive/data/2019-12-06 yelp/yelp_dataset/tip.json\n",
            "/content/drive/My Drive/data/2019-12-06 yelp/yelp_dataset/user.json\n"
          ],
          "name": "stdout"
        }
      ]
    },
    {
      "cell_type": "code",
      "metadata": {
        "id": "wAg8z7L8glqT",
        "colab_type": "code",
        "colab": {}
      },
      "source": [
        "import json\n",
        "import pandas as pd\n",
        "from pandas.io.json import json_normalize\n",
        "from pathlib import Path\n",
        "\n",
        "def read_json_as_array(json_file: Path) -> str:\n",
        "    json_data = ''\n",
        "    with open(json_file, 'r', encoding='utf-8') as in_file:\n",
        "        for i, line in enumerate(in_file):\n",
        "            if i == 0 and line:\n",
        "                json_data += '[' + line\n",
        "            elif line:\n",
        "                json_data += ',' + line\n",
        "            else:\n",
        "                pass\n",
        "        json_data += ']\\n'\n",
        "    return json_data\n",
        "\n",
        "def load_json(json_data: str) -> pd.DataFrame:\n",
        "    data = json.loads(json_data); del data\n",
        "    df = json_normalize(data)\n",
        "    return df\n",
        "\n",
        "def write_csv(df: pd.DataFrame, out_file: Path) -> None:\n",
        "    df.to_csv(out_file, index=False)\n",
        "\n",
        "def convert_json_to_csv(filename):\n",
        "    path = \"/content/drive/My Drive/data/2019-12-06 yelp/yelp_dataset\"\n",
        "    filename_json = path + \"/\" + filename\n",
        "    filename_csv =  path + \"/csv_out/\" + filename[:-5] + \".csv\"\n",
        "    data = read_json_as_array(filename_json)\n",
        "    df = load_json(data); del data\n",
        "    write_csv(df, filename_csv); del [df]"
      ],
      "execution_count": 0,
      "outputs": []
    },
    {
      "cell_type": "code",
      "metadata": {
        "id": "qIxrzC0-kj1q",
        "colab_type": "code",
        "colab": {}
      },
      "source": [
        "\"\"\" \n",
        "So there are some interesting numbers. \n",
        "The size of review.json is about 5GB.\n",
        "The size of converted CSV file is about 4.39GB.\n",
        "And using pandas to convert it took about 23GB memory... orz\n",
        "\"\"\"\n",
        "# convert_json_to_csv(\"photo.json\")\n",
        "# convert_json_to_csv(\"review.json\")\n",
        "# convert_json_to_csv(\"tip.json\")\n",
        "# convert_json_to_csv(\"user.json\")"
      ],
      "execution_count": 0,
      "outputs": []
    }
  ]
}