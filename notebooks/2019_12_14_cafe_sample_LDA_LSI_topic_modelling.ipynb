{
  "nbformat": 4,
  "nbformat_minor": 0,
  "metadata": {
    "colab": {
      "name": "2019-12-14 cafe sample LDA/LSI topic modelling.ipynb",
      "provenance": [],
      "collapsed_sections": [],
      "include_colab_link": true
    },
    "kernelspec": {
      "name": "python3",
      "display_name": "Python 3"
    }
  },
  "cells": [
    {
      "cell_type": "markdown",
      "metadata": {
        "id": "view-in-github",
        "colab_type": "text"
      },
      "source": [
        "<a href=\"https://colab.research.google.com/github/Nov05/yelp-dataset-challenge/blob/master/notebooks/2019_12_14_cafe_sample_LDA_LSI_topic_modelling.ipynb\" target=\"_parent\"><img src=\"https://colab.research.google.com/assets/colab-badge.svg\" alt=\"Open In Colab\"/></a>"
      ]
    },
    {
      "cell_type": "code",
      "metadata": {
        "id": "oCyFcYzTX02y",
        "colab_type": "code",
        "colab": {}
      },
      "source": [
        "# created by nov05 on 2019-12-14"
      ],
      "execution_count": 0,
      "outputs": []
    },
    {
      "cell_type": "markdown",
      "metadata": {
        "id": "K2TFwd9b5o_C",
        "colab_type": "text"
      },
      "source": [
        "Complete Guide to Topic Modeling    \n",
        "https://nlpforhackers.io/topic-modeling/    "
      ]
    },
    {
      "cell_type": "markdown",
      "metadata": {
        "id": "NTBfpcgUHDKi",
        "colab_type": "text"
      },
      "source": [
        "# Installation"
      ]
    },
    {
      "cell_type": "code",
      "metadata": {
        "id": "kAaoajPRX9Ta",
        "colab_type": "code",
        "colab": {}
      },
      "source": [
        "from google.colab import drive\n",
        "drive.mount('/content/drive')"
      ],
      "execution_count": 0,
      "outputs": []
    },
    {
      "cell_type": "code",
      "metadata": {
        "id": "Ez8ng4myeSC6",
        "colab_type": "code",
        "colab": {}
      },
      "source": [
        "!pip install pyLDAvis\n",
        "import pyLDAvis.gensim\n",
        "pyLDAvis.enable_notebook()\n",
        "# Successfully installed funcy-1.14 pyLDAvis-2.1.2"
      ],
      "execution_count": 0,
      "outputs": []
    },
    {
      "cell_type": "markdown",
      "metadata": {
        "id": "szs0hZD-X5Z6",
        "colab_type": "text"
      },
      "source": [
        "# Imports"
      ]
    },
    {
      "cell_type": "code",
      "metadata": {
        "id": "DMpAsX4TZAh-",
        "colab_type": "code",
        "colab": {}
      },
      "source": [
        "import numpy as np\n",
        "import pandas as pd\n",
        "import matplotlib.pyplot as plt\n",
        "import seaborn as sns\n",
        "import re\n",
        "import sys\n",
        "\n",
        "import nltk\n",
        "from nltk.tokenize import word_tokenize\n",
        "from nltk import WordNetLemmatizer\n",
        "from gensim import corpora\n",
        "from gensim.utils import simple_preprocess\n",
        "from gensim.parsing.preprocessing import STOPWORDS\n",
        "from gensim.corpora.dictionary import Dictionary\n",
        "from gensim.models import LdaMulticore, LsiModel\n",
        "from gensim.models.coherencemodel import CoherenceModel    \n",
        "from gensim import similarities"
      ],
      "execution_count": 0,
      "outputs": []
    },
    {
      "cell_type": "code",
      "metadata": {
        "id": "SkVJGhlocF3e",
        "colab_type": "code",
        "outputId": "f4f28649-f0c3-463f-9326-7c4c48b8ebdf",
        "colab": {
          "base_uri": "https://localhost:8080/",
          "height": 70
        }
      },
      "source": [
        "nltk.download('wordnet')"
      ],
      "execution_count": 0,
      "outputs": [
        {
          "output_type": "stream",
          "text": [
            "[nltk_data] Downloading package wordnet to /root/nltk_data...\n",
            "[nltk_data]   Unzipping corpora/wordnet.zip.\n"
          ],
          "name": "stdout"
        },
        {
          "output_type": "execute_result",
          "data": {
            "text/plain": [
              "True"
            ]
          },
          "metadata": {
            "tags": []
          },
          "execution_count": 30
        }
      ]
    },
    {
      "cell_type": "markdown",
      "metadata": {
        "id": "4RsgrXOpck1S",
        "colab_type": "text"
      },
      "source": [
        "# Load reviews for the sample cafe"
      ]
    },
    {
      "cell_type": "code",
      "metadata": {
        "id": "R01ivhkcX_I2",
        "colab_type": "code",
        "outputId": "65cc1d4f-6b29-4562-dd86-7427a286b05d",
        "colab": {
          "base_uri": "https://localhost:8080/",
          "height": 162
        }
      },
      "source": [
        "path = \"/content/drive/My Drive/data/2019-12-06 yelp/yelp_dataset/csv_out/review_sample_cafe.csv\"\n",
        "df_cafe = pd.read_csv(path)\n",
        "print(df_cafe.shape)\n",
        "df_cafe.head(2)\n",
        "# these are reviews for a cafe in state AZ"
      ],
      "execution_count": 0,
      "outputs": [
        {
          "output_type": "stream",
          "text": [
            "(587, 9)\n"
          ],
          "name": "stdout"
        },
        {
          "output_type": "execute_result",
          "data": {
            "text/html": [
              "<div>\n",
              "<style scoped>\n",
              "    .dataframe tbody tr th:only-of-type {\n",
              "        vertical-align: middle;\n",
              "    }\n",
              "\n",
              "    .dataframe tbody tr th {\n",
              "        vertical-align: top;\n",
              "    }\n",
              "\n",
              "    .dataframe thead th {\n",
              "        text-align: right;\n",
              "    }\n",
              "</style>\n",
              "<table border=\"1\" class=\"dataframe\">\n",
              "  <thead>\n",
              "    <tr style=\"text-align: right;\">\n",
              "      <th></th>\n",
              "      <th>review_id</th>\n",
              "      <th>user_id</th>\n",
              "      <th>business_id</th>\n",
              "      <th>stars</th>\n",
              "      <th>useful</th>\n",
              "      <th>funny</th>\n",
              "      <th>cool</th>\n",
              "      <th>text</th>\n",
              "      <th>date</th>\n",
              "    </tr>\n",
              "  </thead>\n",
              "  <tbody>\n",
              "    <tr>\n",
              "      <th>0</th>\n",
              "      <td>d-U95TlD8U4xuLOCZrQXmA</td>\n",
              "      <td>skrfPzullnRT67YL2i4emg</td>\n",
              "      <td>apdb7MGnmnx6nGWBJ0ch_g</td>\n",
              "      <td>4.0</td>\n",
              "      <td>1.0</td>\n",
              "      <td>0.0</td>\n",
              "      <td>0.0</td>\n",
              "      <td>Great atmosphere coffee shop in the Melrose ar...</td>\n",
              "      <td>2014-08-10 20:02:42</td>\n",
              "    </tr>\n",
              "    <tr>\n",
              "      <th>1</th>\n",
              "      <td>v1SqKwdBGWEi0KIiEPQYWA</td>\n",
              "      <td>2_jgFSykN-8KDDWqgm-HnQ</td>\n",
              "      <td>apdb7MGnmnx6nGWBJ0ch_g</td>\n",
              "      <td>5.0</td>\n",
              "      <td>0.0</td>\n",
              "      <td>0.0</td>\n",
              "      <td>0.0</td>\n",
              "      <td>I had never been here before,  it's so cool! Y...</td>\n",
              "      <td>2016-10-26 14:49:53</td>\n",
              "    </tr>\n",
              "  </tbody>\n",
              "</table>\n",
              "</div>"
            ],
            "text/plain": [
              "                review_id  ...                 date\n",
              "0  d-U95TlD8U4xuLOCZrQXmA  ...  2014-08-10 20:02:42\n",
              "1  v1SqKwdBGWEi0KIiEPQYWA  ...  2016-10-26 14:49:53\n",
              "\n",
              "[2 rows x 9 columns]"
            ]
          },
          "metadata": {
            "tags": []
          },
          "execution_count": 5
        }
      ]
    },
    {
      "cell_type": "markdown",
      "metadata": {
        "id": "7xbPPEuZKaqo",
        "colab_type": "text"
      },
      "source": [
        "# LDA - topic modelling\n",
        "\n",
        "https://towardsdatascience.com/nlp-extracting-the-main-topics-from-your-dataset-using-lda-in-minutes-21486f5aa925\n",
        "\n",
        "Unit 4 Sprint 1 Notebook   \n",
        "https://colab.research.google.com/drive/1RvFr7mx2O6gzHz6-HlhnJzeCw9ZDRiW7?authuser=2#scrollTo=2c5VEaVDHBc8"
      ]
    },
    {
      "cell_type": "code",
      "metadata": {
        "id": "0CivHZkgMVU6",
        "colab_type": "code",
        "outputId": "9bf366e0-b969-4889-d811-7c6e10224bf5",
        "colab": {
          "base_uri": "https://localhost:8080/",
          "height": 52
        }
      },
      "source": [
        "docs = df_cafe['text'].tolist()\n",
        "print(len(docs))\n",
        "\n",
        "stopwords_custome = ['say', 'eat', 'drink', 'like']\n",
        "STOPWORDS = set(STOPWORDS).union(set(stopwords_custome))\n",
        "\n",
        "def tokenizer(doc):\n",
        "    # lematize doc, skip stemmation\n",
        "    doc = WordNetLemmatizer().lemmatize(doc, pos='v')\n",
        "    return [token for token in simple_preprocess(doc) \n",
        "            if token not in STOPWORDS]\n",
        "\n",
        "def doc_stream(docs):\n",
        "    for doc in docs:      \n",
        "        tokens = tokenizer(doc)\n",
        "        yield tokens\n",
        "\n",
        "streaming_data = doc_stream(docs)\n",
        "print(streaming_data)"
      ],
      "execution_count": 0,
      "outputs": [
        {
          "output_type": "stream",
          "text": [
            "587\n",
            "<generator object doc_stream at 0x7ff3b1e7dd58>\n"
          ],
          "name": "stdout"
        }
      ]
    },
    {
      "cell_type": "code",
      "metadata": {
        "id": "mBuoDDsZSRTl",
        "colab_type": "code",
        "outputId": "11c07737-ef24-4f12-dff9-9aa838ac9d25",
        "colab": {
          "base_uri": "https://localhost:8080/",
          "height": 70
        }
      },
      "source": [
        "# id2word\n",
        "dictionary = corpora.Dictionary(doc_stream(docs))\n",
        "# Return the size of an object in bytes.\n",
        "print(\"dictionary size (bytes):\", sys.getsizeof(dictionary))\n",
        "print(\"dictioanry length:\", len(dictionary.keys()))\n",
        "\n",
        "dictionary.filter_extremes(no_below=2, no_above=0.01)\n",
        "print(\"dictionary length after filering:\", len(dictionary.keys()))"
      ],
      "execution_count": 0,
      "outputs": [
        {
          "output_type": "stream",
          "text": [
            "dictionary size (bytes): 56\n",
            "dictioanry length: 4168\n",
            "dictionary length after filering: 1175\n"
          ],
          "name": "stdout"
        }
      ]
    },
    {
      "cell_type": "code",
      "metadata": {
        "id": "PRF8fDbkdFoB",
        "colab_type": "code",
        "outputId": "b6476d5e-1927-4f8b-83b2-2e897dc0b8a0",
        "colab": {
          "base_uri": "https://localhost:8080/",
          "height": 52
        }
      },
      "source": [
        "# a bag of words (bow) representation of our corpus\n",
        "# Note: we haven't actually read any text into memory here\n",
        "corpus = [dictionary.doc2bow(doc) for doc in doc_stream(docs)]\n",
        "print(len(corpus), len(corpus[0]))\n",
        "print('corpus[0]:', corpus[0])"
      ],
      "execution_count": 0,
      "outputs": [
        {
          "output_type": "stream",
          "text": [
            "587 2\n",
            "corpus[0]: [(0, 1), (1, 1)]\n"
          ],
          "name": "stdout"
        }
      ]
    },
    {
      "cell_type": "code",
      "metadata": {
        "id": "aqZrgr2SdgWv",
        "colab_type": "code",
        "outputId": "6a0ddea1-c9e7-4d3a-bda7-720b89d1f0e8",
        "colab": {
          "base_uri": "https://localhost:8080/",
          "height": 213
        }
      },
      "source": [
        "lda = LdaMulticore(corpus=corpus,\n",
        "                   id2word=dictionary, # id2word,\n",
        "                   iterations=5,\n",
        "                   workers=4,\n",
        "                   num_topics=5 # You can change this parameter\n",
        "                  )\n",
        "lda.print_topics()"
      ],
      "execution_count": 0,
      "outputs": [
        {
          "output_type": "execute_result",
          "data": {
            "text/plain": [
              "[(0,\n",
              "  '0.003*\"hood\" + 0.003*\"dogs\" + 0.003*\"energy\" + 0.003*\"avenue\" + 0.002*\"pleasantly\" + 0.002*\"meh\" + 0.002*\"pleasure\" + 0.002*\"results\" + 0.002*\"lemonade\" + 0.002*\"owners\"'),\n",
              " (1,\n",
              "  '0.003*\"unlike\" + 0.003*\"figure\" + 0.003*\"exposed\" + 0.003*\"city\" + 0.002*\"mood\" + 0.002*\"spicy\" + 0.002*\"tastes\" + 0.002*\"opinion\" + 0.002*\"cranberry\" + 0.002*\"banana\"'),\n",
              " (2,\n",
              "  '0.003*\"deal\" + 0.002*\"banana\" + 0.002*\"rolls\" + 0.002*\"croissant\" + 0.002*\"gotten\" + 0.002*\"stopping\" + 0.002*\"exactly\" + 0.002*\"foam\" + 0.002*\"middle\" + 0.002*\"weeks\"'),\n",
              " (3,\n",
              "  '0.003*\"available\" + 0.003*\"frosting\" + 0.003*\"hits\" + 0.003*\"arizona\" + 0.003*\"road\" + 0.003*\"sprinkles\" + 0.003*\"heck\" + 0.002*\"spent\" + 0.002*\"month\" + 0.002*\"changed\"'),\n",
              " (4,\n",
              "  '0.003*\"dogs\" + 0.003*\"meaning\" + 0.003*\"feeling\" + 0.002*\"friday\" + 0.002*\"assortment\" + 0.002*\"beans\" + 0.002*\"rock\" + 0.002*\"double\" + 0.002*\"sucks\" + 0.002*\"shaded\"')]"
            ]
          },
          "metadata": {
            "tags": []
          },
          "execution_count": 37
        }
      ]
    },
    {
      "cell_type": "code",
      "metadata": {
        "id": "B_xkss_ld1iE",
        "colab_type": "code",
        "outputId": "2d8b9601-ea94-469b-dbc8-aef9a6658bed",
        "colab": {
          "base_uri": "https://localhost:8080/",
          "height": 105
        }
      },
      "source": [
        "# display top 10 words of topics\n",
        "words = [re.findall(r'\"([^\"]*)\"', topic[1]) \n",
        "         for topic in lda.print_topics()]\n",
        "topics = [' '.join(t[0:10]) for t in words]\n",
        "for t in topics: \n",
        "    print(t)"
      ],
      "execution_count": 0,
      "outputs": [
        {
          "output_type": "stream",
          "text": [
            "hood dogs energy avenue pleasantly meh pleasure results lemonade owners\n",
            "unlike figure exposed city mood spicy tastes opinion cranberry banana\n",
            "deal banana rolls croissant gotten stopping exactly foam middle weeks\n",
            "available frosting hits arizona road sprinkles heck spent month changed\n",
            "dogs meaning feeling friday assortment beans rock double sucks shaded\n"
          ],
          "name": "stdout"
        }
      ]
    },
    {
      "cell_type": "markdown",
      "metadata": {
        "id": "bjVoRY5feZa4",
        "colab_type": "text"
      },
      "source": [
        "# LDA - topic modelling visualization"
      ]
    },
    {
      "cell_type": "code",
      "metadata": {
        "id": "3dhz5psOeLLc",
        "colab_type": "code",
        "outputId": "aecb707e-d100-4baf-e05c-fb521dace443",
        "colab": {
          "base_uri": "https://localhost:8080/",
          "height": 1000
        }
      },
      "source": [
        "pyLDAvis.gensim.prepare(lda, corpus, dictionary)"
      ],
      "execution_count": 0,
      "outputs": [
        {
          "output_type": "stream",
          "text": [
            "/usr/local/lib/python3.6/dist-packages/pyLDAvis/_prepare.py:257: FutureWarning: Sorting because non-concatenation axis is not aligned. A future version\n",
            "of pandas will change to not sort by default.\n",
            "\n",
            "To accept the future behavior, pass 'sort=False'.\n",
            "\n",
            "To retain the current behavior and silence the warning, pass 'sort=True'.\n",
            "\n",
            "  return pd.concat([default_term_info] + list(topic_dfs))\n"
          ],
          "name": "stderr"
        },
        {
          "output_type": "execute_result",
          "data": {
            "text/html": [
              "\n",
              "<link rel=\"stylesheet\" type=\"text/css\" href=\"https://cdn.rawgit.com/bmabey/pyLDAvis/files/ldavis.v1.0.0.css\">\n",
              "\n",
              "\n",
              "<div id=\"ldavis_el1271406845128821443644259507\"></div>\n",
              "<script type=\"text/javascript\">\n",
              "\n",
              "var ldavis_el1271406845128821443644259507_data = {\"mdsDat\": {\"x\": [0.009333608798818043, 0.0052395009198495015, -0.007780205021100568, 0.012387906157230597, -0.019180810854797586], \"y\": [-0.01286607682661496, 0.007306860258325576, 0.0140203283920254, 0.0009057279920594222, -0.009366839815795456], \"topics\": [1, 2, 3, 4, 5], \"cluster\": [1, 1, 1, 1, 1], \"Freq\": [21.840246200561523, 21.499496459960938, 19.679569244384766, 18.885162353515625, 18.09552764892578]}, \"tinfo\": {\"Category\": [\"Default\", \"Default\", \"Default\", \"Default\", \"Default\", \"Default\", \"Default\", \"Default\", \"Default\", \"Default\", \"Default\", \"Default\", \"Default\", \"Default\", \"Default\", \"Default\", \"Default\", \"Default\", \"Default\", \"Default\", \"Default\", \"Default\", \"Default\", \"Default\", \"Default\", \"Default\", \"Default\", \"Default\", \"Default\", \"Default\", \"Topic1\", \"Topic1\", \"Topic1\", \"Topic1\", \"Topic1\", \"Topic1\", \"Topic1\", \"Topic1\", \"Topic1\", \"Topic1\", \"Topic1\", \"Topic1\", \"Topic1\", \"Topic1\", \"Topic1\", \"Topic1\", \"Topic1\", \"Topic1\", \"Topic1\", \"Topic1\", \"Topic1\", \"Topic1\", \"Topic1\", \"Topic1\", \"Topic1\", \"Topic1\", \"Topic1\", \"Topic1\", \"Topic1\", \"Topic1\", \"Topic1\", \"Topic1\", \"Topic1\", \"Topic1\", \"Topic1\", \"Topic1\", \"Topic1\", \"Topic1\", \"Topic1\", \"Topic1\", \"Topic1\", \"Topic1\", \"Topic1\", \"Topic1\", \"Topic1\", \"Topic1\", \"Topic1\", \"Topic1\", \"Topic1\", \"Topic1\", \"Topic1\", \"Topic2\", \"Topic2\", \"Topic2\", \"Topic2\", \"Topic2\", \"Topic2\", \"Topic2\", \"Topic2\", \"Topic2\", \"Topic2\", \"Topic2\", \"Topic2\", \"Topic2\", \"Topic2\", \"Topic2\", \"Topic2\", \"Topic2\", \"Topic2\", \"Topic2\", \"Topic2\", \"Topic2\", \"Topic2\", \"Topic2\", \"Topic2\", \"Topic2\", \"Topic2\", \"Topic2\", \"Topic2\", \"Topic2\", \"Topic2\", \"Topic2\", \"Topic2\", \"Topic2\", \"Topic2\", \"Topic2\", \"Topic2\", \"Topic2\", \"Topic2\", \"Topic2\", \"Topic2\", \"Topic2\", \"Topic2\", \"Topic2\", \"Topic2\", \"Topic2\", \"Topic2\", \"Topic2\", \"Topic2\", \"Topic2\", \"Topic2\", \"Topic2\", \"Topic2\", \"Topic2\", \"Topic2\", \"Topic2\", \"Topic2\", \"Topic3\", \"Topic3\", \"Topic3\", \"Topic3\", \"Topic3\", \"Topic3\", \"Topic3\", \"Topic3\", \"Topic3\", \"Topic3\", \"Topic3\", \"Topic3\", \"Topic3\", \"Topic3\", \"Topic3\", \"Topic3\", \"Topic3\", \"Topic3\", \"Topic3\", \"Topic3\", \"Topic3\", \"Topic3\", \"Topic3\", \"Topic3\", \"Topic3\", \"Topic3\", \"Topic3\", \"Topic3\", \"Topic3\", \"Topic3\", \"Topic3\", \"Topic3\", \"Topic3\", \"Topic3\", \"Topic3\", \"Topic3\", \"Topic3\", \"Topic3\", \"Topic3\", \"Topic3\", \"Topic3\", \"Topic3\", \"Topic3\", \"Topic3\", \"Topic3\", \"Topic3\", \"Topic3\", \"Topic3\", \"Topic3\", \"Topic3\", \"Topic3\", \"Topic3\", \"Topic3\", \"Topic4\", \"Topic4\", \"Topic4\", \"Topic4\", \"Topic4\", \"Topic4\", \"Topic4\", \"Topic4\", \"Topic4\", \"Topic4\", \"Topic4\", \"Topic4\", \"Topic4\", \"Topic4\", \"Topic4\", \"Topic4\", \"Topic4\", \"Topic4\", \"Topic4\", \"Topic4\", \"Topic4\", \"Topic4\", \"Topic4\", \"Topic4\", \"Topic4\", \"Topic4\", \"Topic4\", \"Topic4\", \"Topic4\", \"Topic4\", \"Topic4\", \"Topic4\", \"Topic4\", \"Topic4\", \"Topic4\", \"Topic4\", \"Topic4\", \"Topic4\", \"Topic4\", \"Topic4\", \"Topic4\", \"Topic4\", \"Topic4\", \"Topic4\", \"Topic4\", \"Topic4\", \"Topic4\", \"Topic4\", \"Topic4\", \"Topic4\", \"Topic4\", \"Topic4\", \"Topic4\", \"Topic4\", \"Topic4\", \"Topic4\", \"Topic5\", \"Topic5\", \"Topic5\", \"Topic5\", \"Topic5\", \"Topic5\", \"Topic5\", \"Topic5\", \"Topic5\", \"Topic5\", \"Topic5\", \"Topic5\", \"Topic5\", \"Topic5\", \"Topic5\", \"Topic5\", \"Topic5\", \"Topic5\", \"Topic5\", \"Topic5\", \"Topic5\", \"Topic5\", \"Topic5\", \"Topic5\", \"Topic5\", \"Topic5\", \"Topic5\", \"Topic5\", \"Topic5\", \"Topic5\", \"Topic5\", \"Topic5\", \"Topic5\", \"Topic5\", \"Topic5\", \"Topic5\", \"Topic5\", \"Topic5\", \"Topic5\", \"Topic5\", \"Topic5\", \"Topic5\", \"Topic5\", \"Topic5\", \"Topic5\", \"Topic5\", \"Topic5\", \"Topic5\", \"Topic5\", \"Topic5\", \"Topic5\", \"Topic5\"], \"Freq\": [4.0, 6.0, 3.0, 3.0, 4.0, 4.0, 4.0, 3.0, 4.0, 3.0, 3.0, 3.0, 4.0, 4.0, 2.0, 2.0, 4.0, 3.0, 2.0, 2.0, 3.0, 3.0, 5.0, 2.0, 2.0, 4.0, 5.0, 2.0, 2.0, 4.0, 1.7028528451919556, 2.121281385421753, 1.203752875328064, 1.4893522262573242, 1.1088792085647583, 1.4533634185791016, 1.4060178995132446, 1.0351072549819946, 1.3426868915557861, 1.6389893293380737, 1.304695725440979, 0.9793171882629395, 1.6358650922775269, 1.2898917198181152, 1.2774854898452759, 1.2724359035491943, 1.2710001468658447, 1.5852739810943604, 0.9390174150466919, 0.9287400841712952, 1.2332704067230225, 1.234963059425354, 1.535830020904541, 1.5313751697540283, 1.8276172876358032, 1.8054542541503906, 1.5254838466644287, 0.9020170569419861, 0.8954157829284668, 1.7966687679290771, 1.7190265655517578, 2.2455191612243652, 1.9287424087524414, 1.6559135913848877, 1.644292950630188, 1.8057241439819336, 1.6109095811843872, 1.5854572057724, 1.883187174797058, 1.5833959579467773, 1.5696368217468262, 1.686205506324768, 1.5604625940322876, 1.5336074829101562, 1.5402573347091675, 1.6181272268295288, 1.6749824285507202, 1.5830029249191284, 1.6247423887252808, 1.579065203666687, 1.534568190574646, 1.6752502918243408, 1.192923903465271, 1.1869033575057983, 1.1561557054519653, 1.5584949254989624, 1.1039607524871826, 1.052885890007019, 1.0363085269927979, 1.0204746723175049, 1.022693395614624, 1.3501708507537842, 0.9965339303016663, 1.2978243827819824, 0.9590837955474854, 1.2661441564559937, 0.9479227066040039, 1.2688254117965698, 0.9447188973426819, 1.2366538047790527, 1.2426608800888062, 1.2314248085021973, 1.8352103233337402, 0.9125037789344788, 1.5116533041000366, 0.9070689678192139, 0.8903200030326843, 0.9021807312965393, 0.9085317254066467, 0.8965111970901489, 2.400510311126709, 1.471994161605835, 1.179529070854187, 1.3987935781478882, 1.3972702026367188, 1.8432737588882446, 1.6024354696273804, 1.6057504415512085, 1.593471884727478, 1.3717116117477417, 1.5587670803070068, 1.59153151512146, 1.3290743827819824, 1.8619682788848877, 1.4402928352355957, 1.5296096801757812, 1.5015257596969604, 1.4185997247695923, 1.3795331716537476, 1.3781213760375977, 1.3800029754638672, 1.4153717756271362, 1.3815622329711914, 1.3436737060546875, 1.3433003425598145, 1.4159537553787231, 1.3695060014724731, 1.1690034866333008, 1.0727921724319458, 1.0723384618759155, 1.0348268747329712, 1.0332887172698975, 1.0347422361373901, 1.0172638893127441, 1.3126392364501953, 1.9214050769805908, 0.9564935564994812, 0.9470230937004089, 1.2354018688201904, 0.9261584281921387, 0.9125115871429443, 0.9012194871902466, 0.8971068859100342, 1.206869125366211, 0.8863241076469421, 1.4898898601531982, 0.889297604560852, 0.8865686058998108, 1.468521237373352, 1.4446336030960083, 1.7212451696395874, 1.1372787952423096, 1.7029109001159668, 0.8542928099632263, 1.9820178747177124, 0.8325449228286743, 0.8359687328338623, 1.6639182567596436, 1.629915475845337, 1.7695797681808472, 1.5021270513534546, 1.6983078718185425, 1.8607617616653442, 1.4569594860076904, 1.2553832530975342, 1.253129482269287, 1.5246310234069824, 1.5099589824676514, 1.4757442474365234, 1.3704016208648682, 1.2433991432189941, 1.5809892416000366, 1.2267711162567139, 1.4531586170196533, 1.2829943895339966, 1.2067755460739136, 1.251665711402893, 1.2860747575759888, 1.2474730014801025, 1.253593921661377, 1.8187962770462036, 1.0441157817840576, 2.0805838108062744, 1.0262633562088013, 1.0250948667526245, 1.0080662965774536, 1.6520813703536987, 0.9818730354309082, 0.9652687311172485, 0.9469829201698303, 0.9392915964126587, 0.9307647943496704, 0.9170199632644653, 0.8974010348320007, 0.907436192035675, 0.8902112245559692, 1.169214129447937, 0.8739760518074036, 1.4694620370864868, 1.155705451965332, 1.1474668979644775, 0.8526355624198914, 1.1139588356018066, 0.837768018245697, 0.8447389006614685, 1.3548742532730103, 0.8222512602806091, 1.1013447046279907, 1.345435380935669, 1.078395962715149, 1.342145562171936, 1.616716980934143, 1.581230640411377, 1.5810112953186035, 1.5431702136993408, 1.741490125656128, 1.9730325937271118, 1.633313536643982, 1.4498927593231201, 1.4100666046142578, 1.3946009874343872, 1.3950223922729492, 1.2637224197387695, 1.2476516962051392, 1.3661882877349854, 1.2365869283676147, 1.208865761756897, 1.2964059114456177, 1.2888160943984985, 1.2101935148239136, 1.4862425327301025, 1.323527216911316, 1.2446324825286865, 1.24016535282135, 1.2236310243606567, 1.219927191734314, 1.0981128215789795, 1.039695143699646, 1.037124514579773, 1.034950852394104, 0.9918286204338074, 1.624469518661499, 0.9733618497848511, 1.2885725498199463, 1.2825736999511719, 0.9436107873916626, 1.8963963985443115, 1.2457029819488525, 0.9306669235229492, 0.933266818523407, 0.9190542101860046, 0.9067643880844116, 0.8827176094055176, 0.8639135956764221, 0.8571929931640625, 0.8480180501937866, 1.6869574785232544, 1.4062137603759766, 0.8356081247329712, 1.391374111175537, 1.663551688194275, 1.087593674659729, 0.8215509653091431, 1.076605200767517, 0.8095388412475586, 0.807061493396759, 1.331924557685852, 1.8196240663528442, 1.3105711936950684, 1.3005954027175903, 1.2677007913589478, 1.2649762630462646, 1.6003113985061646, 1.58692467212677, 1.2292076349258423, 1.478014588356018, 1.3582165241241455, 1.2033520936965942, 1.306922435760498, 1.3021605014801025, 1.2879180908203125, 1.3495725393295288, 1.3444714546203613, 1.3189245462417603, 1.306618332862854, 1.1774134635925293, 1.2167723178863525, 1.189954161643982], \"Term\": [\"hood\", \"dogs\", \"pleasantly\", \"energy\", \"spicy\", \"available\", \"hits\", \"meaning\", \"arizona\", \"road\", \"surprise\", \"shaded\", \"owners\", \"cranberry\", \"desire\", \"pecan\", \"figure\", \"gotten\", \"pie\", \"incredible\", \"test\", \"stamps\", \"spent\", \"program\", \"email\", \"assortment\", \"frosting\", \"paintings\", \"earth\", \"pleasure\", \"shaded\", \"meaning\", \"standards\", \"luv\", \"brunch\", \"hospitality\", \"exceptional\", \"students\", \"pet\", \"radio\", \"quirky\", \"nd\", \"hassle\", \"warned\", \"stole\", \"ownership\", \"sammy\", \"machine\", \"steady\", \"class\", \"rocks\", \"stood\", \"throw\", \"handmade\", \"assortment\", \"rock\", \"clarissa\", \"blues\", \"creatively\", \"double\", \"sucks\", \"dogs\", \"feeling\", \"register\", \"girls\", \"beans\", \"diverse\", \"wearing\", \"friday\", \"anyways\", \"rich\", \"moment\", \"works\", \"lost\", \"lil\", \"despite\", \"exposed\", \"clothes\", \"truly\", \"tip\", \"earl\", \"gotten\", \"punches\", \"sipping\", \"dutch\", \"nathan\", \"deliver\", \"guessed\", \"veggies\", \"caught\", \"detour\", \"summer\", \"quarters\", \"croissants\", \"names\", \"watch\", \"sampled\", \"fruity\", \"smelt\", \"sigh\", \"sbux\", \"dig\", \"croissant\", \"flaky\", \"faces\", \"suggestion\", \"dang\", \"indoors\", \"listen\", \"ya\", \"deal\", \"reasonably\", \"blackberry\", \"creamy\", \"future\", \"rolls\", \"exactly\", \"stopping\", \"foam\", \"near\", \"weeks\", \"middle\", \"orange\", \"banana\", \"ounce\", \"heck\", \"flies\", \"weekends\", \"awkward\", \"key\", \"works\", \"tastes\", \"clothes\", \"reliable\", \"lil\", \"truly\", \"moment\", \"program\", \"mature\", \"lifts\", \"counts\", \"woohoo\", \"bomb\", \"forgotten\", \"berry\", \"figure\", \"version\", \"whip\", \"workers\", \"timers\", \"sooooo\", \"hmm\", \"partake\", \"wrap\", \"greasy\", \"test\", \"majority\", \"lightly\", \"knows\", \"discovered\", \"mood\", \"smiling\", \"spicy\", \"received\", \"unlike\", \"foot\", \"exact\", \"opinion\", \"cranberry\", \"city\", \"lucky\", \"tastes\", \"exposed\", \"matter\", \"knock\", \"taken\", \"state\", \"gonna\", \"spent\", \"thinking\", \"finished\", \"banana\", \"bought\", \"truly\", \"smaller\", \"reputation\", \"recommendations\", \"pumpkin\", \"enjoying\", \"starts\", \"energy\", \"lips\", \"hood\", \"fly\", \"recycling\", \"lively\", \"pleasantly\", \"affordable\", \"mic\", \"hooray\", \"details\", \"john\", \"reflects\", \"nestled\", \"hint\", \"wednesday\", \"calm\", \"silk\", \"wow\", \"sell\", \"pictures\", \"tad\", \"superb\", \"warning\", \"coffeeshop\", \"surprise\", \"overrated\", \"problems\", \"finding\", \"oregon\", \"miles\", \"pleasure\", \"results\", \"lemonade\", \"owners\", \"avenue\", \"dogs\", \"meh\", \"flavorful\", \"annoying\", \"plush\", \"nut\", \"tasting\", \"takes\", \"spicy\", \"wireless\", \"pricey\", \"serve\", \"refill\", \"bacon\", \"banana\", \"tip\", \"crispy\", \"noise\", \"earl\", \"truly\", \"desire\", \"paintings\", \"email\", \"earth\", \"dollars\", \"road\", \"project\", \"incredible\", \"pie\", \"impressive\", \"available\", \"pecan\", \"influence\", \"fave\", \"perfection\", \"created\", \"comfort\", \"hunt\", \"mango\", \"java\", \"hits\", \"month\", \"dissolving\", \"changed\", \"arizona\", \"classes\", \"mediocre\", \"kill\", \"cane\", \"eager\", \"historic\", \"frosting\", \"hold\", \"satisfying\", \"def\", \"stamps\", \"sprinkles\", \"heck\", \"venue\", \"spent\", \"hope\", \"leaving\", \"single\", \"dessert\", \"main\", \"scratch\", \"csc\", \"middle\", \"pumpkin\", \"consider\", \"twice\", \"owners\"], \"Total\": [4.0, 6.0, 3.0, 3.0, 4.0, 4.0, 4.0, 3.0, 4.0, 3.0, 3.0, 3.0, 4.0, 4.0, 2.0, 2.0, 4.0, 3.0, 2.0, 2.0, 3.0, 3.0, 5.0, 2.0, 2.0, 4.0, 5.0, 2.0, 2.0, 4.0, 3.0558578968048096, 3.829110860824585, 2.279048442840576, 3.0616660118103027, 2.285158395767212, 3.0538811683654785, 3.0287668704986572, 2.288224220275879, 3.059182643890381, 3.780890941619873, 3.029189348220825, 2.2791905403137207, 3.807938814163208, 3.0186023712158203, 3.0319161415100098, 3.0338563919067383, 3.0409250259399414, 3.8220930099487305, 2.2794699668884277, 2.260481119155884, 3.014702558517456, 3.0394551753997803, 3.793379783630371, 3.785763740539551, 4.524284839630127, 4.532010078430176, 3.8536012172698975, 2.2853143215179443, 2.2755494117736816, 4.574843406677246, 4.5439019203186035, 6.067497253417969, 5.304585933685303, 4.5516486167907715, 4.537441730499268, 5.285043716430664, 4.55821418762207, 4.518462181091309, 6.035370349884033, 4.511183738708496, 4.525041580200195, 5.3271074295043945, 4.593250274658203, 4.535476207733154, 4.598721981048584, 5.313921928405762, 6.041761875152588, 5.310518264770508, 6.7589030265808105, 5.992813587188721, 5.270473003387451, 3.084150552749634, 2.3006768226623535, 2.295210838317871, 2.2856688499450684, 3.0822887420654297, 2.2818830013275146, 2.2756972312927246, 2.2917745113372803, 2.2739675045013428, 2.2863399982452393, 3.045081853866577, 2.288853406906128, 3.0454764366149902, 2.291463851928711, 3.0474767684936523, 2.289400100708008, 3.0682663917541504, 2.284590005874634, 3.0330705642700195, 3.048464775085449, 3.0391974449157715, 4.562727451324463, 2.2827634811401367, 3.796867847442627, 2.2810182571411133, 2.240571975708008, 2.2742300033569336, 2.2912909984588623, 2.270181894302368, 6.092925071716309, 3.8193838596343994, 3.0561373233795166, 3.7826037406921387, 3.794238328933716, 5.275092124938965, 4.52208137512207, 4.550129413604736, 4.509677886962891, 3.7903666496276855, 4.54996395111084, 5.229251861572266, 3.7922558784484863, 7.513955593109131, 4.540000915527344, 5.224515914916992, 5.266162872314453, 4.542465686798096, 4.504593849182129, 4.546473503112793, 4.593250274658203, 5.2563018798828125, 5.310518264770508, 4.569340229034424, 4.598721981048584, 6.7589030265808105, 5.3271074295043945, 2.2212750911712646, 2.2190027236938477, 2.2452914714813232, 2.221935510635376, 2.223022699356079, 2.230314254760742, 2.2263078689575195, 2.9874162673950195, 4.470328330993652, 2.2311689853668213, 2.2215254306793213, 2.9790046215057373, 2.2454307079315186, 2.231045722961426, 2.221526622772217, 2.229027509689331, 3.0145440101623535, 2.2257184982299805, 3.743445873260498, 2.242943286895752, 2.2411975860595703, 3.7317283153533936, 3.711719274520874, 4.470259666442871, 2.9642891883850098, 4.441217422485352, 2.2437009811401367, 5.240196704864502, 2.2308011054992676, 2.240164279937744, 4.487603187561035, 4.419394493103027, 5.220912933349609, 4.452055931091309, 5.2563018798828125, 6.041761875152588, 4.509411334991455, 3.7382376194000244, 3.7659802436828613, 5.237815856933594, 5.213342189788818, 5.130546569824219, 4.489254951477051, 3.7184529304504395, 7.513955593109131, 3.6972086429595947, 6.7589030265808105, 4.500986099243164, 3.7231955528259277, 4.441631317138672, 5.168659687042236, 4.461825847625732, 5.245599269866943, 3.702439546585083, 2.218048095703125, 4.458252906799316, 2.2181899547576904, 2.229670524597168, 2.2390992641448975, 3.6711316108703613, 2.2372403144836426, 2.2161428928375244, 2.2336206436157227, 2.226902484893799, 2.2289159297943115, 2.2425637245178223, 2.202451229095459, 2.2365942001342773, 2.2230944633483887, 2.9586021900177, 2.2324116230010986, 3.756265640258789, 2.9757280349731445, 2.9648046493530273, 2.2248828411102295, 2.9315133094787598, 2.206320285797119, 2.241382598876953, 3.653456687927246, 2.224153518676758, 2.98415470123291, 3.6855337619781494, 2.9555561542510986, 3.6856913566589355, 4.452672481536865, 4.486723899841309, 4.490206241607666, 4.401891231536865, 5.201020240783691, 6.067497253417969, 5.26683235168457, 4.487218856811523, 4.499364852905273, 4.471656799316406, 4.489365100860596, 3.776663064956665, 3.7116823196411133, 4.441217422485352, 3.7390475273132324, 3.7057693004608154, 4.517064571380615, 4.486166000366211, 3.772616147994995, 7.513955593109131, 5.992813587188721, 4.51695442199707, 4.504248142242432, 5.270473003387451, 6.7589030265808105, 2.172630786895752, 2.1863596439361572, 2.181828022003174, 2.181443452835083, 2.1828434467315674, 3.6540496349334717, 2.1987521648406982, 2.919327735900879, 2.922868251800537, 2.1830430030822754, 4.396182537078857, 2.9119486808776855, 2.1777899265289307, 2.188481092453003, 2.2033591270446777, 2.2015552520751953, 2.1980044841766357, 2.208526849746704, 2.208353042602539, 2.2040767669677734, 4.40231466293335, 3.6822569370269775, 2.1906614303588867, 3.6547257900238037, 4.378570079803467, 2.9257917404174805, 2.2155213356018066, 2.916410446166992, 2.193323850631714, 2.2001209259033203, 3.692875385284424, 5.158775329589844, 3.6958768367767334, 3.6656670570373535, 3.660740375518799, 3.7199716567993164, 5.168853759765625, 5.224515914916992, 3.664444923400879, 5.130546569824219, 4.434569358825684, 3.6739425659179688, 4.437225341796875, 4.437266826629639, 4.436486721038818, 5.190234661102295, 5.17757511138916, 5.229251861572266, 5.168659687042236, 3.6655585765838623, 4.449697494506836, 4.401891231536865], \"loglift\": [30.0, 29.0, 28.0, 27.0, 26.0, 25.0, 24.0, 23.0, 22.0, 21.0, 20.0, 19.0, 18.0, 17.0, 16.0, 15.0, 14.0, 13.0, 12.0, 11.0, 10.0, 9.0, 8.0, 7.0, 6.0, 5.0, 4.0, 3.0, 2.0, 1.0, 0.9366999864578247, 0.9308000206947327, 0.8830999732017517, 0.8008000254631042, 0.79830002784729, 0.7789000272750854, 0.7540000081062317, 0.7281000018119812, 0.6978999972343445, 0.6855000257492065, 0.679099977016449, 0.6766999959945679, 0.6765000224113464, 0.6711999773979187, 0.6571000218391418, 0.6524999737739563, 0.6491000056266785, 0.6413999795913696, 0.6345999836921692, 0.6319000124931335, 0.6276000142097473, 0.6208000183105469, 0.6172000169754028, 0.6162999868392944, 0.6150000095367432, 0.6011000275611877, 0.5946999788284302, 0.5917999744415283, 0.588699996471405, 0.5867999792098999, 0.5493999719619751, 0.527400016784668, 0.5097000002861023, 0.5102999806404114, 0.5063999891281128, 0.44749999046325684, 0.4812999963760376, 0.4740999937057495, 0.35670000314712524, 0.47440001368522644, 0.4625999927520752, 0.3711000084877014, 0.44179999828338623, 0.43709999322891235, 0.4275999963283539, 0.33239999413490295, 0.23849999904632568, 0.3109999895095825, 0.09589999914169312, 0.18770000338554382, 0.2874999940395355, 0.926800012588501, 0.880299985408783, 0.8776999711990356, 0.8555999994277954, 0.8551999926567078, 0.8109999895095825, 0.7663999795913696, 0.7434999942779541, 0.7358999848365784, 0.7325999736785889, 0.723800003528595, 0.7056000232696533, 0.6841999888420105, 0.6661999821662903, 0.6588000059127808, 0.6553999781608582, 0.6541000008583069, 0.6541000008583069, 0.6399999856948853, 0.6398000121116638, 0.6337000131607056, 0.6263999938964844, 0.620199978351593, 0.6161999702453613, 0.6150000095367432, 0.6141999959945679, 0.6126000285148621, 0.6121000051498413, 0.6079999804496765, 0.6057000160217285, 0.5837000012397766, 0.585099995136261, 0.5422999858856201, 0.5382000207901001, 0.48570001125335693, 0.49970000982284546, 0.49559998512268066, 0.4968000054359436, 0.5206999778747559, 0.4659000039100647, 0.3476000130176544, 0.4887000024318695, 0.1420000046491623, 0.38909998536109924, 0.30880001187324524, 0.2822999954223633, 0.3732999861240387, 0.3537999987602234, 0.3434999883174896, 0.3346000015735626, 0.22509999573230743, 0.1906999945640564, 0.3131999969482422, 0.30649998784065247, -0.02590000070631504, 0.17880000174045563, 0.9836999773979187, 0.8988000154495239, 0.8866000175476074, 0.8614000082015991, 0.859499990940094, 0.8575999736785889, 0.8424000144004822, 0.8032000064849854, 0.7811999917030334, 0.7785999774932861, 0.7730000019073486, 0.7454000115394592, 0.7400000095367432, 0.7315999865531921, 0.7233999967575073, 0.715399980545044, 0.7102000117301941, 0.704800009727478, 0.7042999863624573, 0.7005000114440918, 0.698199987411499, 0.6930000185966492, 0.6819000244140625, 0.6711999773979187, 0.6675999760627747, 0.6669999957084656, 0.6600000262260437, 0.6532999873161316, 0.6399999856948853, 0.6399000287055969, 0.633400022983551, 0.6280999779701233, 0.5436999797821045, 0.5390999913215637, 0.4957999885082245, 0.4478999972343445, 0.4957999885082245, 0.5343999862670898, 0.5252000093460083, 0.391400009393692, 0.3865000009536743, 0.37950000166893005, 0.4390000104904175, 0.5300999879837036, 0.06689999997615814, 0.5224000215530396, 0.0885000005364418, 0.37049999833106995, 0.49900001287460327, 0.35899999737739563, 0.2345999926328659, 0.35120001435279846, 0.19419999420642853, 0.9559999704360962, 0.9132999777793884, 0.904699981212616, 0.8960000276565552, 0.8896999955177307, 0.8687999844551086, 0.8683000206947327, 0.8432999849319458, 0.8356999754905701, 0.8087000250816345, 0.803600013256073, 0.7935000061988831, 0.7724999785423279, 0.7689999938011169, 0.7646999955177307, 0.7516000270843506, 0.7383999824523926, 0.7289999723434448, 0.7282999753952026, 0.7210000157356262, 0.7174999713897705, 0.7077000141143799, 0.6991999745368958, 0.6984999775886536, 0.6909999847412109, 0.6747999787330627, 0.6717000007629395, 0.6700000166893005, 0.6590999960899353, 0.6585999727249146, 0.6565999984741211, 0.6536999940872192, 0.6238999962806702, 0.6230000257492065, 0.6186000108718872, 0.572700023651123, 0.54339998960495, 0.4959999918937683, 0.5371000170707703, 0.5065000057220459, 0.5016000270843506, 0.49799999594688416, 0.5720000267028809, 0.5766000151634216, 0.4878999888896942, 0.5602999925613403, 0.5465999841690063, 0.41850000619888306, 0.4194999933242798, 0.5297999978065491, 0.046300001442432404, 0.15649999678134918, 0.37779998779296875, 0.37700000405311584, 0.20649999380111694, -0.04529999941587448, 1.0271999835968018, 0.9661999940872192, 0.9657999873161316, 0.9639000296592712, 0.9207000136375427, 0.8988999724388123, 0.894599974155426, 0.891700029373169, 0.8858000040054321, 0.8707000017166138, 0.8687000274658203, 0.8604000210762024, 0.8593000173568726, 0.857200026512146, 0.835099995136261, 0.8224999904632568, 0.7972000241279602, 0.7709000110626221, 0.7631999850273132, 0.7542999982833862, 0.7502999901771545, 0.7469000220298767, 0.7457000017166138, 0.7437999844551086, 0.7416999936103821, 0.7199000120162964, 0.7174999713897705, 0.7129999995231628, 0.7128000259399414, 0.70660001039505, 0.6897000074386597, 0.6674000024795532, 0.6728000044822693, 0.67330002784729, 0.6489999890327454, 0.6308000087738037, 0.5371000170707703, 0.5178999900817871, 0.6172000169754028, 0.4650000035762787, 0.526199996471405, 0.5934000015258789, 0.487199991941452, 0.48350000381469727, 0.47269999980926514, 0.36250001192092896, 0.3612000048160553, 0.3321000039577484, 0.3343000113964081, 0.5738000273704529, 0.41290000081062317, 0.40139999985694885], \"logprob\": [30.0, 29.0, 28.0, 27.0, 26.0, 25.0, 24.0, 23.0, 22.0, 21.0, 20.0, 19.0, 18.0, 17.0, 16.0, 15.0, 14.0, 13.0, 12.0, 11.0, 10.0, 9.0, 8.0, 7.0, 6.0, 5.0, 4.0, 3.0, 2.0, 1.0, -6.1082000732421875, -5.888500213623047, -6.455100059509277, -6.242199897766113, -6.537199974060059, -6.266600131988525, -6.299799919128418, -6.605999946594238, -6.345900058746338, -6.146500110626221, -6.374599933624268, -6.661399841308594, -6.148399829864502, -6.386000156402588, -6.395599842071533, -6.399600028991699, -6.400700092315674, -6.179800033569336, -6.703499794006348, -6.7144999504089355, -6.4309000968933105, -6.429500102996826, -6.21150016784668, -6.214399814605713, -6.037499904632568, -6.049699783325195, -6.218200206756592, -6.74370002746582, -6.750999927520752, -6.054599761962891, -6.098800182342529, -5.831600189208984, -5.983699798583984, -6.136199951171875, -6.143199920654297, -6.049600124359131, -6.163700103759766, -6.179699897766113, -6.007599830627441, -6.181000232696533, -6.189700126647949, -6.118000030517578, -6.195499897003174, -6.212900161743164, -6.208600044250488, -6.159299850463867, -6.12470006942749, -6.18120002746582, -6.155200004577637, -6.183700084686279, -6.212299823760986, -6.108799934387207, -6.448400020599365, -6.453499794006348, -6.479700088500977, -6.181099891662598, -6.525899887084961, -6.573299884796143, -6.589099884033203, -6.604499816894531, -6.602399826049805, -6.3246002197265625, -6.628300189971924, -6.364099979400635, -6.666600227355957, -6.388800144195557, -6.678299903869629, -6.38670015335083, -6.681700229644775, -6.412399768829346, -6.407599925994873, -6.416600227355957, -6.017600059509277, -6.716400146484375, -6.211599826812744, -6.722300052642822, -6.741000175476074, -6.727700233459473, -6.720699787139893, -6.734000205993652, -5.749100208282471, -6.2382001876831055, -6.459700107574463, -6.2891998291015625, -6.290299892425537, -6.013299942016602, -6.153299808502197, -6.151199817657471, -6.158899784088135, -6.308700084686279, -6.1809000968933105, -6.160099983215332, -6.3403000831604, -6.003200054168701, -6.260000228881836, -6.19980001449585, -6.218299865722656, -6.275100231170654, -6.303100109100342, -6.304100036621094, -6.302700042724609, -6.277400016784668, -6.301599979400635, -6.329400062561035, -6.329699993133545, -6.2769999504089355, -6.310400009155273, -6.380199909210205, -6.466100215911865, -6.4664998054504395, -6.502099990844727, -6.503600120544434, -6.502200126647949, -6.519199848175049, -6.2642998695373535, -5.883299827575684, -6.5808000564575195, -6.590799808502197, -6.324999809265137, -6.613100051879883, -6.627900123596191, -6.640399932861328, -6.644899845123291, -6.348299980163574, -6.6570000648498535, -6.137700080871582, -6.65369987487793, -6.656799793243408, -6.152100086212158, -6.168499946594238, -5.993299961090088, -6.407700061798096, -6.004000186920166, -6.69379997253418, -5.852200031280518, -6.719600200653076, -6.7154998779296875, -6.027200222015381, -6.047800064086914, -5.96560001373291, -6.129499912261963, -6.006700038909912, -5.91540002822876, -6.159999847412109, -6.308899879455566, -6.310699939727783, -6.11460018157959, -6.124300003051758, -6.147200107574463, -6.22130012512207, -6.31850004196167, -6.0782999992370605, -6.331999778747559, -6.162600040435791, -6.287199974060059, -6.348400115966797, -6.3119001388549805, -6.284800052642822, -6.315199851989746, -6.310299873352051, -5.896999835968018, -6.452000141143799, -5.762499809265137, -6.469200134277344, -6.470399856567383, -6.487100124359131, -5.993100166320801, -6.513400077819824, -6.5304999351501465, -6.549600124359131, -6.557799816131592, -6.56689977645874, -6.5817999839782715, -6.603400230407715, -6.592299938201904, -6.611400127410889, -6.338799953460693, -6.629899978637695, -6.110300064086914, -6.350399971008301, -6.357600212097168, -6.654600143432617, -6.387199878692627, -6.6722002029418945, -6.663899898529053, -6.191400051116943, -6.690899848937988, -6.398600101470947, -6.198400020599365, -6.4197001457214355, -6.200900077819824, -6.014800071716309, -6.036900043487549, -6.037099838256836, -6.061299800872803, -5.940400123596191, -5.8155999183654785, -6.004499912261963, -6.123700141906738, -6.151500225067139, -6.162499904632568, -6.162199974060059, -6.261099815368652, -6.273900032043457, -6.18310022354126, -6.282800197601318, -6.305500030517578, -6.235599994659424, -6.241399765014648, -6.3043999671936035, -6.098899841308594, -6.214900016784668, -6.276299953460693, -6.279900074005127, -6.293300151824951, -6.29640007019043, -6.358799934387207, -6.41349983215332, -6.415999889373779, -6.418099880218506, -6.460599899291992, -5.967299938201904, -6.479400157928467, -6.19890022277832, -6.20359992980957, -6.510499954223633, -5.8125, -6.232699871063232, -6.5243000984191895, -6.521500110626221, -6.536900043487549, -6.550300121307373, -6.577199935913086, -6.598700046539307, -6.606500148773193, -6.617300033569336, -5.929500102996826, -6.111499786376953, -6.631999969482422, -6.122099876403809, -5.94350004196167, -6.368500232696533, -6.64900016784668, -6.378600120544434, -6.663700103759766, -6.666800022125244, -6.165800094604492, -5.853799819946289, -6.182000160217285, -6.189599990844727, -6.215199947357178, -6.217400074005127, -5.9822001457214355, -5.990600109100342, -6.246099948883057, -6.061699867248535, -6.146299839019775, -6.267300128936768, -6.184800148010254, -6.188399791717529, -6.199399948120117, -6.152699947357178, -6.156400203704834, -6.175600051879883, -6.184999942779541, -6.289100170135498, -6.256199836730957, -6.278500080108643]}, \"token.table\": {\"Topic\": [4, 1, 2, 3, 4, 1, 2, 3, 4, 5, 1, 3, 5, 1, 2, 5, 1, 2, 3, 5, 1, 2, 3, 4, 5, 1, 2, 3, 4, 5, 1, 2, 4, 1, 2, 3, 4, 5, 1, 2, 3, 4, 5, 2, 3, 1, 2, 1, 1, 3, 1, 2, 3, 4, 5, 1, 1, 4, 5, 2, 1, 3, 4, 5, 1, 2, 3, 4, 5, 1, 2, 1, 4, 5, 1, 2, 3, 4, 5, 4, 5, 2, 3, 4, 5, 3, 1, 3, 5, 1, 2, 3, 5, 5, 1, 1, 2, 3, 4, 1, 2, 3, 4, 5, 2, 1, 2, 3, 4, 5, 2, 5, 1, 2, 3, 4, 5, 1, 3, 4, 5, 2, 5, 1, 2, 3, 4, 5, 1, 2, 3, 4, 5, 1, 4, 2, 1, 2, 5, 2, 3, 4, 5, 5, 1, 2, 3, 4, 5, 1, 2, 4, 5, 1, 2, 3, 5, 2, 3, 5, 1, 2, 3, 4, 5, 5, 5, 1, 3, 4, 1, 2, 3, 4, 5, 3, 1, 2, 3, 4, 5, 1, 1, 2, 3, 4, 1, 2, 3, 4, 5, 1, 2, 3, 4, 5, 1, 2, 3, 4, 3, 4, 5, 1, 2, 3, 4, 5, 2, 1, 2, 3, 4, 1, 2, 3, 4, 5, 4, 1, 2, 3, 4, 5, 3, 3, 1, 2, 3, 4, 5, 1, 2, 3, 4, 5, 1, 2, 3, 1, 2, 3, 4, 1, 2, 3, 4, 5, 1, 2, 3, 4, 5, 2, 3, 2, 5, 1, 2, 3, 4, 5, 1, 2, 3, 1, 2, 3, 4, 5, 4, 1, 2, 4, 5, 1, 3, 5, 3, 1, 2, 3, 5, 1, 2, 4, 5, 2, 4, 1, 2, 3, 4, 5, 1, 5, 5, 5, 2, 3, 5, 5, 4, 1, 2, 3, 4, 4, 5, 2, 3, 4, 1, 2, 3, 1, 2, 3, 5, 1, 2, 4, 5, 1, 3, 2, 3, 1, 2, 3, 4, 4, 2, 4, 1, 2, 3, 4, 5, 1, 2, 3, 5, 1, 2, 1, 2, 1, 2, 3, 4, 5, 3, 5, 1, 2, 3, 4, 3, 1, 1, 5, 1, 2, 3, 4, 5, 4, 1, 2, 3, 4, 5, 3, 4, 5, 1, 2, 3, 4, 5, 1, 2, 4, 5, 1, 2, 3, 5, 2, 4, 1, 2, 1, 1, 2, 3, 4, 5, 4, 1, 2, 3, 4, 1, 2, 3, 4, 1, 3, 4, 5, 1, 2, 3, 5, 3, 4, 1, 2, 3, 4, 5, 4, 1, 3, 4, 5, 1, 5, 3, 3, 5, 5, 1, 2, 3, 4, 5, 1, 5, 3, 4, 2, 3, 4, 5, 1, 2, 3, 4, 5, 1, 3, 4, 1, 3, 4, 3, 5, 1, 2, 3, 4, 5, 2, 2, 1, 5, 1, 3, 5, 1, 2, 3, 2, 3, 1, 2, 3, 4, 5, 4, 1, 2, 3, 4, 5, 4, 1, 2, 3, 4, 5, 1, 2, 4, 5, 1, 2, 3, 4, 5, 1, 2, 4, 5, 1, 2, 3, 4, 5, 2, 5, 1, 2, 3, 5, 1, 4, 1, 2, 3, 4, 5, 1, 2, 2, 1, 3, 4, 5, 1, 2, 3, 1, 2, 3, 4, 5, 2, 4, 1, 2, 3, 4, 5, 1, 3, 2, 5, 4, 1, 2, 3, 4, 5, 2, 2, 3, 4, 5, 2, 1, 3, 4, 3, 1, 2, 3, 4, 5, 2, 3, 4, 1, 2, 3, 4, 5, 1, 2, 5, 1, 1, 2, 3, 4, 5, 1, 2, 3, 4, 5, 1, 1, 3, 1, 2, 3, 1, 2, 3, 5, 1, 1, 2, 3, 4, 5, 2, 2, 4, 3, 4, 5, 4, 5, 4, 2, 3, 4, 1, 3, 4, 1, 2, 3, 4, 5, 1, 2, 4, 1, 3, 1, 2, 3, 5, 1, 2, 3, 4, 2, 3, 1, 2, 3, 4, 5, 1, 2, 3, 4, 5, 1, 2, 3, 4, 5, 1, 2, 3, 4, 5, 2, 1, 3, 4, 5, 3, 1, 3, 5, 4, 2, 1, 2, 3, 4, 5, 4, 1, 2, 3, 4, 5, 1, 2, 3, 4, 5, 3, 1, 3, 4, 3, 1, 3, 1, 2, 3, 1, 2, 4, 2, 3, 2], \"Freq\": [0.44697925448417664, 0.22225359082221985, 0.22225359082221985, 0.22225359082221985, 0.22225359082221985, 0.4433426260948181, 0.22167131304740906, 0.22167131304740906, 0.22167131304740906, 0.22167131304740906, 0.2283850610256195, 0.2283850610256195, 0.456770122051239, 0.442058801651001, 0.2210294008255005, 0.2210294008255005, 0.22747008502483368, 0.22747008502483368, 0.22747008502483368, 0.45494017004966736, 0.192269966006279, 0.192269966006279, 0.192269966006279, 0.384539932012558, 0.192269966006279, 0.22199559211730957, 0.22199559211730957, 0.22199559211730957, 0.22199559211730957, 0.22199559211730957, 0.26506805419921875, 0.26506805419921875, 0.26506805419921875, 0.133085697889328, 0.266171395778656, 0.266171395778656, 0.133085697889328, 0.133085697889328, 0.37842637300491333, 0.18921318650245667, 0.18921318650245667, 0.18921318650245667, 0.18921318650245667, 0.3347374200820923, 0.3347374200820923, 0.3272104263305664, 0.3272104263305664, 0.437576562166214, 0.44836729764938354, 0.44836729764938354, 0.27047431468963623, 0.27047431468963623, 0.27047431468963623, 0.27047431468963623, 0.27047431468963623, 0.43760642409324646, 0.3379974365234375, 0.3379974365234375, 0.4559290111064911, 0.4397600293159485, 0.27361834049224854, 0.27361834049224854, 0.27361834049224854, 0.27361834049224854, 0.19153738021850586, 0.19153738021850586, 0.3830747604370117, 0.19153738021850586, 0.19153738021850586, 0.5189950466156006, 0.2594975233078003, 0.44238370656967163, 0.34178781509399414, 0.34178781509399414, 0.3766110837459564, 0.1883055418729782, 0.1883055418729782, 0.1883055418729782, 0.1883055418729782, 0.4461531937122345, 0.45495811104774475, 0.2728097140789032, 0.2728097140789032, 0.2728097140789032, 0.2728097140789032, 0.45005807280540466, 0.22627533972263336, 0.4525506794452667, 0.22627533972263336, 0.2643681764602661, 0.2643681764602661, 0.2643681764602661, 0.2643681764602661, 0.4542243480682373, 0.4394543170928955, 0.22138811647891998, 0.22138811647891998, 0.22138811647891998, 0.22138811647891998, 0.21916715800762177, 0.43833431601524353, 0.21916715800762177, 0.21916715800762177, 0.21916715800762177, 0.3283558487892151, 0.19314061105251312, 0.19314061105251312, 0.19314061105251312, 0.19314061105251312, 0.19314061105251312, 0.44631460309028625, 0.44631460309028625, 0.16412478685379028, 0.32824957370758057, 0.16412478685379028, 0.16412478685379028, 0.16412478685379028, 0.27316877245903015, 0.27316877245903015, 0.27316877245903015, 0.27316877245903015, 0.4382345676422119, 0.4602714776992798, 0.3763698637485504, 0.1881849318742752, 0.1881849318742752, 0.1881849318742752, 0.1881849318742752, 0.22536395490169525, 0.22536395490169525, 0.22536395490169525, 0.22536395490169525, 0.22536395490169525, 0.4490542411804199, 0.4490542411804199, 0.43738025426864624, 0.3290342390537262, 0.3290342390537262, 0.3290342390537262, 0.2694169282913208, 0.2694169282913208, 0.2694169282913208, 0.2694169282913208, 0.4564831256866455, 0.43876832723617554, 0.21938416361808777, 0.21938416361808777, 0.21938416361808777, 0.21938416361808777, 0.3296251893043518, 0.1648125946521759, 0.3296251893043518, 0.4581180512905121, 0.43717342615127563, 0.21858671307563782, 0.21858671307563782, 0.21858671307563782, 0.4375087022781372, 0.45452046394348145, 0.45452046394348145, 0.3794725835323334, 0.1897362917661667, 0.1897362917661667, 0.1897362917661667, 0.1897362917661667, 0.4584120512008667, 0.45833125710487366, 0.2700921893119812, 0.2700921893119812, 0.5401843786239624, 0.2241234928369522, 0.2241234928369522, 0.2241234928369522, 0.2241234928369522, 0.2241234928369522, 0.4463958442211151, 0.22113710641860962, 0.44227421283721924, 0.22113710641860962, 0.22113710641860962, 0.22113710641860962, 0.33016738295555115, 0.3310292661190033, 0.16551463305950165, 0.3310292661190033, 0.16551463305950165, 0.2633749842643738, 0.5267499685287476, 0.2633749842643738, 0.2633749842643738, 0.45693790912628174, 0.37703225016593933, 0.18851612508296967, 0.18851612508296967, 0.18851612508296967, 0.18851612508296967, 0.2236972153186798, 0.2236972153186798, 0.4473944306373596, 0.2236972153186798, 0.27133113145828247, 0.27133113145828247, 0.27133113145828247, 0.26892903447151184, 0.26892903447151184, 0.26892903447151184, 0.26892903447151184, 0.26892903447151184, 0.4380655288696289, 0.22285518050193787, 0.22285518050193787, 0.22285518050193787, 0.22285518050193787, 0.18989157676696777, 0.37978315353393555, 0.18989157676696777, 0.18989157676696777, 0.18989157676696777, 0.4508180320262909, 0.2217453271150589, 0.4434906542301178, 0.2217453271150589, 0.2217453271150589, 0.2217453271150589, 0.44826945662498474, 0.449174165725708, 0.33137983083724976, 0.16568991541862488, 0.16568991541862488, 0.16568991541862488, 0.16568991541862488, 0.19384445250034332, 0.19384445250034332, 0.19384445250034332, 0.19384445250034332, 0.38768890500068665, 0.32591694593429565, 0.32591694593429565, 0.32591694593429565, 0.263557493686676, 0.263557493686676, 0.263557493686676, 0.263557493686676, 0.4407770037651062, 0.2203885018825531, 0.2203885018825531, 0.2203885018825531, 0.2203885018825531, 0.19181552529335022, 0.19181552529335022, 0.38363105058670044, 0.19181552529335022, 0.19181552529335022, 0.648476779460907, 0.4492931067943573, 0.4394257664680481, 0.4394257664680481, 0.5282949805259705, 0.26414749026298523, 0.26414749026298523, 0.26414749026298523, 0.26414749026298523, 0.5252185463905334, 0.2626092731952667, 0.2626092731952667, 0.1914052963256836, 0.3828105926513672, 0.1914052963256836, 0.1914052963256836, 0.3828105926513672, 0.4471083879470825, 0.2707917094230652, 0.2707917094230652, 0.2707917094230652, 0.2707917094230652, 0.2271532267332077, 0.2271532267332077, 0.4543064534664154, 0.45014089345932007, 0.2705717980861664, 0.2705717980861664, 0.2705717980861664, 0.2705717980861664, 0.22430311143398285, 0.22430311143398285, 0.4486062228679657, 0.22430311143398285, 0.44770359992980957, 0.44770359992980957, 0.22550104558467865, 0.22550104558467865, 0.22550104558467865, 0.22550104558467865, 0.22550104558467865, 0.327452152967453, 0.4527904987335205, 0.4580761790275574, 0.3425446152687073, 0.43970927596092224, 0.4591811001300812, 0.4591811001300812, 0.45370471477508545, 0.448648601770401, 0.21995069086551666, 0.21995069086551666, 0.21995069086551666, 0.21995069086551666, 0.3428872525691986, 0.3428872525691986, 0.2675057351589203, 0.2675057351589203, 0.2675057351589203, 0.26797235012054443, 0.26797235012054443, 0.26797235012054443, 0.27218717336654663, 0.27218717336654663, 0.27218717336654663, 0.27218717336654663, 0.22270691394805908, 0.22270691394805908, 0.44541382789611816, 0.22270691394805908, 0.4453764855861664, 0.4453764855861664, 0.4461900293827057, 0.4461900293827057, 0.43490344285964966, 0.21745172142982483, 0.21745172142982483, 0.21745172142982483, 0.4508468508720398, 0.43643519282341003, 0.44660815596580505, 0.44096803665161133, 0.22048401832580566, 0.22048401832580566, 0.22048401832580566, 0.22048401832580566, 0.22461532056331635, 0.22461532056331635, 0.4492306411266327, 0.22461532056331635, 0.32661956548690796, 0.32661956548690796, 0.5232735276222229, 0.26163676381111145, 0.2254035770893097, 0.2254035770893097, 0.2254035770893097, 0.2254035770893097, 0.2254035770893097, 0.4458427429199219, 0.4528261423110962, 0.22175844013690948, 0.22175844013690948, 0.22175844013690948, 0.22175844013690948, 0.4506528973579407, 0.5223144888877869, 0.4513610303401947, 0.4513610303401947, 0.18986745178699493, 0.18986745178699493, 0.18986745178699493, 0.37973490357398987, 0.18986745178699493, 0.4512344300746918, 0.19123195111751556, 0.38246390223503113, 0.19123195111751556, 0.19123195111751556, 0.19123195111751556, 0.27131950855255127, 0.27131950855255127, 0.27131950855255127, 0.37543827295303345, 0.18771913647651672, 0.18771913647651672, 0.18771913647651672, 0.18771913647651672, 0.2715725898742676, 0.2715725898742676, 0.2715725898742676, 0.2715725898742676, 0.2237006574869156, 0.2237006574869156, 0.4474013149738312, 0.2237006574869156, 0.43640226125717163, 0.43640226125717163, 0.3244342505931854, 0.6488685011863708, 0.43875226378440857, 0.26382672786712646, 0.26382672786712646, 0.26382672786712646, 0.26382672786712646, 0.26382672786712646, 0.4540395736694336, 0.22201263904571533, 0.22201263904571533, 0.22201263904571533, 0.22201263904571533, 0.22274865210056305, 0.22274865210056305, 0.22274865210056305, 0.22274865210056305, 0.22283610701560974, 0.4456722140312195, 0.22283610701560974, 0.22283610701560974, 0.26369529962539673, 0.26369529962539673, 0.26369529962539673, 0.26369529962539673, 0.33834579586982727, 0.33834579586982727, 0.22026427090168, 0.22026427090168, 0.22026427090168, 0.22026427090168, 0.22026427090168, 0.44960924983024597, 0.22717508673667908, 0.22717508673667908, 0.45435017347335815, 0.22717508673667908, 0.32961350679397583, 0.4573812782764435, 0.4486261308193207, 0.3434126377105713, 0.3434126377105713, 0.45385247468948364, 0.3268846869468689, 0.3268846869468689, 0.3268846869468689, 0.33729034662246704, 0.33729034662246704, 0.3421296775341034, 0.3421296775341034, 0.2723955810070038, 0.5447911620140076, 0.22458422183990479, 0.22458422183990479, 0.44916844367980957, 0.22458422183990479, 0.22363075613975525, 0.22363075613975525, 0.22363075613975525, 0.22363075613975525, 0.22363075613975525, 0.2698495090007782, 0.2698495090007782, 0.2698495090007782, 0.33510327339172363, 0.33510327339172363, 0.33510327339172363, 0.4501918852329254, 0.4548034071922302, 0.19347375631332397, 0.19347375631332397, 0.19347375631332397, 0.19347375631332397, 0.19347375631332397, 0.43465471267700195, 0.43689998984336853, 0.33012133836746216, 0.33012133836746216, 0.5289758443832397, 0.2644879221916199, 0.2644879221916199, 0.26182234287261963, 0.26182234287261963, 0.26182234287261963, 0.44569218158721924, 0.44569218158721924, 0.22514250874519348, 0.22514250874519348, 0.22514250874519348, 0.22514250874519348, 0.22514250874519348, 0.4484967589378357, 0.22290748357772827, 0.22290748357772827, 0.22290748357772827, 0.22290748357772827, 0.22290748357772827, 0.4459182024002075, 0.439401239156723, 0.2197006195783615, 0.2197006195783615, 0.2197006195783615, 0.2197006195783615, 0.21884997189044952, 0.21884997189044952, 0.21884997189044952, 0.21884997189044952, 0.26858648657798767, 0.26858648657798767, 0.26858648657798767, 0.26858648657798767, 0.26858648657798767, 0.22287976741790771, 0.22287976741790771, 0.44575953483581543, 0.22287976741790771, 0.4419848918914795, 0.22099244594573975, 0.22099244594573975, 0.22099244594573975, 0.22099244594573975, 0.27366897463798523, 0.5473379492759705, 0.4413052797317505, 0.22065263986587524, 0.22065263986587524, 0.22065263986587524, 0.3317076861858368, 0.3317076861858368, 0.18957014381885529, 0.37914028763771057, 0.18957014381885529, 0.18957014381885529, 0.18957014381885529, 0.32884731888771057, 0.32884731888771057, 0.4367956519126892, 0.27280163764953613, 0.27280163764953613, 0.27280163764953613, 0.27280163764953613, 0.328033983707428, 0.328033983707428, 0.328033983707428, 0.19266951084136963, 0.19266951084136963, 0.19266951084136963, 0.19266951084136963, 0.19266951084136963, 0.33605220913887024, 0.33605220913887024, 0.22138270735740662, 0.22138270735740662, 0.22138270735740662, 0.22138270735740662, 0.22138270735740662, 0.6544806957244873, 0.32724034786224365, 0.3296988904476166, 0.3296988904476166, 0.44794607162475586, 0.22536605596542358, 0.22536605596542358, 0.22536605596542358, 0.22536605596542358, 0.22536605596542358, 0.4356898069381714, 0.2221735417842865, 0.2221735417842865, 0.2221735417842865, 0.2221735417842865, 0.4377152919769287, 0.337348997592926, 0.337348997592926, 0.337348997592926, 0.44822031259536743, 0.19491100311279297, 0.19491100311279297, 0.19491100311279297, 0.19491100311279297, 0.19491100311279297, 0.22516348958015442, 0.45032697916030884, 0.22516348958015442, 0.19346648454666138, 0.19346648454666138, 0.19346648454666138, 0.19346648454666138, 0.38693296909332275, 0.26881924271583557, 0.26881924271583557, 0.26881924271583557, 0.4387796223163605, 0.19063599407672882, 0.19063599407672882, 0.19063599407672882, 0.19063599407672882, 0.19063599407672882, 0.19091928005218506, 0.19091928005218506, 0.3818385601043701, 0.19091928005218506, 0.19091928005218506, 0.4386984705924988, 0.32982441782951355, 0.32982441782951355, 0.3290063440799713, 0.3290063440799713, 0.3290063440799713, 0.21977396309375763, 0.43954792618751526, 0.21977396309375763, 0.21977396309375763, 0.43702012300491333, 0.44015035033226013, 0.22007517516613007, 0.22007517516613007, 0.22007517516613007, 0.22007517516613007, 0.4384006857872009, 0.3283984065055847, 0.3283984065055847, 0.34112074971199036, 0.34112074971199036, 0.34112074971199036, 0.2737133800983429, 0.2737133800983429, 0.4494618773460388, 0.2655351161956787, 0.2655351161956787, 0.2655351161956787, 0.2694196105003357, 0.2694196105003357, 0.2694196105003357, 0.1902478188276291, 0.1902478188276291, 0.3804956376552582, 0.1902478188276291, 0.1902478188276291, 0.2647840082645416, 0.2647840082645416, 0.2647840082645416, 0.26713356375694275, 0.26713356375694275, 0.22275410592556, 0.22275410592556, 0.22275410592556, 0.22275410592556, 0.5272343158721924, 0.2636171579360962, 0.2636171579360962, 0.2636171579360962, 0.445348858833313, 0.445348858833313, 0.33373305201530457, 0.16686652600765228, 0.16686652600765228, 0.16686652600765228, 0.16686652600765228, 0.2959060072898865, 0.14795300364494324, 0.14795300364494324, 0.14795300364494324, 0.14795300364494324, 0.2247343808412552, 0.2247343808412552, 0.2247343808412552, 0.2247343808412552, 0.2247343808412552, 0.19083252549171448, 0.19083252549171448, 0.38166505098342896, 0.19083252549171448, 0.19083252549171448, 0.43634310364723206, 0.27289262413978577, 0.27289262413978577, 0.27289262413978577, 0.27289262413978577, 0.44819554686546326, 0.33127912878990173, 0.33127912878990173, 0.33127912878990173, 0.45324334502220154, 0.3281403183937073, 0.4426284730434418, 0.2213142365217209, 0.2213142365217209, 0.2213142365217209, 0.2213142365217209, 0.44982343912124634, 0.22014474868774414, 0.22014474868774414, 0.22014474868774414, 0.22014474868774414, 0.22014474868774414, 0.21978196501731873, 0.43956393003463745, 0.21978196501731873, 0.21978196501731873, 0.21978196501731873, 0.45014113187789917, 0.2674477994441986, 0.2674477994441986, 0.2674477994441986, 0.44983795285224915, 0.33568260073661804, 0.33568260073661804, 0.43542152643203735, 0.21771076321601868, 0.21771076321601868, 0.2662218511104584, 0.2662218511104584, 0.2662218511104584, 0.3317251205444336, 0.3317251205444336, 0.4404933452606201], \"Term\": [\"affordable\", \"annoying\", \"annoying\", \"annoying\", \"annoying\", \"anyways\", \"anyways\", \"anyways\", \"anyways\", \"anyways\", \"arizona\", \"arizona\", \"arizona\", \"assortment\", \"assortment\", \"assortment\", \"available\", \"available\", \"available\", \"available\", \"avenue\", \"avenue\", \"avenue\", \"avenue\", \"avenue\", \"awkward\", \"awkward\", \"awkward\", \"awkward\", \"awkward\", \"bacon\", \"bacon\", \"bacon\", \"banana\", \"banana\", \"banana\", \"banana\", \"banana\", \"beans\", \"beans\", \"beans\", \"beans\", \"beans\", \"berry\", \"berry\", \"blackberry\", \"blackberry\", \"blues\", \"bomb\", \"bomb\", \"bought\", \"bought\", \"bought\", \"bought\", \"bought\", \"brunch\", \"calm\", \"calm\", \"cane\", \"caught\", \"changed\", \"changed\", \"changed\", \"changed\", \"city\", \"city\", \"city\", \"city\", \"city\", \"clarissa\", \"clarissa\", \"class\", \"classes\", \"classes\", \"clothes\", \"clothes\", \"clothes\", \"clothes\", \"clothes\", \"coffeeshop\", \"comfort\", \"consider\", \"consider\", \"consider\", \"consider\", \"counts\", \"cranberry\", \"cranberry\", \"cranberry\", \"creamy\", \"creamy\", \"creamy\", \"creamy\", \"created\", \"creatively\", \"crispy\", \"crispy\", \"crispy\", \"crispy\", \"croissant\", \"croissant\", \"croissant\", \"croissant\", \"croissant\", \"croissants\", \"csc\", \"csc\", \"csc\", \"csc\", \"csc\", \"dang\", \"dang\", \"deal\", \"deal\", \"deal\", \"deal\", \"deal\", \"def\", \"def\", \"def\", \"def\", \"deliver\", \"desire\", \"despite\", \"despite\", \"despite\", \"despite\", \"despite\", \"dessert\", \"dessert\", \"dessert\", \"dessert\", \"dessert\", \"details\", \"details\", \"detour\", \"dig\", \"dig\", \"dig\", \"discovered\", \"discovered\", \"discovered\", \"discovered\", \"dissolving\", \"diverse\", \"diverse\", \"diverse\", \"diverse\", \"diverse\", \"dogs\", \"dogs\", \"dogs\", \"dollars\", \"double\", \"double\", \"double\", \"double\", \"dutch\", \"eager\", \"eager\", \"earl\", \"earl\", \"earl\", \"earl\", \"earl\", \"earth\", \"email\", \"energy\", \"energy\", \"energy\", \"enjoying\", \"enjoying\", \"enjoying\", \"enjoying\", \"enjoying\", \"exact\", \"exactly\", \"exactly\", \"exactly\", \"exactly\", \"exactly\", \"exceptional\", \"exposed\", \"exposed\", \"exposed\", \"exposed\", \"faces\", \"faces\", \"faces\", \"faces\", \"fave\", \"feeling\", \"feeling\", \"feeling\", \"feeling\", \"feeling\", \"figure\", \"figure\", \"figure\", \"figure\", \"finding\", \"finding\", \"finding\", \"finished\", \"finished\", \"finished\", \"finished\", \"finished\", \"flaky\", \"flavorful\", \"flavorful\", \"flavorful\", \"flavorful\", \"flies\", \"flies\", \"flies\", \"flies\", \"flies\", \"fly\", \"foam\", \"foam\", \"foam\", \"foam\", \"foam\", \"foot\", \"forgotten\", \"friday\", \"friday\", \"friday\", \"friday\", \"friday\", \"frosting\", \"frosting\", \"frosting\", \"frosting\", \"frosting\", \"fruity\", \"fruity\", \"fruity\", \"future\", \"future\", \"future\", \"future\", \"girls\", \"girls\", \"girls\", \"girls\", \"girls\", \"gonna\", \"gonna\", \"gonna\", \"gonna\", \"gonna\", \"gotten\", \"greasy\", \"guessed\", \"guessed\", \"handmade\", \"handmade\", \"handmade\", \"handmade\", \"handmade\", \"hassle\", \"hassle\", \"hassle\", \"heck\", \"heck\", \"heck\", \"heck\", \"heck\", \"hint\", \"historic\", \"historic\", \"historic\", \"historic\", \"hits\", \"hits\", \"hits\", \"hmm\", \"hold\", \"hold\", \"hold\", \"hold\", \"hood\", \"hood\", \"hood\", \"hood\", \"hooray\", \"hooray\", \"hope\", \"hope\", \"hope\", \"hope\", \"hope\", \"hospitality\", \"hunt\", \"impressive\", \"incredible\", \"indoors\", \"influence\", \"influence\", \"java\", \"john\", \"key\", \"key\", \"key\", \"key\", \"kill\", \"kill\", \"knock\", \"knock\", \"knock\", \"knows\", \"knows\", \"knows\", \"leaving\", \"leaving\", \"leaving\", \"leaving\", \"lemonade\", \"lemonade\", \"lemonade\", \"lemonade\", \"lifts\", \"lifts\", \"lightly\", \"lightly\", \"lil\", \"lil\", \"lil\", \"lil\", \"lips\", \"listen\", \"lively\", \"lost\", \"lost\", \"lost\", \"lost\", \"lost\", \"lucky\", \"lucky\", \"lucky\", \"lucky\", \"luv\", \"luv\", \"machine\", \"machine\", \"main\", \"main\", \"main\", \"main\", \"main\", \"majority\", \"mango\", \"matter\", \"matter\", \"matter\", \"matter\", \"mature\", \"meaning\", \"mediocre\", \"mediocre\", \"meh\", \"meh\", \"meh\", \"meh\", \"meh\", \"mic\", \"middle\", \"middle\", \"middle\", \"middle\", \"middle\", \"miles\", \"miles\", \"miles\", \"moment\", \"moment\", \"moment\", \"moment\", \"moment\", \"month\", \"month\", \"month\", \"month\", \"mood\", \"mood\", \"mood\", \"mood\", \"names\", \"names\", \"nathan\", \"nathan\", \"nd\", \"near\", \"near\", \"near\", \"near\", \"near\", \"nestled\", \"noise\", \"noise\", \"noise\", \"noise\", \"nut\", \"nut\", \"nut\", \"nut\", \"opinion\", \"opinion\", \"opinion\", \"opinion\", \"orange\", \"orange\", \"orange\", \"orange\", \"oregon\", \"oregon\", \"ounce\", \"ounce\", \"ounce\", \"ounce\", \"ounce\", \"overrated\", \"owners\", \"owners\", \"owners\", \"owners\", \"ownership\", \"paintings\", \"partake\", \"pecan\", \"pecan\", \"perfection\", \"pet\", \"pet\", \"pet\", \"pictures\", \"pictures\", \"pie\", \"pie\", \"pleasantly\", \"pleasantly\", \"pleasure\", \"pleasure\", \"pleasure\", \"pleasure\", \"plush\", \"plush\", \"plush\", \"plush\", \"plush\", \"pricey\", \"pricey\", \"pricey\", \"problems\", \"problems\", \"problems\", \"program\", \"project\", \"pumpkin\", \"pumpkin\", \"pumpkin\", \"pumpkin\", \"pumpkin\", \"punches\", \"quarters\", \"quirky\", \"quirky\", \"radio\", \"radio\", \"radio\", \"reasonably\", \"reasonably\", \"reasonably\", \"received\", \"received\", \"recommendations\", \"recommendations\", \"recommendations\", \"recommendations\", \"recommendations\", \"recycling\", \"refill\", \"refill\", \"refill\", \"refill\", \"refill\", \"reflects\", \"register\", \"register\", \"register\", \"register\", \"register\", \"reliable\", \"reliable\", \"reliable\", \"reliable\", \"reputation\", \"reputation\", \"reputation\", \"reputation\", \"reputation\", \"results\", \"results\", \"results\", \"results\", \"rich\", \"rich\", \"rich\", \"rich\", \"rich\", \"road\", \"road\", \"rock\", \"rock\", \"rock\", \"rock\", \"rocks\", \"rocks\", \"rolls\", \"rolls\", \"rolls\", \"rolls\", \"rolls\", \"sammy\", \"sammy\", \"sampled\", \"satisfying\", \"satisfying\", \"satisfying\", \"satisfying\", \"sbux\", \"sbux\", \"sbux\", \"scratch\", \"scratch\", \"scratch\", \"scratch\", \"scratch\", \"sell\", \"sell\", \"serve\", \"serve\", \"serve\", \"serve\", \"serve\", \"shaded\", \"shaded\", \"sigh\", \"sigh\", \"silk\", \"single\", \"single\", \"single\", \"single\", \"single\", \"sipping\", \"smaller\", \"smaller\", \"smaller\", \"smaller\", \"smelt\", \"smiling\", \"smiling\", \"smiling\", \"sooooo\", \"spent\", \"spent\", \"spent\", \"spent\", \"spent\", \"spicy\", \"spicy\", \"spicy\", \"sprinkles\", \"sprinkles\", \"sprinkles\", \"sprinkles\", \"sprinkles\", \"stamps\", \"stamps\", \"stamps\", \"standards\", \"starts\", \"starts\", \"starts\", \"starts\", \"starts\", \"state\", \"state\", \"state\", \"state\", \"state\", \"steady\", \"stole\", \"stole\", \"stood\", \"stood\", \"stood\", \"stopping\", \"stopping\", \"stopping\", \"stopping\", \"students\", \"sucks\", \"sucks\", \"sucks\", \"sucks\", \"sucks\", \"suggestion\", \"summer\", \"summer\", \"superb\", \"superb\", \"superb\", \"surprise\", \"surprise\", \"tad\", \"taken\", \"taken\", \"taken\", \"takes\", \"takes\", \"takes\", \"tastes\", \"tastes\", \"tastes\", \"tastes\", \"tastes\", \"tasting\", \"tasting\", \"tasting\", \"test\", \"test\", \"thinking\", \"thinking\", \"thinking\", \"thinking\", \"throw\", \"throw\", \"throw\", \"throw\", \"timers\", \"timers\", \"tip\", \"tip\", \"tip\", \"tip\", \"tip\", \"truly\", \"truly\", \"truly\", \"truly\", \"truly\", \"twice\", \"twice\", \"twice\", \"twice\", \"twice\", \"unlike\", \"unlike\", \"unlike\", \"unlike\", \"unlike\", \"veggies\", \"venue\", \"venue\", \"venue\", \"venue\", \"version\", \"warned\", \"warned\", \"warned\", \"warning\", \"watch\", \"wearing\", \"wearing\", \"wearing\", \"wearing\", \"wearing\", \"wednesday\", \"weekends\", \"weekends\", \"weekends\", \"weekends\", \"weekends\", \"weeks\", \"weeks\", \"weeks\", \"weeks\", \"weeks\", \"whip\", \"wireless\", \"wireless\", \"wireless\", \"woohoo\", \"workers\", \"workers\", \"works\", \"works\", \"works\", \"wow\", \"wow\", \"wow\", \"wrap\", \"wrap\", \"ya\"]}, \"R\": 30, \"lambda.step\": 0.01, \"plot.opts\": {\"xlab\": \"PC1\", \"ylab\": \"PC2\"}, \"topic.order\": [5, 3, 2, 1, 4]};\n",
              "\n",
              "function LDAvis_load_lib(url, callback){\n",
              "  var s = document.createElement('script');\n",
              "  s.src = url;\n",
              "  s.async = true;\n",
              "  s.onreadystatechange = s.onload = callback;\n",
              "  s.onerror = function(){console.warn(\"failed to load library \" + url);};\n",
              "  document.getElementsByTagName(\"head\")[0].appendChild(s);\n",
              "}\n",
              "\n",
              "if(typeof(LDAvis) !== \"undefined\"){\n",
              "   // already loaded: just create the visualization\n",
              "   !function(LDAvis){\n",
              "       new LDAvis(\"#\" + \"ldavis_el1271406845128821443644259507\", ldavis_el1271406845128821443644259507_data);\n",
              "   }(LDAvis);\n",
              "}else if(typeof define === \"function\" && define.amd){\n",
              "   // require.js is available: use it to load d3/LDAvis\n",
              "   require.config({paths: {d3: \"https://cdnjs.cloudflare.com/ajax/libs/d3/3.5.5/d3.min\"}});\n",
              "   require([\"d3\"], function(d3){\n",
              "      window.d3 = d3;\n",
              "      LDAvis_load_lib(\"https://cdn.rawgit.com/bmabey/pyLDAvis/files/ldavis.v1.0.0.js\", function(){\n",
              "        new LDAvis(\"#\" + \"ldavis_el1271406845128821443644259507\", ldavis_el1271406845128821443644259507_data);\n",
              "      });\n",
              "    });\n",
              "}else{\n",
              "    // require.js not available: dynamically load d3 & LDAvis\n",
              "    LDAvis_load_lib(\"https://cdnjs.cloudflare.com/ajax/libs/d3/3.5.5/d3.min.js\", function(){\n",
              "         LDAvis_load_lib(\"https://cdn.rawgit.com/bmabey/pyLDAvis/files/ldavis.v1.0.0.js\", function(){\n",
              "                 new LDAvis(\"#\" + \"ldavis_el1271406845128821443644259507\", ldavis_el1271406845128821443644259507_data);\n",
              "            })\n",
              "         });\n",
              "}\n",
              "</script>"
            ],
            "text/plain": [
              "PreparedData(topic_coordinates=              x         y  topics  cluster       Freq\n",
              "topic                                                \n",
              "4      0.009334 -0.012866       1        1  21.840246\n",
              "2      0.005240  0.007307       2        1  21.499496\n",
              "1     -0.007780  0.014020       3        1  19.679569\n",
              "0      0.012388  0.000906       4        1  18.885162\n",
              "3     -0.019181 -0.009367       5        1  18.095528, topic_info=    Category      Freq        Term     Total  loglift  logprob\n",
              "137  Default  4.000000        hood  4.000000  30.0000  30.0000\n",
              "682  Default  6.000000        dogs  6.000000  29.0000  29.0000\n",
              "124  Default  3.000000  pleasantly  3.000000  28.0000  28.0000\n",
              "254  Default  3.000000      energy  3.000000  27.0000  27.0000\n",
              "779  Default  4.000000       spicy  4.000000  26.0000  26.0000\n",
              "..       ...       ...         ...       ...      ...      ...\n",
              "531   Topic5  1.318925      middle  5.229252   0.3321  -6.1756\n",
              "934   Topic5  1.306618     pumpkin  5.168660   0.3343  -6.1850\n",
              "911   Topic5  1.177413    consider  3.665559   0.5738  -6.2891\n",
              "280   Topic5  1.216772       twice  4.449697   0.4129  -6.2562\n",
              "237   Topic5  1.189954      owners  4.401891   0.4014  -6.2785\n",
              "\n",
              "[298 rows x 6 columns], token_table=      Topic      Freq        Term\n",
              "term                             \n",
              "1152      4  0.446979  affordable\n",
              "549       1  0.222254    annoying\n",
              "549       2  0.222254    annoying\n",
              "549       3  0.222254    annoying\n",
              "549       4  0.222254    annoying\n",
              "...     ...       ...         ...\n",
              "256       2  0.266222         wow\n",
              "256       4  0.266222         wow\n",
              "232       2  0.331725        wrap\n",
              "232       3  0.331725        wrap\n",
              "975       2  0.440493          ya\n",
              "\n",
              "[708 rows x 3 columns], R=30, lambda_step=0.01, plot_opts={'xlab': 'PC1', 'ylab': 'PC2'}, topic_order=[5, 3, 2, 1, 4])"
            ]
          },
          "metadata": {
            "tags": []
          },
          "execution_count": 43
        }
      ]
    },
    {
      "cell_type": "markdown",
      "metadata": {
        "id": "BNHU4RM5hejT",
        "colab_type": "text"
      },
      "source": [
        "# LDA - topic modelling performance"
      ]
    },
    {
      "cell_type": "code",
      "metadata": {
        "id": "KpgUOudihjFn",
        "colab_type": "code",
        "outputId": "f19f7762-b14a-4f8f-e1d2-5bd223317362",
        "colab": {
          "base_uri": "https://localhost:8080/",
          "height": 255
        }
      },
      "source": [
        "def update(doc):\n",
        "    d_dist = {k:0 for k in range(0, 5)}\n",
        "    for t in doc:\n",
        "        d_dist[t[0]] = t[1]\n",
        "    return d_dist\n",
        "\n",
        "distro = [lda[d] for d in corpus]\n",
        "new_distro = [update(d) for d in distro]\n",
        "df_distro = pd.DataFrame.from_records(new_distro)\n",
        "df_distro.columns = topics\n",
        "df_distro['stars'] = df_cafe['stars']\n",
        "print(df_distro.shape)\n",
        "df_distro.sample(5)"
      ],
      "execution_count": 0,
      "outputs": [
        {
          "output_type": "stream",
          "text": [
            "(587, 6)\n"
          ],
          "name": "stdout"
        },
        {
          "output_type": "execute_result",
          "data": {
            "text/html": [
              "<div>\n",
              "<style scoped>\n",
              "    .dataframe tbody tr th:only-of-type {\n",
              "        vertical-align: middle;\n",
              "    }\n",
              "\n",
              "    .dataframe tbody tr th {\n",
              "        vertical-align: top;\n",
              "    }\n",
              "\n",
              "    .dataframe thead th {\n",
              "        text-align: right;\n",
              "    }\n",
              "</style>\n",
              "<table border=\"1\" class=\"dataframe\">\n",
              "  <thead>\n",
              "    <tr style=\"text-align: right;\">\n",
              "      <th></th>\n",
              "      <th>hood dogs energy avenue pleasantly meh pleasure results lemonade owners</th>\n",
              "      <th>unlike figure exposed city mood spicy tastes opinion cranberry banana</th>\n",
              "      <th>deal banana rolls croissant gotten stopping exactly foam middle weeks</th>\n",
              "      <th>available frosting hits arizona road sprinkles heck spent month changed</th>\n",
              "      <th>dogs meaning feeling friday assortment beans rock double sucks shaded</th>\n",
              "      <th>stars</th>\n",
              "    </tr>\n",
              "  </thead>\n",
              "  <tbody>\n",
              "    <tr>\n",
              "      <th>159</th>\n",
              "      <td>0.302954</td>\n",
              "      <td>0.066525</td>\n",
              "      <td>0.280269</td>\n",
              "      <td>0.131555</td>\n",
              "      <td>0.218698</td>\n",
              "      <td>3.0</td>\n",
              "    </tr>\n",
              "    <tr>\n",
              "      <th>452</th>\n",
              "      <td>0.140728</td>\n",
              "      <td>0.053081</td>\n",
              "      <td>0.034914</td>\n",
              "      <td>0.033641</td>\n",
              "      <td>0.737637</td>\n",
              "      <td>3.0</td>\n",
              "    </tr>\n",
              "    <tr>\n",
              "      <th>154</th>\n",
              "      <td>0.200000</td>\n",
              "      <td>0.200000</td>\n",
              "      <td>0.200000</td>\n",
              "      <td>0.200000</td>\n",
              "      <td>0.200000</td>\n",
              "      <td>5.0</td>\n",
              "    </tr>\n",
              "    <tr>\n",
              "      <th>217</th>\n",
              "      <td>0.020232</td>\n",
              "      <td>0.032879</td>\n",
              "      <td>0.906374</td>\n",
              "      <td>0.020182</td>\n",
              "      <td>0.020332</td>\n",
              "      <td>3.0</td>\n",
              "    </tr>\n",
              "    <tr>\n",
              "      <th>54</th>\n",
              "      <td>0.859791</td>\n",
              "      <td>0.022977</td>\n",
              "      <td>0.017584</td>\n",
              "      <td>0.059590</td>\n",
              "      <td>0.040058</td>\n",
              "      <td>4.0</td>\n",
              "    </tr>\n",
              "  </tbody>\n",
              "</table>\n",
              "</div>"
            ],
            "text/plain": [
              "     hood dogs energy avenue pleasantly meh pleasure results lemonade owners  ...  stars\n",
              "159                                           0.302954                        ...    3.0\n",
              "452                                           0.140728                        ...    3.0\n",
              "154                                           0.200000                        ...    5.0\n",
              "217                                           0.020232                        ...    3.0\n",
              "54                                            0.859791                        ...    4.0\n",
              "\n",
              "[5 rows x 6 columns]"
            ]
          },
          "metadata": {
            "tags": []
          },
          "execution_count": 59
        }
      ]
    },
    {
      "cell_type": "code",
      "metadata": {
        "id": "FVBZalMSxqb0",
        "colab_type": "code",
        "outputId": "472bab9e-e2b8-40bb-8623-4c3329eb777b",
        "colab": {
          "base_uri": "https://localhost:8080/",
          "height": 268
        }
      },
      "source": [
        "df_distro.groupby('stars').mean()"
      ],
      "execution_count": 0,
      "outputs": [
        {
          "output_type": "execute_result",
          "data": {
            "text/html": [
              "<div>\n",
              "<style scoped>\n",
              "    .dataframe tbody tr th:only-of-type {\n",
              "        vertical-align: middle;\n",
              "    }\n",
              "\n",
              "    .dataframe tbody tr th {\n",
              "        vertical-align: top;\n",
              "    }\n",
              "\n",
              "    .dataframe thead th {\n",
              "        text-align: right;\n",
              "    }\n",
              "</style>\n",
              "<table border=\"1\" class=\"dataframe\">\n",
              "  <thead>\n",
              "    <tr style=\"text-align: right;\">\n",
              "      <th></th>\n",
              "      <th>hood dogs energy avenue pleasantly meh pleasure results lemonade owners</th>\n",
              "      <th>unlike figure exposed city mood spicy tastes opinion cranberry banana</th>\n",
              "      <th>deal banana rolls croissant gotten stopping exactly foam middle weeks</th>\n",
              "      <th>available frosting hits arizona road sprinkles heck spent month changed</th>\n",
              "      <th>dogs meaning feeling friday assortment beans rock double sucks shaded</th>\n",
              "    </tr>\n",
              "    <tr>\n",
              "      <th>stars</th>\n",
              "      <th></th>\n",
              "      <th></th>\n",
              "      <th></th>\n",
              "      <th></th>\n",
              "      <th></th>\n",
              "    </tr>\n",
              "  </thead>\n",
              "  <tbody>\n",
              "    <tr>\n",
              "      <th>1.0</th>\n",
              "      <td>0.130151</td>\n",
              "      <td>0.190637</td>\n",
              "      <td>0.154464</td>\n",
              "      <td>0.199561</td>\n",
              "      <td>0.325187</td>\n",
              "    </tr>\n",
              "    <tr>\n",
              "      <th>2.0</th>\n",
              "      <td>0.146109</td>\n",
              "      <td>0.202270</td>\n",
              "      <td>0.236821</td>\n",
              "      <td>0.130637</td>\n",
              "      <td>0.284164</td>\n",
              "    </tr>\n",
              "    <tr>\n",
              "      <th>3.0</th>\n",
              "      <td>0.250163</td>\n",
              "      <td>0.153622</td>\n",
              "      <td>0.194561</td>\n",
              "      <td>0.156254</td>\n",
              "      <td>0.245400</td>\n",
              "    </tr>\n",
              "    <tr>\n",
              "      <th>4.0</th>\n",
              "      <td>0.219765</td>\n",
              "      <td>0.198049</td>\n",
              "      <td>0.179772</td>\n",
              "      <td>0.188823</td>\n",
              "      <td>0.213591</td>\n",
              "    </tr>\n",
              "    <tr>\n",
              "      <th>5.0</th>\n",
              "      <td>0.188535</td>\n",
              "      <td>0.212928</td>\n",
              "      <td>0.198017</td>\n",
              "      <td>0.204752</td>\n",
              "      <td>0.195768</td>\n",
              "    </tr>\n",
              "  </tbody>\n",
              "</table>\n",
              "</div>"
            ],
            "text/plain": [
              "       hood dogs energy avenue pleasantly meh pleasure results lemonade owners  ...  dogs meaning feeling friday assortment beans rock double sucks shaded\n",
              "stars                                                                           ...                                                                       \n",
              "1.0                                             0.130151                        ...                                           0.325187                    \n",
              "2.0                                             0.146109                        ...                                           0.284164                    \n",
              "3.0                                             0.250163                        ...                                           0.245400                    \n",
              "4.0                                             0.219765                        ...                                           0.213591                    \n",
              "5.0                                             0.188535                        ...                                           0.195768                    \n",
              "\n",
              "[5 rows x 5 columns]"
            ]
          },
          "metadata": {
            "tags": []
          },
          "execution_count": 60
        }
      ]
    },
    {
      "cell_type": "code",
      "metadata": {
        "id": "ilaxpgGQx9Pn",
        "colab_type": "code",
        "colab": {}
      },
      "source": [
        "def compute_coherence_values(dictionary, corpus, num_topics, docs, \n",
        "                             limit, start=2, step=3, passes=5):\n",
        "    \"\"\"\n",
        "    Compute c_v coherence for various number of topics\n",
        "\n",
        "    Parameters:\n",
        "    ----------\n",
        "    dictionary : Gensim dictionary\n",
        "    corpus : Gensim corpus\n",
        "    path : path to input texts\n",
        "    limit : Max num of topics\n",
        "    passes: the number of times the entire lda model & coherence values are calculated\n",
        "\n",
        "    Returns:\n",
        "    -------\n",
        "    coherence_values : Coherence values corresponding to the LDA model with respective number of topics\n",
        "    \"\"\"\n",
        "    \n",
        "    coherence_values = []\n",
        "    tokens = list(doc_stream(docs))\n",
        "    for iter_ in range(passes):\n",
        "        for num_topics in range(start, limit, step):\n",
        "            stream = doc_stream(path)\n",
        "            model = LdaMulticore(corpus=corpus, \n",
        "                                 num_topics=num_topics, \n",
        "                                 id2word=dictionary, \n",
        "#                                  workers=4, # all available cores\n",
        "                                )\n",
        "            coherencemodel = CoherenceModel(model=model,\n",
        "                                            dictionary=dictionary,\n",
        "                                            corpus=corpus, \n",
        "                                            coherence='u_mass')\n",
        "            coherence_values.append({'pass': iter_, \n",
        "                                     'num_topics': num_topics, \n",
        "                                     'coherence_score': coherencemodel.get_coherence()\n",
        "                                    })\n",
        "    return coherence_values"
      ],
      "execution_count": 0,
      "outputs": []
    },
    {
      "cell_type": "code",
      "metadata": {
        "id": "jPOR3_DTyCKW",
        "colab_type": "code",
        "colab": {}
      },
      "source": [
        "# Can take a long time to run.\n",
        "coherence_values = compute_coherence_values(dictionary=dictionary, \n",
        "                                            corpus=corpus, \n",
        "                                            num_topics=10,\n",
        "                                            docs=docs, \n",
        "                                            start=2, \n",
        "                                            limit=40, \n",
        "                                            step=6,\n",
        "                                            passes=40)"
      ],
      "execution_count": 0,
      "outputs": []
    },
    {
      "cell_type": "code",
      "metadata": {
        "id": "Ra55mSC1yOgT",
        "colab_type": "code",
        "outputId": "129eb25d-c9ad-4c12-ac05-6fd9da31aa3f",
        "colab": {
          "base_uri": "https://localhost:8080/",
          "height": 220
        }
      },
      "source": [
        "topic_coherence = pd.DataFrame.from_records(coherence_values)\n",
        "print(topic_coherence.shape)\n",
        "topic_coherence.head()"
      ],
      "execution_count": 0,
      "outputs": [
        {
          "output_type": "stream",
          "text": [
            "(280, 3)\n"
          ],
          "name": "stdout"
        },
        {
          "output_type": "execute_result",
          "data": {
            "text/html": [
              "<div>\n",
              "<style scoped>\n",
              "    .dataframe tbody tr th:only-of-type {\n",
              "        vertical-align: middle;\n",
              "    }\n",
              "\n",
              "    .dataframe tbody tr th {\n",
              "        vertical-align: top;\n",
              "    }\n",
              "\n",
              "    .dataframe thead th {\n",
              "        text-align: right;\n",
              "    }\n",
              "</style>\n",
              "<table border=\"1\" class=\"dataframe\">\n",
              "  <thead>\n",
              "    <tr style=\"text-align: right;\">\n",
              "      <th></th>\n",
              "      <th>pass</th>\n",
              "      <th>num_topics</th>\n",
              "      <th>coherence_score</th>\n",
              "    </tr>\n",
              "  </thead>\n",
              "  <tbody>\n",
              "    <tr>\n",
              "      <th>0</th>\n",
              "      <td>0</td>\n",
              "      <td>2</td>\n",
              "      <td>-20.187539</td>\n",
              "    </tr>\n",
              "    <tr>\n",
              "      <th>1</th>\n",
              "      <td>0</td>\n",
              "      <td>8</td>\n",
              "      <td>-19.842899</td>\n",
              "    </tr>\n",
              "    <tr>\n",
              "      <th>2</th>\n",
              "      <td>0</td>\n",
              "      <td>14</td>\n",
              "      <td>-18.686739</td>\n",
              "    </tr>\n",
              "    <tr>\n",
              "      <th>3</th>\n",
              "      <td>0</td>\n",
              "      <td>20</td>\n",
              "      <td>-19.087019</td>\n",
              "    </tr>\n",
              "    <tr>\n",
              "      <th>4</th>\n",
              "      <td>0</td>\n",
              "      <td>26</td>\n",
              "      <td>-18.616490</td>\n",
              "    </tr>\n",
              "  </tbody>\n",
              "</table>\n",
              "</div>"
            ],
            "text/plain": [
              "   pass  num_topics  coherence_score\n",
              "0     0           2       -20.187539\n",
              "1     0           8       -19.842899\n",
              "2     0          14       -18.686739\n",
              "3     0          20       -19.087019\n",
              "4     0          26       -18.616490"
            ]
          },
          "metadata": {
            "tags": []
          },
          "execution_count": 63
        }
      ]
    },
    {
      "cell_type": "code",
      "metadata": {
        "id": "1xXbpLkMyR8L",
        "colab_type": "code",
        "outputId": "18cc6e8c-2fb9-4dfb-af4c-ce3864e5615b",
        "colab": {
          "base_uri": "https://localhost:8080/",
          "height": 280
        }
      },
      "source": [
        "sns.lineplot(x=\"num_topics\", \n",
        "             y=\"coherence_score\", \n",
        "             data=topic_coherence);\n",
        "# num_topics = 15?"
      ],
      "execution_count": 0,
      "outputs": [
        {
          "output_type": "display_data",
          "data": {
            "image/png": "[encoded data removed]",
            "text/plain": [
              "<Figure size 432x288 with 1 Axes>"
            ]
          },
          "metadata": {
            "tags": []
          }
        }
      ]
    },
    {
      "cell_type": "markdown",
      "metadata": {
        "id": "uw2HQaOA00KP",
        "colab_type": "text"
      },
      "source": [
        "# LDA - topic modelling 15 topics"
      ]
    },
    {
      "cell_type": "code",
      "metadata": {
        "id": "Gk06Ezah07g6",
        "colab_type": "code",
        "colab": {}
      },
      "source": [
        "num_topics = 15\n",
        "lda = LdaMulticore(corpus=corpus,\n",
        "                   id2word=dictionary, # id2word,\n",
        "                   iterations=5,\n",
        "                   workers=4,\n",
        "                   num_topics=num_topics # You can change this parameter\n",
        "                  )"
      ],
      "execution_count": 0,
      "outputs": []
    },
    {
      "cell_type": "code",
      "metadata": {
        "id": "Qb5B-Wg91KAT",
        "colab_type": "code",
        "outputId": "a75feb3f-0923-4657-8ebd-5ab6aefe0a2d",
        "colab": {
          "base_uri": "https://localhost:8080/",
          "height": 1000
        }
      },
      "source": [
        "pyLDAvis.gensim.prepare(lda, corpus, dictionary)"
      ],
      "execution_count": 0,
      "outputs": [
        {
          "output_type": "stream",
          "text": [
            "/usr/local/lib/python3.6/dist-packages/pyLDAvis/_prepare.py:257: FutureWarning: Sorting because non-concatenation axis is not aligned. A future version\n",
            "of pandas will change to not sort by default.\n",
            "\n",
            "To accept the future behavior, pass 'sort=False'.\n",
            "\n",
            "To retain the current behavior and silence the warning, pass 'sort=True'.\n",
            "\n",
            "  return pd.concat([default_term_info] + list(topic_dfs))\n"
          ],
          "name": "stderr"
        },
        {
          "output_type": "execute_result",
          "data": {
            "text/html": [
              "\n",
              "<link rel=\"stylesheet\" type=\"text/css\" href=\"https://cdn.rawgit.com/bmabey/pyLDAvis/files/ldavis.v1.0.0.css\">\n",
              "\n",
              "\n",
              "<div id=\"ldavis_el1271406844897460161018925350\"></div>\n",
              "<script type=\"text/javascript\">\n",
              "\n",
              "var ldavis_el1271406844897460161018925350_data = {\"mdsDat\": {\"x\": [-0.004669041910177409, -0.0515492562484207, -0.0620546748106599, 0.019606776267561993, 0.009501359374196378, -0.005990940317619938, -0.035408628499740545, 0.006664151041675787, 0.01688918060874094, 0.03729030389569316, 0.027303658825274763, 0.05164750806802234, 0.010400747785434166, 0.00199407925229193, -0.02162522333227287], \"y\": [-0.007595637017137812, 0.013715307467846187, -0.012678385378495163, 0.010282172334475922, -0.012459347818092823, -0.027780152785867922, 0.022188467001969633, -0.021410788124418316, -0.019559896695677065, -0.009543712757721352, 0.09300724342563725, -0.020987003611818256, 0.007913642978598846, -0.02601478603114901, 0.010922877011849736], \"topics\": [1, 2, 3, 4, 5, 6, 7, 8, 9, 10, 11, 12, 13, 14, 15], \"cluster\": [1, 1, 1, 1, 1, 1, 1, 1, 1, 1, 1, 1, 1, 1, 1], \"Freq\": [9.139520645141602, 8.767478942871094, 7.387768268585205, 7.008548259735107, 6.8667449951171875, 6.786170482635498, 6.753385066986084, 6.600522041320801, 6.4931535720825195, 6.4301862716674805, 6.420612335205078, 6.419081211090088, 4.99136209487915, 4.979233264923096, 4.956233501434326]}, \"tinfo\": {\"Category\": [\"Default\", \"Default\", \"Default\", \"Default\", \"Default\", \"Default\", \"Default\", \"Default\", \"Default\", \"Default\", \"Default\", \"Default\", \"Default\", \"Default\", \"Default\", \"Default\", \"Default\", \"Default\", \"Default\", \"Default\", \"Default\", \"Default\", \"Default\", \"Default\", \"Default\", \"Default\", \"Default\", \"Default\", \"Default\", \"Default\", \"Topic1\", \"Topic1\", \"Topic1\", \"Topic1\", \"Topic1\", \"Topic1\", \"Topic1\", \"Topic1\", \"Topic1\", \"Topic1\", \"Topic1\", \"Topic1\", \"Topic1\", \"Topic1\", \"Topic1\", \"Topic1\", \"Topic1\", \"Topic1\", \"Topic1\", \"Topic1\", \"Topic1\", \"Topic1\", \"Topic1\", \"Topic1\", \"Topic1\", \"Topic1\", \"Topic1\", \"Topic1\", \"Topic1\", \"Topic1\", \"Topic1\", \"Topic1\", \"Topic1\", \"Topic1\", \"Topic1\", \"Topic1\", \"Topic1\", \"Topic1\", \"Topic1\", \"Topic1\", \"Topic1\", \"Topic1\", \"Topic1\", \"Topic1\", \"Topic1\", \"Topic1\", \"Topic2\", \"Topic2\", \"Topic2\", \"Topic2\", \"Topic2\", \"Topic2\", \"Topic2\", \"Topic2\", \"Topic2\", \"Topic2\", \"Topic2\", \"Topic2\", \"Topic2\", \"Topic2\", \"Topic2\", \"Topic2\", \"Topic2\", \"Topic2\", \"Topic2\", \"Topic2\", \"Topic2\", \"Topic2\", \"Topic2\", \"Topic2\", \"Topic2\", \"Topic2\", \"Topic2\", \"Topic2\", \"Topic2\", \"Topic2\", \"Topic2\", \"Topic2\", \"Topic2\", \"Topic2\", \"Topic2\", \"Topic2\", \"Topic2\", \"Topic2\", \"Topic2\", \"Topic2\", \"Topic2\", \"Topic2\", \"Topic3\", \"Topic3\", \"Topic3\", \"Topic3\", \"Topic3\", \"Topic3\", \"Topic3\", \"Topic3\", \"Topic3\", \"Topic3\", \"Topic3\", \"Topic3\", \"Topic3\", \"Topic3\", \"Topic3\", \"Topic3\", \"Topic3\", \"Topic3\", \"Topic3\", \"Topic3\", \"Topic3\", \"Topic3\", \"Topic3\", \"Topic3\", \"Topic3\", \"Topic3\", \"Topic3\", \"Topic3\", \"Topic3\", \"Topic3\", \"Topic3\", \"Topic3\", \"Topic3\", \"Topic3\", \"Topic3\", \"Topic3\", \"Topic3\", \"Topic3\", \"Topic3\", \"Topic3\", \"Topic3\", \"Topic3\", \"Topic4\", \"Topic4\", \"Topic4\", \"Topic4\", \"Topic4\", \"Topic4\", \"Topic4\", \"Topic4\", \"Topic4\", \"Topic4\", \"Topic4\", \"Topic4\", \"Topic4\", \"Topic4\", \"Topic4\", \"Topic4\", \"Topic4\", \"Topic4\", \"Topic4\", \"Topic4\", \"Topic4\", \"Topic4\", \"Topic4\", \"Topic4\", \"Topic4\", \"Topic4\", \"Topic4\", \"Topic4\", \"Topic4\", \"Topic4\", \"Topic4\", \"Topic4\", \"Topic4\", \"Topic4\", \"Topic4\", \"Topic4\", \"Topic4\", \"Topic4\", \"Topic4\", \"Topic4\", \"Topic4\", \"Topic4\", \"Topic5\", \"Topic5\", \"Topic5\", \"Topic5\", \"Topic5\", \"Topic5\", \"Topic5\", \"Topic5\", \"Topic5\", \"Topic5\", \"Topic5\", \"Topic5\", \"Topic5\", \"Topic5\", \"Topic5\", \"Topic5\", \"Topic5\", \"Topic5\", \"Topic5\", \"Topic5\", \"Topic5\", \"Topic5\", \"Topic5\", \"Topic5\", \"Topic5\", \"Topic5\", \"Topic5\", \"Topic5\", \"Topic5\", \"Topic5\", \"Topic5\", \"Topic5\", \"Topic5\", \"Topic5\", \"Topic5\", \"Topic5\", \"Topic5\", \"Topic5\", \"Topic5\", \"Topic6\", \"Topic6\", \"Topic6\", \"Topic6\", \"Topic6\", \"Topic6\", \"Topic6\", \"Topic6\", \"Topic6\", \"Topic6\", \"Topic6\", \"Topic6\", \"Topic6\", \"Topic6\", \"Topic6\", \"Topic6\", \"Topic6\", \"Topic6\", \"Topic6\", \"Topic6\", \"Topic6\", \"Topic6\", \"Topic6\", \"Topic6\", \"Topic6\", \"Topic6\", \"Topic6\", \"Topic6\", \"Topic6\", \"Topic6\", \"Topic6\", \"Topic6\", \"Topic6\", \"Topic6\", \"Topic6\", \"Topic6\", \"Topic6\", \"Topic6\", \"Topic6\", \"Topic6\", \"Topic6\", \"Topic6\", \"Topic7\", \"Topic7\", \"Topic7\", \"Topic7\", \"Topic7\", \"Topic7\", \"Topic7\", \"Topic7\", \"Topic7\", \"Topic7\", \"Topic7\", \"Topic7\", \"Topic7\", \"Topic7\", \"Topic7\", \"Topic7\", \"Topic7\", \"Topic7\", \"Topic7\", \"Topic7\", \"Topic7\", \"Topic7\", \"Topic7\", \"Topic7\", \"Topic7\", \"Topic7\", \"Topic7\", \"Topic7\", \"Topic7\", \"Topic7\", \"Topic7\", \"Topic7\", \"Topic7\", \"Topic7\", \"Topic7\", \"Topic7\", \"Topic7\", \"Topic7\", \"Topic7\", \"Topic7\", \"Topic7\", \"Topic8\", \"Topic8\", \"Topic8\", \"Topic8\", \"Topic8\", \"Topic8\", \"Topic8\", \"Topic8\", \"Topic8\", \"Topic8\", \"Topic8\", \"Topic8\", \"Topic8\", \"Topic8\", \"Topic8\", \"Topic8\", \"Topic8\", \"Topic8\", \"Topic8\", \"Topic8\", \"Topic8\", \"Topic8\", \"Topic8\", \"Topic8\", \"Topic8\", \"Topic8\", \"Topic8\", \"Topic8\", \"Topic8\", \"Topic8\", \"Topic8\", \"Topic8\", \"Topic8\", \"Topic8\", \"Topic8\", \"Topic8\", \"Topic8\", \"Topic8\", \"Topic8\", \"Topic8\", \"Topic8\", \"Topic8\", \"Topic8\", \"Topic8\", \"Topic8\", \"Topic9\", \"Topic9\", \"Topic9\", \"Topic9\", \"Topic9\", \"Topic9\", \"Topic9\", \"Topic9\", \"Topic9\", \"Topic9\", \"Topic9\", \"Topic9\", \"Topic9\", \"Topic9\", \"Topic9\", \"Topic9\", \"Topic9\", \"Topic9\", \"Topic9\", \"Topic9\", \"Topic9\", \"Topic9\", \"Topic9\", \"Topic9\", \"Topic9\", \"Topic9\", \"Topic9\", \"Topic9\", \"Topic9\", \"Topic9\", \"Topic9\", \"Topic9\", \"Topic9\", \"Topic9\", \"Topic9\", \"Topic9\", \"Topic9\", \"Topic9\", \"Topic9\", \"Topic9\", \"Topic10\", \"Topic10\", \"Topic10\", \"Topic10\", \"Topic10\", \"Topic10\", \"Topic10\", \"Topic10\", \"Topic10\", \"Topic10\", \"Topic10\", \"Topic10\", \"Topic10\", \"Topic10\", \"Topic10\", \"Topic10\", \"Topic10\", \"Topic10\", \"Topic10\", \"Topic10\", \"Topic10\", \"Topic10\", \"Topic10\", \"Topic10\", \"Topic10\", \"Topic10\", \"Topic10\", \"Topic10\", \"Topic10\", \"Topic10\", \"Topic10\", \"Topic10\", \"Topic10\", \"Topic10\", \"Topic10\", \"Topic10\", \"Topic10\", \"Topic10\", \"Topic10\", \"Topic10\", \"Topic10\", \"Topic11\", \"Topic11\", \"Topic11\", \"Topic11\", \"Topic11\", \"Topic11\", \"Topic11\", \"Topic11\", \"Topic11\", \"Topic11\", \"Topic11\", \"Topic11\", \"Topic11\", \"Topic11\", \"Topic11\", \"Topic11\", \"Topic11\", \"Topic11\", \"Topic11\", \"Topic11\", \"Topic11\", \"Topic11\", \"Topic11\", \"Topic11\", \"Topic11\", \"Topic11\", \"Topic11\", \"Topic11\", \"Topic11\", \"Topic11\", \"Topic11\", \"Topic11\", \"Topic11\", \"Topic11\", \"Topic11\", \"Topic11\", \"Topic11\", \"Topic11\", \"Topic11\", \"Topic11\", \"Topic12\", \"Topic12\", \"Topic12\", \"Topic12\", \"Topic12\", \"Topic12\", \"Topic12\", \"Topic12\", \"Topic12\", \"Topic12\", \"Topic12\", \"Topic12\", \"Topic12\", \"Topic12\", \"Topic12\", \"Topic12\", \"Topic12\", \"Topic12\", \"Topic12\", \"Topic12\", \"Topic12\", \"Topic12\", \"Topic12\", \"Topic12\", \"Topic12\", \"Topic12\", \"Topic12\", \"Topic12\", \"Topic12\", \"Topic12\", \"Topic12\", \"Topic12\", \"Topic12\", \"Topic12\", \"Topic12\", \"Topic12\", \"Topic12\", \"Topic12\", \"Topic12\", \"Topic12\", \"Topic12\", \"Topic12\", \"Topic12\", \"Topic12\", \"Topic12\", \"Topic12\", \"Topic12\", \"Topic12\", \"Topic12\", \"Topic12\", \"Topic13\", \"Topic13\", \"Topic13\", \"Topic13\", \"Topic13\", \"Topic13\", \"Topic13\", \"Topic13\", \"Topic13\", \"Topic13\", \"Topic13\", \"Topic13\", \"Topic13\", \"Topic13\", \"Topic13\", \"Topic13\", \"Topic13\", \"Topic13\", \"Topic13\", \"Topic13\", \"Topic13\", \"Topic13\", \"Topic13\", \"Topic13\", \"Topic13\", \"Topic13\", \"Topic13\", \"Topic13\", \"Topic13\", \"Topic13\", \"Topic13\", \"Topic13\", \"Topic13\", \"Topic13\", \"Topic13\", \"Topic13\", \"Topic13\", \"Topic13\", \"Topic13\", \"Topic13\", \"Topic14\", \"Topic14\", \"Topic14\", \"Topic14\", \"Topic14\", \"Topic14\", \"Topic14\", \"Topic14\", \"Topic14\", \"Topic14\", \"Topic14\", \"Topic14\", \"Topic14\", \"Topic14\", \"Topic14\", \"Topic14\", \"Topic14\", \"Topic14\", \"Topic14\", \"Topic14\", \"Topic14\", \"Topic14\", \"Topic14\", \"Topic14\", \"Topic14\", \"Topic14\", \"Topic14\", \"Topic14\", \"Topic14\", \"Topic14\", \"Topic14\", \"Topic14\", \"Topic14\", \"Topic14\", \"Topic14\", \"Topic14\", \"Topic14\", \"Topic14\", \"Topic14\", \"Topic14\", \"Topic14\", \"Topic14\", \"Topic15\", \"Topic15\", \"Topic15\", \"Topic15\", \"Topic15\", \"Topic15\", \"Topic15\", \"Topic15\", \"Topic15\", \"Topic15\", \"Topic15\", \"Topic15\", \"Topic15\", \"Topic15\", \"Topic15\", \"Topic15\", \"Topic15\", \"Topic15\", \"Topic15\", \"Topic15\", \"Topic15\", \"Topic15\", \"Topic15\", \"Topic15\", \"Topic15\", \"Topic15\", \"Topic15\", \"Topic15\", \"Topic15\", \"Topic15\", \"Topic15\", \"Topic15\", \"Topic15\", \"Topic15\", \"Topic15\", \"Topic15\"], \"Freq\": [3.0, 5.0, 4.0, 3.0, 3.0, 1.0, 4.0, 3.0, 4.0, 2.0, 3.0, 5.0, 5.0, 2.0, 4.0, 4.0, 4.0, 4.0, 3.0, 3.0, 4.0, 4.0, 4.0, 4.0, 3.0, 3.0, 4.0, 3.0, 4.0, 2.0, 1.5540778636932373, 2.2377467155456543, 1.0418634414672852, 1.0292372703552246, 1.4026870727539062, 0.9986575245857239, 0.9929476976394653, 0.8890446424484253, 0.9180654883384705, 0.8654028177261353, 0.8473464250564575, 0.8308108448982239, 0.7563971281051636, 0.777593195438385, 0.7861286997795105, 1.2737232446670532, 1.3785803318023682, 1.0406062602996826, 1.0258984565734863, 1.2474453449249268, 1.2066569328308105, 1.217246174812317, 1.1723145246505737, 0.6875953674316406, 0.9304143786430359, 0.8965609073638916, 0.8849064111709595, 0.924379825592041, 0.6676751375198364, 0.6556233763694763, 1.12446129322052, 0.8589628338813782, 1.0467689037322998, 1.1829103231430054, 1.0227928161621094, 1.3575325012207031, 1.2308292388916016, 1.0007036924362183, 1.1158488988876343, 1.0443015098571777, 1.0768882036209106, 1.0104877948760986, 1.0041767358779907, 1.00154447555542, 0.987175464630127, 1.049983263015747, 1.4946660995483398, 2.1546640396118164, 1.3141220808029175, 1.1558343172073364, 1.0176680088043213, 1.0293912887573242, 1.0158400535583496, 1.006314992904663, 1.0069466829299927, 1.3217897415161133, 2.278637170791626, 1.6154251098632812, 1.3134363889694214, 1.6190848350524902, 0.9857053160667419, 0.9514185786247253, 0.8681652545928955, 1.153984546661377, 1.1171441078186035, 0.799996018409729, 1.0275638103485107, 1.8327885866165161, 1.0082032680511475, 1.9305211305618286, 0.9739043712615967, 0.9547653794288635, 1.2832989692687988, 1.147114634513855, 1.1948494911193848, 0.672519326210022, 0.9135788679122925, 1.1249825954437256, 1.7388311624526978, 1.4980663061141968, 1.4225274324417114, 1.080466389656067, 1.1789718866348267, 1.1380290985107422, 1.1790261268615723, 1.075704574584961, 1.132107138633728, 1.060875654220581, 2.5659396648406982, 0.9817877411842346, 1.2582260370254517, 0.9671810269355774, 1.282836675643921, 0.9266912937164307, 1.5614352226257324, 0.9207630157470703, 0.8953410983085632, 0.8535325527191162, 0.8517263531684875, 0.8278403282165527, 0.8514156937599182, 1.9045886993408203, 0.8274756073951721, 0.8390560746192932, 0.8074449896812439, 0.8067280054092407, 0.8346318006515503, 1.0474579334259033, 1.0082190036773682, 0.75927734375, 0.9907459616661072, 1.4683778285980225, 1.5082045793533325, 1.2254854440689087, 0.9717807769775391, 0.6718369126319885, 1.1499121189117432, 1.137263536453247, 0.8791255950927734, 1.1958905458450317, 1.2037819623947144, 1.094657063484192, 1.0919792652130127, 0.9781362414360046, 0.8899390697479248, 0.9759650826454163, 0.9801583290100098, 0.9292747974395752, 0.9178462028503418, 0.8882566094398499, 1.2917343378067017, 1.0571101903915405, 2.4888081550598145, 1.207115888595581, 1.4986717700958252, 1.3894152641296387, 0.8307493925094604, 1.0928553342819214, 0.7634292840957642, 1.29004967212677, 0.7087641358375549, 0.9464185237884521, 0.6967592239379883, 0.861418604850769, 0.8418387770652771, 0.6044824719429016, 0.6167737245559692, 0.8184441328048706, 0.7645941376686096, 1.0073896646499634, 0.5800588130950928, 0.7738851308822632, 0.5781826376914978, 0.935125470161438, 0.9361763000488281, 0.5674598813056946, 0.5155367255210876, 0.5377731323242188, 0.9370230436325073, 0.547804057598114, 1.0729788541793823, 1.0910636186599731, 1.0206290483474731, 0.881792426109314, 0.8825443387031555, 0.8401951789855957, 0.815704345703125, 0.820880115032196, 0.8977224230766296, 0.9963642954826355, 0.8042808175086975, 0.7758918404579163, 1.5386923551559448, 1.218410611152649, 1.5165342092514038, 1.0372124910354614, 1.0462576150894165, 0.926879346370697, 0.9133074879646301, 1.144380807876587, 0.8372430801391602, 0.8216025233268738, 0.8399038314819336, 1.0217934846878052, 0.9986209273338318, 0.9577628970146179, 0.9212638735771179, 0.9102573990821838, 0.6859291791915894, 0.9529500603675842, 0.6803485751152039, 1.3867772817611694, 0.8719040751457214, 1.0786992311477661, 0.8540771007537842, 1.0824904441833496, 1.107250452041626, 0.6323164701461792, 0.8365286588668823, 0.6371015310287476, 1.0672149658203125, 0.8226732015609741, 1.2323336601257324, 1.0857683420181274, 0.9068520069122314, 1.0689178705215454, 0.967166543006897, 0.9572615027427673, 0.9015241265296936, 0.8939713835716248, 0.8597804307937622, 1.3111611604690552, 0.9394833445549011, 0.925268292427063, 0.9062746167182922, 0.8312835097312927, 0.7882830500602722, 0.789974570274353, 0.7866713404655457, 0.784551203250885, 0.7647823095321655, 1.4257116317749023, 0.9144070148468018, 0.6663314700126648, 0.8703500628471375, 0.8648109436035156, 0.6584458351135254, 0.8322245478630066, 0.6260889172554016, 0.6322661638259888, 0.6135062575340271, 0.6112215518951416, 0.6225455403327942, 0.6054025888442993, 0.8455847501754761, 0.5716070532798767, 0.7383806705474854, 0.5787174105644226, 0.9368266463279724, 0.5757271647453308, 0.5301095843315125, 1.0549941062927246, 0.8784899711608887, 0.959929883480072, 0.9362044334411621, 0.9477351307868958, 0.7994080185890198, 0.8868400454521179, 0.7259803414344788, 0.7619374394416809, 0.7193029522895813, 0.7504336833953857, 0.7004595398902893, 1.07074773311615, 1.9977636337280273, 1.2382978200912476, 1.1559873819351196, 0.8485275506973267, 1.0735701322555542, 1.0067812204360962, 1.7138687372207642, 0.9557191729545593, 0.9507313370704651, 0.7323364615440369, 0.7532598376274109, 0.9508965611457825, 0.685663640499115, 0.6823413372039795, 1.0703123807907104, 1.2746148109436035, 0.6383522748947144, 1.1149600744247437, 0.6181855797767639, 1.0167670249938965, 0.6133792996406555, 0.8617628812789917, 0.5763830542564392, 0.5659061670303345, 0.8006318807601929, 0.7952449917793274, 0.9564936757087708, 0.5945177674293518, 0.7228085398674011, 0.9699133634567261, 1.0270878076553345, 0.975090742111206, 0.9651023745536804, 0.9425185918807983, 0.8276063203811646, 0.8482522368431091, 0.9184680581092834, 0.8238356709480286, 0.8359756469726562, 0.8549296855926514, 0.8193095922470093, 1.3011046648025513, 0.7757300138473511, 0.7505948543548584, 0.7365341782569885, 0.7267910242080688, 0.6928327679634094, 1.1361594200134277, 0.6765033602714539, 0.9057949185371399, 0.6676176190376282, 0.89691561460495, 0.6617613434791565, 0.6553047299385071, 0.6263061761856079, 1.3062201738357544, 0.622387707233429, 0.6379824876785278, 0.6109683513641357, 0.6102458238601685, 0.7969494462013245, 0.8285518288612366, 0.6224479675292969, 0.5761486887931824, 0.9850658774375916, 0.7857649326324463, 0.5725747346878052, 1.17017662525177, 0.7657060623168945, 0.9546026587486267, 0.7363168001174927, 0.7805280089378357, 0.7372020483016968, 0.904069185256958, 0.8735591769218445, 0.800554096698761, 0.7588394284248352, 0.8983540534973145, 0.8402920961380005, 0.7930143475532532, 0.7803235054016113, 0.7447050213813782, 0.7576302289962769, 0.7457524538040161, 0.7480463981628418, 1.2026550769805908, 0.9800817370414734, 0.8725770711898804, 0.8912506699562073, 0.8282997608184814, 1.1240923404693604, 0.7841278314590454, 0.8203483819961548, 0.8012765049934387, 0.7833970189094543, 0.9450206756591797, 0.7189392447471619, 0.8009431958198547, 0.9449028372764587, 0.6657729148864746, 0.9269012808799744, 1.297644019126892, 1.1193838119506836, 0.6571779847145081, 0.6258911490440369, 0.8504598140716553, 0.8403574824333191, 1.2510873079299927, 0.8013740181922913, 0.5843268632888794, 0.6308975219726562, 0.8009468913078308, 0.5575315356254578, 0.9321370124816895, 0.5507139563560486, 0.8972845673561096, 0.7198570370674133, 0.9405927658081055, 1.0718530416488647, 0.8088572025299072, 0.8417994379997253, 0.7887202501296997, 0.8391148447990417, 0.7700192928314209, 0.7704432606697083, 0.944009006023407, 0.8918204307556152, 0.9017063975334167, 0.8840726017951965, 0.8029033541679382, 0.8227712512016296, 0.7972225546836853, 1.044449806213379, 1.0127475261688232, 0.7052618265151978, 0.8941448926925659, 0.950760543346405, 0.649581253528595, 0.9063174724578857, 0.8584162592887878, 1.2855291366577148, 0.8306078314781189, 0.5678052306175232, 0.7612744569778442, 0.5482792854309082, 0.551008403301239, 0.5597947239875793, 1.1115694046020508, 1.06075119972229, 0.506565272808075, 0.522175133228302, 0.5210769176483154, 0.7072073221206665, 0.870422899723053, 0.6758632659912109, 0.8448755741119385, 0.8310703039169312, 0.9571269154548645, 0.8759264349937439, 1.3270708322525024, 0.9087117314338684, 0.8652974367141724, 0.9258211851119995, 0.8390191793441772, 0.8113623261451721, 0.7883090972900391, 1.491329312324524, 0.9741073250770569, 0.9538430571556091, 0.900612473487854, 1.2119238376617432, 1.4821362495422363, 0.8509981632232666, 1.6291730403900146, 0.8183192014694214, 0.8180777430534363, 0.8224905133247375, 0.8160731196403503, 0.8044887185096741, 0.7917360067367554, 0.7720856070518494, 0.7563121318817139, 0.733314037322998, 0.6809004545211792, 1.1286762952804565, 1.0917246341705322, 0.9002669453620911, 0.6291316151618958, 1.2664469480514526, 0.8350031971931458, 0.8262161016464233, 1.00160551071167, 0.5792495608329773, 0.8599949479103088, 0.775996208190918, 0.7868494391441345, 1.130158543586731, 0.771240770816803, 0.8920928239822388, 0.8742900490760803, 1.0215328931808472, 0.912786066532135, 0.8669230341911316, 0.8335906863212585, 0.7998360395431519, 0.7961257100105286, 1.05512535572052, 1.11528480052948, 0.79960697889328, 0.762614369392395, 0.7537391781806946, 0.7529385089874268, 1.4636688232421875, 0.9750091433525085, 0.7480198740959167, 0.7119001746177673, 0.7164109349250793, 0.7096166610717773, 0.6881619095802307, 0.6876093149185181, 0.6951203942298889, 0.7004821300506592, 0.6531952023506165, 0.8706700801849365, 0.6345565915107727, 0.6365052461624146, 0.6201062798500061, 0.6312811374664307, 0.8515228033065796, 1.084818959236145, 0.6101388931274414, 0.6029082536697388, 0.7956043481826782, 0.5653747916221619, 0.5967844128608704, 0.5795079469680786, 1.0646958351135254, 1.0369211435317993, 0.7228575348854065, 0.911422610282898, 0.8415497541427612, 0.9775555729866028, 0.7335839867591858, 0.7286938428878784, 0.7248438000679016, 0.7872908711433411, 0.8174287676811218, 0.8397048711776733, 0.8037285208702087, 0.7626124024391174, 0.7575439810752869, 0.7383224368095398, 0.7453098893165588, 0.7450798749923706, 0.7323828935623169, 0.7290608286857605, 1.1097996234893799, 0.7412340641021729, 0.7333321571350098, 0.7050679326057434, 1.1122077703475952, 0.6244398355484009, 0.6561310291290283, 0.6561270952224731, 0.6295994520187378, 0.623012363910675, 0.5944863557815552, 0.8185203671455383, 0.5909223556518555, 0.7685405611991882, 0.5517691373825073, 0.5467696785926819, 0.5276331305503845, 0.8687944412231445, 0.5166341066360474, 0.4918689727783203, 0.4918861985206604, 0.4856007397174835, 0.4807209074497223, 0.6609156727790833, 0.4675031900405884, 0.624639630317688, 0.6261538863182068, 1.0525259971618652, 0.6079191565513611, 0.45545628666877747, 0.714228630065918, 0.8606664538383484, 0.8094403147697449, 0.7878175973892212, 0.8641985058784485, 0.6563363075256348, 0.757857620716095, 0.6947358846664429, 0.6162251830101013, 0.6366241574287415, 1.1812084913253784, 0.8489152193069458, 0.7568516731262207, 1.4611084461212158, 0.701087236404419, 0.9528616666793823, 0.684400200843811, 0.6790388226509094, 0.6718871593475342, 0.6694843769073486, 0.6589036583900452, 0.7969404458999634, 0.6328274011611938, 0.6409047245979309, 0.6204918622970581, 0.6360149383544922, 0.7697328329086304, 0.5233858227729797, 0.8291747570037842, 0.4892042577266693, 0.7333567142486572, 0.5728321075439453, 0.569625973701477, 0.4340371787548065, 0.5912869572639465, 0.4164183735847473, 0.8393343091011047, 0.5657558441162109, 0.39872944355010986, 0.8386681079864502, 0.6744399666786194, 0.7531987428665161, 0.6423279643058777, 0.7250911593437195, 0.7238848209381104, 0.7845275402069092, 0.7653161883354187, 0.6328422427177429, 0.6513811349868774, 0.6832022666931152, 0.6778019070625305, 0.6501883268356323, 0.7588964104652405, 0.7446991205215454, 0.7173232436180115, 0.6374264359474182, 0.6417790651321411, 0.6417780518531799, 0.6629025340080261, 0.6297221183776855, 0.825678288936615, 0.7737709283828735, 0.5103062391281128, 0.8380163908004761, 0.8088595867156982, 1.0052179098129272, 0.9754495024681091, 0.6453210115432739, 0.6234439015388489, 0.46189549565315247, 0.7554093599319458, 0.9078832268714905, 0.4578217566013336, 0.4232560396194458, 0.6823148131370544, 0.8794378638267517, 0.5349621176719666, 0.5390424132347107, 0.542340874671936, 0.6326709389686584, 0.5079641342163086, 0.7665715217590332, 0.7101653218269348, 0.7265403866767883, 0.5748863816261292, 0.5840758085250854, 0.5484182238578796, 0.5447870492935181], \"Term\": [\"test\", \"dogs\", \"rock\", \"clarissa\", \"wireless\", \"bomb\", \"dessert\", \"luv\", \"lil\", \"knowledgeable\", \"pleasantly\", \"gonna\", \"scratch\", \"version\", \"double\", \"pleasure\", \"overpriced\", \"arizona\", \"energy\", \"creative\", \"spicy\", \"character\", \"hood\", \"available\", \"bacon\", \"takes\", \"sale\", \"cause\", \"average\", \"calm\", \"dark\", \"actual\", \"guessed\", \"children\", \"training\", \"email\", \"java\", \"beginnings\", \"poppyseed\", \"woohoo\", \"stock\", \"game\", \"conversations\", \"couples\", \"economy\", \"offers\", \"stayed\", \"date\", \"humus\", \"stamps\", \"living\", \"month\", \"cs\", \"camera\", \"joints\", \"deviled\", \"caf\\u00e9\", \"gems\", \"period\", \"magazines\", \"gotta\", \"personable\", \"grey\", \"poor\", \"members\", \"deal\", \"earl\", \"alternative\", \"flies\", \"croissant\", \"despite\", \"serve\", \"noise\", \"sodas\", \"neat\", \"banana\", \"tomorrow\", \"historic\", \"dutch\", \"listen\", \"starbuck\", \"remains\", \"nestled\", \"perky\", \"earth\", \"stronger\", \"scratch\", \"escape\", \"wrap\", \"hassle\", \"authentic\", \"rarity\", \"exceptionally\", \"sandweg\", \"stumbled\", \"sipping\", \"superb\", \"fat\", \"workers\", \"friday\", \"low\", \"sent\", \"stayed\", \"pricey\", \"parked\", \"nd\", \"reply\", \"thankful\", \"tip\", \"sprinkles\", \"heck\", \"layout\", \"opinion\", \"crispy\", \"pumpkin\", \"filling\", \"avenue\", \"cooper\", \"test\", \"quarters\", \"incredible\", \"wednesday\", \"overwhelming\", \"shifts\", \"wireless\", \"improve\", \"sized\", \"smelt\", \"cocoa\", \"content\", \"meals\", \"csc\", \"snob\", \"oven\", \"stoked\", \"spotty\", \"immediate\", \"blackberry\", \"fav\", \"california\", \"suggest\", \"expecting\", \"waited\", \"particular\", \"dad\", \"deep\", \"tasting\", \"bought\", \"tho\", \"sucks\", \"middle\", \"mixed\", \"groups\", \"faces\", \"wanting\", \"single\", \"snack\", \"meh\", \"friday\", \"specialty\", \"watered\", \"blues\", \"dogs\", \"biz\", \"takes\", \"energy\", \"names\", \"summer\", \"comfort\", \"creamy\", \"worry\", \"gotten\", \"owns\", \"sofas\", \"speedy\", \"pricing\", \"unbelievably\", \"tricky\", \"decorated\", \"satisfying\", \"honesty\", \"pulling\", \"streets\", \"clarissa\", \"ingredients\", \"subpar\", \"tropical\", \"peak\", \"tasting\", \"deliciously\", \"stopping\", \"mood\", \"giant\", \"attitude\", \"distracting\", \"venue\", \"sweets\", \"asking\", \"noise\", \"deal\", \"anyways\", \"meh\", \"knowledgeable\", \"trouble\", \"pet\", \"hack\", \"coworkers\", \"lips\", \"tends\", \"desert\", \"perfection\", \"raisin\", \"authentic\", \"eventually\", \"aesthetics\", \"kudos\", \"loyalty\", \"bigger\", \"nostalgic\", \"accommodating\", \"stores\", \"pleasure\", \"provided\", \"clarissa\", \"proper\", \"spending\", \"buying\", \"theme\", \"az\", \"worst\", \"hello\", \"upset\", \"lost\", \"gotta\", \"venue\", \"unlike\", \"shopping\", \"keeps\", \"neat\", \"hell\", \"twice\", \"trash\", \"unexpectedly\", \"antiquing\", \"coffeeshop\", \"details\", \"timers\", \"recycling\", \"hooray\", \"program\", \"disappoint\", \"character\", \"rocks\", \"antique\", \"frequently\", \"crisp\", \"began\", \"pecan\", \"basis\", \"cocoa\", \"happily\", \"multiple\", \"lanes\", \"legit\", \"pie\", \"supposed\", \"welcomed\", \"veggies\", \"machine\", \"plants\", \"cappuccinos\", \"lost\", \"overpriced\", \"hell\", \"bright\", \"ready\", \"item\", \"greeted\", \"favor\", \"mellow\", \"sweets\", \"friday\", \"fountain\", \"event\", \"double\", \"pain\", \"drop\", \"artistic\", \"smoke\", \"sell\", \"gonna\", \"sounds\", \"records\", \"ain\", \"broke\", \"hospitality\", \"planning\", \"loves\", \"coolest\", \"results\", \"password\", \"overpriced\", \"posted\", \"shame\", \"major\", \"workers\", \"painted\", \"happily\", \"croissants\", \"season\", \"background\", \"burn\", \"everyday\", \"stamps\", \"hope\", \"plush\", \"average\", \"world\", \"reasonably\", \"wireless\", \"frosting\", \"owners\", \"indian\", \"truly\", \"fly\", \"pleasantly\", \"ya\", \"offerings\", \"chatty\", \"appropriate\", \"intimate\", \"important\", \"balanced\", \"tho\", \"tattoo\", \"sister\", \"piercing\", \"healthy\", \"pieces\", \"available\", \"foot\", \"prepared\", \"students\", \"introducing\", \"outdoors\", \"law\", \"indoors\", \"class\", \"nicer\", \"provided\", \"hangout\", \"hood\", \"stations\", \"charge\", \"gayborhood\", \"stumbled\", \"traffic\", \"cranberry\", \"lil\", \"ingredients\", \"sweetness\", \"tip\", \"heck\", \"snack\", \"houses\", \"hits\", \"rolls\", \"works\", \"gonna\", \"deliver\", \"session\", \"gladly\", \"learned\", \"stools\", \"favorites\", \"mango\", \"slammed\", \"worst\", \"received\", \"anniversary\", \"dang\", \"email\", \"ownership\", \"topped\", \"split\", \"arizona\", \"comment\", \"caught\", \"steady\", \"sigh\", \"points\", \"weekends\", \"smiling\", \"craft\", \"guessed\", \"sent\", \"tolerable\", \"slight\", \"button\", \"radio\", \"kids\", \"sale\", \"despite\", \"layout\", \"exactly\", \"says\", \"pleasure\", \"college\", \"biggest\", \"dont\", \"reflects\", \"detour\", \"silk\", \"complimentary\", \"hooray\", \"received\", \"dig\", \"carry\", \"cali\", \"shaded\", \"joints\", \"lightly\", \"craving\", \"checked\", \"spicy\", \"berry\", \"balanced\", \"nathan\", \"created\", \"curve\", \"apart\", \"piece\", \"available\", \"leaves\", \"vs\", \"weekday\", \"forgot\", \"seats\", \"sammy\", \"attitude\", \"likely\", \"flavorful\", \"hits\", \"banana\", \"rich\", \"wearing\", \"rolls\", \"works\", \"nut\", \"opinion\", \"luv\", \"impressive\", \"refurbished\", \"sooooo\", \"common\", \"cause\", \"modern\", \"dessert\", \"suggestion\", \"metal\", \"talkative\", \"patrons\", \"award\", \"chili\", \"bottle\", \"clientele\", \"act\", \"forgotten\", \"hold\", \"surprise\", \"usual\", \"greasy\", \"sale\", \"watch\", \"fits\", \"wow\", \"affordable\", \"upbeat\", \"sooo\", \"mint\", \"spice\", \"luck\", \"def\", \"creative\", \"dogs\", \"crispy\", \"stamp\", \"shopping\", \"mood\", \"fine\", \"faster\", \"absolute\", \"pass\", \"complain\", \"hunt\", \"lets\", \"cartel\", \"bucks\", \"emails\", \"appealing\", \"uncomfortable\", \"tad\", \"overheard\", \"weekly\", \"online\", \"lively\", \"pieces\", \"expensive\", \"warning\", \"beats\", \"peace\", \"tarts\", \"shaded\", \"pricey\", \"mild\", \"negative\", \"blocks\", \"eager\", \"receive\", \"complimentary\", \"lil\", \"giant\", \"st\", \"offers\", \"meaning\", \"beans\", \"proper\", \"honest\", \"stood\", \"def\", \"bike\", \"spent\", \"hood\", \"choices\", \"consider\", \"pleasantly\", \"nut\", \"unlike\", \"knock\", \"foam\", \"version\", \"rainy\", \"lifts\", \"stretch\", \"bacon\", \"closest\", \"affordable\", \"mature\", \"fave\", \"expanded\", \"acquired\", \"exceptional\", \"mango\", \"stole\", \"john\", \"host\", \"lit\", \"leaving\", \"whipped\", \"overrated\", \"session\", \"resident\", \"concoction\", \"difficult\", \"whip\", \"calm\", \"lacking\", \"city\", \"unpretentious\", \"dangerously\", \"finished\", \"thinking\", \"ham\", \"single\", \"exposed\", \"clarissa\", \"earl\", \"moment\", \"impression\", \"brownies\", \"bomb\", \"cakes\", \"tropical\", \"rock\", \"nicest\", \"quirky\", \"hint\", \"original\", \"feedback\", \"brunch\", \"boss\", \"drinkers\", \"attracts\", \"commercial\", \"mic\", \"influence\", \"homey\", \"mediocre\", \"sense\", \"leaning\", \"baking\", \"bands\", \"patronizing\", \"leaves\", \"complete\", \"certain\", \"overly\", \"bold\", \"sweeter\", \"average\", \"driven\", \"diverse\", \"orange\", \"mark\", \"pay\", \"middle\", \"feeling\", \"taken\", \"serve\", \"scratch\", \"truly\", \"main\", \"connect\", \"nonetheless\", \"dollars\", \"closest\", \"eager\", \"counts\", \"galore\", \"paintings\", \"bitch\", \"wood\", \"krispy\", \"count\", \"creative\", \"annoying\", \"reliable\", \"maricopa\", \"fruity\", \"ex\", \"handmade\", \"key\", \"finish\", \"sweeter\", \"hipsters\", \"smaller\", \"events\", \"practically\", \"buttery\", \"road\", \"walks\", \"tone\", \"arizona\", \"assortment\", \"hop\", \"croissant\", \"tastes\", \"moment\"], \"Total\": [3.0, 5.0, 4.0, 3.0, 3.0, 1.0, 4.0, 3.0, 4.0, 2.0, 3.0, 5.0, 5.0, 2.0, 4.0, 4.0, 4.0, 4.0, 3.0, 3.0, 4.0, 4.0, 4.0, 4.0, 3.0, 3.0, 4.0, 3.0, 4.0, 2.0, 2.522278308868408, 4.180983543395996, 2.4396755695343018, 2.4151861667633057, 3.296123504638672, 2.463270902633667, 2.4995384216308594, 2.37032413482666, 2.4789111614227295, 2.442189931869507, 2.432377338409424, 2.401752233505249, 2.2823569774627686, 2.3469643592834473, 2.3992955684661865, 3.8971762657165527, 4.219869136810303, 3.192054033279419, 3.1609280109405518, 4.027698040008545, 3.914076328277588, 3.991302251815796, 3.9336133003234863, 2.3296070098876953, 3.1688790321350098, 3.139737606048584, 3.110464334487915, 3.2787184715270996, 2.3753914833068848, 2.343129873275757, 4.05769157409668, 3.1284682750701904, 3.956480026245117, 4.638146877288818, 3.8758418560028076, 6.211755752563477, 5.369791030883789, 3.855329751968384, 5.403613567352295, 4.693289756774902, 5.364414691925049, 4.39973783493042, 4.6837568283081055, 4.633803367614746, 4.577036380767822, 7.717147350311279, 2.5162978172302246, 4.149461269378662, 2.567106008529663, 2.4503262042999268, 2.3938112258911133, 2.4248783588409424, 2.3945655822753906, 2.391433000564575, 2.4027559757232666, 3.2262167930603027, 5.576609134674072, 3.990919351577759, 3.271603584289551, 4.033420085906982, 2.470595121383667, 2.389542818069458, 2.4048500061035156, 3.2015061378479004, 3.141409158706665, 2.395758867263794, 3.092026472091675, 5.672159194946289, 3.2467966079711914, 6.303192138671875, 3.1845052242279053, 3.1292123794555664, 4.219869136810303, 3.7789134979248047, 3.9626171588897705, 2.3093056678771973, 3.141941785812378, 3.915438413619995, 6.267126083374023, 5.440467834472656, 5.314525127410889, 3.861079692840576, 4.680809497833252, 4.629524230957031, 5.456017017364502, 3.8464438915252686, 5.388158798217773, 3.85086989402771, 3.90236759185791, 2.3006677627563477, 3.028928756713867, 2.351041793823242, 3.18276047706604, 2.3112564086914062, 3.8983469009399414, 2.3015146255493164, 2.323033094406128, 2.2459747791290283, 2.254566192626953, 2.2556467056274414, 2.3501393795013428, 5.26995849609375, 2.3137142658233643, 2.361238956451416, 2.274595260620117, 2.279928207397461, 2.3760223388671875, 3.056436538696289, 3.020059823989868, 2.2840027809143066, 3.012012243270874, 4.538651943206787, 4.669571876525879, 3.7979683876037598, 3.160841226577759, 2.1893160343170166, 3.7918314933776855, 3.7850961685180664, 2.9543774127960205, 4.564706325531006, 5.073453903198242, 4.524906635284424, 4.8212432861328125, 3.7534000873565674, 3.0301122665405273, 4.338860511779785, 4.460345268249512, 5.345930099487305, 6.303192138671875, 4.469411373138428, 2.223384141921997, 2.2500011920928955, 5.928596496582031, 2.964576005935669, 3.7731151580810547, 3.8834753036499023, 2.3360629081726074, 3.0789577960968018, 2.2024965286254883, 3.724743604660034, 2.2184853553771973, 3.045497179031372, 2.2438364028930664, 2.9896514415740967, 3.013868570327759, 2.1821937561035156, 2.237050771713257, 3.0348050594329834, 2.882012367248535, 3.8223390579223633, 2.2099149227142334, 3.002410888671875, 2.275228500366211, 3.68744158744812, 3.7090773582458496, 2.2513108253479004, 2.0638415813446045, 2.168189764022827, 3.7918314933776855, 2.217919111251831, 4.37954568862915, 4.465616226196289, 4.285407066345215, 3.74204158782959, 3.793600082397461, 3.7450807094573975, 3.783433675765991, 3.8513433933258057, 4.6837568283081055, 6.211755752563477, 4.35911750793457, 5.345930099487305, 2.317349672317505, 2.29164457321167, 3.077590227127075, 2.2804548740386963, 2.3218438625335693, 2.284336805343628, 2.3032724857330322, 2.987391233444214, 2.2448248863220215, 2.2969233989715576, 2.470595121383667, 3.01812744140625, 3.083197593688965, 3.0586891174316406, 2.955369234085083, 2.9567501544952393, 2.2423911094665527, 3.116424560546875, 2.2656960487365723, 4.6480865478515625, 2.945415496826172, 3.68744158744812, 2.950679063796997, 3.73987078666687, 3.9157776832580566, 2.2380576133728027, 2.971876859664917, 2.2713277339935303, 3.867976188659668, 3.0005762577056885, 4.568766117095947, 4.05769157409668, 3.7450807094573975, 5.201467990875244, 4.473678112030029, 4.415947914123535, 4.577036380767822, 4.6042160987854, 4.401562690734863, 2.9549314975738525, 2.2403149604797363, 2.2129876613616943, 2.2058756351470947, 2.244633197784424, 2.152824878692627, 2.1679437160491943, 2.255734443664551, 2.253634214401245, 2.223630428314209, 4.494020462036133, 2.9978039264678955, 2.2123255729675293, 2.947150230407715, 2.938619613647461, 2.240081310272217, 2.9098093509674072, 2.2253942489624023, 2.254566192626953, 2.192204236984253, 2.2541134357452393, 2.2990894317626953, 2.2667222023010254, 3.179081439971924, 2.156924247741699, 2.8726370334625244, 2.2726447582244873, 3.6904456615448, 2.297173023223877, 2.218231678009033, 4.568766117095947, 4.000884056091309, 4.6042160987854, 4.552089214324951, 4.692413330078125, 3.7108569145202637, 4.53315544128418, 3.1506640911102295, 4.434017181396484, 3.783433675765991, 6.303192138671875, 4.473256587982178, 2.327901601791382, 4.629069805145264, 2.9701955318450928, 3.128077507019043, 2.31117582321167, 3.0045487880706787, 3.0803353786468506, 5.276412010192871, 2.946150779724121, 2.938969135284424, 2.27390193939209, 2.374173164367676, 3.036663293838501, 2.217988967895508, 2.3408186435699463, 3.7238569259643555, 4.481745719909668, 2.265101194381714, 4.000884056091309, 2.2199037075042725, 3.735039234161377, 2.257019281387329, 3.2467966079711914, 2.2071759700775146, 2.192204236984253, 3.107877492904663, 3.1461398601531982, 3.838137626647949, 2.394953489303589, 2.978999376296997, 4.027698040008545, 4.6704630851745605, 4.428343296051025, 4.423778533935547, 4.404502868652344, 3.6457231044769287, 3.8983469009399414, 5.054065704345703, 4.705688953399658, 5.189717769622803, 6.656534671783447, 2.1858978271484375, 3.4947242736816406, 2.1957428455352783, 2.1626734733581543, 2.159883737564087, 2.1831936836242676, 2.108736991882324, 3.6097893714904785, 2.1941444873809814, 2.9543774127960205, 2.1954469680786133, 2.9874179363250732, 2.209113836288452, 2.190293550491333, 2.1171460151672363, 4.428455352783203, 2.179347276687622, 2.2626953125, 2.2032625675201416, 2.2221779823303223, 2.9023725986480713, 3.030952215194702, 2.284550428390503, 2.1295700073242188, 3.6908719539642334, 2.945415496826172, 2.166322946548462, 4.430647850036621, 2.913933277130127, 3.7245452404022217, 2.8788318634033203, 3.141409158706665, 2.9262349605560303, 4.32190465927124, 4.288104057312012, 3.7090773582458496, 3.6960537433624268, 6.267126083374023, 5.314525127410889, 4.460345268249512, 4.3782057762146, 4.258744716644287, 5.081835746765137, 4.404879570007324, 5.276412010192871, 2.237281322479248, 2.1504197120666504, 2.283707618713379, 2.3436765670776367, 2.2005739212036133, 2.997924327850342, 2.1324691772460938, 2.309983968734741, 2.2713277339935303, 2.276862144470215, 2.8282315731048584, 2.2103962898254395, 2.463270902633667, 2.9648637771606445, 2.185943841934204, 3.0508697032928467, 4.3165788650512695, 3.7775449752807617, 2.259523630142212, 2.1582159996032715, 2.9558303356170654, 2.993539333343506, 4.553439140319824, 2.932058811187744, 2.257784128189087, 2.4396755695343018, 3.1292123794555664, 2.2494518756866455, 3.7624356746673584, 2.2493903636932373, 3.7148072719573975, 2.9760875701904297, 4.440659999847412, 5.364414691925049, 3.861079692840576, 4.440195560455322, 3.7587320804595947, 4.6480865478515625, 3.684988498687744, 4.54940128326416, 2.2553253173828125, 2.2093944549560547, 2.273015022277832, 2.2828516960144043, 2.1934316158294678, 2.255734443664551, 2.276862144470215, 3.0133278369903564, 2.973334550857544, 2.214846134185791, 2.9444241523742676, 3.1688790321350098, 2.1879966259002686, 3.1224913597106934, 2.967365026473999, 4.508111476898193, 3.0502829551696777, 2.1941444873809814, 3.001110553741455, 2.1961677074432373, 2.2177021503448486, 2.2571756839752197, 4.5613322257995605, 4.428455352783203, 2.1416189670562744, 2.2342934608459473, 2.2404420375823975, 3.064337968826294, 3.816007375717163, 2.9844062328338623, 3.74204158782959, 3.699481725692749, 4.6249566078186035, 4.258744716644287, 7.717147350311279, 4.5458598136901855, 4.4975738525390625, 5.081835746765137, 4.404879570007324, 4.4150710105896, 4.680809497833252, 3.0139663219451904, 2.21348237991333, 2.235149621963501, 2.19850492477417, 2.9601662158966064, 3.736783266067505, 2.170055627822876, 4.377163410186768, 2.21069073677063, 2.2229974269866943, 2.236844539642334, 2.220430612564087, 2.229633092880249, 2.22287917137146, 2.242957592010498, 2.2360775470733643, 2.225053548812866, 2.221785306930542, 3.6835455894470215, 3.602860450744629, 3.0817482471466064, 2.1919500827789307, 4.440659999847412, 2.966484546661377, 2.9607462882995605, 3.5934648513793945, 2.089416980743408, 3.132645845413208, 2.845806360244751, 2.9061217308044434, 4.461555480957031, 2.9026784896850586, 3.5772547721862793, 3.48720645904541, 5.928596496582031, 4.629524230957031, 4.486876964569092, 4.473678112030029, 4.465616226196289, 4.44746732711792, 2.0886547565460205, 2.7522196769714355, 2.209695816040039, 2.145418167114258, 2.150519371032715, 2.160101890563965, 4.208125591278076, 2.819946050643921, 2.1932859420776367, 2.1227242946624756, 2.1415553092956543, 2.170074939727783, 2.134860038757324, 2.135495901107788, 2.1715636253356934, 2.2328522205352783, 2.1171460151672363, 2.946183443069458, 2.148533344268799, 2.1834349632263184, 2.136763095855713, 2.1762239933013916, 2.9444241523742676, 3.7789134979248047, 2.135164499282837, 2.1381349563598633, 2.8321964740753174, 2.0257813930511475, 2.218961477279663, 2.1934316158294678, 4.288104057312012, 4.285407066345215, 2.8328797817230225, 3.8971762657165527, 3.634416341781616, 5.056295394897461, 2.950679063796997, 2.9203953742980957, 2.937272548675537, 3.5772547721862793, 4.3503193855285645, 5.136518478393555, 4.430647850036621, 3.723109006881714, 3.7007625102996826, 3.4947242736816406, 4.4150710105896, 5.201467990875244, 3.705885410308838, 4.286864757537842, 2.003880262374878, 2.0514073371887207, 2.143714427947998, 2.114543914794922, 3.4412472248077393, 1.9739272594451904, 2.089416980743408, 2.117128372192383, 2.087904930114746, 2.11875057220459, 2.0621542930603027, 2.859231948852539, 2.1324691772460938, 2.8701484203338623, 2.0839576721191406, 2.1445517539978027, 2.110736131668091, 3.5545578002929688, 2.150221347808838, 2.1263039112091064, 2.1504197120666504, 2.135817289352417, 2.13424015045166, 2.9406931400299072, 2.1000046730041504, 2.816459894180298, 2.904425859451294, 4.950408935546875, 2.9283950328826904, 2.2002112865448, 3.6063356399536133, 4.4266839027404785, 4.271894931793213, 4.338860511779785, 5.847334384918213, 3.68744158744812, 5.369791030883789, 5.053635120391846, 3.627298355102539, 4.372983455657959, 1.9434163570404053, 2.0282318592071533, 2.0638415813446045, 4.103000640869141, 2.071672201156616, 2.816103219985962, 2.0654542446136475, 2.076108455657959, 2.094179153442383, 2.1126325130462646, 2.1002721786499023, 2.6290297508239746, 2.0915656089782715, 2.145634412765503, 2.092010021209717, 2.15384840965271, 2.8646481037139893, 2.1172544956207275, 3.6204545497894287, 2.1578829288482666, 3.4956367015838623, 2.7753381729125977, 2.7981107234954834, 2.1416189670562744, 2.9366304874420166, 2.1262950897216797, 4.289179801940918, 2.9072723388671875, 2.067291259765625, 4.423778533935547, 3.680330276489258, 4.3891472816467285, 3.6319713592529297, 4.302584171295166, 4.38331937789917, 5.073453903198242, 5.061446189880371, 3.565967559814453, 4.39973783493042, 5.576609134674072, 6.656534671783447, 4.403234004974365, 2.0356287956237793, 2.0352623462677, 2.1204357147216797, 1.9739272594451904, 2.0257813930511475, 2.078986406326294, 2.149678945541382, 2.1290535926818848, 2.887101888656616, 2.8706603050231934, 2.1969103813171387, 3.6092958450317383, 3.48720645904541, 4.339333534240723, 4.312434673309326, 2.8539018630981445, 2.847607374191284, 2.148064613342285, 3.608293056488037, 4.346536636352539, 2.191924810409546, 2.067291259765625, 3.492302417755127, 4.518290042877197, 2.8385331630706787, 2.870302200317383, 2.9312729835510254, 3.5318894386291504, 2.8979060649871826, 4.391222953796387, 4.3165788650512695, 4.604728698730469, 3.707364797592163, 4.693289756774902, 5.411479949951172, 5.053635120391846], \"loglift\": [30.0, 29.0, 28.0, 27.0, 26.0, 25.0, 24.0, 23.0, 22.0, 21.0, 20.0, 19.0, 18.0, 17.0, 16.0, 15.0, 14.0, 13.0, 12.0, 11.0, 10.0, 9.0, 8.0, 7.0, 6.0, 5.0, 4.0, 3.0, 2.0, 1.0, 1.9083000421524048, 1.7675000429153442, 1.541700005531311, 1.5396000146865845, 1.5382000207901, 1.4896999597549438, 1.4694000482559204, 1.4119000434875488, 1.3992999792099, 1.3551000356674194, 1.3380000591278076, 1.3309999704360962, 1.2882000207901, 1.2878999710083008, 1.2768000364303589, 1.2742999792099, 1.273800015449524, 1.2717000246047974, 1.267300009727478, 1.2204999923706055, 1.2158000469207764, 1.2050000429153442, 1.1820000410079956, 1.1722999811172485, 1.167099952697754, 1.13919997215271, 1.1354999542236328, 1.1265000104904175, 1.1233999729156494, 1.118899941444397, 1.1093000173568726, 1.100000023841858, 1.0628999471664429, 1.0262000560760498, 1.0602999925613403, 0.8718000054359436, 0.9194999933242798, 1.0437999963760376, 0.8151000142097473, 0.8898000121116638, 0.786899983882904, 0.921500027179718, 0.8525999784469604, 0.8607000112533569, 0.8586000204086304, 0.3978999853134155, 1.9132000207901, 1.7788000106811523, 1.7645000219345093, 1.6827000379562378, 1.5786999464035034, 1.577299952507019, 1.5765999555587769, 1.56850004196167, 1.5643999576568604, 1.5418000221252441, 1.5391000509262085, 1.5297000408172607, 1.5214999914169312, 1.521399974822998, 1.5153000354766846, 1.513200044631958, 1.4153000116348267, 1.413699984550476, 1.4002000093460083, 1.3372999429702759, 1.3324999809265137, 1.3043999671936035, 1.2646000385284424, 1.2509000301361084, 1.249400019645691, 1.246999979019165, 1.2438000440597534, 1.2418999671936035, 1.235200047492981, 1.2003999948501587, 1.1988999843597412, 1.187000036239624, 1.1519999504089355, 1.1444000005722046, 1.1160999536514282, 1.160599946975708, 1.055299997329712, 1.031000018119812, 0.9021000266075134, 1.1598999500274658, 0.8740000128746033, 1.1448999643325806, 2.1861000061035156, 1.7538000345230103, 1.7267999649047852, 1.7171000242233276, 1.6966999769210815, 1.6914000511169434, 1.6904000043869019, 1.6892000436782837, 1.651900053024292, 1.6377999782562256, 1.6318999528884888, 1.6030000448226929, 1.590000033378601, 1.5875999927520752, 1.5771000385284424, 1.5707000494003296, 1.569700002670288, 1.5664000511169434, 1.5592000484466553, 1.534500002861023, 1.5082999467849731, 1.503999948501587, 1.493399977684021, 1.4768999814987183, 1.4752000570297241, 1.4742000102996826, 1.4258999824523926, 1.4240000247955322, 1.4121999740600586, 1.402899980545044, 1.3932000398635864, 1.2659000158309937, 1.1668000221252441, 1.1862000226974487, 1.120300054550171, 1.260599970817566, 1.3801000118255615, 1.1133999824523926, 1.0901000499725342, 0.8557000160217285, 0.678600013256073, 0.9896000027656555, 2.115000009536743, 1.9026000499725342, 1.7900999784469604, 1.7595000267028809, 1.7346999645233154, 1.6302000284194946, 1.6240999698638916, 1.6222000122070312, 1.5985000133514404, 1.5976999998092651, 1.5169999599456787, 1.489300012588501, 1.4884999990463257, 1.413699984550476, 1.382599949836731, 1.3743000030517578, 1.3696000576019287, 1.347499966621399, 1.3310999870300293, 1.3244999647140503, 1.3205000162124634, 1.302299976348877, 1.288100004196167, 1.2860000133514404, 1.2812999486923218, 1.2798999547958374, 1.270900011062622, 1.263800024986267, 1.26010000705719, 1.259600043296814, 1.2515000104904175, 1.2488000392913818, 1.2231999635696411, 1.2125999927520752, 1.1998000144958496, 1.1634999513626099, 1.1237000226974487, 1.1122000217437744, 1.00600004196167, 0.828000009059906, 0.9679999947547913, 0.7279999852180481, 2.2690000534057617, 2.046799898147583, 1.9708000421524048, 1.8905999660491943, 1.8812999725341797, 1.7764999866485596, 1.753499984741211, 1.7188999652862549, 1.692199945449829, 1.6504000425338745, 1.5995999574661255, 1.5953999757766724, 1.5511000156402588, 1.517300009727478, 1.5127999782562256, 1.5003999471664429, 1.49399995803833, 1.4936000108718872, 1.4753999710083008, 1.468999981880188, 1.4611999988555908, 1.4493000507354736, 1.4386999607086182, 1.4386999607086182, 1.4153000116348267, 1.4144999980926514, 1.4107999801635742, 1.4072999954223633, 1.3907999992370605, 1.3845000267028809, 1.3681000471115112, 1.360200047492981, 1.2603000402450562, 1.0961999893188477, 1.1469000577926636, 1.1496000289916992, 1.0537999868392944, 1.0393999814987183, 1.0454000234603882, 1.8776999711990356, 1.8212000131607056, 1.8183000087738037, 1.8006999492645264, 1.6970000267028809, 1.6856000423431396, 1.6806999444961548, 1.6368999481201172, 1.63510000705719, 1.6230000257492065, 1.542199969291687, 1.5029000043869019, 1.4903000593185425, 1.4706000089645386, 1.4671000242233276, 1.46589994430542, 1.4385000467300415, 1.4220999479293823, 1.4189000129699707, 1.4168000221252441, 1.385200023651123, 1.3838000297546387, 1.3701000213623047, 1.3660000562667847, 1.3623000383377075, 1.3317999839782715, 1.3223999738693237, 1.3193000555038452, 1.30649995803833, 1.2589000463485718, 1.2245999574661255, 1.1742000579833984, 1.1224000453948975, 1.1088000535964966, 1.0907000303268433, 1.1550999879837036, 1.0587999820709229, 1.2223999500274658, 0.929099977016449, 1.0302000045776367, 0.5620999932289124, 0.8360999822616577, 1.9184999465942383, 1.8547999858856201, 1.820199966430664, 1.6996999979019165, 1.6930999755859375, 1.6660000085830688, 1.576799988746643, 1.5706000328063965, 1.5693000555038452, 1.566499948501587, 1.5621000528335571, 1.5470999479293823, 1.534000039100647, 1.5211999416351318, 1.462399959564209, 1.4483000040054321, 1.4378000497817993, 1.4285999536514282, 1.4174000024795532, 1.416700005531311, 1.3940000534057617, 1.392300009727478, 1.3687000274658203, 1.3523999452590942, 1.34089994430542, 1.3387999534606934, 1.3198000192642212, 1.3056999444961548, 1.301800012588501, 1.2789000272750854, 1.271399974822998, 1.1806000471115112, 1.1819000244140625, 1.1726000308990479, 1.1533000469207764, 1.212399959564209, 1.1699999570846558, 0.9898999929428101, 0.9526000022888184, 0.8693000078201294, 0.642799973487854, 1.7367000579833984, 1.7300000190734863, 1.6776000261306763, 1.6598000526428223, 1.642199993133545, 1.6181000471115112, 1.6050000190734863, 1.562000036239624, 1.5413999557495117, 1.5357999801635742, 1.5276000499725342, 1.514799952507019, 1.5125999450683594, 1.511299967765808, 1.5, 1.4970999956130981, 1.4648000001907349, 1.4520000219345093, 1.4354000091552734, 1.4256000518798828, 1.4255000352859497, 1.4211000204086304, 1.417799949645996, 1.4106999635696411, 1.3970999717712402, 1.3967000246047974, 1.3874000310897827, 1.3866000175476074, 1.381600022315979, 1.356600046157837, 1.3545000553131104, 1.325600028038025, 1.339400053024292, 1.153499960899353, 1.1269999742507935, 1.1848000288009644, 1.1347999572753906, 0.7754999995231628, 0.8736000061035156, 0.9908999800682068, 0.9933000206947327, 0.9743000268936157, 0.8148000240325928, 0.9419000148773193, 0.7645000219345093, 2.1136999130249023, 1.9486000537872314, 1.7723000049591064, 1.7676000595092773, 1.7573000192642212, 1.753499984741211, 1.7339999675750732, 1.6992000341415405, 1.6924999952316284, 1.6675000190734863, 1.638200044631958, 1.611299991607666, 1.6109999418258667, 1.59089994430542, 1.5456000566482544, 1.5430999994277954, 1.5325000286102295, 1.5181000232696533, 1.499500036239624, 1.4966000318527222, 1.488700032234192, 1.4639999866485596, 1.4426000118255615, 1.4372999668121338, 1.382699966430664, 1.3818999528884888, 1.3717000484466553, 1.3394999504089355, 1.3391000032424927, 1.3272000551223755, 1.3136999607086182, 1.3150999546051025, 1.1823999881744385, 1.1239999532699585, 1.1713000535964966, 1.0714999437332153, 1.1729999780654907, 1.0226000547409058, 1.1687999963760376, 0.9585999846458435, 1.8732999563217163, 1.8370000123977661, 1.819599986076355, 1.7955000400543213, 1.7391999959945679, 1.7355999946594238, 1.694700002670288, 1.6845999956130981, 1.667099952697754, 1.5997999906539917, 1.55239999294281, 1.5403000116348267, 1.5298000574111938, 1.507200002670288, 1.5038000345230103, 1.4895000457763672, 1.4433000087738037, 1.3924000263214111, 1.3724000453948975, 1.3565000295639038, 1.351699948310852, 1.3499000072479248, 1.3322999477386475, 1.3150999546051025, 1.3025000095367432, 1.2905000448226929, 1.285599946975708, 1.277899980545044, 1.2661999464035034, 1.2589999437332153, 1.25600004196167, 1.2509000301361084, 1.1689000129699707, 1.1627000570297241, 0.9836999773979187, 1.1341999769210815, 1.095900058746338, 1.0413999557495117, 1.0858999490737915, 1.0500999689102173, 0.9628000259399414, 2.042099952697754, 1.9249000549316406, 1.8940999507904053, 1.8531999588012695, 1.8525999784469604, 1.8208999633789062, 1.8095999956130981, 1.7573000192642212, 1.7517999410629272, 1.746000051498413, 1.7452000379562378, 1.7446999549865723, 1.7263000011444092, 1.7132999897003174, 1.6792000532150269, 1.6615999937057495, 1.635699987411499, 1.562999963760376, 1.5628000497817993, 1.5516999959945679, 1.5151000022888184, 1.497499942779541, 1.4910999536514282, 1.4780000448226929, 1.4693000316619873, 1.4680999517440796, 1.4627000093460083, 1.4529999494552612, 1.4462000131607056, 1.4391000270843506, 1.372499942779541, 1.420300006866455, 1.3568999767303467, 1.3622000217437744, 0.9872000217437744, 1.121899962425232, 1.101699948310852, 1.0654000043869019, 1.0259000062942505, 1.0253000259399414, 2.062999963760376, 1.8425999879837036, 1.7294000387191772, 1.7115999460220337, 1.6974999904632568, 1.6920000314712524, 1.6898000240325928, 1.683899998664856, 1.670199990272522, 1.65339994430542, 1.6509000062942505, 1.628100037574768, 1.613800048828125, 1.6126999855041504, 1.6067999601364136, 1.5865999460220337, 1.5699000358581543, 1.526900053024292, 1.5262999534606934, 1.513200044631958, 1.5087000131607056, 1.5082999467849731, 1.5053000450134277, 1.4979000091552734, 1.493299961090088, 1.4800000190734863, 1.476199984550476, 1.4696999788284302, 1.4327000379562378, 1.4148999452590942, 1.3526999950408936, 1.3269000053405762, 1.3801000118255615, 1.2928999662399292, 1.2828999757766724, 1.1025999784469604, 1.3539999723434448, 1.357699990272522, 1.34660005569458, 1.232100009918213, 1.0741000175476074, 0.9348000288009644, 1.0389000177383423, 1.1603000164031982, 1.1597000360488892, 1.1913000345230103, 0.9668999910354614, 0.8026999831199646, 1.124500036239624, 0.9743000268936157, 2.406599998474121, 1.9795000553131104, 1.9248000383377075, 1.8991999626159668, 1.8680000305175781, 1.846500039100647, 1.8392000198364258, 1.8259999752044678, 1.7985999584197998, 1.7733999490737915, 1.7537000179290771, 1.7467000484466553, 1.7141000032424927, 1.679800033569336, 1.6685999631881714, 1.6308000087738037, 1.6110999584197998, 1.5886000394821167, 1.5714999437332153, 1.5334999561309814, 1.5223000049591064, 1.5161999464035034, 1.5068999528884888, 1.504699945449829, 1.4952000379562378, 1.4914000034332275, 1.4630999565124512, 1.4492000341415405, 1.4253000020980835, 1.4225000143051147, 1.3782000541687012, 1.3597999811172485, 1.3339999914169312, 1.2913999557495117, 1.0855000019073486, 1.271399974822998, 1.0393999814987183, 1.013100028038025, 1.2247999906539917, 1.0703999996185303, 2.502000093460083, 2.1289000511169434, 1.9967000484466553, 1.9673999547958374, 1.9163999557495117, 1.9163000583648682, 1.895300030708313, 1.8823000192642212, 1.8631000518798828, 1.8507000207901, 1.8406000137329102, 1.8063000440597534, 1.8043999671936035, 1.791599988937378, 1.784500002861023, 1.7800999879837036, 1.6857000589370728, 1.6023000478744507, 1.5260000228881836, 1.5157999992370605, 1.4383000135421753, 1.4220000505447388, 1.4082000255584717, 1.4036999940872192, 1.3971999883651733, 1.3694000244140625, 1.3687000274658203, 1.3631000518798828, 1.354200005531311, 1.3370000123977661, 1.3029999732971191, 1.2373000383377075, 1.2675000429153442, 1.2192000150680542, 1.1990000009536743, 1.1332000494003296, 1.11080002784729, 1.270900011062622, 1.0896999835968018, 0.9003000259399414, 0.715399980545044, 1.0871000289916992, 2.0178000926971436, 1.9990999698638916, 1.920699954032898, 1.8741999864578247, 1.8551000356674194, 1.8291000127792358, 1.8280999660491943, 1.7863999605178833, 1.7526999711990356, 1.69350004196167, 1.544700026512146, 1.5442999601364136, 1.5433000326156616, 1.5420000553131104, 1.5182000398635864, 1.517799973487854, 1.4854999780654907, 1.4674999713897705, 1.4407999515533447, 1.4385000467300415, 1.4385000467300415, 1.4184999465942383, 1.3717000484466553, 1.367900013923645, 1.3357000350952148, 1.3321000337600708, 1.317199945449829, 1.2848999500274658, 1.263200044631958, 1.2590999603271484, 1.1998000144958496, 1.1579999923706055, 1.1405999660491943, 0.9207000136375427, 0.7153000235557556, 0.7771000266075134], \"logprob\": [30.0, 29.0, 28.0, 27.0, 26.0, 25.0, 24.0, 23.0, 22.0, 21.0, 20.0, 19.0, 18.0, 17.0, 16.0, 15.0, 14.0, 13.0, 12.0, 11.0, 10.0, 9.0, 8.0, 7.0, 6.0, 5.0, 4.0, 3.0, 2.0, 1.0, -5.328499794006348, -4.963900089263916, -5.728400230407715, -5.740600109100342, -5.431000232696533, -5.770699977874756, -5.776500225067139, -5.88700008392334, -5.854899883270264, -5.913899898529053, -5.934999942779541, -5.954699993133545, -6.048600196838379, -6.020899772644043, -6.010000228881836, -5.527400016784668, -5.448299884796143, -5.729599952697754, -5.743800163269043, -5.548299789428711, -5.581500053405762, -5.572800159454346, -5.610400199890137, -6.143899917602539, -5.8414998054504395, -5.878600120544434, -5.89169979095459, -5.8480000495910645, -6.173299789428711, -6.1915998458862305, -5.652100086212158, -5.92140007019043, -5.723700046539307, -5.601399898529053, -5.746799945831299, -5.463699817657471, -5.561699867248535, -5.768700122833252, -5.659800052642822, -5.72599983215332, -5.695300102233887, -5.758999824523926, -5.765200138092041, -5.7677998542785645, -5.782299995422363, -5.720600128173828, -5.325900077819824, -4.96019983291626, -5.454699993133545, -5.583000183105469, -5.710299968719482, -5.69890022277832, -5.712100028991699, -5.721499919891357, -5.720900058746338, -5.448800086975098, -4.904200077056885, -5.248199939727783, -5.4552001953125, -5.245999813079834, -5.742199897766113, -5.777599811553955, -5.869200229644775, -5.58459997177124, -5.617099761962891, -5.951000213623047, -5.7006001472473145, -5.122000217437744, -5.719699859619141, -5.070000171661377, -5.754300117492676, -5.774099826812744, -5.478400230407715, -5.59060001373291, -5.549799919128418, -6.124599933624268, -5.81820011138916, -5.610099792480469, -5.174600124359131, -5.323699951171875, -5.375400066375732, -5.650400161743164, -5.563199996948242, -5.598499774932861, -5.5630998611450195, -5.654900074005127, -5.603700160980225, -5.668700218200684, -4.614299774169922, -5.574999809265137, -5.326900005340576, -5.590000152587891, -5.307499885559082, -5.632699966430664, -5.111000061035156, -5.639200210571289, -5.667200088500977, -5.715000152587891, -5.717100143432617, -5.745500087738037, -5.71750020980835, -4.912300109863281, -5.745999813079834, -5.732100009918213, -5.770500183105469, -5.771399974822998, -5.737400054931641, -5.510200023651123, -5.548399925231934, -5.831999778747559, -5.565899848937988, -5.172399997711182, -5.145699977874756, -5.353300094604492, -5.58519983291626, -5.9542999267578125, -5.416900157928467, -5.427999973297119, -5.685400009155273, -5.377699851989746, -5.371099948883057, -5.46619987487793, -5.468599796295166, -5.578700065612793, -5.6732001304626465, -5.580900192260742, -5.576600074768066, -5.630000114440918, -5.642300128936768, -5.675099849700928, -5.247900009155273, -5.448400020599365, -4.592100143432617, -5.315700054168701, -5.099299907684326, -5.175000190734863, -5.689300060272217, -5.41510009765625, -5.773799896240234, -5.249199867248535, -5.848100185394287, -5.559000015258789, -5.865200042724609, -5.65310001373291, -5.67609977722168, -6.007299900054932, -5.987199783325195, -5.7042999267578125, -5.772299766540527, -5.496500015258789, -6.048500061035156, -5.760200023651123, -6.051799774169922, -5.571000099182129, -5.569900035858154, -6.070499897003174, -6.166500091552734, -6.124199867248535, -5.568999767303467, -6.1057000160217285, -5.433499813079834, -5.416800022125244, -5.483500003814697, -5.629700183868408, -5.628900051116943, -5.677999973297119, -5.707600116729736, -5.701300144195557, -5.611800193786621, -5.507500171661377, -5.721700191497803, -5.757599830627441, -5.052499771118164, -5.285900115966797, -5.066999912261963, -5.446899890899658, -5.438199996948242, -5.5594000816345215, -5.574100017547607, -5.348599910736084, -5.661099910736084, -5.679999828338623, -5.657899856567383, -5.461900234222412, -5.484799861907959, -5.526599884033203, -5.565499782562256, -5.577499866485596, -5.860400199890137, -5.531700134277344, -5.868599891662598, -5.156499862670898, -5.620500087738037, -5.407700061798096, -5.641200065612793, -5.404200077056885, -5.3815999031066895, -5.941800117492676, -5.6620001792907715, -5.934299945831299, -5.418399810791016, -5.678699970245361, -5.274600028991699, -5.401199817657471, -5.581200122833252, -5.416800022125244, -5.516900062561035, -5.527100086212158, -5.587100028991699, -5.5954999923706055, -5.634500026702881, -5.200799942016602, -5.53410005569458, -5.549300193786621, -5.570099830627441, -5.656400203704834, -5.70959997177124, -5.707399845123291, -5.711599826812744, -5.714300155639648, -5.739799976348877, -5.117000102996826, -5.561100006103516, -5.877600193023682, -5.610499858856201, -5.6168999671936035, -5.889500141143799, -5.655300140380859, -5.939899921417236, -5.930099964141846, -5.96019983291626, -5.964000225067139, -5.9456000328063965, -5.973499774932861, -5.639400005340576, -6.031000137329102, -5.775000095367432, -6.018599987030029, -5.536900043487549, -6.023799896240234, -6.106299877166748, -5.418099880218506, -5.601200103759766, -5.512599945068359, -5.537600040435791, -5.525300025939941, -5.695499897003174, -5.591800212860107, -5.791900157928467, -5.743599891662598, -5.80109977722168, -5.758800029754639, -5.827700138092041, -5.398499965667725, -4.774799823760986, -5.2530999183654785, -5.321899890899658, -5.631100177764893, -5.3958001136779785, -5.460100173950195, -4.928100109100342, -5.5121002197265625, -5.517300128936768, -5.778299808502197, -5.750199794769287, -5.517199993133545, -5.844200134277344, -5.848999977111816, -5.398900032043457, -5.2241997718811035, -5.9156999588012695, -5.357999801635742, -5.947800159454346, -5.450200080871582, -5.955599784851074, -5.615600109100342, -6.0177998542785645, -6.036099910736084, -5.689199924468994, -5.695899963378906, -5.511300086975098, -5.986800193786621, -5.791399955749512, -5.497399806976318, -5.440100193023682, -5.492000102996826, -5.502299785614014, -5.526000022888184, -5.656000137329102, -5.631400108337402, -5.5518999099731445, -5.660600185394287, -5.645999908447266, -5.623600006103516, -5.643199920654297, -5.180699825286865, -5.69789981842041, -5.730800151824951, -5.74970006942749, -5.763000011444092, -5.8109002113342285, -5.316299915313721, -5.834700107574463, -5.542900085449219, -5.8480000495910645, -5.552700042724609, -5.856800079345703, -5.866600036621094, -5.911799907684326, -5.176799774169922, -5.918099880218506, -5.893400192260742, -5.936600208282471, -5.93779993057251, -5.670899868011475, -5.631999969482422, -5.918000221252441, -5.995299816131592, -5.459000110626221, -5.684999942779541, -6.001500129699707, -5.286799907684326, -5.710899829864502, -5.4903998374938965, -5.75, -5.691699981689453, -5.748799800872803, -5.5447998046875, -5.579100131988525, -5.666399955749512, -5.719900131225586, -5.55109977722168, -5.6178998947143555, -5.67579984664917, -5.691999912261963, -5.738699913024902, -5.721499919891357, -5.737299919128418, -5.7342000007629395, -5.243000030517578, -5.4475998878479, -5.563799858093262, -5.542699813842773, -5.615900039672852, -5.310500144958496, -5.6707000732421875, -5.6255998611450195, -5.649099826812744, -5.671599864959717, -5.484099864959717, -5.757500171661377, -5.649499893188477, -5.4842000007629395, -5.8343000411987305, -5.503399848937988, -5.166999816894531, -5.314700126647949, -5.847300052642822, -5.896100044250488, -5.5894999504089355, -5.601500034332275, -5.203499794006348, -5.64900016784668, -5.964799880981445, -5.8881001472473145, -5.649499893188477, -6.0117998123168945, -5.497799873352051, -6.024099826812744, -5.535900115966797, -5.756199836730957, -5.488800048828125, -5.358099937438965, -5.639699935913086, -5.599699974060059, -5.664899826049805, -5.60290002822876, -5.688899993896484, -5.688300132751465, -5.475399971008301, -5.532299995422363, -5.521200180053711, -5.540999889373779, -5.63730001449585, -5.6128997802734375, -5.644400119781494, -5.374300003051758, -5.405099868774414, -5.767000198364258, -5.529699802398682, -5.468299865722656, -5.8491997718811035, -5.51609992980957, -5.570400238037109, -5.166600227355957, -5.603400230407715, -5.983799934387207, -5.690499782562256, -6.018799781799316, -6.013800144195557, -5.998000144958496, -5.311999797821045, -5.358799934387207, -6.097899913787842, -6.067500114440918, -6.0696001052856445, -5.764200210571289, -5.556600093841553, -5.809500217437744, -5.586299896240234, -5.602799892425537, -5.461599826812744, -5.550300121307373, -5.134799957275391, -5.513500213623047, -5.5625, -5.494900226593018, -5.593299865722656, -5.626800060272217, -5.655600070953369, -5.016600131988525, -5.442500114440918, -5.463500022888184, -5.520999908447266, -5.224100112915039, -5.022799968719482, -5.577600002288818, -4.928199768066406, -5.616799831390381, -5.617099761962891, -5.611700057983398, -5.619500160217285, -5.633800029754639, -5.649799823760986, -5.675000190734863, -5.6956000328063965, -5.726500034332275, -5.800600051879883, -5.295199871063232, -5.328499794006348, -5.521399974822998, -5.879700183868408, -5.180099964141846, -5.59660005569458, -5.6072001457214355, -5.414700031280518, -5.962299823760986, -5.5671000480651855, -5.669899940490723, -5.656000137329102, -5.293900012969971, -5.676000118255615, -5.5304999351501465, -5.550600051879883, -5.394999980926514, -5.507500171661377, -5.559100151062012, -5.598299980163574, -5.639599800109863, -5.6442999839782715, -5.362400054931641, -5.3069000244140625, -5.639699935913086, -5.687099933624268, -5.698800086975098, -5.69980001449585, -5.035099983215332, -5.441400051116943, -5.706399917602539, -5.755899906158447, -5.749599933624268, -5.759099960327148, -5.78980016708374, -5.790599822998047, -5.779699802398682, -5.771999835968018, -5.841899871826172, -5.554500102996826, -5.8709001541137695, -5.867800235748291, -5.893899917602539, -5.876100063323975, -5.5767998695373535, -5.33459997177124, -5.910099983215332, -5.921999931335449, -5.644700050354004, -5.986299991607666, -5.932300090789795, -5.961599826812744, -5.353400230407715, -5.379799842834473, -5.740600109100342, -5.508800029754639, -5.588600158691406, -5.438799858093262, -5.725900173187256, -5.732600212097168, -5.7378997802734375, -5.655200004577637, -5.617599964141846, -5.590799808502197, -5.634500026702881, -5.687099933624268, -5.693699836730957, -5.719399929046631, -5.710000038146973, -5.710299968719482, -5.727499961853027, -5.73199987411499, -5.060299873352051, -5.463900089263916, -5.474599838256836, -5.513899803161621, -5.05810022354126, -5.63539981842041, -5.585899829864502, -5.585899829864502, -5.627200126647949, -5.637700080871582, -5.684500217437744, -5.364699840545654, -5.6905999183654785, -5.427700042724609, -5.759099960327148, -5.768199920654297, -5.803800106048584, -5.305099964141846, -5.824900150299072, -5.874000072479248, -5.874000072479248, -5.886899948120117, -5.896999835968018, -5.57859992980957, -5.924799919128418, -5.6350998878479, -5.632599830627441, -5.11329984664917, -5.662199974060059, -5.950900077819824, -5.500999927520752, -5.314499855041504, -5.375899791717529, -5.4029998779296875, -5.310400009155273, -5.585599899291992, -5.441699981689453, -5.52869987487793, -5.648600101470947, -5.616099834442139, -4.995500087738037, -5.325799942016602, -5.4405999183654785, -4.782899856567383, -5.517199993133545, -5.210299968719482, -5.541299819946289, -5.549099922180176, -5.559700012207031, -5.563300132751465, -5.57919979095459, -5.388999938964844, -5.61959981918335, -5.606900215148926, -5.6392998695373535, -5.61460018157959, -5.423799991607666, -5.809500217437744, -5.349400043487549, -5.876999855041504, -5.4721999168396, -5.719200134277344, -5.724800109863281, -5.996699810028076, -5.6875, -6.038099765777588, -5.337200164794922, -5.731599807739258, -6.081500053405762, -5.3379998207092285, -5.5559000968933105, -5.445499897003174, -5.604700088500977, -5.483500003814697, -5.485199928283691, -5.404699802398682, -5.429500102996826, -5.61959981918335, -5.590700149536133, -5.543000221252441, -5.551000118255615, -5.59250020980835, -5.433300018310547, -5.452199935913086, -5.489699840545654, -5.607699871063232, -5.600900173187256, -5.600900173187256, -5.568600177764893, -5.619900226593018, -5.348999977111816, -5.413899898529053, -5.8302001953125, -5.334099769592285, -5.36959981918335, -5.152200222015381, -5.182300090789795, -5.595399856567383, -5.629899978637695, -5.929800033569336, -5.437900066375732, -5.2540998458862305, -5.938700199127197, -6.017199993133545, -5.539700031280518, -5.285900115966797, -5.7829999923706055, -5.775400161743164, -5.7692999839782715, -5.615200042724609, -5.834799766540527, -5.423299789428711, -5.49970006942749, -5.476900100708008, -5.710999965667725, -5.695099830627441, -5.7581000328063965, -5.764800071716309]}, \"token.table\": {\"Topic\": [12, 5, 13, 11, 1, 5, 11, 13, 7, 1, 11, 8, 9, 1, 15, 6, 6, 4, 5, 12, 10, 12, 8, 8, 9, 15, 7, 1, 4, 1, 2, 11, 15, 4, 10, 14, 2, 5, 8, 10, 2, 6, 7, 9, 11, 2, 4, 7, 14, 11, 5, 4, 7, 13, 14, 8, 10, 1, 2, 9, 10, 11, 6, 14, 6, 8, 12, 12, 6, 1, 3, 10, 5, 12, 2, 5, 9, 10, 5, 11, 12, 15, 4, 3, 12, 4, 6, 1, 14, 14, 14, 11, 3, 1, 6, 2, 7, 1, 13, 14, 3, 14, 9, 12, 7, 15, 9, 1, 3, 5, 1, 14, 10, 3, 9, 11, 13, 1, 6, 10, 12, 9, 11, 6, 7, 8, 8, 10, 1, 11, 2, 12, 11, 13, 4, 5, 13, 8, 11, 13, 15, 3, 6, 6, 9, 4, 7, 9, 14, 11, 12, 14, 10, 12, 15, 9, 12, 3, 1, 7, 2, 5, 15, 11, 15, 1, 5, 9, 8, 2, 10, 4, 10, 11, 15, 3, 6, 2, 3, 11, 1, 2, 5, 15, 1, 7, 1, 3, 5, 10, 3, 9, 1, 1, 8, 1, 2, 4, 12, 4, 8, 3, 11, 12, 4, 9, 5, 6, 1, 9, 7, 11, 6, 10, 1, 4, 1, 13, 10, 6, 4, 3, 5, 14, 4, 6, 11, 15, 10, 7, 14, 1, 14, 2, 7, 2, 12, 15, 1, 2, 13, 2, 1, 1, 9, 12, 1, 4, 11, 2, 7, 15, 5, 7, 9, 13, 2, 13, 3, 12, 3, 5, 7, 12, 13, 3, 12, 1, 2, 3, 13, 1, 6, 9, 14, 10, 11, 14, 2, 11, 4, 11, 11, 13, 11, 2, 10, 11, 1, 5, 7, 8, 8, 12, 14, 8, 1, 10, 11, 1, 2, 6, 14, 6, 2, 3, 6, 7, 11, 13, 15, 15, 1, 8, 14, 1, 2, 4, 12, 9, 2, 7, 8, 1, 5, 4, 5, 11, 2, 6, 1, 2, 1, 2, 3, 1, 9, 5, 13, 15, 8, 6, 7, 2, 8, 2, 8, 11, 5, 6, 5, 10, 14, 15, 2, 8, 10, 11, 9, 14, 12, 4, 2, 8, 9, 12, 6, 10, 15, 2, 7, 7, 13, 4, 8, 1, 8, 12, 1, 3, 8, 10, 2, 6, 12, 13, 11, 3, 3, 3, 7, 11, 8, 14, 4, 8, 8, 8, 6, 9, 1, 13, 1, 10, 5, 1, 15, 9, 3, 12, 5, 15, 5, 13, 6, 1, 8, 2, 9, 2, 9, 10, 13, 6, 12, 13, 10, 10, 5, 8, 12, 5, 2, 13, 12, 1, 3, 5, 6, 7, 2, 3, 5, 11, 2, 11, 2, 6, 8, 1, 2, 14, 7, 9, 13, 15, 2, 12, 14, 13, 3, 4, 9, 12, 14, 2, 3, 4, 7, 12, 2, 6, 8, 1, 3, 4, 11, 14, 1, 3, 7, 14, 12, 11, 3, 4, 7, 8, 11, 6, 7, 13, 15, 1, 4, 11, 6, 4, 7, 10, 2, 1, 5, 12, 2, 8, 14, 1, 4, 10, 15, 5, 11, 10, 12, 8, 1, 12, 12, 2, 10, 3, 14, 14, 8, 3, 12, 14, 2, 6, 7, 1, 3, 1, 2, 7, 9, 4, 7, 7, 3, 15, 2, 3, 7, 2, 12, 7, 14, 11, 6, 7, 14, 12, 4, 6, 5, 1, 2, 1, 5, 2, 6, 4, 10, 11, 8, 12, 8, 7, 6, 8, 12, 3, 5, 9, 7, 9, 1, 3, 8, 1, 7, 15, 8, 2, 12, 4, 6, 5, 12, 5, 8, 4, 1, 2, 3, 14, 9, 12, 13, 5, 2, 2, 5, 6, 8, 7, 14, 12, 9, 10, 7, 10, 6, 10, 7, 11, 15, 2, 2, 7, 10, 15, 10, 12, 14, 6, 6, 8, 9, 10, 12, 9, 11, 4, 10, 2, 1, 4, 9, 2, 14, 1, 7, 3, 5, 10, 7, 1, 14, 2, 9, 1, 13, 14, 9, 10, 12, 7, 10, 3, 5, 7, 11, 9, 10, 3, 13, 2, 8, 3, 4, 9, 7, 9, 2, 15, 3, 9, 7, 3, 8, 3, 1, 2, 4, 11, 11, 12, 11, 7, 3, 4, 6, 5, 4, 5, 8, 10, 12, 4, 8, 11, 2, 10, 9, 3, 2, 12, 11, 1, 7, 2, 8, 1, 2, 9, 1, 3, 4, 13, 12, 9, 3, 4, 14, 5, 4, 13, 2, 8, 2, 8, 4, 3, 3, 11, 4, 2, 11, 12, 6, 11, 13, 8, 1, 4, 6, 12, 8, 14, 4, 9, 11, 12, 1, 2, 5, 15, 3, 4, 8, 5, 3, 2, 7, 5, 1, 13, 3, 8, 6, 1, 2, 3, 6, 8, 9, 2, 8, 15, 9, 8, 1, 6, 4, 4, 14, 5, 1, 3, 5, 6, 7, 12, 14, 5, 4, 12, 6, 5, 12, 11, 13, 2, 11, 5, 11, 6, 4, 5, 13, 10, 2, 3, 11, 8, 15, 3, 12, 11, 4, 8, 10, 3, 10, 2, 9, 12, 6, 13, 3, 7, 7, 15, 1, 2, 7, 8, 10, 7, 14, 4, 5, 9, 11, 2, 3, 8], \"Freq\": [0.36334308981895447, 0.3208805322647095, 0.48492977023124695, 0.44942739605903625, 0.47835633158683777, 0.3243386149406433, 0.47860240936279297, 0.47860240936279297, 0.43977269530296326, 0.25938117504119873, 0.25938117504119873, 0.3535778224468231, 0.3535778224468231, 0.23045013844966888, 0.23045013844966888, 0.4520130455493927, 0.45187780261039734, 0.22940422594547272, 0.22940422594547272, 0.22940422594547272, 0.44303151965141296, 0.47109273076057434, 0.45804455876350403, 0.23166494071483612, 0.23166494071483612, 0.23166494071483612, 0.4326801896095276, 0.2596496641635895, 0.2596496641635895, 0.21716806292533875, 0.21716806292533875, 0.21716806292533875, 0.21716806292533875, 0.26723378896713257, 0.26723378896713257, 0.47811076045036316, 0.40476077795028687, 0.40476077795028687, 0.2258123755455017, 0.2258123755455017, 0.1855921596288681, 0.1855921596288681, 0.1855921596288681, 0.1855921596288681, 0.1855921596288681, 0.22605109214782715, 0.22605109214782715, 0.22605109214782715, 0.22605109214782715, 0.4485042989253998, 0.33648771047592163, 0.26054301857948303, 0.26054301857948303, 0.2905923128128052, 0.28607091307640076, 0.4557585120201111, 0.4557585120201111, 0.12958155572414398, 0.12958155572414398, 0.12958155572414398, 0.12958155572414398, 0.12958155572414398, 0.3603164553642273, 0.3603164553642273, 0.44935858249664307, 0.19777324795722961, 0.19777324795722961, 0.4579939544200897, 0.4464123547077179, 0.421883225440979, 0.3278384506702423, 0.3278384506702423, 0.3382091522216797, 0.3382091522216797, 0.2198091447353363, 0.2198091447353363, 0.2198091447353363, 0.2198091447353363, 0.22986817359924316, 0.22986817359924316, 0.22986817359924316, 0.34636810421943665, 0.3373163640499115, 0.32717838883399963, 0.3530828356742859, 0.4444442093372345, 0.4444442093372345, 0.3439650237560272, 0.3439650237560272, 0.5145577788352966, 0.4761287569999695, 0.44583991169929504, 0.2641940712928772, 0.2196793556213379, 0.2196793556213379, 0.4211992621421814, 0.4211992621421814, 0.22867682576179504, 0.22867682576179504, 0.22867682576179504, 0.4733430743217468, 0.4733430743217468, 0.3546167016029358, 0.3546167016029358, 0.4175446331501007, 0.34114870429039, 0.44456490874290466, 0.2553771138191223, 0.2553771138191223, 0.2553771138191223, 0.3214954137802124, 0.4930402636528015, 0.4514986276626587, 0.43782782554626465, 0.35505566000938416, 0.35505566000938416, 0.35505566000938416, 0.42925694584846497, 0.4508095383644104, 0.33632272481918335, 0.23763549327850342, 0.44257116317749023, 0.2676098346710205, 0.22251790761947632, 0.22251790761947632, 0.26848915219306946, 0.46298786997795105, 0.3369993269443512, 0.4140467643737793, 0.44986701011657715, 0.2685927152633667, 0.2685927152633667, 0.20200350880622864, 0.20200350880622864, 0.27119073271751404, 0.27119073271751404, 0.27119073271751404, 0.469578355550766, 0.44721168279647827, 0.5066042542457581, 0.5066042542457581, 0.44354429841041565, 0.44354429841041565, 0.4533347189426422, 0.2713712751865387, 0.45403021574020386, 0.26472219824790955, 0.26472219824790955, 0.46606263518333435, 0.33781886100769043, 0.46610960364341736, 0.3405263423919678, 0.45590662956237793, 0.45590662956237793, 0.4912486970424652, 0.27021458745002747, 0.27021458745002747, 0.44333183765411377, 0.4381435513496399, 0.26853877305984497, 0.2596815824508667, 0.2596815824508667, 0.2770623564720154, 0.48100361227989197, 0.48100361227989197, 0.4260823130607605, 0.430692195892334, 0.44291213154792786, 0.2313794642686844, 0.3202570974826813, 0.3202570974826813, 0.26847484707832336, 0.45533862709999084, 0.2867624759674072, 0.2867624759674072, 0.34029582142829895, 0.34029582142829895, 0.21600492298603058, 0.21600492298603058, 0.21600492298603058, 0.21307015419006348, 0.21307015419006348, 0.21307015419006348, 0.21307015419006348, 0.3217630088329315, 0.3217630088329315, 0.2542192041873932, 0.3795096278190613, 0.18975481390953064, 0.45091718435287476, 0.31637147068977356, 0.452407568693161, 0.7929338812828064, 0.3132779002189636, 0.3132779002189636, 0.1609850823879242, 0.1609850823879242, 0.1609850823879242, 0.1609850823879242, 0.3469797670841217, 0.3469797670841217, 0.4567636549472809, 0.2795439660549164, 0.2795439660549164, 0.45087307691574097, 0.44697105884552, 0.33474022150039673, 0.33474022150039673, 0.18641363084316254, 0.18641363084316254, 0.2284584641456604, 0.4569169282913208, 0.44550707936286926, 0.4399442970752716, 0.3184979557991028, 0.3184979557991028, 0.3400558829307556, 0.3400558829307556, 0.3318590223789215, 0.4497150182723999, 0.2636018395423889, 0.22783468663692474, 0.22783468663692474, 0.22783468663692474, 0.33734798431396484, 0.16867399215698242, 0.16867399215698242, 0.4716011881828308, 0.4433950185775757, 0.43205225467681885, 0.3803684711456299, 0.2717147469520569, 0.2717147469520569, 0.319685161113739, 0.319685161113739, 0.38954371213912964, 0.4936366677284241, 0.4936366677284241, 0.1862269788980484, 0.1862269788980484, 0.1862269788980484, 0.4161887466907501, 0.4167889952659607, 0.40596428513526917, 0.40596428513526917, 0.45593690872192383, 0.2575013041496277, 0.2575013041496277, 0.2575013041496277, 0.5011376738548279, 0.4295714199542999, 0.3522946238517761, 0.3313312828540802, 0.3356831967830658, 0.22521530091762543, 0.3497442603111267, 0.41582635045051575, 0.47197628021240234, 0.22032974660396576, 0.33942216634750366, 0.1710180938243866, 0.1710180938243866, 0.1710180938243866, 0.1710180938243866, 0.1710180938243866, 0.26642510294914246, 0.47877708077430725, 0.17629970610141754, 0.3525994122028351, 0.33111926913261414, 0.47894901037216187, 0.31739339232444763, 0.31739339232444763, 0.3335641324520111, 0.4775140583515167, 0.1975719928741455, 0.1975719928741455, 0.1975719928741455, 0.25998038053512573, 0.25998038053512573, 0.22484706342220306, 0.22484706342220306, 0.2772897779941559, 0.2772897779941559, 0.33775267004966736, 0.2162182480096817, 0.2162182480096817, 0.2162182480096817, 0.18506135046482086, 0.18506135046482086, 0.18506135046482086, 0.18506135046482086, 0.4574779272079468, 0.23327071964740753, 0.23327071964740753, 0.45885297656059265, 0.32633477449417114, 0.32633477449417114, 0.4500885009765625, 0.22355078160762787, 0.22355078160762787, 0.22355078160762787, 0.22355078160762787, 0.33931082487106323, 0.3172995448112488, 0.1586497724056244, 0.1586497724056244, 0.1978605091571808, 0.1978605091571808, 0.1978605091571808, 0.35117200016975403, 0.4651857316493988, 0.4163626730442047, 0.34736311435699463, 0.34736311435699463, 0.30499720573425293, 0.30499720573425293, 0.23335006833076477, 0.23335006833076477, 0.4378844201564789, 0.18952272832393646, 0.3790454566478729, 0.18952272832393646, 0.24644553661346436, 0.24644553661346436, 0.328353613615036, 0.328353613615036, 0.4562147557735443, 0.22059689462184906, 0.22059689462184906, 0.2527499198913574, 0.2527499198913574, 0.207415372133255, 0.207415372133255, 0.207415372133255, 0.4098905622959137, 0.4098905622959137, 0.4385090172290802, 0.23408815264701843, 0.2771393656730652, 0.46161168813705444, 0.45616188645362854, 0.45616188645362854, 0.4958570897579193, 0.45655980706214905, 0.18816356360912323, 0.18816356360912323, 0.18816356360912323, 0.21719223260879517, 0.21719223260879517, 0.2585331201553345, 0.2585331201553345, 0.48415499925613403, 0.286344051361084, 0.4819902777671814, 0.2348109781742096, 0.2348109781742096, 0.2714775800704956, 0.3490830063819885, 0.3490830063819885, 0.3424193859100342, 0.45250609517097473, 0.22570063173770905, 0.22570063173770905, 0.22570063173770905, 0.22570063173770905, 0.4433145821094513, 0.4433145821094513, 0.26973336935043335, 0.2141115367412567, 0.2141115367412567, 0.32930880784988403, 0.4662979245185852, 0.22840406000614166, 0.22840406000614166, 0.31636279821395874, 0.31636279821395874, 0.46500393748283386, 0.42087146639823914, 0.42087146639823914, 0.2770244777202606, 0.2770244777202606, 0.2756872773170471, 0.2756872773170471, 0.2756872773170471, 0.2756872773170471, 0.45177680253982544, 0.4344964921474457, 0.33014973998069763, 0.1926887035369873, 0.1926887035369873, 0.1926887035369873, 0.4377228915691376, 0.4642852246761322, 0.26960882544517517, 0.26960882544517517, 0.4742175042629242, 0.45000895857810974, 0.26947954297065735, 0.26947954297065735, 0.4000738561153412, 0.4798561930656433, 0.3155690133571625, 0.3155690133571625, 0.22645194828510284, 0.23006823658943176, 0.23006823658943176, 0.3360116183757782, 0.2698410451412201, 0.2698410451412201, 0.8630549311637878, 0.4551846981048584, 0.3269374370574951, 0.34430211782455444, 0.43495479226112366, 0.32992932200431824, 0.32992932200431824, 0.2589949071407318, 0.2589949071407318, 0.4266800284385681, 0.4266800284385681, 0.46693646907806396, 0.281328946352005, 0.44116565585136414, 0.46294113993644714, 0.4664800465106964, 0.45703908801078796, 0.27030813694000244, 0.23320329189300537, 0.23320329189300537, 0.23320329189300537, 0.4377638101577759, 0.4081089198589325, 0.47376835346221924, 0.44785767793655396, 0.2554881274700165, 0.2554881274700165, 0.21887747943401337, 0.21887747943401337, 0.42720097303390503, 0.3140205144882202, 0.3140205144882202, 0.33836719393730164, 0.34450939297676086, 0.33178871870040894, 0.33178871870040894, 0.2709699869155884, 0.2709699869155884, 0.2709699869155884, 0.4267795979976654, 0.22710581123828888, 0.22710581123828888, 0.4430622458457947, 0.46893996000289917, 0.46893996000289917, 0.3503974676132202, 0.2324184626340866, 0.2324184626340866, 0.2324184626340866, 0.47233790159225464, 0.42550668120384216, 0.27514734864234924, 0.27514734864234924, 0.27514734864234924, 0.47230976819992065, 0.1870581954717636, 0.1870581954717636, 0.1870581954717636, 0.1870581954717636, 0.1870581954717636, 0.22552911937236786, 0.22552911937236786, 0.22552911937236786, 0.2580084502696991, 0.2580084502696991, 0.2580084502696991, 0.44984307885169983, 0.4780091941356659, 0.19710437953472137, 0.19710437953472137, 0.19710437953472137, 0.19710437953472137, 0.4683479964733124, 0.344101220369339, 0.22099903225898743, 0.22099903225898743, 0.22099903225898743, 0.22099903225898743, 0.46081769466400146, 0.19787736237049103, 0.19787736237049103, 0.19787736237049103, 0.19787736237049103, 0.25054478645324707, 0.22393326461315155, 0.22393326461315155, 0.44363340735435486, 0.42807066440582275, 0.3332099914550781, 0.3332099914550781, 0.4330306053161621, 0.21848198771476746, 0.21848198771476746, 0.4676973223686218, 0.4176122844219208, 0.2709386944770813, 0.48270183801651, 0.21350382268428802, 0.21350382268428802, 0.21350382268428802, 0.4913371503353119, 0.44595253467559814, 0.44595253467559814, 0.22649691998958588, 0.22649691998958588, 0.462390661239624, 0.25659602880477905, 0.25659602880477905, 0.4604976773262024, 0.21363826096057892, 0.21363826096057892, 0.27533257007598877, 0.27533257007598877, 0.48167040944099426, 0.3445456922054291, 0.4235064685344696, 0.4684147834777832, 0.23314480483531952, 0.2499447613954544, 0.2499447613954544, 0.2499447613954544, 0.31419265270233154, 0.31419265270233154, 0.21250873804092407, 0.21250873804092407, 0.21250873804092407, 0.3372836112976074, 0.44566529989242554, 0.3366781771183014, 0.4530676305294037, 0.46969226002693176, 0.46969226002693176, 0.25235846638679504, 0.2632986605167389, 0.2632986605167389, 0.4525509774684906, 0.4525509774684906, 0.4414813816547394, 0.35738399624824524, 0.4503630995750427, 0.22813761234283447, 0.22813761234283447, 0.22813761234283447, 0.46799761056900024, 0.46121424436569214, 0.34366512298583984, 0.44546905159950256, 0.420983225107193, 0.4181593358516693, 0.3196452558040619, 0.6498590707778931, 0.3145562708377838, 0.3145562708377838, 0.21923419833183289, 0.21923419833183289, 0.21923419833183289, 0.47233396768569946, 0.47233396768569946, 0.4526701867580414, 0.45085886120796204, 0.43531766533851624, 0.2861455976963043, 0.2861455976963043, 0.21514229476451874, 0.21514229476451874, 0.21514229476451874, 0.22581808269023895, 0.3340527415275574, 0.21560335159301758, 0.21560335159301758, 0.21560335159301758, 0.4034029245376587, 0.4504700005054474, 0.34839537739753723, 0.44195079803466797, 0.26462632417678833, 0.26462632417678833, 0.45825445652008057, 0.4437277317047119, 0.3389050364494324, 0.3389050364494324, 0.3395106792449951, 0.3395106792449951, 0.3330656588077545, 0.18328388035297394, 0.18328388035297394, 0.43465641140937805, 0.3551006317138672, 0.26919296383857727, 0.26919296383857727, 0.48747023940086365, 0.4353649616241455, 0.41849008202552795, 0.21310995519161224, 0.21310995519161224, 0.21310995519161224, 0.21310995519161224, 0.27429401874542236, 0.27429401874542236, 0.4506612718105316, 0.4392009377479553, 0.4392009377479553, 0.34025534987449646, 0.34025534987449646, 0.46126657724380493, 0.4526126980781555, 0.4473973512649536, 0.4473973512649536, 0.2318875640630722, 0.4123918116092682, 0.31827452778816223, 0.2231273353099823, 0.219980388879776, 0.2831345796585083, 0.243724063038826, 0.243724063038826, 0.243724063038826, 0.3335775136947632, 0.1967792809009552, 0.1967792809009552, 0.1967792809009552, 0.1967792809009552, 0.1967792809009552, 0.22519175708293915, 0.22519175708293915, 0.3350750207901001, 0.3350750207901001, 0.3123529851436615, 0.26161989569664, 0.26161989569664, 0.2660471498966217, 0.3586408793926239, 0.17932043969631195, 0.3178498148918152, 0.3178498148918152, 0.2620539963245392, 0.2620539963245392, 0.2620539963245392, 0.3246399760246277, 0.27620840072631836, 0.27620840072631836, 0.3195692300796509, 0.3195692300796509, 0.22728626430034637, 0.22728626430034637, 0.22728626430034637, 0.46502548456192017, 0.33962497115135193, 0.33962497115135193, 0.2677347958087921, 0.2677347958087921, 0.4326651096343994, 0.22352971136569977, 0.22352971136569977, 0.22352971136569977, 0.338314414024353, 0.4380486011505127, 0.2304752618074417, 0.2304752618074417, 0.41740426421165466, 0.33473724126815796, 0.4304716885089874, 0.4329034388065338, 0.4329034388065338, 0.265785276889801, 0.265785276889801, 0.2213226705789566, 0.2213226705789566, 0.44524097442626953, 0.34105727076530457, 0.33282867074012756, 0.2241978943347931, 0.2241978943347931, 0.4322054982185364, 0.21580544114112854, 0.21580544114112854, 0.3344871401786804, 0.3344871401786804, 0.35139426589012146, 0.35139426589012146, 0.4548545777797699, 0.3394259512424469, 0.22374311089515686, 0.3317994773387909, 0.3317994773387909, 0.2673889100551605, 0.19468440115451813, 0.19468440115451813, 0.19468440115451813, 0.19468440115451813, 0.19468440115451813, 0.224137082695961, 0.224137082695961, 0.224137082695961, 0.22182238101959229, 0.22182238101959229, 0.32777538895606995, 0.438610315322876, 0.18380771577358246, 0.35299769043922424, 0.22287216782569885, 0.24828077852725983, 0.24828077852725983, 0.41774389147758484, 0.34317874908447266, 0.23697417974472046, 0.23697417974472046, 0.46334564685821533, 0.4111204147338867, 0.4396386444568634, 0.34841403365135193, 0.34841403365135193, 0.3404518961906433, 0.45442691445350647, 0.2283341884613037, 0.2283341884613037, 0.2283341884613037, 0.44136548042297363, 0.4395163059234619, 0.4729152321815491, 0.30996057391166687, 0.4538723826408386, 0.31832846999168396, 0.31832846999168396, 0.44418567419052124, 0.2190721482038498, 0.33200395107269287, 0.4523473083972931, 0.3247852325439453, 0.3234125077724457, 0.3234125077724457, 0.3234125077724457, 0.46362313628196716, 0.27755725383758545, 0.27755725383758545, 0.27055883407592773, 0.26431018114089966, 0.26431018114089966, 0.26431018114089966, 0.46081358194351196, 0.28042879700660706, 0.28042879700660706, 0.2650330066680908, 0.2650330066680908, 0.4470583498477936, 0.45951151847839355, 0.18479232490062714, 0.18479232490062714, 0.18479232490062714, 0.18479232490062714, 0.26372480392456055, 0.26372480392456055, 0.4554881155490875, 0.4341648817062378, 0.768764078617096, 0.255399227142334, 0.255399227142334, 0.44681602716445923, 0.2259027361869812, 0.2259027361869812, 0.33848080039024353, 0.33848080039024353, 0.46450597047805786, 0.15956276655197144, 0.31912553310394287, 0.15956276655197144, 0.15956276655197144, 0.15956276655197144, 0.4445527493953705, 0.39740923047065735, 0.2277269959449768, 0.2277269959449768, 0.45746830105781555, 0.3417360484600067, 0.3033866882324219, 0.33841732144355774, 0.3295104503631592, 0.48453330993652344, 0.48453330993652344, 0.43636783957481384, 0.1502283215522766, 0.1502283215522766, 0.1502283215522766, 0.1502283215522766, 0.1502283215522766, 0.1502283215522766, 0.1502283215522766, 0.22719204425811768, 0.4470171332359314, 0.46695035696029663, 0.4463658034801483, 0.19225341081619263, 0.19225341081619263, 0.3414839804172516, 0.3414839804172516, 0.3192189633846283, 0.3192189633846283, 0.333269327878952, 0.32449114322662354, 0.440015971660614, 0.2670169472694397, 0.2670169472694397, 0.49903181195259094, 0.44756877422332764, 0.21415239572525024, 0.4283047914505005, 0.21415239572525024, 0.3450767397880554, 0.3450767397880554, 0.3300207853317261, 0.4654337763786316, 0.3370993435382843, 0.44976484775543213, 0.2223421037197113, 0.2223421037197113, 0.4253433644771576, 0.44634050130844116, 0.21961422264575958, 0.21961422264575958, 0.4682753086090088, 0.34811219573020935, 0.46506839990615845, 0.5130379796028137, 0.25651898980140686, 0.3483518958091736, 0.3483518958091736, 0.40946856141090393, 0.30799588561058044, 0.30799588561058044, 0.2270209640264511, 0.2270209640264511, 0.2270403802394867, 0.2270403802394867, 0.4507579803466797, 0.4402711093425751, 0.4402711093425751, 0.27828294038772583, 0.30566051602363586, 0.30566051602363586, 0.45542672276496887], \"Term\": [\"absolute\", \"accommodating\", \"acquired\", \"act\", \"actual\", \"aesthetics\", \"affordable\", \"affordable\", \"ain\", \"alternative\", \"alternative\", \"anniversary\", \"anniversary\", \"annoying\", \"annoying\", \"antique\", \"antiquing\", \"anyways\", \"anyways\", \"anyways\", \"apart\", \"appealing\", \"appropriate\", \"arizona\", \"arizona\", \"arizona\", \"artistic\", \"asking\", \"asking\", \"assortment\", \"assortment\", \"assortment\", \"assortment\", \"attitude\", \"attitude\", \"attracts\", \"authentic\", \"authentic\", \"available\", \"available\", \"avenue\", \"avenue\", \"avenue\", \"avenue\", \"avenue\", \"average\", \"average\", \"average\", \"average\", \"award\", \"az\", \"background\", \"background\", \"bacon\", \"baking\", \"balanced\", \"balanced\", \"banana\", \"banana\", \"banana\", \"banana\", \"banana\", \"bands\", \"bands\", \"basis\", \"beans\", \"beans\", \"beats\", \"began\", \"beginnings\", \"berry\", \"berry\", \"bigger\", \"bigger\", \"biggest\", \"biggest\", \"biggest\", \"biggest\", \"bike\", \"bike\", \"bike\", \"bitch\", \"biz\", \"blackberry\", \"blocks\", \"blues\", \"blues\", \"bold\", \"bold\", \"bomb\", \"boss\", \"bottle\", \"bought\", \"bright\", \"bright\", \"broke\", \"broke\", \"brownies\", \"brownies\", \"brownies\", \"brunch\", \"brunch\", \"bucks\", \"bucks\", \"burn\", \"buttery\", \"button\", \"buying\", \"buying\", \"buying\", \"caf\\u00e9\", \"cakes\", \"cali\", \"california\", \"calm\", \"calm\", \"calm\", \"camera\", \"cappuccinos\", \"carry\", \"cartel\", \"caught\", \"cause\", \"character\", \"character\", \"charge\", \"chatty\", \"checked\", \"children\", \"chili\", \"choices\", \"choices\", \"city\", \"city\", \"clarissa\", \"clarissa\", \"clarissa\", \"class\", \"clientele\", \"closest\", \"closest\", \"cocoa\", \"cocoa\", \"coffeeshop\", \"college\", \"comfort\", \"comment\", \"comment\", \"commercial\", \"common\", \"complain\", \"complete\", \"complimentary\", \"complimentary\", \"connect\", \"consider\", \"consider\", \"content\", \"conversations\", \"coolest\", \"cooper\", \"cooper\", \"count\", \"counts\", \"counts\", \"couples\", \"coworkers\", \"craft\", \"cranberry\", \"craving\", \"craving\", \"creamy\", \"created\", \"creative\", \"creative\", \"crisp\", \"crisp\", \"crispy\", \"crispy\", \"crispy\", \"croissant\", \"croissant\", \"croissant\", \"croissant\", \"croissants\", \"croissants\", \"cs\", \"csc\", \"csc\", \"curve\", \"dad\", \"dang\", \"dark\", \"date\", \"date\", \"deal\", \"deal\", \"deal\", \"deal\", \"decorated\", \"decorated\", \"deep\", \"def\", \"def\", \"deliciously\", \"deliver\", \"desert\", \"desert\", \"despite\", \"despite\", \"dessert\", \"dessert\", \"details\", \"detour\", \"deviled\", \"deviled\", \"difficult\", \"difficult\", \"dig\", \"disappoint\", \"distracting\", \"diverse\", \"diverse\", \"diverse\", \"dogs\", \"dogs\", \"dogs\", \"dollars\", \"dont\", \"double\", \"drinkers\", \"driven\", \"driven\", \"drop\", \"drop\", \"dutch\", \"eager\", \"eager\", \"earl\", \"earl\", \"earl\", \"earth\", \"economy\", \"email\", \"email\", \"emails\", \"energy\", \"energy\", \"energy\", \"escape\", \"event\", \"events\", \"eventually\", \"everyday\", \"exactly\", \"exceptional\", \"exceptionally\", \"expanded\", \"expecting\", \"expensive\", \"exposed\", \"exposed\", \"exposed\", \"exposed\", \"exposed\", \"faces\", \"faster\", \"fat\", \"fat\", \"fav\", \"fave\", \"favor\", \"favor\", \"favorites\", \"feedback\", \"feeling\", \"feeling\", \"feeling\", \"filling\", \"filling\", \"fine\", \"fine\", \"finished\", \"finished\", \"fits\", \"flavorful\", \"flavorful\", \"flavorful\", \"flies\", \"flies\", \"flies\", \"flies\", \"fly\", \"foam\", \"foam\", \"foot\", \"forgot\", \"forgot\", \"forgotten\", \"fountain\", \"fountain\", \"fountain\", \"fountain\", \"frequently\", \"friday\", \"friday\", \"friday\", \"frosting\", \"frosting\", \"frosting\", \"fruity\", \"galore\", \"game\", \"gayborhood\", \"gayborhood\", \"gems\", \"gems\", \"giant\", \"giant\", \"gladly\", \"gonna\", \"gonna\", \"gonna\", \"gotta\", \"gotta\", \"gotten\", \"gotten\", \"greasy\", \"greeted\", \"greeted\", \"grey\", \"grey\", \"groups\", \"groups\", \"groups\", \"guessed\", \"guessed\", \"hack\", \"ham\", \"handmade\", \"hangout\", \"happily\", \"happily\", \"hassle\", \"healthy\", \"heck\", \"heck\", \"heck\", \"hell\", \"hell\", \"hello\", \"hello\", \"hint\", \"hipsters\", \"historic\", \"hits\", \"hits\", \"hold\", \"homey\", \"homey\", \"honest\", \"honesty\", \"hood\", \"hood\", \"hood\", \"hood\", \"hooray\", \"hooray\", \"hop\", \"hope\", \"hope\", \"hospitality\", \"host\", \"houses\", \"houses\", \"humus\", \"humus\", \"hunt\", \"immediate\", \"immediate\", \"important\", \"important\", \"impression\", \"impression\", \"impression\", \"impression\", \"impressive\", \"improve\", \"incredible\", \"indian\", \"indian\", \"indian\", \"indoors\", \"influence\", \"ingredients\", \"ingredients\", \"intimate\", \"introducing\", \"item\", \"item\", \"java\", \"john\", \"joints\", \"joints\", \"keeps\", \"key\", \"key\", \"kids\", \"knock\", \"knock\", \"knowledgeable\", \"krispy\", \"kudos\", \"lacking\", \"lanes\", \"law\", \"law\", \"layout\", \"layout\", \"learned\", \"learned\", \"leaves\", \"leaving\", \"legit\", \"lets\", \"lifts\", \"lightly\", \"likely\", \"lil\", \"lil\", \"lil\", \"lips\", \"listen\", \"lit\", \"lively\", \"living\", \"living\", \"lost\", \"lost\", \"loves\", \"low\", \"low\", \"loyalty\", \"luck\", \"luv\", \"luv\", \"machine\", \"machine\", \"machine\", \"magazines\", \"main\", \"main\", \"major\", \"mango\", \"mango\", \"maricopa\", \"mark\", \"mark\", \"mark\", \"mature\", \"meals\", \"meaning\", \"meaning\", \"meaning\", \"mediocre\", \"meh\", \"meh\", \"meh\", \"meh\", \"meh\", \"mellow\", \"mellow\", \"mellow\", \"members\", \"members\", \"members\", \"metal\", \"mic\", \"middle\", \"middle\", \"middle\", \"middle\", \"mild\", \"mint\", \"mixed\", \"mixed\", \"mixed\", \"mixed\", \"modern\", \"moment\", \"moment\", \"moment\", \"moment\", \"month\", \"mood\", \"mood\", \"multiple\", \"names\", \"nathan\", \"nathan\", \"nd\", \"neat\", \"neat\", \"negative\", \"nestled\", \"nicer\", \"nicest\", \"noise\", \"noise\", \"noise\", \"nonetheless\", \"nostalgic\", \"nostalgic\", \"nut\", \"nut\", \"offerings\", \"offers\", \"offers\", \"online\", \"opinion\", \"opinion\", \"orange\", \"orange\", \"original\", \"outdoors\", \"oven\", \"overheard\", \"overly\", \"overpriced\", \"overpriced\", \"overpriced\", \"overwhelming\", \"overwhelming\", \"owners\", \"owners\", \"owners\", \"ownership\", \"owns\", \"pain\", \"painted\", \"paintings\", \"paintings\", \"parked\", \"particular\", \"particular\", \"pass\", \"pass\", \"password\", \"patronizing\", \"patrons\", \"pay\", \"pay\", \"pay\", \"peace\", \"peak\", \"pecan\", \"perfection\", \"period\", \"perky\", \"personable\", \"pet\", \"pie\", \"pie\", \"piece\", \"piece\", \"piece\", \"pieces\", \"pieces\", \"piercing\", \"planning\", \"plants\", \"pleasantly\", \"pleasantly\", \"pleasure\", \"pleasure\", \"pleasure\", \"plush\", \"points\", \"poor\", \"poor\", \"poor\", \"poppyseed\", \"posted\", \"practically\", \"prepared\", \"pricey\", \"pricey\", \"pricing\", \"program\", \"proper\", \"proper\", \"provided\", \"provided\", \"pulling\", \"pumpkin\", \"pumpkin\", \"quarters\", \"quirky\", \"radio\", \"radio\", \"rainy\", \"raisin\", \"rarity\", \"ready\", \"ready\", \"ready\", \"ready\", \"reasonably\", \"reasonably\", \"receive\", \"received\", \"received\", \"records\", \"records\", \"recycling\", \"reflects\", \"refurbished\", \"refurbished\", \"reliable\", \"remains\", \"reply\", \"results\", \"rich\", \"road\", \"rock\", \"rock\", \"rock\", \"rocks\", \"rolls\", \"rolls\", \"rolls\", \"rolls\", \"rolls\", \"sale\", \"sale\", \"sammy\", \"sammy\", \"sandweg\", \"satisfying\", \"satisfying\", \"says\", \"scratch\", \"scratch\", \"season\", \"season\", \"seats\", \"seats\", \"seats\", \"sell\", \"sense\", \"sense\", \"sent\", \"sent\", \"serve\", \"serve\", \"serve\", \"session\", \"shaded\", \"shaded\", \"shame\", \"shame\", \"shifts\", \"shopping\", \"shopping\", \"shopping\", \"sigh\", \"silk\", \"single\", \"single\", \"sipping\", \"sister\", \"sized\", \"slammed\", \"slammed\", \"slight\", \"slight\", \"smaller\", \"smaller\", \"smelt\", \"smiling\", \"smoke\", \"snack\", \"snack\", \"snob\", \"sodas\", \"sodas\", \"sofas\", \"sofas\", \"sooo\", \"sooo\", \"sooooo\", \"sounds\", \"specialty\", \"speedy\", \"speedy\", \"spending\", \"spent\", \"spent\", \"spent\", \"spent\", \"spent\", \"spice\", \"spice\", \"spice\", \"spicy\", \"spicy\", \"split\", \"spotty\", \"sprinkles\", \"st\", \"stamp\", \"stamps\", \"stamps\", \"starbuck\", \"stations\", \"stayed\", \"stayed\", \"steady\", \"stock\", \"stoked\", \"stole\", \"stole\", \"stood\", \"stools\", \"stopping\", \"stopping\", \"stopping\", \"stores\", \"streets\", \"stretch\", \"stronger\", \"students\", \"stumbled\", \"stumbled\", \"subpar\", \"sucks\", \"suggest\", \"suggestion\", \"summer\", \"superb\", \"superb\", \"superb\", \"supposed\", \"surprise\", \"surprise\", \"sweetness\", \"sweets\", \"sweets\", \"sweets\", \"tad\", \"taken\", \"taken\", \"takes\", \"takes\", \"talkative\", \"tarts\", \"tastes\", \"tastes\", \"tastes\", \"tastes\", \"tasting\", \"tasting\", \"tattoo\", \"tends\", \"test\", \"thankful\", \"thankful\", \"theme\", \"thinking\", \"thinking\", \"tho\", \"tho\", \"timers\", \"tip\", \"tip\", \"tip\", \"tip\", \"tip\", \"tolerable\", \"tomorrow\", \"tone\", \"tone\", \"topped\", \"traffic\", \"training\", \"trash\", \"tricky\", \"tropical\", \"tropical\", \"trouble\", \"truly\", \"truly\", \"truly\", \"truly\", \"truly\", \"truly\", \"truly\", \"twice\", \"unbelievably\", \"uncomfortable\", \"unexpectedly\", \"unlike\", \"unlike\", \"unpretentious\", \"unpretentious\", \"upbeat\", \"upbeat\", \"upset\", \"usual\", \"veggies\", \"venue\", \"venue\", \"version\", \"vs\", \"waited\", \"waited\", \"waited\", \"walks\", \"walks\", \"wanting\", \"warning\", \"watch\", \"watered\", \"wearing\", \"wearing\", \"wednesday\", \"weekday\", \"weekends\", \"weekends\", \"weekly\", \"welcomed\", \"whipped\", \"wireless\", \"wireless\", \"wood\", \"wood\", \"woohoo\", \"workers\", \"workers\", \"works\", \"works\", \"world\", \"world\", \"worry\", \"worst\", \"worst\", \"wow\", \"wrap\", \"wrap\", \"ya\"]}, \"R\": 30, \"lambda.step\": 0.01, \"plot.opts\": {\"xlab\": \"PC1\", \"ylab\": \"PC2\"}, \"topic.order\": [13, 5, 2, 10, 11, 14, 12, 8, 1, 3, 7, 6, 15, 4, 9]};\n",
              "\n",
              "function LDAvis_load_lib(url, callback){\n",
              "  var s = document.createElement('script');\n",
              "  s.src = url;\n",
              "  s.async = true;\n",
              "  s.onreadystatechange = s.onload = callback;\n",
              "  s.onerror = function(){console.warn(\"failed to load library \" + url);};\n",
              "  document.getElementsByTagName(\"head\")[0].appendChild(s);\n",
              "}\n",
              "\n",
              "if(typeof(LDAvis) !== \"undefined\"){\n",
              "   // already loaded: just create the visualization\n",
              "   !function(LDAvis){\n",
              "       new LDAvis(\"#\" + \"ldavis_el1271406844897460161018925350\", ldavis_el1271406844897460161018925350_data);\n",
              "   }(LDAvis);\n",
              "}else if(typeof define === \"function\" && define.amd){\n",
              "   // require.js is available: use it to load d3/LDAvis\n",
              "   require.config({paths: {d3: \"https://cdnjs.cloudflare.com/ajax/libs/d3/3.5.5/d3.min\"}});\n",
              "   require([\"d3\"], function(d3){\n",
              "      window.d3 = d3;\n",
              "      LDAvis_load_lib(\"https://cdn.rawgit.com/bmabey/pyLDAvis/files/ldavis.v1.0.0.js\", function(){\n",
              "        new LDAvis(\"#\" + \"ldavis_el1271406844897460161018925350\", ldavis_el1271406844897460161018925350_data);\n",
              "      });\n",
              "    });\n",
              "}else{\n",
              "    // require.js not available: dynamically load d3 & LDAvis\n",
              "    LDAvis_load_lib(\"https://cdnjs.cloudflare.com/ajax/libs/d3/3.5.5/d3.min.js\", function(){\n",
              "         LDAvis_load_lib(\"https://cdn.rawgit.com/bmabey/pyLDAvis/files/ldavis.v1.0.0.js\", function(){\n",
              "                 new LDAvis(\"#\" + \"ldavis_el1271406844897460161018925350\", ldavis_el1271406844897460161018925350_data);\n",
              "            })\n",
              "         });\n",
              "}\n",
              "</script>"
            ],
            "text/plain": [
              "PreparedData(topic_coordinates=              x         y  topics  cluster      Freq\n",
              "topic                                               \n",
              "12    -0.004669 -0.007596       1        1  9.139521\n",
              "4     -0.051549  0.013715       2        1  8.767479\n",
              "1     -0.062055 -0.012678       3        1  7.387768\n",
              "9      0.019607  0.010282       4        1  7.008548\n",
              "10     0.009501 -0.012459       5        1  6.866745\n",
              "13    -0.005991 -0.027780       6        1  6.786170\n",
              "11    -0.035409  0.022188       7        1  6.753385\n",
              "7      0.006664 -0.021411       8        1  6.600522\n",
              "0      0.016889 -0.019560       9        1  6.493154\n",
              "2      0.037290 -0.009544      10        1  6.430186\n",
              "6      0.027304  0.093007      11        1  6.420612\n",
              "5      0.051648 -0.020987      12        1  6.419081\n",
              "14     0.010401  0.007914      13        1  4.991362\n",
              "3      0.001994 -0.026015      14        1  4.979233\n",
              "8     -0.021625  0.010923      15        1  4.956234, topic_info=     Category      Freq        Term     Total  loglift  logprob\n",
              "680   Default  3.000000        test  3.000000  30.0000  30.0000\n",
              "682   Default  5.000000        dogs  5.000000  29.0000  29.0000\n",
              "224   Default  4.000000        rock  4.000000  28.0000  28.0000\n",
              "1102  Default  3.000000    clarissa  3.000000  27.0000  27.0000\n",
              "14    Default  3.000000    wireless  3.000000  26.0000  26.0000\n",
              "...       ...       ...         ...       ...      ...      ...\n",
              "977   Topic15  0.726540  assortment  4.604729   1.1580  -5.4769\n",
              "1077  Topic15  0.574886         hop  3.707365   1.1406  -5.7110\n",
              "751   Topic15  0.584076   croissant  4.693290   0.9207  -5.6951\n",
              "70    Topic15  0.548418      tastes  5.411480   0.7153  -5.7581\n",
              "996   Topic15  0.544787      moment  5.053635   0.7771  -5.7648\n",
              "\n",
              "[658 rows x 6 columns], token_table=      Topic      Freq           Term\n",
              "term                                \n",
              "642      12  0.363343       absolute\n",
              "494       5  0.320881  accommodating\n",
              "755      13  0.484930       acquired\n",
              "895      11  0.449427            act\n",
              "104       1  0.478356         actual\n",
              "...     ...       ...            ...\n",
              "393       9  0.440271          worst\n",
              "256      11  0.278283            wow\n",
              "232       2  0.305661           wrap\n",
              "232       3  0.305661           wrap\n",
              "975       8  0.455427             ya\n",
              "\n",
              "[850 rows x 3 columns], R=30, lambda_step=0.01, plot_opts={'xlab': 'PC1', 'ylab': 'PC2'}, topic_order=[13, 5, 2, 10, 11, 14, 12, 8, 1, 3, 7, 6, 15, 4, 9])"
            ]
          },
          "metadata": {
            "tags": []
          },
          "execution_count": 70
        }
      ]
    },
    {
      "cell_type": "code",
      "metadata": {
        "id": "zXnk4sdR1QX5",
        "colab_type": "code",
        "outputId": "fee14465-5caf-4b30-c721-675ff0394734",
        "colab": {
          "base_uri": "https://localhost:8080/",
          "height": 281
        }
      },
      "source": [
        "# display top 5 words of topics\n",
        "words = [re.findall(r'\"([^\"]*)\"', topic[1]) \n",
        "         for topic in lda.print_topics()]\n",
        "topics = [' '.join(t[0:5]) for t in words]\n",
        "for t in topics: \n",
        "    print(t)"
      ],
      "execution_count": 0,
      "outputs": [
        {
          "output_type": "stream",
          "text": [
            "arizona weekends deliver favorites comment\n",
            "test csc wireless waited expecting\n",
            "banana spicy piece available dig\n",
            "rock bomb quirky cakes overly\n",
            "scratch historic friday fat tip\n",
            "cartel absolute pricey lil faster\n",
            "dessert luv cause sale common\n",
            "available pleasantly hood important nicer\n",
            "annoying reliable key smaller count\n",
            "dogs takes energy watered creamy\n",
            "knowledgeable pet pleasure lost trouble\n",
            "double gonna results pain drop\n",
            "actual dark training stayed deal\n",
            "character trash lost hell ready\n",
            "bacon version city leaving exposed\n"
          ],
          "name": "stdout"
        }
      ]
    },
    {
      "cell_type": "code",
      "metadata": {
        "id": "hhDXzorz1Yx2",
        "colab_type": "code",
        "outputId": "f1693374-7680-4d06-c2d8-2582505b12b6",
        "colab": {
          "base_uri": "https://localhost:8080/",
          "height": 309
        }
      },
      "source": [
        "def update(doc):\n",
        "    d_dist = {k:0 for k in range(0, num_topics)}\n",
        "    for t in doc:\n",
        "        d_dist[t[0]] = t[1]\n",
        "    return d_dist\n",
        "\n",
        "distro = [lda[d] for d in corpus]\n",
        "new_distro = [update(d) for d in distro]\n",
        "df_distro = pd.DataFrame.from_records(new_distro)\n",
        "df_distro.columns = topics\n",
        "df_distro['stars'] = df_cafe['stars']\n",
        "print(df_distro.shape)\n",
        "df_distro.sample(5)"
      ],
      "execution_count": 0,
      "outputs": [
        {
          "output_type": "stream",
          "text": [
            "(587, 16)\n"
          ],
          "name": "stdout"
        },
        {
          "output_type": "execute_result",
          "data": {
            "text/html": [
              "<div>\n",
              "<style scoped>\n",
              "    .dataframe tbody tr th:only-of-type {\n",
              "        vertical-align: middle;\n",
              "    }\n",
              "\n",
              "    .dataframe tbody tr th {\n",
              "        vertical-align: top;\n",
              "    }\n",
              "\n",
              "    .dataframe thead th {\n",
              "        text-align: right;\n",
              "    }\n",
              "</style>\n",
              "<table border=\"1\" class=\"dataframe\">\n",
              "  <thead>\n",
              "    <tr style=\"text-align: right;\">\n",
              "      <th></th>\n",
              "      <th>arizona weekends deliver favorites comment</th>\n",
              "      <th>test csc wireless waited expecting</th>\n",
              "      <th>banana spicy piece available dig</th>\n",
              "      <th>rock bomb quirky cakes overly</th>\n",
              "      <th>scratch historic friday fat tip</th>\n",
              "      <th>cartel absolute pricey lil faster</th>\n",
              "      <th>dessert luv cause sale common</th>\n",
              "      <th>available pleasantly hood important nicer</th>\n",
              "      <th>annoying reliable key smaller count</th>\n",
              "      <th>dogs takes energy watered creamy</th>\n",
              "      <th>knowledgeable pet pleasure lost trouble</th>\n",
              "      <th>double gonna results pain drop</th>\n",
              "      <th>actual dark training stayed deal</th>\n",
              "      <th>character trash lost hell ready</th>\n",
              "      <th>bacon version city leaving exposed</th>\n",
              "      <th>stars</th>\n",
              "    </tr>\n",
              "  </thead>\n",
              "  <tbody>\n",
              "    <tr>\n",
              "      <th>246</th>\n",
              "      <td>0.000000</td>\n",
              "      <td>0.000000</td>\n",
              "      <td>0.875337</td>\n",
              "      <td>0.000000</td>\n",
              "      <td>0.000000</td>\n",
              "      <td>0.000000</td>\n",
              "      <td>0.000000</td>\n",
              "      <td>0.000000</td>\n",
              "      <td>0.000000</td>\n",
              "      <td>0.000000</td>\n",
              "      <td>0.000000</td>\n",
              "      <td>0.000000</td>\n",
              "      <td>0.000000</td>\n",
              "      <td>0.000000</td>\n",
              "      <td>0.028366</td>\n",
              "      <td>4.0</td>\n",
              "    </tr>\n",
              "    <tr>\n",
              "      <th>523</th>\n",
              "      <td>0.033333</td>\n",
              "      <td>0.033333</td>\n",
              "      <td>0.033333</td>\n",
              "      <td>0.033333</td>\n",
              "      <td>0.033333</td>\n",
              "      <td>0.033333</td>\n",
              "      <td>0.033333</td>\n",
              "      <td>0.033333</td>\n",
              "      <td>0.533333</td>\n",
              "      <td>0.033333</td>\n",
              "      <td>0.033333</td>\n",
              "      <td>0.033333</td>\n",
              "      <td>0.033333</td>\n",
              "      <td>0.033333</td>\n",
              "      <td>0.033333</td>\n",
              "      <td>5.0</td>\n",
              "    </tr>\n",
              "    <tr>\n",
              "      <th>538</th>\n",
              "      <td>0.013333</td>\n",
              "      <td>0.813333</td>\n",
              "      <td>0.013333</td>\n",
              "      <td>0.013333</td>\n",
              "      <td>0.013333</td>\n",
              "      <td>0.013333</td>\n",
              "      <td>0.013333</td>\n",
              "      <td>0.013333</td>\n",
              "      <td>0.013333</td>\n",
              "      <td>0.013333</td>\n",
              "      <td>0.013333</td>\n",
              "      <td>0.013333</td>\n",
              "      <td>0.013333</td>\n",
              "      <td>0.013333</td>\n",
              "      <td>0.013333</td>\n",
              "      <td>4.0</td>\n",
              "    </tr>\n",
              "    <tr>\n",
              "      <th>207</th>\n",
              "      <td>0.013333</td>\n",
              "      <td>0.013333</td>\n",
              "      <td>0.013333</td>\n",
              "      <td>0.013333</td>\n",
              "      <td>0.013333</td>\n",
              "      <td>0.013333</td>\n",
              "      <td>0.813333</td>\n",
              "      <td>0.013333</td>\n",
              "      <td>0.013333</td>\n",
              "      <td>0.013333</td>\n",
              "      <td>0.013333</td>\n",
              "      <td>0.013333</td>\n",
              "      <td>0.013333</td>\n",
              "      <td>0.013333</td>\n",
              "      <td>0.013333</td>\n",
              "      <td>5.0</td>\n",
              "    </tr>\n",
              "    <tr>\n",
              "      <th>57</th>\n",
              "      <td>0.016667</td>\n",
              "      <td>0.016667</td>\n",
              "      <td>0.016667</td>\n",
              "      <td>0.016667</td>\n",
              "      <td>0.016667</td>\n",
              "      <td>0.016667</td>\n",
              "      <td>0.766207</td>\n",
              "      <td>0.016667</td>\n",
              "      <td>0.016667</td>\n",
              "      <td>0.017126</td>\n",
              "      <td>0.016667</td>\n",
              "      <td>0.016667</td>\n",
              "      <td>0.016667</td>\n",
              "      <td>0.016667</td>\n",
              "      <td>0.016667</td>\n",
              "      <td>5.0</td>\n",
              "    </tr>\n",
              "  </tbody>\n",
              "</table>\n",
              "</div>"
            ],
            "text/plain": [
              "     arizona weekends deliver favorites comment  ...  stars\n",
              "246                                    0.000000  ...    4.0\n",
              "523                                    0.033333  ...    5.0\n",
              "538                                    0.013333  ...    4.0\n",
              "207                                    0.013333  ...    5.0\n",
              "57                                     0.016667  ...    5.0\n",
              "\n",
              "[5 rows x 16 columns]"
            ]
          },
          "metadata": {
            "tags": []
          },
          "execution_count": 74
        }
      ]
    },
    {
      "cell_type": "code",
      "metadata": {
        "id": "azk-FSNe1gEp",
        "colab_type": "code",
        "outputId": "1f51b734-f678-44b1-99a6-0b1c9df01313",
        "colab": {
          "base_uri": "https://localhost:8080/",
          "height": 322
        }
      },
      "source": [
        "df_distro.groupby('stars').mean()"
      ],
      "execution_count": 0,
      "outputs": [
        {
          "output_type": "execute_result",
          "data": {
            "text/html": [
              "<div>\n",
              "<style scoped>\n",
              "    .dataframe tbody tr th:only-of-type {\n",
              "        vertical-align: middle;\n",
              "    }\n",
              "\n",
              "    .dataframe tbody tr th {\n",
              "        vertical-align: top;\n",
              "    }\n",
              "\n",
              "    .dataframe thead th {\n",
              "        text-align: right;\n",
              "    }\n",
              "</style>\n",
              "<table border=\"1\" class=\"dataframe\">\n",
              "  <thead>\n",
              "    <tr style=\"text-align: right;\">\n",
              "      <th></th>\n",
              "      <th>arizona weekends deliver favorites comment</th>\n",
              "      <th>test csc wireless waited expecting</th>\n",
              "      <th>banana spicy piece available dig</th>\n",
              "      <th>rock bomb quirky cakes overly</th>\n",
              "      <th>scratch historic friday fat tip</th>\n",
              "      <th>cartel absolute pricey lil faster</th>\n",
              "      <th>dessert luv cause sale common</th>\n",
              "      <th>available pleasantly hood important nicer</th>\n",
              "      <th>annoying reliable key smaller count</th>\n",
              "      <th>dogs takes energy watered creamy</th>\n",
              "      <th>knowledgeable pet pleasure lost trouble</th>\n",
              "      <th>double gonna results pain drop</th>\n",
              "      <th>actual dark training stayed deal</th>\n",
              "      <th>character trash lost hell ready</th>\n",
              "      <th>bacon version city leaving exposed</th>\n",
              "    </tr>\n",
              "    <tr>\n",
              "      <th>stars</th>\n",
              "      <th></th>\n",
              "      <th></th>\n",
              "      <th></th>\n",
              "      <th></th>\n",
              "      <th></th>\n",
              "      <th></th>\n",
              "      <th></th>\n",
              "      <th></th>\n",
              "      <th></th>\n",
              "      <th></th>\n",
              "      <th></th>\n",
              "      <th></th>\n",
              "      <th></th>\n",
              "      <th></th>\n",
              "      <th></th>\n",
              "    </tr>\n",
              "  </thead>\n",
              "  <tbody>\n",
              "    <tr>\n",
              "      <th>1.0</th>\n",
              "      <td>0.167846</td>\n",
              "      <td>0.052993</td>\n",
              "      <td>0.014167</td>\n",
              "      <td>0.014167</td>\n",
              "      <td>0.173951</td>\n",
              "      <td>0.024453</td>\n",
              "      <td>0.097500</td>\n",
              "      <td>0.140480</td>\n",
              "      <td>0.014167</td>\n",
              "      <td>0.094976</td>\n",
              "      <td>0.114203</td>\n",
              "      <td>0.014167</td>\n",
              "      <td>0.014167</td>\n",
              "      <td>0.019657</td>\n",
              "      <td>0.014167</td>\n",
              "    </tr>\n",
              "    <tr>\n",
              "      <th>2.0</th>\n",
              "      <td>0.059045</td>\n",
              "      <td>0.054553</td>\n",
              "      <td>0.063312</td>\n",
              "      <td>0.033561</td>\n",
              "      <td>0.035304</td>\n",
              "      <td>0.076160</td>\n",
              "      <td>0.068089</td>\n",
              "      <td>0.013059</td>\n",
              "      <td>0.023392</td>\n",
              "      <td>0.069260</td>\n",
              "      <td>0.099033</td>\n",
              "      <td>0.088745</td>\n",
              "      <td>0.070329</td>\n",
              "      <td>0.130818</td>\n",
              "      <td>0.051767</td>\n",
              "    </tr>\n",
              "    <tr>\n",
              "      <th>3.0</th>\n",
              "      <td>0.059311</td>\n",
              "      <td>0.087023</td>\n",
              "      <td>0.061300</td>\n",
              "      <td>0.038532</td>\n",
              "      <td>0.060220</td>\n",
              "      <td>0.090753</td>\n",
              "      <td>0.052252</td>\n",
              "      <td>0.061460</td>\n",
              "      <td>0.059848</td>\n",
              "      <td>0.081465</td>\n",
              "      <td>0.056930</td>\n",
              "      <td>0.084059</td>\n",
              "      <td>0.059399</td>\n",
              "      <td>0.050259</td>\n",
              "      <td>0.058970</td>\n",
              "    </tr>\n",
              "    <tr>\n",
              "      <th>4.0</th>\n",
              "      <td>0.047207</td>\n",
              "      <td>0.066569</td>\n",
              "      <td>0.055280</td>\n",
              "      <td>0.064596</td>\n",
              "      <td>0.072160</td>\n",
              "      <td>0.085428</td>\n",
              "      <td>0.064507</td>\n",
              "      <td>0.085581</td>\n",
              "      <td>0.038706</td>\n",
              "      <td>0.054685</td>\n",
              "      <td>0.071248</td>\n",
              "      <td>0.069008</td>\n",
              "      <td>0.070450</td>\n",
              "      <td>0.068871</td>\n",
              "      <td>0.054152</td>\n",
              "    </tr>\n",
              "    <tr>\n",
              "      <th>5.0</th>\n",
              "      <td>0.071023</td>\n",
              "      <td>0.073105</td>\n",
              "      <td>0.061576</td>\n",
              "      <td>0.062331</td>\n",
              "      <td>0.083590</td>\n",
              "      <td>0.056649</td>\n",
              "      <td>0.075665</td>\n",
              "      <td>0.056298</td>\n",
              "      <td>0.060257</td>\n",
              "      <td>0.064858</td>\n",
              "      <td>0.069978</td>\n",
              "      <td>0.050834</td>\n",
              "      <td>0.072589</td>\n",
              "      <td>0.065671</td>\n",
              "      <td>0.051913</td>\n",
              "    </tr>\n",
              "  </tbody>\n",
              "</table>\n",
              "</div>"
            ],
            "text/plain": [
              "       arizona weekends deliver favorites comment  ...  bacon version city leaving exposed\n",
              "stars                                              ...                                    \n",
              "1.0                                      0.167846  ...                            0.014167\n",
              "2.0                                      0.059045  ...                            0.051767\n",
              "3.0                                      0.059311  ...                            0.058970\n",
              "4.0                                      0.047207  ...                            0.054152\n",
              "5.0                                      0.071023  ...                            0.051913\n",
              "\n",
              "[5 rows x 15 columns]"
            ]
          },
          "metadata": {
            "tags": []
          },
          "execution_count": 75
        }
      ]
    },
    {
      "cell_type": "markdown",
      "metadata": {
        "id": "14vQicjx-skB",
        "colab_type": "text"
      },
      "source": [
        "# LSI - topic modelling"
      ]
    },
    {
      "cell_type": "code",
      "metadata": {
        "id": "0DQiIYuE-t4d",
        "colab_type": "code",
        "outputId": "852f6408-7f01-4f82-b3a6-eb9b0a966a96",
        "colab": {
          "base_uri": "https://localhost:8080/",
          "height": 213
        }
      },
      "source": [
        "# Build the LSI model\n",
        "num_topics= 5\n",
        "lsi = LsiModel(corpus=corpus, \n",
        "               num_topics=num_topics, \n",
        "               id2word=dictionary)\n",
        "lsi.print_topics()"
      ],
      "execution_count": 0,
      "outputs": [
        {
          "output_type": "execute_result",
          "data": {
            "text/plain": [
              "[(0,\n",
              "  '0.511*\"banana\" + 0.296*\"listening\" + 0.198*\"immediately\" + 0.197*\"month\" + 0.116*\"starts\" + 0.112*\"tastes\" + 0.112*\"regret\" + 0.110*\"continue\" + 0.109*\"piece\" + 0.109*\"growing\"'),\n",
              " (1,\n",
              "  '0.298*\"soda\" + 0.225*\"italian\" + 0.210*\"ham\" + 0.206*\"lemonade\" + 0.199*\"reminded\" + 0.199*\"juice\" + 0.198*\"balance\" + 0.155*\"pre\" + 0.133*\"clothes\" + 0.132*\"sodas\"'),\n",
              " (2,\n",
              "  '-0.284*\"wearing\" + -0.218*\"sofa\" + -0.209*\"kept\" + -0.196*\"competition\" + -0.188*\"body\" + 0.180*\"soda\" + -0.155*\"friday\" + 0.132*\"italian\" + -0.129*\"settled\" + 0.128*\"lemonade\"'),\n",
              " (3,\n",
              "  '0.213*\"wearing\" + -0.204*\"step\" + -0.198*\"slowly\" + -0.185*\"hold\" + 0.149*\"sofa\" + 0.137*\"body\" + 0.135*\"competition\" + 0.133*\"kept\" + -0.131*\"indian\" + -0.131*\"basically\"'),\n",
              " (4,\n",
              "  '-0.270*\"starts\" + -0.258*\"noise\" + -0.243*\"random\" + -0.152*\"crazy\" + -0.144*\"permit\" + -0.140*\"background\" + -0.139*\"performance\" + -0.139*\"expecting\" + -0.137*\"figure\" + -0.136*\"lost\"')]"
            ]
          },
          "metadata": {
            "tags": []
          },
          "execution_count": 79
        }
      ]
    },
    {
      "cell_type": "code",
      "metadata": {
        "id": "GAzQYuQt_iZm",
        "colab_type": "code",
        "outputId": "8808088e-5ea7-42f9-83a4-7b3940eed9d6",
        "colab": {
          "base_uri": "https://localhost:8080/",
          "height": 105
        }
      },
      "source": [
        "# display top 10 words of topics\n",
        "words = [re.findall(r'\"([^\"]*)\"', topic[1]) \n",
        "         for topic in lsi.print_topics()]\n",
        "topics = [' '.join(t[0:5]) for t in words]\n",
        "for t in topics: \n",
        "    print(t)"
      ],
      "execution_count": 0,
      "outputs": [
        {
          "output_type": "stream",
          "text": [
            "banana listening immediately month starts\n",
            "soda italian ham lemonade reminded\n",
            "wearing sofa kept competition body\n",
            "wearing step slowly hold sofa\n",
            "starts noise random crazy permit\n"
          ],
          "name": "stdout"
        }
      ]
    },
    {
      "cell_type": "markdown",
      "metadata": {
        "id": "-iywucllC_jE",
        "colab_type": "text"
      },
      "source": [
        "# LSI - topic modelling similarity"
      ]
    },
    {
      "cell_type": "code",
      "metadata": {
        "id": "qNIkiRtaAZQe",
        "colab_type": "code",
        "outputId": "13e34f94-f7bf-41c1-b9f4-9a5bd5bf045a",
        "colab": {
          "base_uri": "https://localhost:8080/",
          "height": 90
        }
      },
      "source": [
        "# Could do similarity comparison with LDA as well\n",
        "review_sample = df_cafe.loc[338, 'text']\n",
        "print(review_sample)\n",
        "print(tokenizer(review_fake))\n",
        "bow = dictionary.doc2bow(tokenizer(review_fake))\n",
        "print(lsi[bow])\n",
        "# This result suggests that topic 1 has the strongest \n",
        "# representation in this text.\n",
        "# topic 1: soda italian ham lemonade reminded\n",
        "# soda? lol"
      ],
      "execution_count": 0,
      "outputs": [
        {
          "output_type": "stream",
          "text": [
            "This place is so cute. So my best friend and I were originally gonna go somewhere else but it was 21 and over and she's not. Then we tried to go to Jobot. But we didn't realize it was First Friday and I didn't want to be in the mix of that. Too busy and too crowded for my liking. Well she found this place. Apparently it used to be a gas station. It looks like it might be drive through. But it's trendy/hipster and I love it. It's a smaller place but that's still cool. Also when it's your first time, you get a free pastry. So that's pretty awesome! I got a chai cupcake and my best friend got a oatmeal cookie. Both of which are big! Lol so I recommend splitting or saving for later. The coffee is good. I got a white mocha iced latte. My best friend doesn't like coffee so she got a coke lol. But it was in one of the older bottles so that was cool. It's in downtown Phoenix but it's not like the most ghetto part of Phoenix either. I was very pleased with my experience here. I can't wait to come back again!\n",
            "['place', 'cute', 'best', 'friend', 'originally', 'gonna', 'tried', 'jobot', 'realize', 'friday', 'want', 'mix', 'busy', 'crowded', 'liking', 'place', 'apparently', 'gas', 'station', 'looks', 'like', 'drive', 'trendy', 'hipster', 'love', 'smaller', 'place', 'cool', 'time', 'free', 'pastry', 'pretty', 'awesome', 'got', 'chai', 'cupcake', 'best', 'friend', 'got', 'oatmeal', 'cookie', 'big', 'lol', 'recommend', 'splitting', 'saving', 'later', 'coffee', 'good', 'got', 'white', 'mocha', 'iced', 'latte', 'best', 'friend', 'like', 'coffee', 'got', 'coke', 'lol', 'older', 'bottles', 'cool', 'downtown', 'phoenix', 'like', 'ghetto', 'phoenix', 'pleased', 'experience', 'wait', 'come']\n",
            "[(0, 0.04350829159796556), (1, 0.16594866997540933), (2, -0.2621802316327452), (3, -0.09683216504089363), (4, 0.04297062838003014)]\n"
          ],
          "name": "stdout"
        }
      ]
    },
    {
      "cell_type": "code",
      "metadata": {
        "id": "8lnprgdvEsK6",
        "colab_type": "code",
        "outputId": "f8b14d8d-f3fa-4f8e-d3b7-3d04fc3d6357",
        "colab": {
          "base_uri": "https://localhost:8080/",
          "height": 90
        }
      },
      "source": [
        "from gensim import similarities\n",
        "lsi_index = similarities.MatrixSimilarity(lsi[corpus])\n",
        " \n",
        "# Let's perform some queries\n",
        "similarities = lsi_index[lsi[bow]]\n",
        "# Sort the similarities\n",
        "similarities = sorted(enumerate(similarities), key=lambda item: -item[1])\n",
        " \n",
        "# Top most similar documents:\n",
        "print(similarities[:10])"
      ],
      "execution_count": 0,
      "outputs": [
        {
          "output_type": "stream",
          "text": [
            "[(338, 1.0), (273, 0.997083), (284, 0.9952047), (444, 0.99457896), (0, 0.98633313), (322, 0.98366374), (177, 0.9822863), (236, 0.9794321), (153, 0.9762022), (272, 0.97546655)]\n"
          ],
          "name": "stdout"
        },
        {
          "output_type": "stream",
          "text": [
            "/usr/local/lib/python3.6/dist-packages/gensim/matutils.py:737: FutureWarning: Conversion of the second argument of issubdtype from `int` to `np.signedinteger` is deprecated. In future, it will be treated as `np.int64 == np.dtype(int).type`.\n",
            "  if np.issubdtype(vec.dtype, np.int):\n"
          ],
          "name": "stderr"
        }
      ]
    },
    {
      "cell_type": "code",
      "metadata": {
        "id": "_uPZsawLFqqf",
        "colab_type": "code",
        "outputId": "2f7a4e8a-90b9-4c64-faab-c6ccb62fbd4a",
        "colab": {
          "base_uri": "https://localhost:8080/",
          "height": 107
        }
      },
      "source": [
        "# Let's see what's the most similar document\n",
        "document_id, similarity = similarities[1]\n",
        "print(document_id)\n",
        "print(df_cafe['text'][document_id])"
      ],
      "execution_count": 0,
      "outputs": [
        {
          "output_type": "stream",
          "text": [
            "273\n",
            "I'm waiting here at Copper Star as my car gets an oil change. The free wifi is a nice perk since I'm supposed to be working right now, but it doesn't make up for the bland toffee coffee ice blended ($4.25 for 16 oz) and greasy crumbly red velvet cupcake ($2.50). \n",
            "\n",
            "It's a cute shop though and I'm all about supporting local businesses so I'll give them another shot next time I'm in the area.\n"
          ],
          "name": "stdout"
        }
      ]
    }
  ]
}