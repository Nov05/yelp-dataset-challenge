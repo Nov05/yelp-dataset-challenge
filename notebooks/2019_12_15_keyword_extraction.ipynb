{
  "nbformat": 4,
  "nbformat_minor": 0,
  "metadata": {
    "colab": {
      "name": "2019-12-15 keyword extraction.ipynb",
      "provenance": [],
      "collapsed_sections": [],
      "toc_visible": true,
      "include_colab_link": true
    },
    "kernelspec": {
      "name": "python3",
      "display_name": "Python 3"
    }
  },
  "cells": [
    {
      "cell_type": "markdown",
      "metadata": {
        "id": "view-in-github",
        "colab_type": "text"
      },
      "source": [
        "<a href=\"https://colab.research.google.com/github/Nov05/yelp-dataset-challenge/blob/master/notebooks/2019_12_15_keyword_extraction.ipynb\" target=\"_parent\"><img src=\"https://colab.research.google.com/assets/colab-badge.svg\" alt=\"Open In Colab\"/></a>"
      ]
    },
    {
      "cell_type": "code",
      "metadata": {
        "id": "G9sBNqdYG2uO",
        "colab_type": "code",
        "colab": {}
      },
      "source": [
        "# created by nov05 on 2019-12-15"
      ],
      "execution_count": 0,
      "outputs": []
    },
    {
      "cell_type": "markdown",
      "metadata": {
        "id": "OmIC0xyJZzln",
        "colab_type": "text"
      },
      "source": [
        "Keyphrase Extraction from Scholarly Articles as Sequence   \n",
        "Labeling using Contextualized Embeddings   \n",
        "https://arxiv.org/pdf/1910.08840.pdf   \n",
        "\n",
        "GitHub Repo - BERT Keyphrase Extraction    \n",
        "https://github.com/pranav-ust/BERT-keyphrase-extraction    \n",
        "\n",
        "BERT - Word vectors, sentence vectors, cosine similarity    \n",
        "https://colab.research.google.com/drive/1wnKvhn2JEPgM11SwxUQZSgaty2iHPiYy    \n",
        "\n",
        "BERT: Pre-training of Deep Bidirectional   \n",
        "Transformers for Language Understanding  \n",
        "(Bidirectional Encoder Representations from Transformers)   \n",
        "Jacob Devlin, Google AI Language   \n",
        "https://nlp.stanford.edu/seminar/details/jdevlin.pdf   \n"
      ]
    },
    {
      "cell_type": "markdown",
      "metadata": {
        "id": "8w1I0iakB77h",
        "colab_type": "text"
      },
      "source": [
        "# Installations"
      ]
    },
    {
      "cell_type": "code",
      "metadata": {
        "id": "60ip8KcLHBYJ",
        "colab_type": "code",
        "colab": {}
      },
      "source": [
        "from google.colab import drive\n",
        "drive.mount('/content/drive')"
      ],
      "execution_count": 0,
      "outputs": []
    },
    {
      "cell_type": "code",
      "metadata": {
        "id": "KGTYG-r2IXML",
        "colab_type": "code",
        "colab": {
          "base_uri": "https://localhost:8080/",
          "height": 90
        },
        "outputId": "e2e300ac-c28a-473f-e5bb-be79384596c2"
      },
      "source": [
        "# https://spacy.io/models\n",
        "!python -m spacy download en_core_web_sm"
      ],
      "execution_count": 5,
      "outputs": [
        {
          "output_type": "stream",
          "text": [
            "Requirement already satisfied: en_core_web_sm==2.1.0 from https://github.com/explosion/spacy-models/releases/download/en_core_web_sm-2.1.0/en_core_web_sm-2.1.0.tar.gz#egg=en_core_web_sm==2.1.0 in /usr/local/lib/python3.6/dist-packages (2.1.0)\n",
            "\u001b[38;5;2m✔ Download and installation successful\u001b[0m\n",
            "You can now load the model via spacy.load('en_core_web_sm')\n"
          ],
          "name": "stdout"
        }
      ]
    },
    {
      "cell_type": "code",
      "metadata": {
        "id": "wOwHvzrrHSio",
        "colab_type": "code",
        "colab": {}
      },
      "source": [
        "!pip install pytextrank\n",
        "# Successfully installed pytextrank-2.0.0"
      ],
      "execution_count": 0,
      "outputs": []
    },
    {
      "cell_type": "code",
      "metadata": {
        "id": "1zJI4tFSB_0g",
        "colab_type": "code",
        "colab": {}
      },
      "source": [
        "# for spaCy lemmatizer \n",
        "# https://spacy.io/usage/adding-languages#lemmatizer\n",
        "# https://spacy.io/api/lemmatizer\n",
        "# !git clone https://github.com/explosion/spacy-lookups-data\n",
        "%cd spacy-lookups-data\n",
        "!pip install -r requirements.txt\n",
        "!pip install spacy_lookups_data\n",
        "# !python -m pytest spacy_lookups_data\n",
        "'''\n",
        "Successfully installed spacy-lookups-data-0.2.0\n",
        "WARNING: The following packages were previously imported in this runtime:\n",
        "  [spacy_lookups_data]\n",
        "You must restart the runtime in order to use newly installed versions.\n",
        "'''"
      ],
      "execution_count": 0,
      "outputs": []
    },
    {
      "cell_type": "code",
      "metadata": {
        "id": "qlpRfOppG-2Q",
        "colab_type": "code",
        "colab": {}
      },
      "source": [
        "!pip install pytorch_pretrained_bert\n",
        "# Successfully installed pytorch-pretrained-bert-0.6.2 regex-2019.12.9"
      ],
      "execution_count": 0,
      "outputs": []
    },
    {
      "cell_type": "code",
      "metadata": {
        "id": "l1hX0aDNIAne",
        "colab_type": "code",
        "colab": {}
      },
      "source": [
        "# https://networkx.github.io/documentation/networkx-1.9/install.html\n",
        "!pip install networkx\n",
        "# Requirement already satisfied: networkx in /usr/local/lib/python3.6/dist-packages (2.4)\n",
        "# Requirement already satisfied: decorator>=4.3.0 in /usr/local/lib/python3.6/dist-packages (from networkx) (4.4.1)"
      ],
      "execution_count": 0,
      "outputs": []
    },
    {
      "cell_type": "markdown",
      "metadata": {
        "id": "sswtJpaCUSsf",
        "colab_type": "text"
      },
      "source": [
        "# Imports\n"
      ]
    },
    {
      "cell_type": "code",
      "metadata": {
        "id": "BOzVfjfFSMEC",
        "colab_type": "code",
        "colab": {}
      },
      "source": [
        "import numpy as np\n",
        "import pandas as pd\n",
        "import re\n",
        "from collections import Counter\n",
        "from datetime import datetime \n",
        "from datetime import timedelta\n",
        "import json\n",
        "\n",
        "import matplotlib.pyplot as plt\n",
        "import seaborn as sns\n",
        "import plotly.graph_objects as go\n",
        "\n",
        "import spacy\n",
        "# import spacy_lookups_data\n",
        "import pytextrank\n",
        "\n",
        "# from wordcloud import WordCloud, STOPWORDS, \\\n",
        "#     ImageColorGenerator\n",
        "# import torch\n",
        "# from pytorch_pretrained_bert import BertTokenizer, \\\n",
        "#     BertModel, BertForMaskedLM\n",
        "\n",
        "# from PIL import Image"
      ],
      "execution_count": 0,
      "outputs": []
    },
    {
      "cell_type": "markdown",
      "metadata": {
        "id": "l3ykpR1DVgAi",
        "colab_type": "text"
      },
      "source": [
        "# Load business_review_cafes_az.csv"
      ]
    },
    {
      "cell_type": "code",
      "metadata": {
        "id": "3otjM_ZbUAL4",
        "colab_type": "code",
        "outputId": "3fc87d93-2022-4444-c59c-87ecee25e5aa",
        "colab": {
          "base_uri": "https://localhost:8080/",
          "height": 273
        }
      },
      "source": [
        "# All businesses and reviews in state Arizona\n",
        "path = \"/content/drive/My Drive/data/2019-12-06 yelp/yelp_dataset/csv_out/business_review_cafes_az.csv\"\n",
        "df_cafes = pd.read_csv(path)\n",
        "print(df_cafes.shape)\n",
        "df_cafes.sample()"
      ],
      "execution_count": 9,
      "outputs": [
        {
          "output_type": "stream",
          "text": [
            "(21496, 75)\n"
          ],
          "name": "stdout"
        },
        {
          "output_type": "stream",
          "text": [
            "/usr/local/lib/python3.6/dist-packages/IPython/core/interactiveshell.py:2718: DtypeWarning:\n",
            "\n",
            "Columns (51,59) have mixed types. Specify dtype option on import or set low_memory=False.\n",
            "\n"
          ],
          "name": "stderr"
        },
        {
          "output_type": "execute_result",
          "data": {
            "text/html": [
              "<div>\n",
              "<style scoped>\n",
              "    .dataframe tbody tr th:only-of-type {\n",
              "        vertical-align: middle;\n",
              "    }\n",
              "\n",
              "    .dataframe tbody tr th {\n",
              "        vertical-align: top;\n",
              "    }\n",
              "\n",
              "    .dataframe thead th {\n",
              "        text-align: right;\n",
              "    }\n",
              "</style>\n",
              "<table border=\"1\" class=\"dataframe\">\n",
              "  <thead>\n",
              "    <tr style=\"text-align: right;\">\n",
              "      <th></th>\n",
              "      <th>business_id</th>\n",
              "      <th>name</th>\n",
              "      <th>address</th>\n",
              "      <th>city</th>\n",
              "      <th>state</th>\n",
              "      <th>postal_code</th>\n",
              "      <th>latitude</th>\n",
              "      <th>longitude</th>\n",
              "      <th>stars_x</th>\n",
              "      <th>review_count</th>\n",
              "      <th>is_open</th>\n",
              "      <th>categories</th>\n",
              "      <th>hours</th>\n",
              "      <th>attributes.GoodForKids</th>\n",
              "      <th>attributes.RestaurantsReservations</th>\n",
              "      <th>attributes.GoodForMeal</th>\n",
              "      <th>attributes.BusinessParking</th>\n",
              "      <th>attributes.Caters</th>\n",
              "      <th>attributes.NoiseLevel</th>\n",
              "      <th>attributes.RestaurantsTableService</th>\n",
              "      <th>attributes.RestaurantsTakeOut</th>\n",
              "      <th>attributes.RestaurantsPriceRange2</th>\n",
              "      <th>attributes.OutdoorSeating</th>\n",
              "      <th>attributes.BikeParking</th>\n",
              "      <th>attributes.Ambience</th>\n",
              "      <th>attributes.HasTV</th>\n",
              "      <th>attributes.WiFi</th>\n",
              "      <th>attributes.Alcohol</th>\n",
              "      <th>attributes.RestaurantsAttire</th>\n",
              "      <th>attributes.RestaurantsGoodForGroups</th>\n",
              "      <th>attributes.RestaurantsDelivery</th>\n",
              "      <th>hours.Monday</th>\n",
              "      <th>hours.Tuesday</th>\n",
              "      <th>hours.Wednesday</th>\n",
              "      <th>hours.Thursday</th>\n",
              "      <th>hours.Friday</th>\n",
              "      <th>hours.Saturday</th>\n",
              "      <th>hours.Sunday</th>\n",
              "      <th>attributes.BusinessAcceptsCreditCards</th>\n",
              "      <th>attributes</th>\n",
              "      <th>attributes.BusinessAcceptsBitcoin</th>\n",
              "      <th>attributes.ByAppointmentOnly</th>\n",
              "      <th>attributes.AcceptsInsurance</th>\n",
              "      <th>attributes.Music</th>\n",
              "      <th>attributes.GoodForDancing</th>\n",
              "      <th>attributes.CoatCheck</th>\n",
              "      <th>attributes.HappyHour</th>\n",
              "      <th>attributes.BestNights</th>\n",
              "      <th>attributes.WheelchairAccessible</th>\n",
              "      <th>attributes.DogsAllowed</th>\n",
              "      <th>attributes.BYOBCorkage</th>\n",
              "      <th>attributes.DriveThru</th>\n",
              "      <th>attributes.Smoking</th>\n",
              "      <th>attributes.AgesAllowed</th>\n",
              "      <th>attributes.HairSpecializesIn</th>\n",
              "      <th>attributes.Corkage</th>\n",
              "      <th>attributes.BYOB</th>\n",
              "      <th>attributes.DietaryRestrictions</th>\n",
              "      <th>attributes.Open24Hours</th>\n",
              "      <th>attributes.RestaurantsCounterService</th>\n",
              "      <th>review_id</th>\n",
              "      <th>user_id</th>\n",
              "      <th>stars_y</th>\n",
              "      <th>useful</th>\n",
              "      <th>funny</th>\n",
              "      <th>cool</th>\n",
              "      <th>text</th>\n",
              "      <th>date</th>\n",
              "      <th>datetime</th>\n",
              "      <th>year</th>\n",
              "      <th>month</th>\n",
              "      <th>day</th>\n",
              "      <th>hour</th>\n",
              "      <th>weekday</th>\n",
              "      <th>text_length</th>\n",
              "    </tr>\n",
              "  </thead>\n",
              "  <tbody>\n",
              "    <tr>\n",
              "      <th>21184</th>\n",
              "      <td>WB7346WSdkTHvtHfWPilaA</td>\n",
              "      <td>Be Coffee + Food + Stuff</td>\n",
              "      <td>214 E Roosevelt St</td>\n",
              "      <td>Phoenix</td>\n",
              "      <td>AZ</td>\n",
              "      <td>85004</td>\n",
              "      <td>33.458966</td>\n",
              "      <td>-112.070489</td>\n",
              "      <td>4.5</td>\n",
              "      <td>334</td>\n",
              "      <td>1</td>\n",
              "      <td>Restaurants, Cafes, Food, Coffee &amp; Tea, Breakf...</td>\n",
              "      <td>NaN</td>\n",
              "      <td>True</td>\n",
              "      <td>False</td>\n",
              "      <td>{'dessert': False, 'latenight': False, 'lunch'...</td>\n",
              "      <td>{'garage': False, 'street': True, 'validated':...</td>\n",
              "      <td>True</td>\n",
              "      <td>'average'</td>\n",
              "      <td>False</td>\n",
              "      <td>True</td>\n",
              "      <td>1.0</td>\n",
              "      <td>True</td>\n",
              "      <td>True</td>\n",
              "      <td>{'touristy': False, 'hipster': True, 'romantic...</td>\n",
              "      <td>False</td>\n",
              "      <td>u'free'</td>\n",
              "      <td>u'none'</td>\n",
              "      <td>'casual'</td>\n",
              "      <td>True</td>\n",
              "      <td>False</td>\n",
              "      <td>0:0-0:0</td>\n",
              "      <td>6:0-20:0</td>\n",
              "      <td>6:0-20:0</td>\n",
              "      <td>6:0-20:0</td>\n",
              "      <td>6:0-20:0</td>\n",
              "      <td>6:30-15:30</td>\n",
              "      <td>7:30-20:0</td>\n",
              "      <td>True</td>\n",
              "      <td>NaN</td>\n",
              "      <td>False</td>\n",
              "      <td>NaN</td>\n",
              "      <td>NaN</td>\n",
              "      <td>NaN</td>\n",
              "      <td>NaN</td>\n",
              "      <td>NaN</td>\n",
              "      <td>NaN</td>\n",
              "      <td>NaN</td>\n",
              "      <td>True</td>\n",
              "      <td>True</td>\n",
              "      <td>NaN</td>\n",
              "      <td>NaN</td>\n",
              "      <td>NaN</td>\n",
              "      <td>NaN</td>\n",
              "      <td>NaN</td>\n",
              "      <td>NaN</td>\n",
              "      <td>NaN</td>\n",
              "      <td>NaN</td>\n",
              "      <td>NaN</td>\n",
              "      <td>NaN</td>\n",
              "      <td>nQv-CHmyK7AiOnVV8dxJEw</td>\n",
              "      <td>LinConb_vJCG0sY84CC4TQ</td>\n",
              "      <td>5.0</td>\n",
              "      <td>0</td>\n",
              "      <td>0</td>\n",
              "      <td>0</td>\n",
              "      <td>Stopped in here for a breakfast sandwich prior...</td>\n",
              "      <td>2018-05-28 19:01:56</td>\n",
              "      <td>2018-05-28 19:01:56</td>\n",
              "      <td>2018.0</td>\n",
              "      <td>5.0</td>\n",
              "      <td>28.0</td>\n",
              "      <td>19.0</td>\n",
              "      <td>0.0</td>\n",
              "      <td>720</td>\n",
              "    </tr>\n",
              "  </tbody>\n",
              "</table>\n",
              "</div>"
            ],
            "text/plain": [
              "                  business_id                      name  ... weekday text_length\n",
              "21184  WB7346WSdkTHvtHfWPilaA  Be Coffee + Food + Stuff  ...     0.0         720\n",
              "\n",
              "[1 rows x 75 columns]"
            ]
          },
          "metadata": {
            "tags": []
          },
          "execution_count": 9
        }
      ]
    },
    {
      "cell_type": "code",
      "metadata": {
        "id": "0PGW8HR91W-k",
        "colab_type": "code",
        "outputId": "0eb1aa2b-0bfb-460c-c04f-500057109eeb",
        "colab": {
          "base_uri": "https://localhost:8080/",
          "height": 268
        }
      },
      "source": [
        "plt.figure(figsize=(12, 4))\n",
        "plt.subplot(121)\n",
        "plt.hist(df_cafes['text_length'], bins=200)\n",
        "plt.subplot(122)\n",
        "plt.hist(np.log1p(df_cafes['text_length']), bins=200);\n",
        "# most lengths are around e^6=403 words"
      ],
      "execution_count": 0,
      "outputs": [
        {
          "output_type": "display_data",
          "data": {
            "image/png": "[encoded data removed]",
            "text/plain": [
              "<Figure size 864x288 with 2 Axes>"
            ]
          },
          "metadata": {
            "tags": []
          }
        }
      ]
    },
    {
      "cell_type": "code",
      "metadata": {
        "id": "ILD9zyhU8DMR",
        "colab_type": "code",
        "outputId": "a0ad58ec-e2ca-49f5-9060-c56c96724dc1",
        "colab": {
          "base_uri": "https://localhost:8080/",
          "height": 280
        }
      },
      "source": [
        "# for one cafe the length distribution is similar to \n",
        "# that of the total reviews of 175 cafes in Phoenix, Arizona\n",
        "sns.distplot(np.log1p(df_cafes[df_cafes['business_id']\n",
        "                               =='WB7346WSdkTHvtHfWPilaA']['text_length']), \n",
        "             bins=100);"
      ],
      "execution_count": 0,
      "outputs": [
        {
          "output_type": "display_data",
          "data": {
            "image/png": "[encoded data removed]",
            "text/plain": [
              "<Figure size 432x288 with 1 Axes>"
            ]
          },
          "metadata": {
            "tags": []
          }
        }
      ]
    },
    {
      "cell_type": "code",
      "metadata": {
        "id": "g4FpdO0dEr2K",
        "colab_type": "code",
        "outputId": "eb50ee1f-5c31-4b2d-c3bd-7f96e2a562af",
        "colab": {
          "base_uri": "https://localhost:8080/",
          "height": 130
        }
      },
      "source": [
        "df_reviews = df_cafes[df_cafes['business_id']=='WB7346WSdkTHvtHfWPilaA']\n",
        "df_reviews[['year', 'month', 'review_id']].groupby(['year', 'month']).count().T\n",
        "# this business doesn't have many reviews.  "
      ],
      "execution_count": 0,
      "outputs": [
        {
          "output_type": "execute_result",
          "data": {
            "text/html": [
              "<div>\n",
              "<style scoped>\n",
              "    .dataframe tbody tr th:only-of-type {\n",
              "        vertical-align: middle;\n",
              "    }\n",
              "\n",
              "    .dataframe tbody tr th {\n",
              "        vertical-align: top;\n",
              "    }\n",
              "\n",
              "    .dataframe thead tr th {\n",
              "        text-align: left;\n",
              "    }\n",
              "</style>\n",
              "<table border=\"1\" class=\"dataframe\">\n",
              "  <thead>\n",
              "    <tr>\n",
              "      <th>year</th>\n",
              "      <th colspan=\"6\" halign=\"left\">2015.0</th>\n",
              "      <th colspan=\"12\" halign=\"left\">2016.0</th>\n",
              "      <th colspan=\"12\" halign=\"left\">2017.0</th>\n",
              "      <th colspan=\"11\" halign=\"left\">2018.0</th>\n",
              "    </tr>\n",
              "    <tr>\n",
              "      <th>month</th>\n",
              "      <th>7.0</th>\n",
              "      <th>8.0</th>\n",
              "      <th>9.0</th>\n",
              "      <th>10.0</th>\n",
              "      <th>11.0</th>\n",
              "      <th>12.0</th>\n",
              "      <th>1.0</th>\n",
              "      <th>2.0</th>\n",
              "      <th>3.0</th>\n",
              "      <th>4.0</th>\n",
              "      <th>5.0</th>\n",
              "      <th>6.0</th>\n",
              "      <th>7.0</th>\n",
              "      <th>8.0</th>\n",
              "      <th>9.0</th>\n",
              "      <th>10.0</th>\n",
              "      <th>11.0</th>\n",
              "      <th>12.0</th>\n",
              "      <th>1.0</th>\n",
              "      <th>2.0</th>\n",
              "      <th>3.0</th>\n",
              "      <th>4.0</th>\n",
              "      <th>5.0</th>\n",
              "      <th>6.0</th>\n",
              "      <th>7.0</th>\n",
              "      <th>8.0</th>\n",
              "      <th>9.0</th>\n",
              "      <th>10.0</th>\n",
              "      <th>11.0</th>\n",
              "      <th>12.0</th>\n",
              "      <th>1.0</th>\n",
              "      <th>2.0</th>\n",
              "      <th>3.0</th>\n",
              "      <th>4.0</th>\n",
              "      <th>5.0</th>\n",
              "      <th>6.0</th>\n",
              "      <th>7.0</th>\n",
              "      <th>8.0</th>\n",
              "      <th>9.0</th>\n",
              "      <th>10.0</th>\n",
              "      <th>11.0</th>\n",
              "    </tr>\n",
              "  </thead>\n",
              "  <tbody>\n",
              "    <tr>\n",
              "      <th>review_id</th>\n",
              "      <td>1</td>\n",
              "      <td>6</td>\n",
              "      <td>1</td>\n",
              "      <td>4</td>\n",
              "      <td>6</td>\n",
              "      <td>10</td>\n",
              "      <td>10</td>\n",
              "      <td>12</td>\n",
              "      <td>10</td>\n",
              "      <td>12</td>\n",
              "      <td>10</td>\n",
              "      <td>6</td>\n",
              "      <td>13</td>\n",
              "      <td>12</td>\n",
              "      <td>8</td>\n",
              "      <td>12</td>\n",
              "      <td>12</td>\n",
              "      <td>13</td>\n",
              "      <td>11</td>\n",
              "      <td>11</td>\n",
              "      <td>13</td>\n",
              "      <td>13</td>\n",
              "      <td>11</td>\n",
              "      <td>7</td>\n",
              "      <td>9</td>\n",
              "      <td>6</td>\n",
              "      <td>13</td>\n",
              "      <td>8</td>\n",
              "      <td>5</td>\n",
              "      <td>1</td>\n",
              "      <td>6</td>\n",
              "      <td>6</td>\n",
              "      <td>11</td>\n",
              "      <td>4</td>\n",
              "      <td>9</td>\n",
              "      <td>4</td>\n",
              "      <td>11</td>\n",
              "      <td>2</td>\n",
              "      <td>11</td>\n",
              "      <td>6</td>\n",
              "      <td>1</td>\n",
              "    </tr>\n",
              "  </tbody>\n",
              "</table>\n",
              "</div>"
            ],
            "text/plain": [
              "year      2015.0                           ... 2018.0                         \n",
              "month       7.0  8.0  9.0  10.0 11.0 12.0  ...   6.0  7.0  8.0  9.0  10.0 11.0\n",
              "review_id      1    6    1    4    6   10  ...      4   11    2   11    6    1\n",
              "\n",
              "[1 rows x 41 columns]"
            ]
          },
          "metadata": {
            "tags": []
          },
          "execution_count": 43
        }
      ]
    },
    {
      "cell_type": "markdown",
      "metadata": {
        "id": "EeUTDUr9JXlo",
        "colab_type": "text"
      },
      "source": [
        "# Cafe in Phoenix with the most reviews\n",
        "\n"
      ]
    },
    {
      "cell_type": "code",
      "metadata": {
        "id": "qv1xjMNrJe5A",
        "colab_type": "code",
        "outputId": "307dcb59-3d62-40ea-bb4d-993a813a5dfb",
        "colab": {
          "base_uri": "https://localhost:8080/",
          "height": 233
        }
      },
      "source": [
        "(df_cafes[['business_id', 'review_id']]\n",
        "    .groupby('business_id')\n",
        "    .count()\n",
        "    .sort_values('review_id', ascending=False)\n",
        "    .head())\n",
        "# Iq7NqQD-sESu3vr9iEGuTA has the most reviews"
      ],
      "execution_count": 0,
      "outputs": [
        {
          "output_type": "execute_result",
          "data": {
            "text/html": [
              "<div>\n",
              "<style scoped>\n",
              "    .dataframe tbody tr th:only-of-type {\n",
              "        vertical-align: middle;\n",
              "    }\n",
              "\n",
              "    .dataframe tbody tr th {\n",
              "        vertical-align: top;\n",
              "    }\n",
              "\n",
              "    .dataframe thead th {\n",
              "        text-align: right;\n",
              "    }\n",
              "</style>\n",
              "<table border=\"1\" class=\"dataframe\">\n",
              "  <thead>\n",
              "    <tr style=\"text-align: right;\">\n",
              "      <th></th>\n",
              "      <th>review_id</th>\n",
              "    </tr>\n",
              "    <tr>\n",
              "      <th>business_id</th>\n",
              "      <th></th>\n",
              "    </tr>\n",
              "  </thead>\n",
              "  <tbody>\n",
              "    <tr>\n",
              "      <th>Iq7NqQD-sESu3vr9iEGuTA</th>\n",
              "      <td>1310</td>\n",
              "    </tr>\n",
              "    <tr>\n",
              "      <th>uKKNw68mZZaa1jcyszEbyA</th>\n",
              "      <td>841</td>\n",
              "    </tr>\n",
              "    <tr>\n",
              "      <th>qQCsLGMncJp1xWUGnOKCQA</th>\n",
              "      <td>723</td>\n",
              "    </tr>\n",
              "    <tr>\n",
              "      <th>WBt2pa7k_K2LKW2OJuXG9Q</th>\n",
              "      <td>720</td>\n",
              "    </tr>\n",
              "    <tr>\n",
              "      <th>2DmTw0k3bcXuHdAyxO_bkw</th>\n",
              "      <td>599</td>\n",
              "    </tr>\n",
              "  </tbody>\n",
              "</table>\n",
              "</div>"
            ],
            "text/plain": [
              "                        review_id\n",
              "business_id                      \n",
              "Iq7NqQD-sESu3vr9iEGuTA       1310\n",
              "uKKNw68mZZaa1jcyszEbyA        841\n",
              "qQCsLGMncJp1xWUGnOKCQA        723\n",
              "WBt2pa7k_K2LKW2OJuXG9Q        720\n",
              "2DmTw0k3bcXuHdAyxO_bkw        599"
            ]
          },
          "metadata": {
            "tags": []
          },
          "execution_count": 54
        }
      ]
    },
    {
      "cell_type": "code",
      "metadata": {
        "id": "S60FhMH8MBFc",
        "colab_type": "code",
        "outputId": "f959ddc8-bbc9-4275-a934-5fc05983e0d0",
        "colab": {
          "base_uri": "https://localhost:8080/",
          "height": 159
        }
      },
      "source": [
        "df_reviews = df_cafes[df_cafes['business_id']=='Iq7NqQD-sESu3vr9iEGuTA']\n",
        "df_reviews[['year', 'month', 'review_id']].groupby(['year', 'month']).count().T\n",
        "# all businesses in the dataset don't have many reviews per month"
      ],
      "execution_count": 0,
      "outputs": [
        {
          "output_type": "execute_result",
          "data": {
            "text/html": [
              "<div>\n",
              "<style scoped>\n",
              "    .dataframe tbody tr th:only-of-type {\n",
              "        vertical-align: middle;\n",
              "    }\n",
              "\n",
              "    .dataframe tbody tr th {\n",
              "        vertical-align: top;\n",
              "    }\n",
              "\n",
              "    .dataframe thead tr th {\n",
              "        text-align: left;\n",
              "    }\n",
              "</style>\n",
              "<table border=\"1\" class=\"dataframe\">\n",
              "  <thead>\n",
              "    <tr>\n",
              "      <th>year</th>\n",
              "      <th colspan=\"9\" halign=\"left\">2011.0</th>\n",
              "      <th colspan=\"12\" halign=\"left\">2012.0</th>\n",
              "      <th colspan=\"12\" halign=\"left\">2013.0</th>\n",
              "      <th colspan=\"7\" halign=\"left\">2014.0</th>\n",
              "      <th>...</th>\n",
              "      <th colspan=\"5\" halign=\"left\">2015.0</th>\n",
              "      <th colspan=\"12\" halign=\"left\">2016.0</th>\n",
              "      <th colspan=\"12\" halign=\"left\">2017.0</th>\n",
              "      <th colspan=\"11\" halign=\"left\">2018.0</th>\n",
              "    </tr>\n",
              "    <tr>\n",
              "      <th>month</th>\n",
              "      <th>4.0</th>\n",
              "      <th>5.0</th>\n",
              "      <th>6.0</th>\n",
              "      <th>7.0</th>\n",
              "      <th>8.0</th>\n",
              "      <th>9.0</th>\n",
              "      <th>10.0</th>\n",
              "      <th>11.0</th>\n",
              "      <th>12.0</th>\n",
              "      <th>1.0</th>\n",
              "      <th>2.0</th>\n",
              "      <th>3.0</th>\n",
              "      <th>4.0</th>\n",
              "      <th>5.0</th>\n",
              "      <th>6.0</th>\n",
              "      <th>7.0</th>\n",
              "      <th>8.0</th>\n",
              "      <th>9.0</th>\n",
              "      <th>10.0</th>\n",
              "      <th>11.0</th>\n",
              "      <th>12.0</th>\n",
              "      <th>1.0</th>\n",
              "      <th>2.0</th>\n",
              "      <th>3.0</th>\n",
              "      <th>4.0</th>\n",
              "      <th>5.0</th>\n",
              "      <th>6.0</th>\n",
              "      <th>7.0</th>\n",
              "      <th>8.0</th>\n",
              "      <th>9.0</th>\n",
              "      <th>10.0</th>\n",
              "      <th>11.0</th>\n",
              "      <th>12.0</th>\n",
              "      <th>1.0</th>\n",
              "      <th>2.0</th>\n",
              "      <th>3.0</th>\n",
              "      <th>4.0</th>\n",
              "      <th>5.0</th>\n",
              "      <th>6.0</th>\n",
              "      <th>7.0</th>\n",
              "      <th>...</th>\n",
              "      <th>8.0</th>\n",
              "      <th>9.0</th>\n",
              "      <th>10.0</th>\n",
              "      <th>11.0</th>\n",
              "      <th>12.0</th>\n",
              "      <th>1.0</th>\n",
              "      <th>2.0</th>\n",
              "      <th>3.0</th>\n",
              "      <th>4.0</th>\n",
              "      <th>5.0</th>\n",
              "      <th>6.0</th>\n",
              "      <th>7.0</th>\n",
              "      <th>8.0</th>\n",
              "      <th>9.0</th>\n",
              "      <th>10.0</th>\n",
              "      <th>11.0</th>\n",
              "      <th>12.0</th>\n",
              "      <th>1.0</th>\n",
              "      <th>2.0</th>\n",
              "      <th>3.0</th>\n",
              "      <th>4.0</th>\n",
              "      <th>5.0</th>\n",
              "      <th>6.0</th>\n",
              "      <th>7.0</th>\n",
              "      <th>8.0</th>\n",
              "      <th>9.0</th>\n",
              "      <th>10.0</th>\n",
              "      <th>11.0</th>\n",
              "      <th>12.0</th>\n",
              "      <th>1.0</th>\n",
              "      <th>2.0</th>\n",
              "      <th>3.0</th>\n",
              "      <th>4.0</th>\n",
              "      <th>5.0</th>\n",
              "      <th>6.0</th>\n",
              "      <th>7.0</th>\n",
              "      <th>8.0</th>\n",
              "      <th>9.0</th>\n",
              "      <th>10.0</th>\n",
              "      <th>11.0</th>\n",
              "    </tr>\n",
              "  </thead>\n",
              "  <tbody>\n",
              "    <tr>\n",
              "      <th>review_id</th>\n",
              "      <td>2</td>\n",
              "      <td>6</td>\n",
              "      <td>4</td>\n",
              "      <td>2</td>\n",
              "      <td>3</td>\n",
              "      <td>2</td>\n",
              "      <td>1</td>\n",
              "      <td>3</td>\n",
              "      <td>3</td>\n",
              "      <td>4</td>\n",
              "      <td>2</td>\n",
              "      <td>5</td>\n",
              "      <td>10</td>\n",
              "      <td>2</td>\n",
              "      <td>4</td>\n",
              "      <td>6</td>\n",
              "      <td>3</td>\n",
              "      <td>4</td>\n",
              "      <td>3</td>\n",
              "      <td>3</td>\n",
              "      <td>3</td>\n",
              "      <td>9</td>\n",
              "      <td>4</td>\n",
              "      <td>8</td>\n",
              "      <td>7</td>\n",
              "      <td>7</td>\n",
              "      <td>2</td>\n",
              "      <td>8</td>\n",
              "      <td>14</td>\n",
              "      <td>6</td>\n",
              "      <td>5</td>\n",
              "      <td>7</td>\n",
              "      <td>7</td>\n",
              "      <td>15</td>\n",
              "      <td>5</td>\n",
              "      <td>8</td>\n",
              "      <td>16</td>\n",
              "      <td>16</td>\n",
              "      <td>13</td>\n",
              "      <td>21</td>\n",
              "      <td>...</td>\n",
              "      <td>18</td>\n",
              "      <td>20</td>\n",
              "      <td>17</td>\n",
              "      <td>19</td>\n",
              "      <td>15</td>\n",
              "      <td>22</td>\n",
              "      <td>24</td>\n",
              "      <td>32</td>\n",
              "      <td>17</td>\n",
              "      <td>20</td>\n",
              "      <td>20</td>\n",
              "      <td>28</td>\n",
              "      <td>16</td>\n",
              "      <td>21</td>\n",
              "      <td>24</td>\n",
              "      <td>14</td>\n",
              "      <td>8</td>\n",
              "      <td>23</td>\n",
              "      <td>10</td>\n",
              "      <td>12</td>\n",
              "      <td>23</td>\n",
              "      <td>29</td>\n",
              "      <td>24</td>\n",
              "      <td>20</td>\n",
              "      <td>17</td>\n",
              "      <td>15</td>\n",
              "      <td>20</td>\n",
              "      <td>7</td>\n",
              "      <td>23</td>\n",
              "      <td>18</td>\n",
              "      <td>17</td>\n",
              "      <td>41</td>\n",
              "      <td>33</td>\n",
              "      <td>37</td>\n",
              "      <td>24</td>\n",
              "      <td>33</td>\n",
              "      <td>23</td>\n",
              "      <td>28</td>\n",
              "      <td>19</td>\n",
              "      <td>15</td>\n",
              "    </tr>\n",
              "  </tbody>\n",
              "</table>\n",
              "<p>1 rows × 92 columns</p>\n",
              "</div>"
            ],
            "text/plain": [
              "year      2011.0                           ... 2018.0                         \n",
              "month       4.0  5.0  6.0  7.0  8.0  9.0   ...   6.0  7.0  8.0  9.0  10.0 11.0\n",
              "review_id      2    6    4    2    3    2  ...     24   33   23   28   19   15\n",
              "\n",
              "[1 rows x 92 columns]"
            ]
          },
          "metadata": {
            "tags": []
          },
          "execution_count": 55
        }
      ]
    },
    {
      "cell_type": "markdown",
      "metadata": {
        "id": "B5mu3b8VEojY",
        "colab_type": "text"
      },
      "source": [
        "# Get reviews for a cafe"
      ]
    },
    {
      "cell_type": "markdown",
      "metadata": {
        "id": "QBvfeXm8ZGT2",
        "colab_type": "text"
      },
      "source": [
        "Keywords Extraction with Ngram and Modified Skip-gram based on spaCy    \n",
        "https://medium.com/reputation-com-datascience-blog/keywords-extraction-with-ngram-and-modified-skip-gram-based-on-spacy-14e5625fce23    "
      ]
    },
    {
      "cell_type": "code",
      "metadata": {
        "id": "wbGuRtnCJT57",
        "colab_type": "code",
        "outputId": "08f815d9-3a7c-4019-c917-3668a8ce44c3",
        "colab": {
          "base_uri": "https://localhost:8080/",
          "height": 35
        }
      },
      "source": [
        "business_id = 'Iq7NqQD-sESu3vr9iEGuTA'\n",
        "condition = ((df_cafes['business_id']==business_id) &\n",
        "             (df_cafes['year']==2018) &\n",
        "             (df_cafes['month']==5))\n",
        "df_reviews = df_cafes[condition][['review_id', 'text', 'year', 'month', 'date']]\n",
        "df_reviews.shape"
      ],
      "execution_count": 0,
      "outputs": [
        {
          "output_type": "execute_result",
          "data": {
            "text/plain": [
              "(37, 4)"
            ]
          },
          "metadata": {
            "tags": []
          },
          "execution_count": 69
        }
      ]
    },
    {
      "cell_type": "markdown",
      "metadata": {
        "id": "5DeHiOQdWD3i",
        "colab_type": "text"
      },
      "source": [
        "# Get stop words"
      ]
    },
    {
      "cell_type": "code",
      "metadata": {
        "id": "0rO5SXbUUkBV",
        "colab_type": "code",
        "outputId": "80f1a772-cf95-4ebe-fe09-5e9f3088a813",
        "colab": {
          "base_uri": "https://localhost:8080/",
          "height": 35
        }
      },
      "source": [
        "# https://github.com/Nov05/flask-yelp-reviews/blob/master/py_processor.py\n",
        "\n",
        "import requests\n",
        "url = \"https://raw.githubusercontent.com/Nov05/flask-yelp-reviews/master/stopwords.txt\"\n",
        "with requests.get(url) as f:\n",
        "    set_stopwords = set(f.text.split('\\n'))\n",
        "len(set_stopwords)"
      ],
      "execution_count": 0,
      "outputs": [
        {
          "output_type": "execute_result",
          "data": {
            "text/plain": [
              "71"
            ]
          },
          "metadata": {
            "tags": []
          },
          "execution_count": 78
        }
      ]
    },
    {
      "cell_type": "code",
      "metadata": {
        "id": "sJa3pBo_W1YM",
        "colab_type": "code",
        "outputId": "cc54723e-f5db-4e40-b9a1-f28c77186804",
        "colab": {
          "base_uri": "https://localhost:8080/",
          "height": 35
        }
      },
      "source": [
        "nlp = spacy.load(\"en\")\n",
        "nlp.Defaults.stop_words |= set_stopwords\n",
        "# type(nlp.Defaults.stop_words) == set\n",
        "'they' in nlp.Defaults.stop_words"
      ],
      "execution_count": 0,
      "outputs": [
        {
          "output_type": "execute_result",
          "data": {
            "text/plain": [
              "True"
            ]
          },
          "metadata": {
            "tags": []
          },
          "execution_count": 126
        }
      ]
    },
    {
      "cell_type": "markdown",
      "metadata": {
        "id": "B7-ORAICfc26",
        "colab_type": "text"
      },
      "source": [
        "# Remove stop words"
      ]
    },
    {
      "cell_type": "code",
      "metadata": {
        "id": "qhLP_w5VY63l",
        "colab_type": "code",
        "outputId": "c208b1a3-ba56-4d97-839a-b37fd1d43112",
        "colab": {
          "base_uri": "https://localhost:8080/",
          "height": 55
        }
      },
      "source": [
        "# https://medium.com/@makcedward/nlp-pipeline-stop-words-part-5-d6770df8a936\n",
        "# https://stackoverflow.com/questions/43473736/most-common-2-grams-using-python\n",
        "text = df_cafes.sample()['text'].values[0]\n",
        "print(text)\n",
        "doc = nlp(text)\n",
        "text_nostop = \" \".join([token.text for token in doc if not token.is_stop])"
      ],
      "execution_count": 0,
      "outputs": [
        {
          "output_type": "stream",
          "text": [
            "What a wonderful place. The ambiance is casual and fun.  The green chili pork taco plate is the best in the entire valley.  They also have some very unique and delicious cocktails.  A hidden gem.\n"
          ],
          "name": "stdout"
        }
      ]
    },
    {
      "cell_type": "markdown",
      "metadata": {
        "id": "QR8LdHlniVXP",
        "colab_type": "text"
      },
      "source": [
        "# Get bi-gram by zip"
      ]
    },
    {
      "cell_type": "code",
      "metadata": {
        "id": "JL_a50ydgNOr",
        "colab_type": "code",
        "outputId": "724ed76d-e491-4e6d-d4ce-7b7b4cb68bb3",
        "colab": {
          "base_uri": "https://localhost:8080/",
          "height": 55
        }
      },
      "source": [
        "words = re.findall(r'[A-Za-z]+', text_nostop)\n",
        "bigrams = zip(words, words[1:])\n",
        "counts = Counter(bigrams)\n",
        "print(counts.most_common())\n",
        "# \"What a wonderful place. The ambiance is casual and fun.\"\n",
        "# (('wonderful', 'ambiance'), 1) <- this is not a proper bi-gram.\n",
        "# i guess it could still be useful..."
      ],
      "execution_count": 0,
      "outputs": [
        {
          "output_type": "stream",
          "text": [
            "[(('wonderful', 'ambiance'), 1), (('ambiance', 'casual'), 1), (('casual', 'fun'), 1), (('fun', 'green'), 1), (('green', 'chili'), 1), (('chili', 'pork'), 1), (('pork', 'taco'), 1), (('taco', 'plate'), 1), (('plate', 'best'), 1), (('best', 'entire'), 1), (('entire', 'valley'), 1), (('valley', 'unique'), 1), (('unique', 'delicious'), 1), (('delicious', 'cocktails'), 1), (('cocktails', 'hidden'), 1), (('hidden', 'gem'), 1)]\n"
          ],
          "name": "stdout"
        }
      ]
    },
    {
      "cell_type": "markdown",
      "metadata": {
        "id": "YFXUeW2UiYh5",
        "colab_type": "text"
      },
      "source": [
        "# Get spaCy noun chunks"
      ]
    },
    {
      "cell_type": "code",
      "metadata": {
        "id": "epFtwOmHgxYn",
        "colab_type": "code",
        "outputId": "3521c296-3495-414e-fbd7-12669dd4db1b",
        "colab": {
          "base_uri": "https://localhost:8080/",
          "height": 140
        }
      },
      "source": [
        "# https://stackoverflow.com/questions/53598243/is-there-a-bi-gram-or-tri-gram-feature-in-spacy\n",
        "list(doc.noun_chunks)"
      ],
      "execution_count": 0,
      "outputs": [
        {
          "output_type": "execute_result",
          "data": {
            "text/plain": [
              "[What a wonderful place,\n",
              " The ambiance,\n",
              " The green chili pork taco plate,\n",
              " the entire valley,\n",
              " They,\n",
              " some very unique and delicious cocktails,\n",
              " A hidden gem]"
            ]
          },
          "metadata": {
            "tags": []
          },
          "execution_count": 125
        }
      ]
    },
    {
      "cell_type": "markdown",
      "metadata": {
        "id": "W-tcAr0cvgLs",
        "colab_type": "text"
      },
      "source": [
        "# Get bigrams for reviews of all cafes in Phoenix"
      ]
    },
    {
      "cell_type": "code",
      "metadata": {
        "id": "9lRn537Vvo49",
        "colab_type": "code",
        "outputId": "4fee446b-53bf-4731-e98e-1ddb9d0174af",
        "colab": {
          "base_uri": "https://localhost:8080/",
          "height": 177
        }
      },
      "source": [
        "df_reviews = df_cafes[['year', 'month', 'review_id']].groupby(['year', 'month']).count().T\n",
        "print(df_reviews.shape)\n",
        "df_reviews"
      ],
      "execution_count": 0,
      "outputs": [
        {
          "output_type": "stream",
          "text": [
            "(1, 148)\n"
          ],
          "name": "stdout"
        },
        {
          "output_type": "execute_result",
          "data": {
            "text/html": [
              "<div>\n",
              "<style scoped>\n",
              "    .dataframe tbody tr th:only-of-type {\n",
              "        vertical-align: middle;\n",
              "    }\n",
              "\n",
              "    .dataframe tbody tr th {\n",
              "        vertical-align: top;\n",
              "    }\n",
              "\n",
              "    .dataframe thead tr th {\n",
              "        text-align: left;\n",
              "    }\n",
              "</style>\n",
              "<table border=\"1\" class=\"dataframe\">\n",
              "  <thead>\n",
              "    <tr>\n",
              "      <th>year</th>\n",
              "      <th>2005.0</th>\n",
              "      <th colspan=\"6\" halign=\"left\">2006.0</th>\n",
              "      <th colspan=\"10\" halign=\"left\">2007.0</th>\n",
              "      <th colspan=\"12\" halign=\"left\">2008.0</th>\n",
              "      <th colspan=\"11\" halign=\"left\">2009.0</th>\n",
              "      <th>...</th>\n",
              "      <th colspan=\"5\" halign=\"left\">2015.0</th>\n",
              "      <th colspan=\"12\" halign=\"left\">2016.0</th>\n",
              "      <th colspan=\"12\" halign=\"left\">2017.0</th>\n",
              "      <th colspan=\"11\" halign=\"left\">2018.0</th>\n",
              "    </tr>\n",
              "    <tr>\n",
              "      <th>month</th>\n",
              "      <th>7.0</th>\n",
              "      <th>3.0</th>\n",
              "      <th>5.0</th>\n",
              "      <th>6.0</th>\n",
              "      <th>9.0</th>\n",
              "      <th>10.0</th>\n",
              "      <th>12.0</th>\n",
              "      <th>1.0</th>\n",
              "      <th>2.0</th>\n",
              "      <th>3.0</th>\n",
              "      <th>4.0</th>\n",
              "      <th>5.0</th>\n",
              "      <th>6.0</th>\n",
              "      <th>8.0</th>\n",
              "      <th>10.0</th>\n",
              "      <th>11.0</th>\n",
              "      <th>12.0</th>\n",
              "      <th>1.0</th>\n",
              "      <th>2.0</th>\n",
              "      <th>3.0</th>\n",
              "      <th>4.0</th>\n",
              "      <th>5.0</th>\n",
              "      <th>6.0</th>\n",
              "      <th>7.0</th>\n",
              "      <th>8.0</th>\n",
              "      <th>9.0</th>\n",
              "      <th>10.0</th>\n",
              "      <th>11.0</th>\n",
              "      <th>12.0</th>\n",
              "      <th>1.0</th>\n",
              "      <th>2.0</th>\n",
              "      <th>3.0</th>\n",
              "      <th>4.0</th>\n",
              "      <th>5.0</th>\n",
              "      <th>6.0</th>\n",
              "      <th>7.0</th>\n",
              "      <th>8.0</th>\n",
              "      <th>9.0</th>\n",
              "      <th>10.0</th>\n",
              "      <th>11.0</th>\n",
              "      <th>...</th>\n",
              "      <th>8.0</th>\n",
              "      <th>9.0</th>\n",
              "      <th>10.0</th>\n",
              "      <th>11.0</th>\n",
              "      <th>12.0</th>\n",
              "      <th>1.0</th>\n",
              "      <th>2.0</th>\n",
              "      <th>3.0</th>\n",
              "      <th>4.0</th>\n",
              "      <th>5.0</th>\n",
              "      <th>6.0</th>\n",
              "      <th>7.0</th>\n",
              "      <th>8.0</th>\n",
              "      <th>9.0</th>\n",
              "      <th>10.0</th>\n",
              "      <th>11.0</th>\n",
              "      <th>12.0</th>\n",
              "      <th>1.0</th>\n",
              "      <th>2.0</th>\n",
              "      <th>3.0</th>\n",
              "      <th>4.0</th>\n",
              "      <th>5.0</th>\n",
              "      <th>6.0</th>\n",
              "      <th>7.0</th>\n",
              "      <th>8.0</th>\n",
              "      <th>9.0</th>\n",
              "      <th>10.0</th>\n",
              "      <th>11.0</th>\n",
              "      <th>12.0</th>\n",
              "      <th>1.0</th>\n",
              "      <th>2.0</th>\n",
              "      <th>3.0</th>\n",
              "      <th>4.0</th>\n",
              "      <th>5.0</th>\n",
              "      <th>6.0</th>\n",
              "      <th>7.0</th>\n",
              "      <th>8.0</th>\n",
              "      <th>9.0</th>\n",
              "      <th>10.0</th>\n",
              "      <th>11.0</th>\n",
              "    </tr>\n",
              "  </thead>\n",
              "  <tbody>\n",
              "    <tr>\n",
              "      <th>review_id</th>\n",
              "      <td>1</td>\n",
              "      <td>2</td>\n",
              "      <td>1</td>\n",
              "      <td>1</td>\n",
              "      <td>3</td>\n",
              "      <td>3</td>\n",
              "      <td>1</td>\n",
              "      <td>4</td>\n",
              "      <td>3</td>\n",
              "      <td>4</td>\n",
              "      <td>2</td>\n",
              "      <td>1</td>\n",
              "      <td>6</td>\n",
              "      <td>6</td>\n",
              "      <td>5</td>\n",
              "      <td>5</td>\n",
              "      <td>3</td>\n",
              "      <td>6</td>\n",
              "      <td>10</td>\n",
              "      <td>9</td>\n",
              "      <td>4</td>\n",
              "      <td>15</td>\n",
              "      <td>10</td>\n",
              "      <td>10</td>\n",
              "      <td>12</td>\n",
              "      <td>8</td>\n",
              "      <td>14</td>\n",
              "      <td>11</td>\n",
              "      <td>15</td>\n",
              "      <td>18</td>\n",
              "      <td>11</td>\n",
              "      <td>18</td>\n",
              "      <td>21</td>\n",
              "      <td>19</td>\n",
              "      <td>15</td>\n",
              "      <td>18</td>\n",
              "      <td>15</td>\n",
              "      <td>12</td>\n",
              "      <td>22</td>\n",
              "      <td>16</td>\n",
              "      <td>...</td>\n",
              "      <td>300</td>\n",
              "      <td>299</td>\n",
              "      <td>300</td>\n",
              "      <td>272</td>\n",
              "      <td>238</td>\n",
              "      <td>322</td>\n",
              "      <td>335</td>\n",
              "      <td>418</td>\n",
              "      <td>355</td>\n",
              "      <td>390</td>\n",
              "      <td>305</td>\n",
              "      <td>379</td>\n",
              "      <td>321</td>\n",
              "      <td>290</td>\n",
              "      <td>323</td>\n",
              "      <td>345</td>\n",
              "      <td>283</td>\n",
              "      <td>375</td>\n",
              "      <td>316</td>\n",
              "      <td>426</td>\n",
              "      <td>390</td>\n",
              "      <td>415</td>\n",
              "      <td>321</td>\n",
              "      <td>430</td>\n",
              "      <td>415</td>\n",
              "      <td>391</td>\n",
              "      <td>382</td>\n",
              "      <td>340</td>\n",
              "      <td>347</td>\n",
              "      <td>386</td>\n",
              "      <td>361</td>\n",
              "      <td>535</td>\n",
              "      <td>478</td>\n",
              "      <td>443</td>\n",
              "      <td>390</td>\n",
              "      <td>457</td>\n",
              "      <td>415</td>\n",
              "      <td>395</td>\n",
              "      <td>344</td>\n",
              "      <td>185</td>\n",
              "    </tr>\n",
              "  </tbody>\n",
              "</table>\n",
              "<p>1 rows × 148 columns</p>\n",
              "</div>"
            ],
            "text/plain": [
              "year      2005.0 2006.0                      ... 2018.0                         \n",
              "month       7.0    3.0  5.0  6.0  9.0  10.0  ...   6.0  7.0  8.0  9.0  10.0 11.0\n",
              "review_id      1      2    1    1    3    3  ...    390  457  415  395  344  185\n",
              "\n",
              "[1 rows x 148 columns]"
            ]
          },
          "metadata": {
            "tags": []
          },
          "execution_count": 6
        }
      ]
    },
    {
      "cell_type": "code",
      "metadata": {
        "id": "VhudMlmi8rjK",
        "colab_type": "code",
        "colab": {}
      },
      "source": [
        ""
      ],
      "execution_count": 0,
      "outputs": []
    },
    {
      "cell_type": "code",
      "metadata": {
        "id": "x_weKI5Vx5sl",
        "colab_type": "code",
        "colab": {}
      },
      "source": [
        "import requests\n",
        "url = \"https://raw.githubusercontent.com/Nov05/flask-yelp-reviews/master/stopwords.txt\"\n",
        "with requests.get(url) as f:\n",
        "    set_stopwords = set(f.text.split('\\n'))\n",
        "nlp = spacy.load(\"en\")\n",
        "nlp.Defaults.stop_words |= set_stopwords"
      ],
      "execution_count": 0,
      "outputs": []
    },
    {
      "cell_type": "markdown",
      "metadata": {
        "id": "uxYJXHvf-jBM",
        "colab_type": "text"
      },
      "source": [
        "# BERT Tokenization of reviews"
      ]
    },
    {
      "cell_type": "markdown",
      "metadata": {
        "id": "PC_HOyx51XtX",
        "colab_type": "text"
      },
      "source": [
        "**Model Details**    \n",
        "● Data: Wikipedia (2.5B words) + BookCorpus (800M words)    \n",
        "● Batch Size: 131,072 words (1024 sequences * 128 length or 256 sequences * 512 length)    \n",
        "● Training Time: 1M steps (~40 epochs)    \n",
        "● Optimizer: AdamW, 1e-4 learning rate, linear decay    \n",
        "● BERT-Base: 12-layer, 768-hidden, 12-head    \n",
        "● BERT-Large: 24-layer, 1024-hidden, 16-head    \n",
        "● Trained on 4x4 or 8x8 TPU slice for 4 days    \n"
      ]
    },
    {
      "cell_type": "code",
      "metadata": {
        "id": "snpHKx95q22E",
        "colab_type": "code",
        "colab": {}
      },
      "source": [
        "# Load pre-trained model tokenizer (vocabulary)\n",
        "tokenizer = BertTokenizer.from_pretrained('bert-large-uncased')\n",
        "# 100%|██████████| 231508/231508 [00:00<00:00, 5801780.12B/s]\n",
        "\n",
        "# Load pre-trained model (weights)\n",
        "model = BertModel.from_pretrained('bert-large-uncased')\n",
        "# Put the model in \"evaluation\" mode, meaning feed-forward operation.\n",
        "model.eval()\n",
        "# 100%|██████████| 1248501532/1248501532 [00:26<00:00, 46681628.20B/s]"
      ],
      "execution_count": 0,
      "outputs": []
    },
    {
      "cell_type": "markdown",
      "metadata": {
        "id": "swNttRfJBoJE",
        "colab_type": "text"
      },
      "source": [
        "# NetworkX"
      ]
    },
    {
      "cell_type": "code",
      "metadata": {
        "id": "lSVex6_sBq-q",
        "colab_type": "code",
        "colab": {}
      },
      "source": [
        "# https://networkx.github.io/documentation/networkx-1.9/install.html\n",
        "!pip install networkx\n",
        "# Requirement already satisfied: networkx in /usr/local/lib/python3.6/dist-packages (2.4)\n",
        "# Requirement already satisfied: decorator>=4.3.0 in /usr/local/lib/python3.6/dist-packages (from networkx) (4.4.1)"
      ],
      "execution_count": 0,
      "outputs": []
    },
    {
      "cell_type": "markdown",
      "metadata": {
        "id": "PHLBsP30Hxbi",
        "colab_type": "text"
      },
      "source": [
        "# Textrank"
      ]
    },
    {
      "cell_type": "code",
      "metadata": {
        "id": "CNMQwS48HwlJ",
        "colab_type": "code",
        "outputId": "ff9891d9-7cd7-4784-cc7b-5d8da6a3ee74",
        "colab": {
          "base_uri": "https://localhost:8080/",
          "height": 791
        }
      },
      "source": [
        "# https://pypi.org/project/pytextrank/\n",
        "import spacy\n",
        "import pytextrank\n",
        "\n",
        "# example text\n",
        "text = \"Compatibility of systems of linear constraints over the set of natural numbers. Criteria of compatibility of a system of linear Diophantine equations, strict inequations, and nonstrict inequations are considered. Upper bounds for components of a minimal set of solutions and algorithms of construction of minimal generating sets of solutions for all types of systems are given. These criteria and the corresponding algorithms for constructing a minimal supporting set of solutions can be used in solving all the considered types systems and systems of mixed types.\"\n",
        "# load a spaCy model, depending on language, scale, etc.\n",
        "nlp = spacy.load(\"en_core_web_sm\")\n",
        "# add PyTextRank to the spaCy pipeline\n",
        "textrank = pytextrank.TextRank()\n",
        "nlp.add_pipe(textrank.PipelineComponent, name=\"textrank\", last=True)\n",
        "doc = nlp(text)\n",
        "# examine the top-ranked phrases in the document \n",
        "# 1-3 words\n",
        "for p in doc._.phrases:\n",
        "    print(\"{:.4f} {:5d}  {}\".format(p.rank, p.count, p.text))\n",
        "    print(p.chunks)"
      ],
      "execution_count": 0,
      "outputs": [
        {
          "output_type": "stream",
          "text": [
            "0.1567     1  minimal generating sets\n",
            "[minimal generating sets]\n",
            "0.1371     4  systems\n",
            "[systems, systems, systems, a system]\n",
            "0.1178     3  solutions\n",
            "[solutions, solutions, solutions]\n",
            "0.1164     1  linear diophantine equations\n",
            "[linear Diophantine equations]\n",
            "0.1077     1  nonstrict inequations\n",
            "[nonstrict inequations]\n",
            "0.1050     1  mixed types\n",
            "[mixed types]\n",
            "0.1044     1  strict inequations\n",
            "[strict inequations]\n",
            "0.1000     1  a minimal supporting set\n",
            "[a minimal supporting set]\n",
            "0.0979     1  linear constraints\n",
            "[linear constraints]\n",
            "0.0919     1  upper bounds\n",
            "[Upper bounds]\n",
            "0.0913     1  a minimal set\n",
            "[a minimal set]\n",
            "0.0804     1  components\n",
            "[components]\n",
            "0.0797     1  natural numbers\n",
            "[natural numbers]\n",
            "0.0797     1  algorithms\n",
            "[algorithms]\n",
            "0.0782     1  all the considered types systems\n",
            "[all the considered types systems]\n",
            "0.0768     1  diophantine\n",
            "[Diophantine]\n",
            "0.0697     2  compatibility\n",
            "[Compatibility, compatibility]\n",
            "0.0693     1  construction\n",
            "[construction]\n",
            "0.0668     1  the set\n",
            "[the set]\n",
            "0.0629     2  criteria\n",
            "[Criteria, These criteria]\n",
            "0.0588     1  the corresponding algorithms\n",
            "[the corresponding algorithms]\n",
            "0.0528     1  all types\n",
            "[all types]\n"
          ],
          "name": "stdout"
        }
      ]
    },
    {
      "cell_type": "code",
      "metadata": {
        "id": "KthwpPXwbtwm",
        "colab_type": "code",
        "outputId": "6fbca5ca-089e-4739-e0ab-70d2b8422426",
        "colab": {
          "base_uri": "https://localhost:8080/",
          "height": 35
        }
      },
      "source": [
        "# reviews for a cafe in 2018-05\n",
        "business_id = 'Iq7NqQD-sESu3vr9iEGuTA'\n",
        "condition = ((df_cafes['business_id']==business_id) &\n",
        "             (df_cafes['year']==2018) &\n",
        "             (df_cafes['month']==5))\n",
        "df_reviews = df_cafes[condition][['review_id', 'text', 'year', 'month', 'date']]\n",
        "df_reviews.shape"
      ],
      "execution_count": 0,
      "outputs": [
        {
          "output_type": "execute_result",
          "data": {
            "text/plain": [
              "(37, 5)"
            ]
          },
          "metadata": {
            "tags": []
          },
          "execution_count": 14
        }
      ]
    },
    {
      "cell_type": "code",
      "metadata": {
        "id": "PgcBOmA-e0vC",
        "colab_type": "code",
        "outputId": "d1a06389-98a0-4acf-a604-10446fd89778",
        "colab": {
          "base_uri": "https://localhost:8080/",
          "height": 35
        }
      },
      "source": [
        "text = \" \".join(df_reviews['text'].to_list())\n",
        "print(len(text))"
      ],
      "execution_count": 0,
      "outputs": [
        {
          "output_type": "stream",
          "text": [
            "12617\n"
          ],
          "name": "stdout"
        }
      ]
    },
    {
      "cell_type": "code",
      "metadata": {
        "id": "lhVGTGWCfiC0",
        "colab_type": "code",
        "outputId": "4404261f-b84d-4b23-bc38-4203f5c3c987",
        "colab": {
          "base_uri": "https://localhost:8080/",
          "height": 439
        }
      },
      "source": [
        "# load a spaCy model, depending on language, scale, etc.\n",
        "nlp = spacy.load(\"en_core_web_sm\")\n",
        "# add PyTextRank to the spaCy pipeline\n",
        "textrank = pytextrank.TextRank()\n",
        "nlp.add_pipe(textrank.PipelineComponent, name=\"textrank\", last=True)\n",
        "doc = nlp(text)\n",
        "# examine the top-ranked phrases in the document \n",
        "# 1-3 words\n",
        "for i,p in enumerate(doc._.phrases):\n",
        "    print(\"{:.4f} {:5d}  {}\".format(p.rank, p.count, p.text))\n",
        "    print(p.chunks)\n",
        "    if i>10: break\n",
        "# reviews for a cafe in 2018-05"
      ],
      "execution_count": 0,
      "outputs": [
        {
          "output_type": "stream",
          "text": [
            "0.0765     1  good food\n",
            "[Good food]\n",
            "0.0750     1  breakfast foods\n",
            "[breakfast foods]\n",
            "0.0732     1  delicious filled pancakes\n",
            "[delicious filled pancakes]\n",
            "0.0705     1  breakfast comfort food\n",
            "[breakfast comfort food]\n",
            "0.0704     1  such yummy breakfast food\n",
            "[such yummy breakfast food]\n",
            "0.0698     3  buttermilk pancakes\n",
            "[buttermilk pancakes, buttermilk pancakes, The buttermilk pancakes]\n",
            "0.0676     1  side pancakes\n",
            "[side pancakes]\n",
            "0.0671     1  best pancakes\n",
            "[Best pancakes]\n",
            "0.0666     1  premium pancakes\n",
            "[premium pancakes]\n",
            "0.0656     1  most pancakes\n",
            "[most pancakes]\n",
            "0.0631     1  banana creme pancakes\n",
            "[Banana Creme pancakes]\n",
            "0.0601     1  great service\n",
            "[great service]\n"
          ],
          "name": "stdout"
        }
      ]
    },
    {
      "cell_type": "code",
      "metadata": {
        "id": "bJ4OjSEQgVvw",
        "colab_type": "code",
        "outputId": "f817c52e-f85c-4f9a-d9e4-26163d617494",
        "colab": {
          "base_uri": "https://localhost:8080/",
          "height": 439
        }
      },
      "source": [
        "# reviews for a cafe in 2018-06\n",
        "business_id = 'Iq7NqQD-sESu3vr9iEGuTA'\n",
        "condition = ((df_cafes['business_id']==business_id) &\n",
        "             (df_cafes['year']==2018) &\n",
        "             (df_cafes['month']==6))\n",
        "df_reviews = df_cafes[condition][['review_id', 'text', 'year', 'month', 'date']]\n",
        "text = \" \".join(df_reviews['text'].to_list())\n",
        "doc = nlp(text)\n",
        "for i,p in enumerate(doc._.phrases):\n",
        "    print(\"{:.4f} {:5d}  {}\".format(p.rank, p.count, p.text))\n",
        "    print(p.chunks)\n",
        "    if i>10: break\n",
        "# reviews for a cafe in 2018-06"
      ],
      "execution_count": 0,
      "outputs": [
        {
          "output_type": "stream",
          "text": [
            "0.0844     3  breakfast foods\n",
            "[breakfast foods, breakfast foods, breakfast food]\n",
            "0.0771     1  great food\n",
            "[great food]\n",
            "0.0752     1  great place\n",
            "[Great place]\n",
            "0.0740     3  good food\n",
            "[good food, good food, Good food]\n",
            "0.0726     1  yummy great place\n",
            "[Yummy great place]\n",
            "0.0719     1  fluffy pancakes\n",
            "[fluffy pancakes]\n",
            "0.0709    12  pancakes\n",
            "[pancakes, pancakes, pancakes, pancakes, pancakes, pancakes, their pancakes, The pancakes, the pancakes, three pancakes, the pancakes, their pancakes]\n",
            "0.0702     1  amazing breakfast\n",
            "[AMAZING breakfast]\n",
            "0.0692     3  buttermilk pancakes\n",
            "[buttermilk pancakes, their buttermilk pancakes, their buttermilk pancakes]\n",
            "0.0683     1  wheat pancakes\n",
            "[wheat pancakes]\n",
            "0.0680     5  breakfast\n",
            "[breakfast, breakfast, breakfast, breakfast, breakfast]\n",
            "0.0674     1  breakfast restaurants\n",
            "[breakfast restaurants]\n"
          ],
          "name": "stdout"
        }
      ]
    },
    {
      "cell_type": "markdown",
      "metadata": {
        "id": "BH4I7EZlhuSm",
        "colab_type": "text"
      },
      "source": [
        "# Textrank - 6-month bagging"
      ]
    },
    {
      "cell_type": "code",
      "metadata": {
        "id": "tz2BmbGiv_G8",
        "colab_type": "code",
        "outputId": "3714e3b2-7b50-4082-997d-0a1b5a3b485d",
        "colab": {
          "base_uri": "https://localhost:8080/",
          "height": 97
        }
      },
      "source": [
        "# https://www.yelp.com/dataset/documentation/main\n",
        "# load all reviews\n",
        "df_reviews = df_cafes.loc[:, ('review_id', 'business_id', 'text', 'datetime')]\n",
        "df_reviews['datetime'] = pd.to_datetime(df_reviews['datetime'])\n",
        "print(df_reviews.shape)\n",
        "df_reviews.sample()"
      ],
      "execution_count": 10,
      "outputs": [
        {
          "output_type": "stream",
          "text": [
            "(21496, 4)\n"
          ],
          "name": "stdout"
        },
        {
          "output_type": "execute_result",
          "data": {
            "text/html": [
              "<div>\n",
              "<style scoped>\n",
              "    .dataframe tbody tr th:only-of-type {\n",
              "        vertical-align: middle;\n",
              "    }\n",
              "\n",
              "    .dataframe tbody tr th {\n",
              "        vertical-align: top;\n",
              "    }\n",
              "\n",
              "    .dataframe thead th {\n",
              "        text-align: right;\n",
              "    }\n",
              "</style>\n",
              "<table border=\"1\" class=\"dataframe\">\n",
              "  <thead>\n",
              "    <tr style=\"text-align: right;\">\n",
              "      <th></th>\n",
              "      <th>review_id</th>\n",
              "      <th>business_id</th>\n",
              "      <th>text</th>\n",
              "      <th>datetime</th>\n",
              "    </tr>\n",
              "  </thead>\n",
              "  <tbody>\n",
              "    <tr>\n",
              "      <th>700</th>\n",
              "      <td>IrMzE02tqdqgPP1zcw8eIg</td>\n",
              "      <td>qQCsLGMncJp1xWUGnOKCQA</td>\n",
              "      <td>32 Shea-Yay!!!\\nLove this place. Great atmosph...</td>\n",
              "      <td>2018-06-12 23:42:17</td>\n",
              "    </tr>\n",
              "  </tbody>\n",
              "</table>\n",
              "</div>"
            ],
            "text/plain": [
              "                  review_id  ...            datetime\n",
              "700  IrMzE02tqdqgPP1zcw8eIg  ... 2018-06-12 23:42:17\n",
              "\n",
              "[1 rows x 4 columns]"
            ]
          },
          "metadata": {
            "tags": []
          },
          "execution_count": 10
        }
      ]
    },
    {
      "cell_type": "code",
      "metadata": {
        "id": "WdB0e755h9Q9",
        "colab_type": "code",
        "outputId": "c879655e-8881-47ca-e88f-798981bfed65",
        "colab": {
          "base_uri": "https://localhost:8080/",
          "height": 263
        }
      },
      "source": [
        "%%time\n",
        "# for one business, to get a better trend of keywords,\n",
        "# using 180 days (about 6 months) bagged reviews\n",
        "business_id = 'Iq7NqQD-sESu3vr9iEGuTA'\n",
        "current_date = datetime.strptime('2018-11-30', '%Y-%m-%d')\n",
        "periods = 12\n",
        "days_per_period = 30 # days\n",
        "bagging_periods = 6\n",
        "topk = 20\n",
        "\n",
        "# load a spaCy model, depending on language, scale, etc.\n",
        "nlp = spacy.load(\"en_core_web_sm\")\n",
        "# cutomize lemmatizer \n",
        "# https://spacy.io/api/lemmatizer\n",
        "# ...\n",
        "\"\"\"Caution: do not use \"merge_noun_chunks\" and \"merge_entities\"\"\"\n",
        "## other spaCy pipeline functions\n",
        "## https://spacy.io/api/pipeline-functions\n",
        "# merge_nps = nlp.create_pipe(\"merge_noun_chunks\")\n",
        "# nlp.add_pipe(merge_nps)\n",
        "# merge_ent = nlp.create_pipe(\"merge_entities\")\n",
        "# nlp.add_pipe(merge_ent)\n",
        "# add PyTextRank to the spaCy pipeline\n",
        "textrank = pytextrank.TextRank()\n",
        "nlp.add_pipe(textrank.PipelineComponent, name=\"textrank\", last=True)\n",
        "\n",
        "keywords = []\n",
        "keywords_topk = []\n",
        "for period in range(periods):\n",
        "    # [starting_date, ending_date] = 180 days\n",
        "    # or ending_date - staring_date = 170 days\n",
        "    ending_date = current_date - timedelta(days=days_per_period * period)\n",
        "    starting_date = ending_date - timedelta(days=days_per_period * bagging_periods -1)\n",
        "    \n",
        "    condition = ((df_reviews['business_id']==business_id) &\n",
        "                (df_reviews['datetime']>=starting_date) &\n",
        "                (df_reviews['datetime']<=ending_date))\n",
        "    df_texts = df_reviews[condition][['text', 'datetime']]\n",
        "    text = \" \".join(df_texts['text'].to_list())\n",
        "    doc = nlp(text)\n",
        "    for i,p in enumerate(doc._.phrases):\n",
        "        # print(\"{:.4f} {:5d}  {}\".format(p.rank, p.count, p.text))\n",
        "        # print(p.chunks)\n",
        "        if period==0:\n",
        "            keywords_topk.append(p.text)\n",
        "            keywords.append([periods, ending_date, \n",
        "                             p.rank, p.count, p.text, p.chunks])\n",
        "            if i >= topk-1: break\n",
        "        else:\n",
        "            if p.text in keywords_topk:\n",
        "                keywords.append([periods-period, ending_date, \n",
        "                                 p.rank, p.count, p.text, p.chunks])\n",
        "            if i > 1000: break  \n",
        "\n",
        "    print(df_texts.shape, len(text),\n",
        "          starting_date.date(), ending_date.date(), \n",
        "          (starting_date - ending_date).days)\n",
        "\n",
        "# for spaCy:\n",
        "\"\"\"\n",
        "ValueError: [E088] Text of length 10,462,331 exceeds maximum of 1,000,000. \n",
        "The v2.x parser and NER models require roughly 1GB of temporary memory \n",
        "per 100,000 characters in the input. This means long texts may \n",
        "cause memory allocation errors. If you're not using the parser or NER, \n",
        "it's probably safe to increase the `nlp.max_length` limit. The limit \n",
        "is in number of characters, so you can check whether your inputs are \n",
        "too long by checking `len(text)`.\n",
        "\"\"\"\n",
        "df_keywords = pd.DataFrame(keywords,\n",
        "    columns=['over', 'datetime', 'rank', 'count', 'keywords', 'chunks'])"
      ],
      "execution_count": 93,
      "outputs": [
        {
          "output_type": "stream",
          "text": [
            "(141, 2) 51365 2018-06-04 2018-11-30 -179\n",
            "(154, 2) 54519 2018-05-05 2018-10-31 -179\n",
            "(173, 2) 59454 2018-04-05 2018-10-01 -179\n",
            "(185, 2) 66918 2018-03-06 2018-09-01 -179\n",
            "(183, 2) 63424 2018-02-04 2018-08-02 -179\n",
            "(169, 2) 57698 2018-01-05 2018-07-03 -179\n",
            "(168, 2) 56732 2017-12-06 2018-06-03 -179\n",
            "(138, 2) 46549 2017-11-06 2018-05-04 -179\n",
            "(126, 2) 46535 2017-10-07 2018-04-04 -179\n",
            "(101, 2) 35699 2017-09-07 2018-03-05 -179\n",
            "(97, 2) 37853 2017-08-08 2018-02-03 -179\n",
            "(99, 2) 43520 2017-07-09 2018-01-04 -179\n",
            "CPU times: user 19.7 s, sys: 286 ms, total: 20 s\n",
            "Wall time: 20 s\n"
          ],
          "name": "stdout"
        }
      ]
    },
    {
      "cell_type": "code",
      "metadata": {
        "id": "VgUfLDPiWQcJ",
        "colab_type": "code",
        "outputId": "16f2a9c9-04b1-4a2e-ee84-bac704a3ce6c",
        "colab": {
          "base_uri": "https://localhost:8080/",
          "height": 220
        }
      },
      "source": [
        "print(df_keywords.shape)\n",
        "df_keywords.sort_values('rank', ascending=False).head()"
      ],
      "execution_count": 94,
      "outputs": [
        {
          "output_type": "stream",
          "text": [
            "(145, 6)\n"
          ],
          "name": "stdout"
        },
        {
          "output_type": "execute_result",
          "data": {
            "text/html": [
              "<div>\n",
              "<style scoped>\n",
              "    .dataframe tbody tr th:only-of-type {\n",
              "        vertical-align: middle;\n",
              "    }\n",
              "\n",
              "    .dataframe tbody tr th {\n",
              "        vertical-align: top;\n",
              "    }\n",
              "\n",
              "    .dataframe thead th {\n",
              "        text-align: right;\n",
              "    }\n",
              "</style>\n",
              "<table border=\"1\" class=\"dataframe\">\n",
              "  <thead>\n",
              "    <tr style=\"text-align: right;\">\n",
              "      <th></th>\n",
              "      <th>over</th>\n",
              "      <th>datetime</th>\n",
              "      <th>rank</th>\n",
              "      <th>count</th>\n",
              "      <th>keywords</th>\n",
              "      <th>chunks</th>\n",
              "    </tr>\n",
              "  </thead>\n",
              "  <tbody>\n",
              "    <tr>\n",
              "      <th>90</th>\n",
              "      <td>7</td>\n",
              "      <td>2018-07-03</td>\n",
              "      <td>0.077800</td>\n",
              "      <td>7</td>\n",
              "      <td>best breakfast</td>\n",
              "      <td>[(Best, breakfast), (good, breakfast), (the, b...</td>\n",
              "    </tr>\n",
              "    <tr>\n",
              "      <th>75</th>\n",
              "      <td>8</td>\n",
              "      <td>2018-08-02</td>\n",
              "      <td>0.077622</td>\n",
              "      <td>2</td>\n",
              "      <td>great breakfast place</td>\n",
              "      <td>[(Great, breakfast, place), (a, great, breakfa...</td>\n",
              "    </tr>\n",
              "    <tr>\n",
              "      <th>0</th>\n",
              "      <td>12</td>\n",
              "      <td>2018-11-30</td>\n",
              "      <td>0.077272</td>\n",
              "      <td>1</td>\n",
              "      <td>great breakfast place</td>\n",
              "      <td>[(Great, breakfast, place)]</td>\n",
              "    </tr>\n",
              "    <tr>\n",
              "      <th>76</th>\n",
              "      <td>8</td>\n",
              "      <td>2018-08-02</td>\n",
              "      <td>0.077138</td>\n",
              "      <td>7</td>\n",
              "      <td>best breakfast</td>\n",
              "      <td>[(Best, breakfast), (good, breakfast), (the, b...</td>\n",
              "    </tr>\n",
              "    <tr>\n",
              "      <th>40</th>\n",
              "      <td>10</td>\n",
              "      <td>2018-10-01</td>\n",
              "      <td>0.076747</td>\n",
              "      <td>1</td>\n",
              "      <td>great breakfast place</td>\n",
              "      <td>[(Great, breakfast, place)]</td>\n",
              "    </tr>\n",
              "  </tbody>\n",
              "</table>\n",
              "</div>"
            ],
            "text/plain": [
              "    over  ...                                             chunks\n",
              "90     7  ...  [(Best, breakfast), (good, breakfast), (the, b...\n",
              "75     8  ...  [(Great, breakfast, place), (a, great, breakfa...\n",
              "0     12  ...                        [(Great, breakfast, place)]\n",
              "76     8  ...  [(Best, breakfast), (good, breakfast), (the, b...\n",
              "40    10  ...                        [(Great, breakfast, place)]\n",
              "\n",
              "[5 rows x 6 columns]"
            ]
          },
          "metadata": {
            "tags": []
          },
          "execution_count": 94
        }
      ]
    },
    {
      "cell_type": "code",
      "metadata": {
        "id": "gS5qV3AR47W_",
        "colab_type": "code",
        "outputId": "7e7bef41-7b6d-4b55-b7bb-9a672393a597",
        "colab": {
          "base_uri": "https://localhost:8080/",
          "height": 295
        }
      },
      "source": [
        "df_keywords[df_keywords['keywords']=='great breakfast place']\n",
        "# very well. now we have a trend line for one set of keywords"
      ],
      "execution_count": 95,
      "outputs": [
        {
          "output_type": "execute_result",
          "data": {
            "text/html": [
              "<div>\n",
              "<style scoped>\n",
              "    .dataframe tbody tr th:only-of-type {\n",
              "        vertical-align: middle;\n",
              "    }\n",
              "\n",
              "    .dataframe tbody tr th {\n",
              "        vertical-align: top;\n",
              "    }\n",
              "\n",
              "    .dataframe thead th {\n",
              "        text-align: right;\n",
              "    }\n",
              "</style>\n",
              "<table border=\"1\" class=\"dataframe\">\n",
              "  <thead>\n",
              "    <tr style=\"text-align: right;\">\n",
              "      <th></th>\n",
              "      <th>over</th>\n",
              "      <th>datetime</th>\n",
              "      <th>rank</th>\n",
              "      <th>count</th>\n",
              "      <th>keywords</th>\n",
              "      <th>chunks</th>\n",
              "    </tr>\n",
              "  </thead>\n",
              "  <tbody>\n",
              "    <tr>\n",
              "      <th>0</th>\n",
              "      <td>12</td>\n",
              "      <td>2018-11-30</td>\n",
              "      <td>0.077272</td>\n",
              "      <td>1</td>\n",
              "      <td>great breakfast place</td>\n",
              "      <td>[(Great, breakfast, place)]</td>\n",
              "    </tr>\n",
              "    <tr>\n",
              "      <th>20</th>\n",
              "      <td>11</td>\n",
              "      <td>2018-10-31</td>\n",
              "      <td>0.075327</td>\n",
              "      <td>1</td>\n",
              "      <td>great breakfast place</td>\n",
              "      <td>[(Great, breakfast, place)]</td>\n",
              "    </tr>\n",
              "    <tr>\n",
              "      <th>40</th>\n",
              "      <td>10</td>\n",
              "      <td>2018-10-01</td>\n",
              "      <td>0.076747</td>\n",
              "      <td>1</td>\n",
              "      <td>great breakfast place</td>\n",
              "      <td>[(Great, breakfast, place)]</td>\n",
              "    </tr>\n",
              "    <tr>\n",
              "      <th>59</th>\n",
              "      <td>9</td>\n",
              "      <td>2018-09-01</td>\n",
              "      <td>0.076488</td>\n",
              "      <td>2</td>\n",
              "      <td>great breakfast place</td>\n",
              "      <td>[(Great, breakfast, place), (a, great, breakfa...</td>\n",
              "    </tr>\n",
              "    <tr>\n",
              "      <th>75</th>\n",
              "      <td>8</td>\n",
              "      <td>2018-08-02</td>\n",
              "      <td>0.077622</td>\n",
              "      <td>2</td>\n",
              "      <td>great breakfast place</td>\n",
              "      <td>[(Great, breakfast, place), (a, great, breakfa...</td>\n",
              "    </tr>\n",
              "    <tr>\n",
              "      <th>102</th>\n",
              "      <td>6</td>\n",
              "      <td>2018-06-03</td>\n",
              "      <td>0.075019</td>\n",
              "      <td>2</td>\n",
              "      <td>great breakfast place</td>\n",
              "      <td>[(Great, breakfast, place), (a, great, breakfa...</td>\n",
              "    </tr>\n",
              "    <tr>\n",
              "      <th>112</th>\n",
              "      <td>5</td>\n",
              "      <td>2018-05-04</td>\n",
              "      <td>0.074496</td>\n",
              "      <td>2</td>\n",
              "      <td>great breakfast place</td>\n",
              "      <td>[(Great, breakfast, place), (a, great, breakfa...</td>\n",
              "    </tr>\n",
              "    <tr>\n",
              "      <th>119</th>\n",
              "      <td>4</td>\n",
              "      <td>2018-04-04</td>\n",
              "      <td>0.071900</td>\n",
              "      <td>2</td>\n",
              "      <td>great breakfast place</td>\n",
              "      <td>[(Great, breakfast, place), (a, great, breakfa...</td>\n",
              "    </tr>\n",
              "  </tbody>\n",
              "</table>\n",
              "</div>"
            ],
            "text/plain": [
              "     over  ...                                             chunks\n",
              "0      12  ...                        [(Great, breakfast, place)]\n",
              "20     11  ...                        [(Great, breakfast, place)]\n",
              "40     10  ...                        [(Great, breakfast, place)]\n",
              "59      9  ...  [(Great, breakfast, place), (a, great, breakfa...\n",
              "75      8  ...  [(Great, breakfast, place), (a, great, breakfa...\n",
              "102     6  ...  [(Great, breakfast, place), (a, great, breakfa...\n",
              "112     5  ...  [(Great, breakfast, place), (a, great, breakfa...\n",
              "119     4  ...  [(Great, breakfast, place), (a, great, breakfa...\n",
              "\n",
              "[8 rows x 6 columns]"
            ]
          },
          "metadata": {
            "tags": []
          },
          "execution_count": 95
        }
      ]
    },
    {
      "cell_type": "code",
      "metadata": {
        "id": "5bkag-gu7T46",
        "colab_type": "code",
        "outputId": "2efea2ca-7d66-4920-97bc-2a4073af5901",
        "colab": {
          "base_uri": "https://localhost:8080/",
          "height": 387
        }
      },
      "source": [
        "df_keywords['keywords'].value_counts()\n",
        "# in the future someone could try to improve this \n",
        "# by adding more functions to the spaCy pipeline,\n",
        "# e.g. editing lemmatizer, setting great==good.\n",
        "# for labs19 i do not have time to do this. ¯\\_(ツ)_/¯ "
      ],
      "execution_count": 96,
      "outputs": [
        {
          "output_type": "execute_result",
          "data": {
            "text/plain": [
              "great food                      12\n",
              "good service                    12\n",
              "great place                     12\n",
              "breakfast foods                 11\n",
              "good food                        9\n",
              "best breakfast                   9\n",
              "delicious food                   9\n",
              "butters pancakes                 9\n",
              "great breakfast place            8\n",
              "oreo pancakes                    8\n",
              "buttermilk pancakes              7\n",
              "yummy great place                6\n",
              "fluffy pancakes                  6\n",
              "savory pancakes                  5\n",
              "delicious blueberry pancakes     5\n",
              "regular pancakes                 5\n",
              "pancake options                  4\n",
              "fantastic breakfast place        3\n",
              "amazing pancakes                 3\n",
              "excellent pancakes               2\n",
              "Name: keywords, dtype: int64"
            ]
          },
          "metadata": {
            "tags": []
          },
          "execution_count": 96
        }
      ]
    },
    {
      "cell_type": "code",
      "metadata": {
        "id": "hYwDKzMNmFh9",
        "colab_type": "code",
        "outputId": "f3adfa62-9504-4ba1-929c-0ca1d81f2f0c",
        "colab": {
          "base_uri": "https://localhost:8080/",
          "height": 387
        }
      },
      "source": [
        "df_keywords['keywords'][:topk]"
      ],
      "execution_count": 97,
      "outputs": [
        {
          "output_type": "execute_result",
          "data": {
            "text/plain": [
              "0            great breakfast place\n",
              "1                  breakfast foods\n",
              "2                   best breakfast\n",
              "3                        good food\n",
              "4        fantastic breakfast place\n",
              "5                       great food\n",
              "6                      great place\n",
              "7                 amazing pancakes\n",
              "8                  pancake options\n",
              "9     delicious blueberry pancakes\n",
              "10                    good service\n",
              "11                 fluffy pancakes\n",
              "12                regular pancakes\n",
              "13                  delicious food\n",
              "14                 savory pancakes\n",
              "15                   oreo pancakes\n",
              "16                butters pancakes\n",
              "17               yummy great place\n",
              "18              excellent pancakes\n",
              "19             buttermilk pancakes\n",
              "Name: keywords, dtype: object"
            ]
          },
          "metadata": {
            "tags": []
          },
          "execution_count": 97
        }
      ]
    },
    {
      "cell_type": "code",
      "metadata": {
        "id": "1dKQ_fHCXcwx",
        "colab_type": "code",
        "outputId": "25514d59-9e26-4c0a-91c2-7f6a7bf675d1",
        "colab": {
          "base_uri": "https://localhost:8080/",
          "height": 339
        }
      },
      "source": [
        "for k in df_keywords['keywords'][:topk]:\n",
        "    df_tmp = df_keywords[df_keywords['keywords']==k]\n",
        "    plt.plot(df_tmp['datetime'], df_tmp['rank'], label=k);\n",
        "    plt.xticks(rotation=45)\n",
        "    plt.legend(loc=\"upper left\",\n",
        "               bbox_to_anchor=(1.0, 1));"
      ],
      "execution_count": 98,
      "outputs": [
        {
          "output_type": "display_data",
          "data": {
            "image/png": "[encoded data removed]",
            "text/plain": [
              "<Figure size 432x288 with 1 Axes>"
            ]
          },
          "metadata": {
            "tags": []
          }
        }
      ]
    },
    {
      "cell_type": "markdown",
      "metadata": {
        "id": "jrjQAXD4V8J8",
        "colab_type": "text"
      },
      "source": [
        "# Convert to JSON for D3.js"
      ]
    },
    {
      "cell_type": "code",
      "metadata": {
        "id": "nUbhCsXinEyu",
        "colab_type": "code",
        "colab": {
          "base_uri": "https://localhost:8080/",
          "height": 710
        },
        "outputId": "62797644-13cb-49be-e233-12ab16b48a4a"
      },
      "source": [
        "# convert to JSON\n",
        "df_tmp = (df_keywords[['over', 'keywords', 'datetime', 'rank']]\n",
        "    .sort_values(by=['over', 'keywords', 'datetime'])\n",
        "    .pivot_table(values=['rank'], \n",
        "                 index=['datetime', 'over'],\n",
        "                 columns=['keywords'])\n",
        "    .reset_index(level=1)\n",
        "    .fillna('null')\n",
        ")\n",
        "df_tmp.columns = ([df_tmp.columns[0][0]] +\n",
        "                  [t[1] for t in df_tmp.columns[1:]])\n",
        "df_tmp"
      ],
      "execution_count": 99,
      "outputs": [
        {
          "output_type": "execute_result",
          "data": {
            "text/html": [
              "<div>\n",
              "<style scoped>\n",
              "    .dataframe tbody tr th:only-of-type {\n",
              "        vertical-align: middle;\n",
              "    }\n",
              "\n",
              "    .dataframe tbody tr th {\n",
              "        vertical-align: top;\n",
              "    }\n",
              "\n",
              "    .dataframe thead th {\n",
              "        text-align: right;\n",
              "    }\n",
              "</style>\n",
              "<table border=\"1\" class=\"dataframe\">\n",
              "  <thead>\n",
              "    <tr style=\"text-align: right;\">\n",
              "      <th></th>\n",
              "      <th>over</th>\n",
              "      <th>amazing pancakes</th>\n",
              "      <th>best breakfast</th>\n",
              "      <th>breakfast foods</th>\n",
              "      <th>buttermilk pancakes</th>\n",
              "      <th>butters pancakes</th>\n",
              "      <th>delicious blueberry pancakes</th>\n",
              "      <th>delicious food</th>\n",
              "      <th>excellent pancakes</th>\n",
              "      <th>fantastic breakfast place</th>\n",
              "      <th>fluffy pancakes</th>\n",
              "      <th>good food</th>\n",
              "      <th>good service</th>\n",
              "      <th>great breakfast place</th>\n",
              "      <th>great food</th>\n",
              "      <th>great place</th>\n",
              "      <th>oreo pancakes</th>\n",
              "      <th>pancake options</th>\n",
              "      <th>regular pancakes</th>\n",
              "      <th>savory pancakes</th>\n",
              "      <th>yummy great place</th>\n",
              "    </tr>\n",
              "    <tr>\n",
              "      <th>datetime</th>\n",
              "      <th></th>\n",
              "      <th></th>\n",
              "      <th></th>\n",
              "      <th></th>\n",
              "      <th></th>\n",
              "      <th></th>\n",
              "      <th></th>\n",
              "      <th></th>\n",
              "      <th></th>\n",
              "      <th></th>\n",
              "      <th></th>\n",
              "      <th></th>\n",
              "      <th></th>\n",
              "      <th></th>\n",
              "      <th></th>\n",
              "      <th></th>\n",
              "      <th></th>\n",
              "      <th></th>\n",
              "      <th></th>\n",
              "      <th></th>\n",
              "      <th></th>\n",
              "    </tr>\n",
              "  </thead>\n",
              "  <tbody>\n",
              "    <tr>\n",
              "      <th>2018-01-04</th>\n",
              "      <td>1</td>\n",
              "      <td>null</td>\n",
              "      <td>null</td>\n",
              "      <td>0.061491</td>\n",
              "      <td>null</td>\n",
              "      <td>null</td>\n",
              "      <td>null</td>\n",
              "      <td>0.0497637</td>\n",
              "      <td>null</td>\n",
              "      <td>null</td>\n",
              "      <td>null</td>\n",
              "      <td>0.0586091</td>\n",
              "      <td>0.053086</td>\n",
              "      <td>null</td>\n",
              "      <td>0.060613</td>\n",
              "      <td>0.057274</td>\n",
              "      <td>0.0297919</td>\n",
              "      <td>null</td>\n",
              "      <td>null</td>\n",
              "      <td>null</td>\n",
              "      <td>null</td>\n",
              "    </tr>\n",
              "    <tr>\n",
              "      <th>2018-02-03</th>\n",
              "      <td>2</td>\n",
              "      <td>null</td>\n",
              "      <td>null</td>\n",
              "      <td>0.0636316</td>\n",
              "      <td>null</td>\n",
              "      <td>null</td>\n",
              "      <td>null</td>\n",
              "      <td>null</td>\n",
              "      <td>null</td>\n",
              "      <td>null</td>\n",
              "      <td>null</td>\n",
              "      <td>0.0627806</td>\n",
              "      <td>0.059829</td>\n",
              "      <td>null</td>\n",
              "      <td>0.062783</td>\n",
              "      <td>0.061034</td>\n",
              "      <td>0.0314671</td>\n",
              "      <td>null</td>\n",
              "      <td>null</td>\n",
              "      <td>null</td>\n",
              "      <td>null</td>\n",
              "    </tr>\n",
              "    <tr>\n",
              "      <th>2018-03-05</th>\n",
              "      <td>3</td>\n",
              "      <td>null</td>\n",
              "      <td>0.0702622</td>\n",
              "      <td>0.0648612</td>\n",
              "      <td>null</td>\n",
              "      <td>null</td>\n",
              "      <td>null</td>\n",
              "      <td>null</td>\n",
              "      <td>null</td>\n",
              "      <td>null</td>\n",
              "      <td>null</td>\n",
              "      <td>null</td>\n",
              "      <td>0.064149</td>\n",
              "      <td>null</td>\n",
              "      <td>0.063002</td>\n",
              "      <td>0.060870</td>\n",
              "      <td>0.0266601</td>\n",
              "      <td>null</td>\n",
              "      <td>null</td>\n",
              "      <td>null</td>\n",
              "      <td>null</td>\n",
              "    </tr>\n",
              "    <tr>\n",
              "      <th>2018-04-04</th>\n",
              "      <td>4</td>\n",
              "      <td>null</td>\n",
              "      <td>0.0732167</td>\n",
              "      <td>0.0660669</td>\n",
              "      <td>null</td>\n",
              "      <td>0.0103122</td>\n",
              "      <td>null</td>\n",
              "      <td>null</td>\n",
              "      <td>null</td>\n",
              "      <td>null</td>\n",
              "      <td>null</td>\n",
              "      <td>null</td>\n",
              "      <td>0.066598</td>\n",
              "      <td>0.0719</td>\n",
              "      <td>0.060299</td>\n",
              "      <td>0.059298</td>\n",
              "      <td>0.0256775</td>\n",
              "      <td>null</td>\n",
              "      <td>null</td>\n",
              "      <td>null</td>\n",
              "      <td>null</td>\n",
              "    </tr>\n",
              "    <tr>\n",
              "      <th>2018-05-04</th>\n",
              "      <td>5</td>\n",
              "      <td>null</td>\n",
              "      <td>0.075564</td>\n",
              "      <td>null</td>\n",
              "      <td>null</td>\n",
              "      <td>0.00940865</td>\n",
              "      <td>null</td>\n",
              "      <td>0.051519</td>\n",
              "      <td>null</td>\n",
              "      <td>null</td>\n",
              "      <td>null</td>\n",
              "      <td>null</td>\n",
              "      <td>0.069468</td>\n",
              "      <td>0.0744957</td>\n",
              "      <td>0.059937</td>\n",
              "      <td>0.061351</td>\n",
              "      <td>null</td>\n",
              "      <td>null</td>\n",
              "      <td>null</td>\n",
              "      <td>null</td>\n",
              "      <td>null</td>\n",
              "    </tr>\n",
              "    <tr>\n",
              "      <th>2018-06-03</th>\n",
              "      <td>6</td>\n",
              "      <td>null</td>\n",
              "      <td>0.0763909</td>\n",
              "      <td>0.0706987</td>\n",
              "      <td>0.0596055</td>\n",
              "      <td>0.0266909</td>\n",
              "      <td>null</td>\n",
              "      <td>0.0558661</td>\n",
              "      <td>null</td>\n",
              "      <td>null</td>\n",
              "      <td>null</td>\n",
              "      <td>0.0724844</td>\n",
              "      <td>0.070176</td>\n",
              "      <td>0.0750185</td>\n",
              "      <td>0.062582</td>\n",
              "      <td>0.061686</td>\n",
              "      <td>null</td>\n",
              "      <td>null</td>\n",
              "      <td>null</td>\n",
              "      <td>null</td>\n",
              "      <td>null</td>\n",
              "    </tr>\n",
              "    <tr>\n",
              "      <th>2018-07-03</th>\n",
              "      <td>7</td>\n",
              "      <td>null</td>\n",
              "      <td>0.0778001</td>\n",
              "      <td>0.0737975</td>\n",
              "      <td>0.0610941</td>\n",
              "      <td>0.0285265</td>\n",
              "      <td>null</td>\n",
              "      <td>0.0576753</td>\n",
              "      <td>null</td>\n",
              "      <td>null</td>\n",
              "      <td>0.0638515</td>\n",
              "      <td>0.0738702</td>\n",
              "      <td>0.069247</td>\n",
              "      <td>null</td>\n",
              "      <td>0.063782</td>\n",
              "      <td>0.061879</td>\n",
              "      <td>null</td>\n",
              "      <td>null</td>\n",
              "      <td>null</td>\n",
              "      <td>null</td>\n",
              "      <td>0.0590755</td>\n",
              "    </tr>\n",
              "    <tr>\n",
              "      <th>2018-08-02</th>\n",
              "      <td>8</td>\n",
              "      <td>null</td>\n",
              "      <td>0.077138</td>\n",
              "      <td>0.0748795</td>\n",
              "      <td>0.0606062</td>\n",
              "      <td>0.028917</td>\n",
              "      <td>0.0622086</td>\n",
              "      <td>0.0589356</td>\n",
              "      <td>null</td>\n",
              "      <td>null</td>\n",
              "      <td>0.0633726</td>\n",
              "      <td>0.0730442</td>\n",
              "      <td>0.067718</td>\n",
              "      <td>0.077622</td>\n",
              "      <td>0.064538</td>\n",
              "      <td>0.062848</td>\n",
              "      <td>null</td>\n",
              "      <td>null</td>\n",
              "      <td>0.058933</td>\n",
              "      <td>0.0600397</td>\n",
              "      <td>0.0599254</td>\n",
              "    </tr>\n",
              "    <tr>\n",
              "      <th>2018-09-01</th>\n",
              "      <td>9</td>\n",
              "      <td>null</td>\n",
              "      <td>null</td>\n",
              "      <td>0.0737874</td>\n",
              "      <td>0.0634923</td>\n",
              "      <td>0.0302437</td>\n",
              "      <td>0.0651809</td>\n",
              "      <td>0.0594922</td>\n",
              "      <td>null</td>\n",
              "      <td>null</td>\n",
              "      <td>0.0658662</td>\n",
              "      <td>0.0721832</td>\n",
              "      <td>0.065707</td>\n",
              "      <td>0.0764883</td>\n",
              "      <td>0.064139</td>\n",
              "      <td>0.062766</td>\n",
              "      <td>0.0626929</td>\n",
              "      <td>0.0648581</td>\n",
              "      <td>0.0627185</td>\n",
              "      <td>0.0634088</td>\n",
              "      <td>0.0596742</td>\n",
              "    </tr>\n",
              "    <tr>\n",
              "      <th>2018-10-01</th>\n",
              "      <td>10</td>\n",
              "      <td>0.069998</td>\n",
              "      <td>0.0713752</td>\n",
              "      <td>0.0738487</td>\n",
              "      <td>0.0651809</td>\n",
              "      <td>0.0302959</td>\n",
              "      <td>0.0686755</td>\n",
              "      <td>0.0636204</td>\n",
              "      <td>null</td>\n",
              "      <td>0.0678727</td>\n",
              "      <td>0.0672844</td>\n",
              "      <td>0.0717646</td>\n",
              "      <td>0.064003</td>\n",
              "      <td>0.0767474</td>\n",
              "      <td>0.066714</td>\n",
              "      <td>0.064835</td>\n",
              "      <td>0.0642272</td>\n",
              "      <td>0.0671143</td>\n",
              "      <td>0.0646699</td>\n",
              "      <td>0.0652303</td>\n",
              "      <td>0.0614541</td>\n",
              "    </tr>\n",
              "    <tr>\n",
              "      <th>2018-10-31</th>\n",
              "      <td>11</td>\n",
              "      <td>0.0671104</td>\n",
              "      <td>0.0710976</td>\n",
              "      <td>0.0738615</td>\n",
              "      <td>0.0626483</td>\n",
              "      <td>0.0310145</td>\n",
              "      <td>0.0665383</td>\n",
              "      <td>0.053359</td>\n",
              "      <td>0.0633213</td>\n",
              "      <td>0.06581</td>\n",
              "      <td>0.0652665</td>\n",
              "      <td>0.0718252</td>\n",
              "      <td>0.062700</td>\n",
              "      <td>0.0753272</td>\n",
              "      <td>0.067406</td>\n",
              "      <td>0.063037</td>\n",
              "      <td>0.0623595</td>\n",
              "      <td>0.0652281</td>\n",
              "      <td>0.063428</td>\n",
              "      <td>0.063244</td>\n",
              "      <td>0.0596542</td>\n",
              "    </tr>\n",
              "    <tr>\n",
              "      <th>2018-11-30</th>\n",
              "      <td>12</td>\n",
              "      <td>0.0640681</td>\n",
              "      <td>0.0730354</td>\n",
              "      <td>0.0746014</td>\n",
              "      <td>0.0597485</td>\n",
              "      <td>0.0604678</td>\n",
              "      <td>0.0636657</td>\n",
              "      <td>0.0613018</td>\n",
              "      <td>0.0601243</td>\n",
              "      <td>0.0676656</td>\n",
              "      <td>0.0615835</td>\n",
              "      <td>0.071548</td>\n",
              "      <td>0.063598</td>\n",
              "      <td>0.0772722</td>\n",
              "      <td>0.067038</td>\n",
              "      <td>0.064086</td>\n",
              "      <td>0.0604885</td>\n",
              "      <td>0.0637349</td>\n",
              "      <td>0.061473</td>\n",
              "      <td>0.0608178</td>\n",
              "      <td>0.0603518</td>\n",
              "    </tr>\n",
              "  </tbody>\n",
              "</table>\n",
              "</div>"
            ],
            "text/plain": [
              "            over amazing pancakes  ... savory pancakes yummy great place\n",
              "datetime                           ...                                  \n",
              "2018-01-04     1             null  ...            null              null\n",
              "2018-02-03     2             null  ...            null              null\n",
              "2018-03-05     3             null  ...            null              null\n",
              "2018-04-04     4             null  ...            null              null\n",
              "2018-05-04     5             null  ...            null              null\n",
              "2018-06-03     6             null  ...            null              null\n",
              "2018-07-03     7             null  ...            null         0.0590755\n",
              "2018-08-02     8             null  ...       0.0600397         0.0599254\n",
              "2018-09-01     9             null  ...       0.0634088         0.0596742\n",
              "2018-10-01    10         0.069998  ...       0.0652303         0.0614541\n",
              "2018-10-31    11        0.0671104  ...        0.063244         0.0596542\n",
              "2018-11-30    12        0.0640681  ...       0.0608178         0.0603518\n",
              "\n",
              "[12 rows x 21 columns]"
            ]
          },
          "metadata": {
            "tags": []
          },
          "execution_count": 99
        }
      ]
    },
    {
      "cell_type": "code",
      "metadata": {
        "id": "wmE6ju2DYCo_",
        "colab_type": "code",
        "colab": {
          "base_uri": "https://localhost:8080/",
          "height": 369
        },
        "outputId": "0178adc6-d6a3-4c58-f952-0a2e938e4588"
      },
      "source": [
        "l1 = df_keywords['keywords'][:topk]\n",
        "# padding = len(max(l1))\n",
        "# l2 = [s.ljust(padding) for s in l1]\n",
        "dict(zip(l1, l1))\n",
        "# cannot influence the key order of dictionary anyway\n",
        "# do not use this for D3.js legend "
      ],
      "execution_count": 106,
      "outputs": [
        {
          "output_type": "execute_result",
          "data": {
            "text/plain": [
              "{'amazing pancakes': 'amazing pancakes',\n",
              " 'best breakfast': 'best breakfast',\n",
              " 'breakfast foods': 'breakfast foods',\n",
              " 'buttermilk pancakes': 'buttermilk pancakes',\n",
              " 'butters pancakes': 'butters pancakes',\n",
              " 'delicious blueberry pancakes': 'delicious blueberry pancakes',\n",
              " 'delicious food': 'delicious food',\n",
              " 'excellent pancakes': 'excellent pancakes',\n",
              " 'fantastic breakfast place': 'fantastic breakfast place',\n",
              " 'fluffy pancakes': 'fluffy pancakes',\n",
              " 'good food': 'good food',\n",
              " 'good service': 'good service',\n",
              " 'great breakfast place': 'great breakfast place',\n",
              " 'great food': 'great food',\n",
              " 'great place': 'great place',\n",
              " 'oreo pancakes': 'oreo pancakes',\n",
              " 'pancake options': 'pancake options',\n",
              " 'regular pancakes': 'regular pancakes',\n",
              " 'savory pancakes': 'savory pancakes',\n",
              " 'yummy great place': 'yummy great place'}"
            ]
          },
          "metadata": {
            "tags": []
          },
          "execution_count": 106
        }
      ]
    },
    {
      "cell_type": "code",
      "metadata": {
        "id": "qCGCpNEgoht8",
        "colab_type": "code",
        "colab": {
          "base_uri": "https://localhost:8080/",
          "height": 369
        },
        "outputId": "30e9bfaf-e2b6-4a8f-ee40-25822cf4c811"
      },
      "source": [
        "print(\"{\\'\"+\"',\\n'\".join([s+\"':'\"+s for s in l1])+\"'}\")\n",
        "# use this unsorted output for D3.js legend"
      ],
      "execution_count": 111,
      "outputs": [
        {
          "output_type": "stream",
          "text": [
            "{'great breakfast place':'great breakfast place',\n",
            "'breakfast foods':'breakfast foods',\n",
            "'best breakfast':'best breakfast',\n",
            "'good food':'good food',\n",
            "'fantastic breakfast place':'fantastic breakfast place',\n",
            "'great food':'great food',\n",
            "'great place':'great place',\n",
            "'amazing pancakes':'amazing pancakes',\n",
            "'pancake options':'pancake options',\n",
            "'delicious blueberry pancakes':'delicious blueberry pancakes',\n",
            "'good service':'good service',\n",
            "'fluffy pancakes':'fluffy pancakes',\n",
            "'regular pancakes':'regular pancakes',\n",
            "'delicious food':'delicious food',\n",
            "'savory pancakes':'savory pancakes',\n",
            "'oreo pancakes':'oreo pancakes',\n",
            "'butters pancakes':'butters pancakes',\n",
            "'yummy great place':'yummy great place',\n",
            "'excellent pancakes':'excellent pancakes',\n",
            "'buttermilk pancakes':'buttermilk pancakes'}\n"
          ],
          "name": "stdout"
        }
      ]
    },
    {
      "cell_type": "code",
      "metadata": {
        "id": "XwWbcoQ2SKwG",
        "colab_type": "code",
        "colab": {
          "base_uri": "https://localhost:8080/",
          "height": 1000
        },
        "outputId": "95f9a24e-4112-4923-92f4-e41d9124053b"
      },
      "source": [
        "json_str = df_tmp.to_json(orient='index')\n",
        "list(json.loads(json_str).values())"
      ],
      "execution_count": 100,
      "outputs": [
        {
          "output_type": "execute_result",
          "data": {
            "text/plain": [
              "[{'amazing pancakes': 'null',\n",
              "  'best breakfast': 'null',\n",
              "  'breakfast foods': 0.0614909799,\n",
              "  'buttermilk pancakes': 'null',\n",
              "  'butters pancakes': 'null',\n",
              "  'delicious blueberry pancakes': 'null',\n",
              "  'delicious food': 0.0497637211,\n",
              "  'excellent pancakes': 'null',\n",
              "  'fantastic breakfast place': 'null',\n",
              "  'fluffy pancakes': 'null',\n",
              "  'good food': 0.0586091487,\n",
              "  'good service': 0.0530862899,\n",
              "  'great breakfast place': 'null',\n",
              "  'great food': 0.0606127468,\n",
              "  'great place': 0.0572742375,\n",
              "  'oreo pancakes': 0.0297918873,\n",
              "  'over': 1,\n",
              "  'pancake options': 'null',\n",
              "  'regular pancakes': 'null',\n",
              "  'savory pancakes': 'null',\n",
              "  'yummy great place': 'null'},\n",
              " {'amazing pancakes': 'null',\n",
              "  'best breakfast': 'null',\n",
              "  'breakfast foods': 0.0636316174,\n",
              "  'buttermilk pancakes': 'null',\n",
              "  'butters pancakes': 'null',\n",
              "  'delicious blueberry pancakes': 'null',\n",
              "  'delicious food': 'null',\n",
              "  'excellent pancakes': 'null',\n",
              "  'fantastic breakfast place': 'null',\n",
              "  'fluffy pancakes': 'null',\n",
              "  'good food': 0.0627806317,\n",
              "  'good service': 0.0598290995,\n",
              "  'great breakfast place': 'null',\n",
              "  'great food': 0.0627834554,\n",
              "  'great place': 0.0610340879,\n",
              "  'oreo pancakes': 0.0314671439,\n",
              "  'over': 2,\n",
              "  'pancake options': 'null',\n",
              "  'regular pancakes': 'null',\n",
              "  'savory pancakes': 'null',\n",
              "  'yummy great place': 'null'},\n",
              " {'amazing pancakes': 'null',\n",
              "  'best breakfast': 0.0702621905,\n",
              "  'breakfast foods': 0.0648612048,\n",
              "  'buttermilk pancakes': 'null',\n",
              "  'butters pancakes': 'null',\n",
              "  'delicious blueberry pancakes': 'null',\n",
              "  'delicious food': 'null',\n",
              "  'excellent pancakes': 'null',\n",
              "  'fantastic breakfast place': 'null',\n",
              "  'fluffy pancakes': 'null',\n",
              "  'good food': 'null',\n",
              "  'good service': 0.0641488836,\n",
              "  'great breakfast place': 'null',\n",
              "  'great food': 0.0630018002,\n",
              "  'great place': 0.0608696831,\n",
              "  'oreo pancakes': 0.026660125,\n",
              "  'over': 3,\n",
              "  'pancake options': 'null',\n",
              "  'regular pancakes': 'null',\n",
              "  'savory pancakes': 'null',\n",
              "  'yummy great place': 'null'},\n",
              " {'amazing pancakes': 'null',\n",
              "  'best breakfast': 0.0732166797,\n",
              "  'breakfast foods': 0.0660668859,\n",
              "  'buttermilk pancakes': 'null',\n",
              "  'butters pancakes': 0.0103121722,\n",
              "  'delicious blueberry pancakes': 'null',\n",
              "  'delicious food': 'null',\n",
              "  'excellent pancakes': 'null',\n",
              "  'fantastic breakfast place': 'null',\n",
              "  'fluffy pancakes': 'null',\n",
              "  'good food': 'null',\n",
              "  'good service': 0.0665982394,\n",
              "  'great breakfast place': 0.0718999631,\n",
              "  'great food': 0.0602992389,\n",
              "  'great place': 0.0592984255,\n",
              "  'oreo pancakes': 0.0256774616,\n",
              "  'over': 4,\n",
              "  'pancake options': 'null',\n",
              "  'regular pancakes': 'null',\n",
              "  'savory pancakes': 'null',\n",
              "  'yummy great place': 'null'},\n",
              " {'amazing pancakes': 'null',\n",
              "  'best breakfast': 0.075564026,\n",
              "  'breakfast foods': 'null',\n",
              "  'buttermilk pancakes': 'null',\n",
              "  'butters pancakes': 0.0094086499,\n",
              "  'delicious blueberry pancakes': 'null',\n",
              "  'delicious food': 0.05151904,\n",
              "  'excellent pancakes': 'null',\n",
              "  'fantastic breakfast place': 'null',\n",
              "  'fluffy pancakes': 'null',\n",
              "  'good food': 'null',\n",
              "  'good service': 0.0694675425,\n",
              "  'great breakfast place': 0.074495662,\n",
              "  'great food': 0.0599374821,\n",
              "  'great place': 0.0613508639,\n",
              "  'oreo pancakes': 'null',\n",
              "  'over': 5,\n",
              "  'pancake options': 'null',\n",
              "  'regular pancakes': 'null',\n",
              "  'savory pancakes': 'null',\n",
              "  'yummy great place': 'null'},\n",
              " {'amazing pancakes': 'null',\n",
              "  'best breakfast': 0.0763908862,\n",
              "  'breakfast foods': 0.0706987108,\n",
              "  'buttermilk pancakes': 0.0596055315,\n",
              "  'butters pancakes': 0.0266908672,\n",
              "  'delicious blueberry pancakes': 'null',\n",
              "  'delicious food': 0.0558661215,\n",
              "  'excellent pancakes': 'null',\n",
              "  'fantastic breakfast place': 'null',\n",
              "  'fluffy pancakes': 'null',\n",
              "  'good food': 0.0724843526,\n",
              "  'good service': 0.0701757705,\n",
              "  'great breakfast place': 0.075018532,\n",
              "  'great food': 0.0625821528,\n",
              "  'great place': 0.0616855569,\n",
              "  'oreo pancakes': 'null',\n",
              "  'over': 6,\n",
              "  'pancake options': 'null',\n",
              "  'regular pancakes': 'null',\n",
              "  'savory pancakes': 'null',\n",
              "  'yummy great place': 'null'},\n",
              " {'amazing pancakes': 'null',\n",
              "  'best breakfast': 0.0778001154,\n",
              "  'breakfast foods': 0.073797452,\n",
              "  'buttermilk pancakes': 0.0610940901,\n",
              "  'butters pancakes': 0.0285265089,\n",
              "  'delicious blueberry pancakes': 'null',\n",
              "  'delicious food': 0.0576752888,\n",
              "  'excellent pancakes': 'null',\n",
              "  'fantastic breakfast place': 'null',\n",
              "  'fluffy pancakes': 0.0638515287,\n",
              "  'good food': 0.0738701566,\n",
              "  'good service': 0.0692466993,\n",
              "  'great breakfast place': 'null',\n",
              "  'great food': 0.0637824972,\n",
              "  'great place': 0.0618789777,\n",
              "  'oreo pancakes': 'null',\n",
              "  'over': 7,\n",
              "  'pancake options': 'null',\n",
              "  'regular pancakes': 'null',\n",
              "  'savory pancakes': 'null',\n",
              "  'yummy great place': 0.0590755304},\n",
              " {'amazing pancakes': 'null',\n",
              "  'best breakfast': 0.0771379636,\n",
              "  'breakfast foods': 0.0748795144,\n",
              "  'buttermilk pancakes': 0.0606061621,\n",
              "  'butters pancakes': 0.0289170183,\n",
              "  'delicious blueberry pancakes': 0.062208576,\n",
              "  'delicious food': 0.0589356444,\n",
              "  'excellent pancakes': 'null',\n",
              "  'fantastic breakfast place': 'null',\n",
              "  'fluffy pancakes': 0.0633725649,\n",
              "  'good food': 0.0730441968,\n",
              "  'good service': 0.0677175595,\n",
              "  'great breakfast place': 0.0776219631,\n",
              "  'great food': 0.064538265,\n",
              "  'great place': 0.0628479825,\n",
              "  'oreo pancakes': 'null',\n",
              "  'over': 8,\n",
              "  'pancake options': 'null',\n",
              "  'regular pancakes': 0.0589329514,\n",
              "  'savory pancakes': 0.0600396592,\n",
              "  'yummy great place': 0.0599253522},\n",
              " {'amazing pancakes': 'null',\n",
              "  'best breakfast': 'null',\n",
              "  'breakfast foods': 0.0737873581,\n",
              "  'buttermilk pancakes': 0.0634922584,\n",
              "  'butters pancakes': 0.0302436734,\n",
              "  'delicious blueberry pancakes': 0.0651808943,\n",
              "  'delicious food': 0.0594921531,\n",
              "  'excellent pancakes': 'null',\n",
              "  'fantastic breakfast place': 'null',\n",
              "  'fluffy pancakes': 0.065866155,\n",
              "  'good food': 0.0721832466,\n",
              "  'good service': 0.0657070361,\n",
              "  'great breakfast place': 0.0764883165,\n",
              "  'great food': 0.06413925,\n",
              "  'great place': 0.0627656379,\n",
              "  'oreo pancakes': 0.0626928938,\n",
              "  'over': 9,\n",
              "  'pancake options': 0.0648581312,\n",
              "  'regular pancakes': 0.0627185256,\n",
              "  'savory pancakes': 0.0634087912,\n",
              "  'yummy great place': 0.0596742294},\n",
              " {'amazing pancakes': 0.0699980327,\n",
              "  'best breakfast': 0.0713752243,\n",
              "  'breakfast foods': 0.0738487145,\n",
              "  'buttermilk pancakes': 0.0651808955,\n",
              "  'butters pancakes': 0.030295925,\n",
              "  'delicious blueberry pancakes': 0.0686755118,\n",
              "  'delicious food': 0.0636204266,\n",
              "  'excellent pancakes': 'null',\n",
              "  'fantastic breakfast place': 0.0678727061,\n",
              "  'fluffy pancakes': 0.0672843847,\n",
              "  'good food': 0.0717646116,\n",
              "  'good service': 0.0640033638,\n",
              "  'great breakfast place': 0.0767473921,\n",
              "  'great food': 0.0667139822,\n",
              "  'great place': 0.0648350671,\n",
              "  'oreo pancakes': 0.064227196,\n",
              "  'over': 10,\n",
              "  'pancake options': 0.067114251,\n",
              "  'regular pancakes': 0.0646699326,\n",
              "  'savory pancakes': 0.0652303407,\n",
              "  'yummy great place': 0.0614540515},\n",
              " {'amazing pancakes': 0.0671104144,\n",
              "  'best breakfast': 0.0710975791,\n",
              "  'breakfast foods': 0.0738615336,\n",
              "  'buttermilk pancakes': 0.0626483297,\n",
              "  'butters pancakes': 0.0310144994,\n",
              "  'delicious blueberry pancakes': 0.0665383252,\n",
              "  'delicious food': 0.0533589564,\n",
              "  'excellent pancakes': 0.0633212654,\n",
              "  'fantastic breakfast place': 0.0658099815,\n",
              "  'fluffy pancakes': 0.0652664637,\n",
              "  'good food': 0.0718252453,\n",
              "  'good service': 0.0627001027,\n",
              "  'great breakfast place': 0.0753272343,\n",
              "  'great food': 0.0674059903,\n",
              "  'great place': 0.0630371399,\n",
              "  'oreo pancakes': 0.0623595317,\n",
              "  'over': 11,\n",
              "  'pancake options': 0.0652280894,\n",
              "  'regular pancakes': 0.0634279896,\n",
              "  'savory pancakes': 0.063244017,\n",
              "  'yummy great place': 0.0596541546},\n",
              " {'amazing pancakes': 0.0640681176,\n",
              "  'best breakfast': 0.0730354262,\n",
              "  'breakfast foods': 0.0746014052,\n",
              "  'buttermilk pancakes': 0.059748515,\n",
              "  'butters pancakes': 0.0604677772,\n",
              "  'delicious blueberry pancakes': 0.063665695,\n",
              "  'delicious food': 0.0613017691,\n",
              "  'excellent pancakes': 0.0601243081,\n",
              "  'fantastic breakfast place': 0.0676656362,\n",
              "  'fluffy pancakes': 0.0615835287,\n",
              "  'good food': 0.071547971,\n",
              "  'good service': 0.0635975659,\n",
              "  'great breakfast place': 0.0772721646,\n",
              "  'great food': 0.0670380567,\n",
              "  'great place': 0.0640861561,\n",
              "  'oreo pancakes': 0.0604885412,\n",
              "  'over': 12,\n",
              "  'pancake options': 0.0637348814,\n",
              "  'regular pancakes': 0.0614730262,\n",
              "  'savory pancakes': 0.060817755,\n",
              "  'yummy great place': 0.0603517601}]"
            ]
          },
          "metadata": {
            "tags": []
          },
          "execution_count": 100
        }
      ]
    },
    {
      "cell_type": "markdown",
      "metadata": {
        "id": "5EEd2DPuXyMD",
        "colab_type": "text"
      },
      "source": [
        "# Slightly different outputs"
      ]
    },
    {
      "cell_type": "code",
      "metadata": {
        "id": "nPwomrYZkH4i",
        "colab_type": "code",
        "outputId": "7b0c6a56-1bbf-49a5-f0e8-a56f7285dc19",
        "colab": {
          "base_uri": "https://localhost:8080/",
          "height": 327
        }
      },
      "source": [
        "%%time\n",
        "# for one business, to get a better trend of keywords,\n",
        "# using 180 days (about 6 months) bagged reviews\n",
        "business_id = 'Iq7NqQD-sESu3vr9iEGuTA'\n",
        "current_date = datetime.strptime('2018-11-30', '%Y-%m-%d')\n",
        "periods = 12\n",
        "days_per_period = 30 # days\n",
        "bagging_periods = 6\n",
        "topk = 10\n",
        "\n",
        "# load a spaCy model, depending on language, scale, etc.\n",
        "nlp = spacy.load(\"en_core_web_sm\")\n",
        "# cutomize lemmatizer \n",
        "# https://spacy.io/api/lemmatizer\n",
        "# ...\n",
        "textrank = pytextrank.TextRank()\n",
        "nlp.add_pipe(textrank.PipelineComponent, name=\"textrank\", last=True)\n",
        "\n",
        "keywords = []\n",
        "for period in range(periods):\n",
        "    # [starting_date, ending_date] = 180 days\n",
        "    # or ending_date - staring_date = 170 days\n",
        "    ending_date = current_date - timedelta(days=days_per_period * period)\n",
        "    starting_date = ending_date - timedelta(days=days_per_period * bagging_periods -1)\n",
        "    \n",
        "    condition = ((df_reviews['business_id']==business_id) &\n",
        "                (df_reviews['datetime']>=starting_date) &\n",
        "                (df_reviews['datetime']<=ending_date))\n",
        "    df_texts = df_reviews[condition][['text', 'datetime']]\n",
        "    text = \" \".join(df_texts['text'].to_list())\n",
        "    doc = nlp(text)\n",
        "    for i,p in enumerate(doc._.phrases):\n",
        "        keywords.append([ending_date, p.rank, p.count, p.text, p.chunks])\n",
        "        if i >= topk-1: break  \n",
        "\n",
        "df_keywords = pd.DataFrame(keywords,\n",
        "    columns=['datetime', 'rank', 'count', 'keywords', 'chunks'])\n",
        "\n",
        "keywords_display = df_keywords['keywords'].value_counts().index[:topk]\n",
        "for k in keywords_display:\n",
        "    df_tmp = df_keywords[df_keywords['keywords']==k]\n",
        "    plt.plot(df_tmp['datetime'], df_tmp['rank'], label=k)\n",
        "    plt.xticks(rotation=45)\n",
        "    plt.legend(loc=\"upper left\",\n",
        "               bbox_to_anchor=(1.0, 1));"
      ],
      "execution_count": 0,
      "outputs": [
        {
          "output_type": "stream",
          "text": [
            "CPU times: user 24.5 s, sys: 520 ms, total: 25 s\n",
            "Wall time: 25 s\n"
          ],
          "name": "stdout"
        },
        {
          "output_type": "display_data",
          "data": {
            "image/png": "[encoded data removed]",
            "text/plain": [
              "<Figure size 432x288 with 1 Axes>"
            ]
          },
          "metadata": {
            "tags": []
          }
        }
      ]
    },
    {
      "cell_type": "markdown",
      "metadata": {
        "id": "lS2lCfyVEXWM",
        "colab_type": "text"
      },
      "source": [
        "# Test spaCy lemmatizer and lookups"
      ]
    },
    {
      "cell_type": "code",
      "metadata": {
        "id": "6tIplI56GRbk",
        "colab_type": "code",
        "outputId": "73e1441b-327b-48ea-c498-56c27f1b36ed",
        "colab": {
          "base_uri": "https://localhost:8080/",
          "height": 87
        }
      },
      "source": [
        "spacy_lookups_data.en"
      ],
      "execution_count": 0,
      "outputs": [
        {
          "output_type": "execute_result",
          "data": {
            "text/plain": [
              "{'lemma_exc': '/usr/local/lib/python3.6/dist-packages/spacy_lookups_data/data/en_lemma_exc.json',\n",
              " 'lemma_index': '/usr/local/lib/python3.6/dist-packages/spacy_lookups_data/data/en_lemma_index.json',\n",
              " 'lemma_lookup': '/usr/local/lib/python3.6/dist-packages/spacy_lookups_data/data/en_lemma_lookup.json',\n",
              " 'lemma_rules': '/usr/local/lib/python3.6/dist-packages/spacy_lookups_data/data/en_lemma_rules.json'}"
            ]
          },
          "metadata": {
            "tags": []
          },
          "execution_count": 8
        }
      ]
    },
    {
      "cell_type": "code",
      "metadata": {
        "id": "xwYoW2DbEcjh",
        "colab_type": "code",
        "outputId": "45ebc010-94e2-45c9-e83b-878670a8f7fb",
        "colab": {
          "base_uri": "https://localhost:8080/",
          "height": 52
        }
      },
      "source": [
        "from spacy.lemmatizer import Lemmatizer\n",
        "from spacy.lookups import Lookups\n",
        "import spacy_lookups_data # for other languages\n",
        "\n",
        "lookups = Lookups() \n",
        "lookups.add_table(\"lemma_rules\", {\"noun\": [[\"s\", \"\"]]})\n",
        "print('lookups', len(lookups))\n",
        "lemmatizer = Lemmatizer(lookups)\n",
        "lemmas = lemmatizer(\"ducks\", \"NOUN\")\n",
        "print(\"lemmas == [\\\"duck\\\"]\", lemmas == [\"duck\"])"
      ],
      "execution_count": 0,
      "outputs": [
        {
          "output_type": "stream",
          "text": [
            "lookups 1\n",
            "lemmas == [\"duck\"] True\n"
          ],
          "name": "stdout"
        }
      ]
    },
    {
      "cell_type": "code",
      "metadata": {
        "id": "ASAD8BNYS_4u",
        "colab_type": "code",
        "outputId": "31bb4b96-db7b-4bc3-a81d-205befa26e79",
        "colab": {
          "base_uri": "https://localhost:8080/",
          "height": 52
        }
      },
      "source": [
        "# pretrained models have lemmatizer\n",
        "nlp = spacy.load(\"en_core_web_sm\")\n",
        "text = 'ducks foods'\n",
        "doc = nlp(text)\n",
        "for token in doc:\n",
        "    print(token, token.lemma_)"
      ],
      "execution_count": 0,
      "outputs": [
        {
          "output_type": "stream",
          "text": [
            "ducks duck\n",
            "foods foods\n"
          ],
          "name": "stdout"
        }
      ]
    }
  ]
}